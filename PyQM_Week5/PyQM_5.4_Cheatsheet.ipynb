{
 "cells": [
  {
   "cell_type": "markdown",
   "metadata": {},
   "source": [
    "# <center>Python For Quantum Mechanics</center>\n",
    "\n",
    "# <center>Cheatsheet: Week 5</center>"
   ]
  },
  {
   "cell_type": "markdown",
   "metadata": {
    "cell_id": "00000-431873b1-0828-4e43-924e-8f22a1e1ca04",
    "deepnote_cell_type": "code",
    "tags": []
   },
   "source": [
    "## Making a Plot\n",
    "- Making a plot:\n",
    "    - Plotting a line between points with $x$-coordinates array_of_x_coords_1 and $y$-coordinates array_of_y_coords_1, and another line between points with $x$-coordinates array_of_x_coords_2 and $y$-coordinates array_of_y_coords_2, and another...\n",
    "    - `plt.plot(array_of_x_coords_1, array_of_y_coords_1, array_of_x_coords_2, array_of_y_coords_2, ...)`\n",
    "    - Documentation: https://matplotlib.org/stable/api/_as_gen/matplotlib.pyplot.plot.html\n",
    "- Displaying a plot:\n",
    "    - `plt.show()`\n",
    "    - Documentation: https://matplotlib.org/stable/api/_as_gen/matplotlib.pyplot.show.html"
   ]
  },
  {
   "cell_type": "markdown",
   "metadata": {},
   "source": [
    "## Formatting\n",
    "- Formatting a Line:\n",
    "    - Making a plot with\n",
    "        - line coloured `my_colour` (string),\n",
    "        - line width as `my_linewidth` (float), \n",
    "        - line style `my_linestyle` (string), and\n",
    "        - marker as `my_marker` (string).\n",
    "    - ```plt.plot(array_of_x_coords, array_of_y_coords, c=my_colour, lw=my_linewidth, ls=my_linestyle, marker=my_marker)```\n",
    "    - Documentation: https://matplotlib.org/stable/api/_as_gen/matplotlib.pyplot.plot.html\n",
    "    - Adding errorbars with\n",
    "        - $x$ error bar of size `x_error`,\n",
    "        - $y$ error bar of size `y_error`, and\n",
    "        - error bar cap of size `my_capsize`:\n",
    "    - ```plt.errorbar(array_of_x_coords, array_of_y_coords, c=my_colour, lw=my_linewidth, ls=my_linestyle, marker=my_marker, xerr=x_error, yerr=y_error)```\n",
    "    - Documentation: https://matplotlib.org/stable/api/_as_gen/matplotlib.pyplot.errorbar.html\n",
    "- Formatting Axes:\n",
    "    - Setting $x$-limits `left` and `right` and $y$-limits `bottom` and `top`:\n",
    "        - ```plt.xlim((left,right))```\n",
    "        - Documentation: https://matplotlib.org/stable/api/_as_gen/matplotlib.pyplot.xlim.html\n",
    "        - ```plt.ylim((bottom,top))```\n",
    "        - Documentation: https://matplotlib.org/stable/api/_as_gen/matplotlib.pyplot.ylim.html\n",
    "    - Changing ticks to `my_xticks` and `my_yticks` with labels `my_xlabels` and `my_ylabels`:\n",
    "        - ```plt.xticks(ticks=my_xticks, labels=my_xlabels)```\n",
    "        - Documnetation: https://matplotlib.org/stable/api/_as_gen/matplotlib.pyplot.xticks.html\n",
    "        - ```plt.yticks(ticks=my_yticks, labels=my_ylabels)```\n",
    "        - Documnetation: https://matplotlib.org/stable/api/_as_gen/matplotlib.pyplot.yticks.html\n",
    "    - Adding grid lines\n",
    "        - ```plt.grid()```\n",
    "        - Documnetation: https://matplotlib.org/stable/api/_as_gen/matplotlib.pyplot.grid.html\n",
    "- Labels:\n",
    "    - Adding a title\n",
    "        - `plt.title('This is the Title')`\n",
    "    - Labeling axes\n",
    "        - `plt.xlabel('This is the x axis')`\n",
    "        - `plt.ylabel('This is the y axis')`\n",
    "    - Introducing legends\n",
    "        - Give line a name using the `label` keyword when plotting and set equal to a string\n",
    "        - `plt.legend()` \n",
    "        - Documnetation: https://matplotlib.org/stable/api/_as_gen/matplotlib.pyplot.legend.html\n",
    "    - Annotations and adding lines\n",
    "        - Adding vertical line at `x_coord` from `bottom_lim` and `top_lim`\n",
    "            - `plt.vlines(x_coord, bottom_lim, top_lim, c=my_colour, lw=my_linewidth, ls=my_linestyle)`\n",
    "            - Documnetation: https://matplotlib.org/3.1.1/api/_as_gen/matplotlib.pyplot.vlines.html\n",
    "        - Adding horizontal line at `y_coord` from `left_lim` and `right_lim`\n",
    "            - `plt.hlines(y_coord, left_lim, right_lim, c=my_colour, lw=my_linewidth, ls=my_linestyle)`\n",
    "            - Documnetation: https://matplotlib.org/3.1.1/api/_as_gen/matplotlib.pyplot.hlines.html\n",
    "        - Annotating a point (`x_pos`,`y_pos`) with text at position (`x_text`,`y_text`) with an arrow between with style `my_arrowstyle`\n",
    "            - `plt.annotate('annotating text here', (x_pos,y_pos), c=my_colour, xytext=(x_text,y_text), arrowprops={'arrowstyle':my_arrowstyle, 'lw':my_linewidth, 'ls':my_linestyle})`\n",
    "            - https://matplotlib.org/stable/api/_as_gen/matplotlib.pyplot.annotate.html\n",
    "- Log Plots:\n",
    "    - Making log-log plots\n",
    "        - ```plt.loglog(array_of_x_coords, array_of_y_coords, c=my_colour, lw=my_linewidth, ls=my_linestyle, marker=my_marker)```\n",
    "        - Documnetation: https://matplotlib.org/3.1.1/api/_as_gen/matplotlib.pyplot.loglog.html\n",
    "    - Making semi-log plots\n",
    "        - ```plt.semilogy(array_of_x_coords, array_of_y_coords, c=my_colour, lw=my_linewidth, ls=my_linestyle, marker=my_marker)```\n",
    "        - Documnetation: https://matplotlib.org/stable/api/_as_gen/matplotlib.pyplot.semilogy.html\n",
    "        - ```plt.semilogx(array_of_x_coords, array_of_y_coords, c=my_colour, lw=my_linewidth, ls=my_linestyle, marker=my_marker)```\n",
    "        - Documnetation: https://matplotlib.org/stable/api/_as_gen/matplotlib.pyplot.semilogx.html"
   ]
  },
  {
   "cell_type": "markdown",
   "metadata": {},
   "source": [
    "## Figure Object\n",
    "- Creating a figure `fig` with `width` and `height`\n",
    "    - `fig = plt.figure(figsize=(width,height))`\n",
    "    - Adding axes `ax` to figure with proportio of figure, position and size as `left`, `bottom`, `width`, and `height`\n",
    "        - `ax = fig.add_axes([left, bottom, width, height])`\n",
    "    - Documnetation: https://matplotlib.org/stable/api/_as_gen/matplotlib.pyplot.figure.html\n",
    "- Adjusted functions\n",
    "    - <center>\n",
    "\n",
    "| `plt.` | `ax.` |\n",
    "| :-: | :-: | \n",
    "| `xlim` | `set_xlim` |\n",
    "| `ylim` | `set_ylim` |\n",
    "| `xticks` | `set_xticks` |\n",
    "| `yticks` | `set_yticks` |\n",
    "| `title` | `set_title` |\n",
    "| `xlabel` | `set_xlabel` |\n",
    "| `ylabel` | `set_ylabel` |\n",
    "\n",
    "</center>\n",
    "\n",
    "- Saving an image\n",
    "    - Save `fig` as first_image.png\n",
    "    - `fig.savefig('first_image.png')`"
   ]
  },
  {
   "cell_type": "markdown",
   "metadata": {},
   "source": [
    "## Multiple Plots\n",
    "- Making sub-plots using `plt.subplot()`\n",
    "    - Quickly create subplots in a `rows`$\\times$`columns` shape and enable the axis number `instance_num`\n",
    "    - `plt.subplot(rows, columns, instance_num)`\n",
    "    - Documentation: https://matplotlib.org/stable/api/_as_gen/matplotlib.pyplot.subplot.html\n",
    "    - `plt.suptitle('This is the Overall Title')`\n",
    "    - Documentation: https://matplotlib.org/stable/api/_as_gen/matplotlib.pyplot.suptitle.html\n",
    "- Plots in Plots\n",
    "    - Can call `fig.add_axes()` to add multiple sets of axes.\n",
    "- Making sub-plots using `fig.add_subplot()`\n",
    "    - `fig.` version of `plt.subplot`\n",
    "    - `fig.add_subplot(rows, columns, instance_num)`\n",
    "    - To give `hgap` and `vgap` of horizontal and verticle space between plots use\n",
    "    - `fig.subplots_adjust(hspace=hgap, wspace=vgap)`\n",
    "    - Documentation: https://matplotlib.org/3.3.4/api/_as_gen/matplotlib.figure.Figure.html\n",
    "- Making sub-plots using `plt.subplots()`\n",
    "    - Can create a figure and set axes that share/don't share axes according to `bool_x` and `bool_y` using\n",
    "    - `fig,ax = plt.subplots(2,2,sharex=bool_x,sharey=bool_y)`\n",
    "    - Documentation: https://matplotlib.org/stable/api/_as_gen/matplotlib.pyplot.subplots.html"
   ]
  },
  {
   "cell_type": "markdown",
   "metadata": {},
   "source": [
    "## Other Plots\n",
    "- Histogram\n",
    "    - A histogram of `my_data`, `my_bins` number of bins (or an array giving the bin edges), and with count number or density deternmined by `den_bool` is created using\n",
    "        - `ax.hist(my_data, density=den_bool, bins=my_bins, color=my_colour, orientation=my_orientation)`\n",
    "        - Documentation: https://matplotlib.org/stable/api/_as_gen/matplotlib.axes.Axes.hist.html\n",
    "- Scatter Plot\n",
    "    - A scatter plot of points with coordinates (`my_data_x`, `my_data_y`)\n",
    "        - `ax.scatter(my_data_x, my_data_y, c=my_colour, marker=my_marker)`\n",
    "        - Documentation: https://matplotlib.org/stable/api/_as_gen/matplotlib.axes.Axes.scatter.html\n",
    "- Bar Chart\n",
    "    - A bar chart with bar labels `my_labels`, heights `my_data`, widths `my_width`, and colours `my_colours`.\n",
    "        - `ax.bar(my_labels, my_data, width=my_width, color=my_colours)`\n",
    "        - Documentation: https://matplotlib.org/stable/api/_as_gen/matplotlib.axes.Axes.bar.html\n",
    "    - A horizontal bar chart with bar labels `my_labels`, widths `my_data`, heights `my_height`, and colours `my_colours`.\n",
    "        - `ax.barh(my_labels, my_data, height=my_height, color=my_colours)`\n",
    "        - Documentation: https://matplotlib.org/stable/api/_as_gen/matplotlib.axes.Axes.barh.html\n",
    "- Pie Chart\n",
    "    - A pie chart of `data`, labeled as `my_labels` with colours `my_colours`, exploded by `explode_array` with shadow determined by `shadow_bool`.\n",
    "        - `ax.pie(data, labels=my_labels, colors=my_colours, explode=explode_array, shadow = shadow_bool)`\n",
    "        - Documentation: https://matplotlib.org/stable/api/_as_gen/matplotlib.pyplot.pie.html"
   ]
  },
  {
   "cell_type": "markdown",
   "metadata": {},
   "source": [
    "## 3D Plots\n",
    "- Line the 3D space\n",
    "    - Adding the `projection='3d'` as a keyword designation in `fig.add_axes()` creates an `Axes3D` object.\n",
    "    - Plotting points 3D line through points (`x_array`, `y_array`, `z_array`) \n",
    "    `ax.plot3D(x_array, y_array, z_array)`\n",
    "    - Documentation: https://matplotlib.org/stable/api/_as_gen/mpl_toolkits.mplot3d.axes3d.Axes3D.html\n",
    "- Heat maps\n",
    "    - Create an image `im` of a heatmap of `Z_mesh` on axis `my_ax` accoding to the colourmap `my_map` with\n",
    "    - `im = my_ax.imshow(Z_mesh, cmap=my_map)`.\n",
    "    - Documentation: https://matplotlib.org/stable/api/_as_gen/matplotlib.pyplot.imshow.html\n",
    "    - Add a colourbar shrunk by `my_shrink` to the figure with \n",
    "    - `fig.colorbar(im, ax=my_ax, shrink=my_shrink)`.\n",
    "    - Documentation: https://matplotlib.org/stable/api/_as_gen/matplotlib.pyplot.colorbar.html\n",
    "    - Set a limit of `my_vmin` to `my_vmaxon` the colour values using \n",
    "    - `im.set_clim(vmin=my_vmin, vmax=my_vmax)`.\n",
    "    - Documentation: https://matplotlib.org/stable/api/_as_gen/matplotlib.pyplot.imshow.html\n",
    "- Surface plots\n",
    "    - Three different types of surfaceplots of (`X_mesh`, `Y_mesh`, `Z_mesh`) in 3D:\n",
    "        - `ax.plot_surface(X_mesh, Y_mesh, Z_mesh)`,\n",
    "        - `ax.plot_wireframe(X_mesh, Y_mesh, Z_mesh)`, and\n",
    "        - `ax.contour3D(X_mesh, Y_mesh, Z_mesh)`\n",
    "    - Change angle of view to angles `my_azim` and `my_elev`\n",
    "    - `ax.view_init(azim=my_azim, elev=my_elev)`\n",
    "    - Documentation: https://matplotlib.org/stable/api/_as_gen/mpl_toolkits.mplot3d.axes3d.Axes3D.html"
   ]
  },
  {
   "cell_type": "markdown",
   "metadata": {},
   "source": [
    "## 5.7 Animations\n",
    "- Changing to an interactive backend\n",
    "    - `%matplotlib notebook` makes interactive plots\n",
    "    - `%matplotlib inline` is default and makes noninteractive plots\n",
    "- Making an initialisation function\n",
    "    - An empty plot is first performend using `line, = ax.plot([], [])`\n",
    "    - An function `init()` function which will change the data plotted to `x` and `y` using `line.set_data(x,y)` and will return `line,`.\n",
    "- Making an animation function\n",
    "    - The animate function `animate(i)` will be called for each frame of the animation and will take in frame number `i`. This will update the plotted values using `line.set_data()` again, once again returning `line,`.\n",
    "    - Documentation: https://matplotlib.org/stable/api/_as_gen/matplotlib.lines.Line2D.html\n",
    "- Animating a plot\n",
    "    - Animation requires us to import a function.\n",
    "        - `from matplotlib.animation import FuncAnimation`\n",
    "    - To animate `fig` with `my_frame_num` number of frames, a interval of `my_inter` milliseconds between frames, and a repeat delay of `my_delay` milliseconds.\n",
    "    - `anim = FuncAnimation(fig, animate, init_func=init, frames=my_frame_num, interval=my_inter, repeat_delay=my_delay, blit=True)`\n",
    "    - Documentation: https://matplotlib.org/stable/api/_as_gen/matplotlib.animation.FuncAnimation.html\n",
    "- Saving an animation"
   ]
  },
  {
   "cell_type": "markdown",
   "metadata": {},
   "source": [
    "## [Tutorial 5](Week5_Exercises/PyQM_Tut.5.ipynb) \n",
    "1. Noise in qubits\n",
    "2. Particle in a Box\n",
    "3. Normal Distribution\n",
    "4. Monte Carlo $\\pi$ Estimation\n",
    "5. Ball Animation"
   ]
  },
  {
   "cell_type": "markdown",
   "metadata": {},
   "source": [
    "## [Exercises 5](Week5_Exercises/PyQM_Ex.5.ipynb) \n",
    "1. Settlers of Histogram\n",
    "2. Normal Distribution\n",
    "3. Particle in a Box\n",
    "4. Plotting a Sphere\n",
    "5. Snake Animation"
   ]
  },
  {
   "cell_type": "code",
   "execution_count": null,
   "metadata": {},
   "outputs": [],
   "source": []
  }
 ],
 "metadata": {
  "deepnote": {
   "is_reactive": false
  },
  "deepnote_execution_queue": [],
  "deepnote_notebook_id": "06b4f404-d514-42eb-9fff-c2601760a7b3",
  "kernelspec": {
   "display_name": "Python 3",
   "language": "python",
   "name": "python3"
  },
  "language_info": {
   "codemirror_mode": {
    "name": "ipython",
    "version": 3
   },
   "file_extension": ".py",
   "mimetype": "text/x-python",
   "name": "python",
   "nbconvert_exporter": "python",
   "pygments_lexer": "ipython3",
   "version": "3.8.8"
  }
 },
 "nbformat": 4,
 "nbformat_minor": 2
}
