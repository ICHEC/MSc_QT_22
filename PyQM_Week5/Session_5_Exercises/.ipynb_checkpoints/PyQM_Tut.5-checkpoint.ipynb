{
 "cells": [
  {
   "cell_type": "markdown",
   "metadata": {
    "cell_id": "00000-41034960-cfcd-40d6-9234-767d7fb048c0",
    "deepnote_cell_type": "markdown",
    "tags": []
   },
   "source": [
    "<center>\n",
    "\n",
    "# Python for Quantum Mechanics: \n",
    "# Week 5: Excercises\n",
    "\n",
    "</center>"
   ]
  },
  {
   "cell_type": "markdown",
   "metadata": {},
   "source": [
    "## Exercise 1: Noise in qubits"
   ]
  },
  {
   "cell_type": "markdown",
   "metadata": {},
   "source": [
    "$$|000\\rangle,\\ |001\\rangle,\\ |010\\rangle,\\ |011\\rangle,\\ |100\\rangle,\\ |101\\rangle,\\ |110\\rangle,\\ |111>$$\n",
    "Run the following cell to generate a data set of 100 numbers between 0 and 7 inclusively called `count`. The array `freq` will give the frequency that each Label the numbers, 0 to 7, with the strings in `qbits_vals`."
   ]
  },
  {
   "cell_type": "code",
   "execution_count": null,
   "metadata": {},
   "outputs": [],
   "source": [
    "%matplotlib inline\n",
    "import matplotlib.pyplot as plt\n",
    "import numpy as np\n",
    "from matplotlib.animation import FuncAnimation"
   ]
  },
  {
   "cell_type": "code",
   "execution_count": null,
   "metadata": {},
   "outputs": [],
   "source": [
    "count = np.random.randint(8)*np.ones(20)\n",
    "count = np.append(count,np.random.randint(8,size=80))\n",
    "freq = np.histogram(count,bins=np.arange(-.5,8.5,1))[0]\n",
    "\n",
    "qubits_vals = [format(i,'03b') for i in range(8)]\n",
    "qubit_label = [r'$|' + qubits_val + r'\\rangle$' for qubits_val in qubits_vals]"
   ]
  },
  {
   "cell_type": "markdown",
   "metadata": {},
   "source": [
    "Make a histogram and pie chart of the data. Explode out the largest section in the pie chart. "
   ]
  },
  {
   "cell_type": "code",
   "execution_count": null,
   "metadata": {
    "scrolled": true
   },
   "outputs": [],
   "source": [
    "print(count)"
   ]
  },
  {
   "cell_type": "code",
   "execution_count": null,
   "metadata": {},
   "outputs": [],
   "source": []
  },
  {
   "cell_type": "code",
   "execution_count": null,
   "metadata": {},
   "outputs": [],
   "source": []
  },
  {
   "cell_type": "markdown",
   "metadata": {
    "cell_id": "00004-cde4d2de-e564-4d94-b44f-92a484a4db84",
    "deepnote_cell_type": "markdown",
    "tags": []
   },
   "source": [
    "## Exercise 2: Particle in a Box"
   ]
  },
  {
   "cell_type": "markdown",
   "metadata": {},
   "source": [
    "The eigenfunctions of a particle in a 1D box are\n",
    "$$\\psi_n(x) = \\sqrt{\\frac{2}{l}} \\sin \\left( \\frac{n \\pi x}{l} \\right).$$"
   ]
  },
  {
   "cell_type": "code",
   "execution_count": null,
   "metadata": {},
   "outputs": [],
   "source": [
    "def psi(n,x,l):\n",
    "    return np.sqrt(2/l) * np.sin(n*np.pi*x/l)"
   ]
  },
  {
   "cell_type": "markdown",
   "metadata": {},
   "source": [
    "Make a plot of some of these wavefunctions (changing $n \\in \\mathbb{N}$)."
   ]
  },
  {
   "cell_type": "code",
   "execution_count": null,
   "metadata": {
    "scrolled": true
   },
   "outputs": [],
   "source": []
  },
  {
   "cell_type": "markdown",
   "metadata": {},
   "source": [
    "The the eigenfunctions of a particle in a 2D box are\n",
    "$$\\psi_{(n,m)}(x) = \\frac{2}{l} \\sin \\left( \\frac{n \\pi x}{l_x} \\right) \\sin \\left( \\frac{m \\pi y}{l_y} \\right).$$"
   ]
  },
  {
   "cell_type": "code",
   "execution_count": null,
   "metadata": {},
   "outputs": [],
   "source": [
    "def psi2d(n,m,x,y,lx,ly):\n",
    "    return (2/np.sqrt(lx*ly)) * np.sin(n*np.pi*x/lx) * np.sin(m*np.pi*y/ly)"
   ]
  },
  {
   "cell_type": "markdown",
   "metadata": {},
   "source": [
    "Make a plot of this using 3D plot."
   ]
  },
  {
   "cell_type": "code",
   "execution_count": null,
   "metadata": {},
   "outputs": [],
   "source": []
  },
  {
   "cell_type": "code",
   "execution_count": null,
   "metadata": {},
   "outputs": [],
   "source": []
  },
  {
   "cell_type": "markdown",
   "metadata": {
    "cell_id": "00008-772c311d-21f4-410e-beaf-efffd80e4261",
    "deepnote_cell_type": "markdown",
    "tags": []
   },
   "source": [
    "## Exercise 3: Normal Distribution"
   ]
  },
  {
   "cell_type": "markdown",
   "metadata": {
    "cell_id": "00009-cda71b4c-8576-4de0-b957-104af25d30c7",
    "deepnote_cell_type": "markdown",
    "tags": []
   },
   "source": [
    "Create an $x$ and $y$ array of a normally distributed numbers. Plot them as the $x$ and $y$ coordinates on a scatter plot. Also make histograms along the $x$ and $y$ axes like this.\n",
    "\n",
    "<img src=\"images/normals.png\" alt=\"two dice\" width=\"300\"/>"
   ]
  },
  {
   "cell_type": "code",
   "execution_count": null,
   "metadata": {},
   "outputs": [],
   "source": []
  },
  {
   "cell_type": "markdown",
   "metadata": {},
   "source": [
    "## Exercise 4: Monte Carlo $\\pi$ Estimation"
   ]
  },
  {
   "cell_type": "markdown",
   "metadata": {},
   "source": [
    "Make a visualization of the process of estimating $\\pi$ with a Monte Carlo method used in tutrial 2 and 4."
   ]
  },
  {
   "cell_type": "code",
   "execution_count": null,
   "metadata": {},
   "outputs": [],
   "source": [
    "import numpy.random as rnd"
   ]
  },
  {
   "cell_type": "code",
   "execution_count": null,
   "metadata": {},
   "outputs": [],
   "source": []
  },
  {
   "cell_type": "code",
   "execution_count": null,
   "metadata": {},
   "outputs": [],
   "source": []
  },
  {
   "cell_type": "markdown",
   "metadata": {},
   "source": [
    "## Exercise 5: Ball Animation"
   ]
  },
  {
   "cell_type": "markdown",
   "metadata": {},
   "source": [
    "Make an animation where a ball is confined to a box and bounces each time a wall is hit. This should kind of look like the old monitor screensaver"
   ]
  },
  {
   "cell_type": "code",
   "execution_count": null,
   "metadata": {},
   "outputs": [],
   "source": []
  }
 ],
 "metadata": {
  "colab": {
   "collapsed_sections": [],
   "name": "PyQM_Ex.1_sol.ipynb",
   "provenance": []
  },
  "deepnote": {},
  "deepnote_execution_queue": [],
  "deepnote_notebook_id": "290fde53-7326-4351-a186-a6f6bc6d504a",
  "kernelspec": {
   "display_name": "Python 3 (ipykernel)",
   "language": "python",
   "name": "python3"
  },
  "language_info": {
   "codemirror_mode": {
    "name": "ipython",
    "version": 3
   },
   "file_extension": ".py",
   "mimetype": "text/x-python",
   "name": "python",
   "nbconvert_exporter": "python",
   "pygments_lexer": "ipython3",
   "version": "3.9.14"
  }
 },
 "nbformat": 4,
 "nbformat_minor": 1
}
