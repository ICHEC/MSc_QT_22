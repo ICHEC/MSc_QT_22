{
 "cells": [
  {
   "cell_type": "markdown",
   "metadata": {
    "cell_id": "00000-0c627834-4356-498b-9c36-749c9e64d4a1",
    "deepnote_cell_type": "code",
    "tags": []
   },
   "source": [
    "# <center>Python For Quantum Mechanics</center>\n",
    "# <center>Overview: Week 5</center>"
   ]
  },
  {
   "cell_type": "markdown",
   "metadata": {},
   "source": [
    "## [5.1 Line Plots](Week5_Notebooks/PyQM_5.1_Line_Plots.ipynb)\n",
    "\n",
    "- Using plt.plot\n",
    "    - Plotting a line between two points\n",
    "    - Plotting line between multiple points\n",
    "    - Plotting a function\n",
    "    - Plotting two lines in the same figure\n",
    "- Plot Aesthetics\n",
    "    - Changing line colour\n",
    "    - Changing line width\n",
    "    - Changing line style\n",
    "    - Changing marker style\n",
    "- Axis Formatting\n",
    "    - Setting limits\n",
    "    - Changing ticks\n",
    "    - Adding grids\n",
    "- Labels\n",
    "    - Adding a title\n",
    "    - Labeling axes\n",
    "- Error Bars\n",
    "- Asymptotes and Annotations\n",
    "- Log Plots\n",
    "    - Making log-log plots\n",
    "    - Making semi-log plots\n",
    "- Figure Object\n",
    "    - Creating a figure\n",
    "    - Adding axes to figure\n",
    "    - Adjusted functions\n",
    "    - Saving an image"
   ]
  },
  {
   "cell_type": "markdown",
   "metadata": {},
   "source": [
    "## [5.2 Multiple and Alternative Plots](Week5_Notebooks/PyQM_5.2_Multiple_and_Alternative_Plots.ipynb)\n",
    "\n",
    "- Subplots\n",
    "    - Making sub-plots using `plt.subplot()`\n",
    "    - Plots in Plots\n",
    "    - Making sub-plots using `fig.add_subplot()`\n",
    "    - Making sub-plots using `plt.subplots()`\n",
    "- Histograms\n",
    "- Scatter Plot\n",
    "- Bar Chart\n",
    "- Pie Chart"
   ]
  },
  {
   "cell_type": "markdown",
   "metadata": {},
   "source": [
    "## [5.3 3D Plots and Animations](Week5_Notebooks/PyQM_5.3_3D_Plots_and_Animations.ipynb)\n",
    "- 3D Line Plot\n",
    "- Heatmap\n",
    "- Surface Plot\n",
    "- Interactive Backend\n",
    "- Animation\n",
    "    - Making an initialisation function\n",
    "    - Making an animation function\n",
    "    - Animating a plot\n",
    "    - Saving an animation"
   ]
  },
  {
   "cell_type": "markdown",
   "metadata": {},
   "source": [
    "## [5.4 Cheatsheet](PyQM_5.4_Cheatsheet.ipynb) "
   ]
  },
  {
   "cell_type": "markdown",
   "metadata": {},
   "source": [
    "## [Tutorial 5](Week5_Exercises/PyQM_Tut.5.ipynb) \n",
    "1. Noise in qubits\n",
    "2. Particle in a Box\n",
    "3. Normal Distribution\n",
    "4. Monte Carlo $\\pi$ Estimation\n",
    "5. Ball Animation"
   ]
  },
  {
   "cell_type": "markdown",
   "metadata": {},
   "source": [
    "## [Exercises 5](Week5_Exercises/PyQM_Ex.5.ipynb) \n",
    "1. Settlers of Histogram\n",
    "2. Normal Distribution\n",
    "3. Particle in a Box\n",
    "4. Plotting a Sphere\n",
    "5. Snake Animation"
   ]
  },
  {
   "cell_type": "code",
   "execution_count": null,
   "metadata": {},
   "outputs": [],
   "source": []
  }
 ],
 "metadata": {
  "deepnote": {
   "is_reactive": false
  },
  "deepnote_execution_queue": [],
  "deepnote_notebook_id": "38861478-975f-4137-b527-c4aa3d4bf9cf",
  "kernelspec": {
   "display_name": "Python 3",
   "language": "python",
   "name": "python3"
  },
  "language_info": {
   "codemirror_mode": {
    "name": "ipython",
    "version": 3
   },
   "file_extension": ".py",
   "mimetype": "text/x-python",
   "name": "python",
   "nbconvert_exporter": "python",
   "pygments_lexer": "ipython3",
   "version": "3.8.8"
  }
 },
 "nbformat": 4,
 "nbformat_minor": 2
}
