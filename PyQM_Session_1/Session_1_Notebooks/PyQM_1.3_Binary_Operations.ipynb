{
 "cells": [
  {
   "cell_type": "markdown",
   "id": "2d2c4c5d",
   "metadata": {
    "cell_id": "00000-31dea6ce-9329-4002-9119-14cd7e5b8162",
    "deepnote_cell_type": "markdown",
    "id": "ZBt4X2XzK2DF"
   },
   "source": [
    "<center>\n",
    "    \n",
    "# Python For Quantum Mechanics\n",
    "# Week 1: Binary Operations\n",
    "    \n",
    "</center>"
   ]
  },
  {
   "cell_type": "code",
   "execution_count": 1,
   "id": "1e89ed96",
   "metadata": {},
   "outputs": [
    {
     "data": {
      "image/jpeg": "[encoded data removed]",
      "text/html": [
       "\n",
       "        <iframe\n",
       "            width=\"700\"\n",
       "            height=\"400\"\n",
       "            src=\"https://www.youtube.com/embed/dMw8E-8cQpc\"\n",
       "            frameborder=\"0\"\n",
       "            allowfullscreen\n",
       "        ></iframe>\n",
       "        "
      ],
      "text/plain": [
       "<IPython.lib.display.YouTubeVideo at 0x10dc8cf40>"
      ]
     },
     "execution_count": 1,
     "metadata": {},
     "output_type": "execute_result"
    }
   ],
   "source": [
    "from IPython.display import YouTubeVideo\n",
    "YouTubeVideo('dMw8E-8cQpc',width=700, height=400)"
   ]
  },
  {
   "cell_type": "markdown",
   "id": "ec7d0fbd",
   "metadata": {},
   "source": [
    "## Overview of Binary\n",
    "Why does 9 come berfore 10? It might seem like a silly question but the answer is that that is how humans have decided to write numbers. That is that after ten numbers (0, 1, 2, 3, 4, 5, 6, 7, 8, and 9) we increase the ten's digit by one. What if instead we chose to do so after just two numbers; that is we start with 0 and then go to 1 but then take 10, and then 11. After that we will have 100 and then 101 and so on. This is known as binary and it is how computers ultimately work with data.\n",
    "\n",
    "| Number in base 10 (decimal) | Number in base 2 (binary) |\n",
    "| :-: | :-: |\n",
    "| 0 | 0 |\n",
    "| 1 | 1 |\n",
    "| 2 | 10 |\n",
    "| 3 | 11 |\n",
    "| 4 | 100 |\n",
    "| 5 | 101 |\n",
    "| 6 | 110 |\n",
    "| 7 | 111 |\n",
    "| 8 | 1000 |\n",
    "| 9 | 1001 |\n",
    "| 10 | 1010 |\n",
    "| 11 | 1011 |\n",
    "| 12 | 1100 |\n",
    "| 13 | 1101 |\n",
    "| 14 | 1110 |\n",
    "| 15 | 1111 |\n",
    "\n",
    "Base 10 (or decimal) is what we are most used to and that can be thought of in the following way\n",
    "$$\\begin{equation}\n",
    "\\begin{split}\n",
    "1503 &= 1\\times 1000 + 5\\times 100 + 0\\times 10 + 3\\times 1 \\\\\n",
    "&= 1\\times 10^3 + 5\\times 10^2 + 0\\times 10^1 + 3\\times 10^0 \\\\\n",
    "\\end{split}\n",
    "\\end{equation}$$\n",
    "so we can read off the digits 1503. Binary numbers can be thought of in a similar way\n",
    "$$ 1010_{\\text(binary)} = 1\\times 2^3 + 0\\times 2^2 + 1\\times 2^1 + 0\\times 2^0 = 10_\\text{(decimal)}$$\n",
    "An alternate method is diagramed below where multiple divisions are performed and the remainders are recorded.\n",
    "<img src=\"images/binary.png\" alt=\"two dice\" width=\"400\"/>"
   ]
  },
  {
   "cell_type": "markdown",
   "id": "519dfde3",
   "metadata": {
    "cell_id": "00002-abcb1236-0cfa-4956-803f-72b1e1abf4a2",
    "deepnote_cell_type": "markdown",
    "id": "ivxpNC_ie465"
   },
   "source": [
    "We can cast numbers into binary using the `bin()` function."
   ]
  },
  {
   "cell_type": "code",
   "execution_count": null,
   "id": "f7ead03d",
   "metadata": {
    "cell_id": "00003-180091b3-b4e2-4466-8617-3f13c82c1283",
    "colab": {
     "base_uri": "https://localhost:8080/"
    },
    "deepnote_cell_type": "code",
    "executionInfo": {
     "elapsed": 371,
     "status": "ok",
     "timestamp": 1624445371441,
     "user": {
      "displayName": "Sean Courtney",
      "photoUrl": "",
      "userId": "17219612104113445790"
     },
     "user_tz": -60
    },
    "id": "OyzNFaZ4e2gl",
    "outputId": "fb425149-6eb3-43b1-bdf0-20851156d23e"
   },
   "outputs": [
    {
     "name": "stdout",
     "output_type": "stream",
     "text": [
      "0b10010010\n"
     ]
    }
   ],
   "source": [
    "print(bin(146))"
   ]
  },
  {
   "cell_type": "markdown",
   "id": "823eea12",
   "metadata": {
    "cell_id": "00004-06288b89-004b-4454-8260-de5821473a69",
    "deepnote_cell_type": "markdown",
    "id": "dmi_85rNfaM4"
   },
   "source": [
    "Here the `0b` tells us we are in binary."
   ]
  },
  {
   "cell_type": "markdown",
   "id": "c27ebeb8",
   "metadata": {
    "cell_id": "00005-0afc3e67-866f-46b0-9e78-271c8668bd9d",
    "deepnote_cell_type": "markdown",
    "id": "9e97e34d"
   },
   "source": [
    "## Bitwise Operators\n",
    "\n",
    "There is multiple bitwise operators we can use in Python, namely the AND `&`, OR `|`, NOT `~`, and XOR `^`. "
   ]
  },
  {
   "cell_type": "code",
   "execution_count": null,
   "id": "2f2525a0",
   "metadata": {
    "cell_id": "00006-2e8efd59-21c5-4326-9a4c-fbefd03e5994",
    "colab": {
     "base_uri": "https://localhost:8080/"
    },
    "deepnote_cell_type": "code",
    "executionInfo": {
     "elapsed": 5,
     "status": "ok",
     "timestamp": 1624439984778,
     "user": {
      "displayName": "Sean Courtney",
      "photoUrl": "",
      "userId": "17219612104113445790"
     },
     "user_tz": -60
    },
    "id": "6bfe7008",
    "outputId": "395955a8-8c77-4ae6-f9aa-569df3682e8d"
   },
   "outputs": [
    {
     "name": "stdout",
     "output_type": "stream",
     "text": [
      "a & b =  0\n",
      "a | b =  15\n",
      "~ b =  -6\n",
      "a ^ b =  15\n"
     ]
    }
   ],
   "source": [
    "a = 10 # 1010\n",
    "b = 5 #  0101\n",
    "\n",
    "print(\"a & b = \", a & b) #Returns 1 if both bits are 1, otherwise returns 0\n",
    "\n",
    "\n",
    "print(\"a | b = \", a | b) #Returns 1 if either bits are 1, otherwise returns 0\n",
    "\n",
    "\n",
    "print(\"~ b = \", ~b) #Returns the compliment of the number: -(0101 + 0001) = - 6\n",
    "\n",
    "print(\"a ^ b = \", a ^ b) #Returns 1 if one bit is 1 and the other is 0, otherwise returns 0"
   ]
  },
  {
   "cell_type": "markdown",
   "id": "033312fd",
   "metadata": {
    "cell_id": "00007-d122362b-4d6a-4558-9ad8-e76aa52d8f88",
    "deepnote_cell_type": "markdown",
    "id": "8dd50afd"
   },
   "source": [
    "## Shift Operators\n",
    "\n",
    "There is also the right `>>` and left `<<` shift operators. The shift operators have the effect of multiplying or dividing the number by 2."
   ]
  },
  {
   "cell_type": "code",
   "execution_count": null,
   "id": "6024eede",
   "metadata": {
    "cell_id": "00008-10e53afd-3cb2-4dbd-9df5-56c108720719",
    "deepnote_cell_type": "code",
    "id": "50e3ac41",
    "outputId": "986ba4a8-7188-4fce-c426-f9e1f4c71438"
   },
   "outputs": [
    {
     "name": "stdout",
     "output_type": "stream",
     "text": [
      "a >> 1 =  5\n",
      "a >> 2 =  2\n",
      "a << 1 =  20\n",
      "a << 2 =  40\n"
     ]
    }
   ],
   "source": [
    "a = 10 # 1010\n",
    "\n",
    "print(\"a >> 1 = \",a >> 1) # 1010 >> 1 = 0101 = 5\n",
    "print(\"a >> 2 = \",a >> 2) # 1010 >> 2 = 0010 = 2\n",
    "\n",
    "print(\"a << 1 = \",a << 1) # 1010 << 1 = 10100 = 20 \n",
    "print(\"a << 2 = \",a << 2) # 1010 << 2 = 101000 = 40 "
   ]
  }
 ],
 "metadata": {
  "colab": {
   "collapsed_sections": [],
   "name": "PyQM_1.4_Binary_Operations.ipynb",
   "provenance": []
  },
  "deepnote": {},
  "deepnote_execution_queue": [],
  "deepnote_notebook_id": "d692ff9e-31fe-48f5-be2f-cd81f3adbd70",
  "kernelspec": {
   "display_name": "Python 3 (ipykernel)",
   "language": "python",
   "name": "python3"
  },
  "language_info": {
   "codemirror_mode": {
    "name": "ipython",
    "version": 3
   },
   "file_extension": ".py",
   "mimetype": "text/x-python",
   "name": "python",
   "nbconvert_exporter": "python",
   "pygments_lexer": "ipython3",
   "version": "3.9.6"
  }
 },
 "nbformat": 4,
 "nbformat_minor": 5
}
