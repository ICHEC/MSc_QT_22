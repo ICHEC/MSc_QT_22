{
 "cells": [
  {
   "cell_type": "markdown",
   "metadata": {},
   "source": [
    "<center>\n",
    "    \n",
    "# Python For Quantum Mechanics\n",
    "    \n",
    "# Week 1: Data Structures\n",
    "\n",
    "</center>"
   ]
  },
  {
   "cell_type": "code",
   "execution_count": 1,
   "metadata": {},
   "outputs": [
    {
     "data": {
      "image/jpeg": "[encoded data removed]",
      "text/html": [
       "\n",
       "        <iframe\n",
       "            width=\"700\"\n",
       "            height=\"400\"\n",
       "            src=\"https://www.youtube.com/embed/yCQQwTEaMvs\"\n",
       "            frameborder=\"0\"\n",
       "            allowfullscreen\n",
       "        ></iframe>\n",
       "        "
      ],
      "text/plain": [
       "<IPython.lib.display.YouTubeVideo at 0x10f86bcd0>"
      ]
     },
     "execution_count": 1,
     "metadata": {},
     "output_type": "execute_result"
    }
   ],
   "source": [
    "from IPython.display import YouTubeVideo\n",
    "YouTubeVideo('yCQQwTEaMvs',width=700, height=400)"
   ]
  },
  {
   "cell_type": "markdown",
   "metadata": {
    "cell_id": "00000-273c5dc6-8fb8-4864-91e5-e5955dbde3d6",
    "deepnote_cell_type": "markdown",
    "id": "43f614e1"
   },
   "source": [
    "Now that we have disscussed different data types we need a way to organise many pieces of data. This can be done using lists, tuples, sets, and dictionaries. Each of these have their own features and advantages which are summarised in the table below.\n",
    "\n",
    "<center>\n",
    "\n",
    "| Type | Ordered | Changable | Allows Duplicates | Example |\n",
    "| :-: | :-: | :-: | :-: | :-: |\n",
    "| List | ✔️ | ✔️ | ✔️ | [a,b] |\n",
    "| Tuple | ✔️ | ❌ | ✔️ | (a,b) |\n",
    "| Set | ❌ | ❌ | ❌ | {a,b} |\n",
    "| Dictionary | ✔️ | ✔️ | ✔️ | {\"alpha\" : a, \"beta\" : b} |\n",
    "\n",
    "</center>\n",
    "\n",
    "These may seem confusing at first but we will work through each individually."
   ]
  },
  {
   "cell_type": "markdown",
   "metadata": {
    "cell_id": "00001-f6eb15b1-6ca7-429c-b385-9919421607d5",
    "deepnote_cell_type": "markdown",
    "id": "NMUEN6rwtumP"
   },
   "source": [
    "## Lists\n",
    "\n",
    "Lists are a an ordered collection of items of any data type (mixing data types is allowed). To create a list of elements in Python, we use the following notation."
   ]
  },
  {
   "cell_type": "code",
   "execution_count": 1,
   "metadata": {
    "cell_id": "00002-756d1810-5d5a-4f8a-adf8-48d41fb40da5",
    "colab": {
     "base_uri": "https://localhost:8080/"
    },
    "deepnote_cell_type": "code",
    "executionInfo": {
     "elapsed": 300,
     "status": "ok",
     "timestamp": 1624432425762,
     "user": {
      "displayName": "Sean Courtney",
      "photoUrl": "",
      "userId": "17219612104113445790"
     },
     "user_tz": -60
    },
    "id": "3694ef0d",
    "outputId": "af792017-8bee-41d5-d09d-eb012c8b355d"
   },
   "outputs": [
    {
     "name": "stdout",
     "output_type": "stream",
     "text": [
      "<class 'list'>\n",
      "[1, -2.0, 'Three', (4+0j), None]\n"
     ]
    }
   ],
   "source": [
    "mylist = [1, -2.0, \"Three\", 4+0j, None]\n",
    "\n",
    "print(type(mylist))\n",
    "print(mylist)"
   ]
  },
  {
   "cell_type": "markdown",
   "metadata": {
    "cell_id": "00003-afe487b8-c4c1-4d21-9cc9-284eb67c7098",
    "deepnote_cell_type": "markdown",
    "id": "p0w5iOQA5HUr"
   },
   "source": [
    "One can access the elements of a lists by their placment starting with 0.\n",
    "\n",
    "| `1` | `-2.0` | `\"Three\"` | `4+0j` | `None` |\n",
    "| :-: | :-: | :-: | :-: | :-: |\n",
    "| 0 | 1 | 2 | 3 | 4 |"
   ]
  },
  {
   "cell_type": "code",
   "execution_count": 2,
   "metadata": {
    "cell_id": "00004-0b5ced0a-cec2-4a35-8e5d-10ab39d0d313",
    "colab": {
     "base_uri": "https://localhost:8080/"
    },
    "deepnote_cell_type": "code",
    "executionInfo": {
     "elapsed": 4,
     "status": "ok",
     "timestamp": 1624432427904,
     "user": {
      "displayName": "Sean Courtney",
      "photoUrl": "",
      "userId": "17219612104113445790"
     },
     "user_tz": -60
    },
    "id": "f83381c6",
    "outputId": "af8d6723-b3f1-46af-b646-032186bc306f"
   },
   "outputs": [
    {
     "name": "stdout",
     "output_type": "stream",
     "text": [
      "1\n",
      "(4+0j)\n"
     ]
    }
   ],
   "source": [
    "print(mylist[0]) # first element has index 0\n",
    "print(mylist[3]) # fourth element has index 3"
   ]
  },
  {
   "cell_type": "markdown",
   "metadata": {
    "cell_id": "00005-72048472-f27b-41bc-aa5c-ccac151a5702",
    "deepnote_cell_type": "markdown",
    "id": "384f2e9a"
   },
   "source": [
    "## Tuples\n",
    "\n",
    "Tuples are immutable lists, they cannot be modified once created. The elements can be accessed in the same way."
   ]
  },
  {
   "cell_type": "code",
   "execution_count": 3,
   "metadata": {
    "cell_id": "00006-c98adeee-96ab-4fc1-a7ab-b02f945074d9",
    "colab": {
     "base_uri": "https://localhost:8080/"
    },
    "deepnote_cell_type": "code",
    "executionInfo": {
     "elapsed": 296,
     "status": "ok",
     "timestamp": 1624432438080,
     "user": {
      "displayName": "Sean Courtney",
      "photoUrl": "",
      "userId": "17219612104113445790"
     },
     "user_tz": -60
    },
    "id": "1803b6a1",
    "outputId": "b010cfd4-c24b-4bec-b828-147cc0f09de7"
   },
   "outputs": [
    {
     "name": "stdout",
     "output_type": "stream",
     "text": [
      "<class 'tuple'>\n",
      "(4.1, 6.626e-34, -3, 6.6)\n",
      "-3\n"
     ]
    }
   ],
   "source": [
    "mytuple = (4.1, 6.626e-34, -3, 6.6)\n",
    "\n",
    "print(type(mytuple))\n",
    "print(mytuple)\n",
    "print(mytuple[2])"
   ]
  },
  {
   "cell_type": "markdown",
   "metadata": {
    "cell_id": "00007-75a11aa2-9d3c-4c66-9719-2920da859369",
    "deepnote_cell_type": "markdown",
    "id": "Z9MD-AjG6sa9"
   },
   "source": [
    "We can use a tuple to assign values to multiple variables in a compact way."
   ]
  },
  {
   "cell_type": "code",
   "execution_count": 4,
   "metadata": {
    "cell_id": "00008-7a0db372-4d0b-4c18-946e-abfaedd9ba52",
    "colab": {
     "base_uri": "https://localhost:8080/"
    },
    "deepnote_cell_type": "code",
    "executionInfo": {
     "elapsed": 301,
     "status": "ok",
     "timestamp": 1624432479087,
     "user": {
      "displayName": "Sean Courtney",
      "photoUrl": "",
      "userId": "17219612104113445790"
     },
     "user_tz": -60
    },
    "id": "79daef40",
    "outputId": "cc9cc199-9a0d-4c70-ba10-b2d52dae578a"
   },
   "outputs": [
    {
     "name": "stdout",
     "output_type": "stream",
     "text": [
      "-3\n",
      "x = 4.1\n",
      "y = 6.626e-34\n",
      "z = -3\n",
      "q = 6.6\n"
     ]
    }
   ],
   "source": [
    "print(mytuple[2])\n",
    "\n",
    "x, y, z, q = mytuple\n",
    "\n",
    "print(\"x =\", x) # can print muplitple things with spaces between them in this way\n",
    "print(\"y =\", y)\n",
    "print(\"z =\", z)\n",
    "print(\"q =\", q)"
   ]
  },
  {
   "cell_type": "markdown",
   "metadata": {
    "cell_id": "00009-50f123a1-a5da-44c8-8804-8f8a26246d9d",
    "deepnote_cell_type": "markdown",
    "id": "6375d0d7"
   },
   "source": [
    "## Sets\n",
    "\n",
    "Sets are an unordered collection of unique items. Sets are useful to eliminate repeated elements."
   ]
  },
  {
   "cell_type": "code",
   "execution_count": 5,
   "metadata": {
    "cell_id": "00010-e8af1c8a-90f7-4689-88e2-f0dc27503267",
    "colab": {
     "base_uri": "https://localhost:8080/"
    },
    "deepnote_cell_type": "code",
    "executionInfo": {
     "elapsed": 390,
     "status": "ok",
     "timestamp": 1624432541360,
     "user": {
      "displayName": "Sean Courtney",
      "photoUrl": "",
      "userId": "17219612104113445790"
     },
     "user_tz": -60
    },
    "id": "R3vXx-hNg5n_",
    "outputId": "a34a10a6-493b-4b8d-a777-741f898cb380"
   },
   "outputs": [
    {
     "name": "stdout",
     "output_type": "stream",
     "text": [
      "<class 'set'>\n",
      "{2.0, 4, 4.1, 'copy', (5+2j), 3.4e-06}\n"
     ]
    }
   ],
   "source": [
    "myset = {2.0, 2 ,4 ,4.0 ,5+2j, 'copy', \"copy\", 4.1, 3.4e-6} \n",
    "\n",
    "print(type(myset))\n",
    "print(myset)"
   ]
  },
  {
   "cell_type": "markdown",
   "metadata": {
    "cell_id": "00011-a0d70f10-0ee4-4d3c-89d4-46409932c1f2",
    "deepnote_cell_type": "markdown",
    "id": "bPZAUR-0GW6-"
   },
   "source": [
    "Notice that floats and integers are not distinguished. The data type of the element listed first is the one that is kept."
   ]
  },
  {
   "cell_type": "markdown",
   "metadata": {
    "cell_id": "00012-45cf5cf5-f816-44d9-b6b4-4af1c7ac44a5",
    "deepnote_cell_type": "markdown",
    "id": "dcc599d4"
   },
   "source": [
    "## Dictionaries\n",
    "\n",
    "Dictionaries are similar to lists, but each element has a corresponding unique key that is used to map to that specific element."
   ]
  },
  {
   "cell_type": "code",
   "execution_count": 6,
   "metadata": {
    "cell_id": "00013-a230d9c3-dc2e-4539-86e5-f9c9f7c2d0d1",
    "colab": {
     "base_uri": "https://localhost:8080/"
    },
    "deepnote_cell_type": "code",
    "executionInfo": {
     "elapsed": 5,
     "status": "ok",
     "timestamp": 1624432542474,
     "user": {
      "displayName": "Sean Courtney",
      "photoUrl": "",
      "userId": "17219612104113445790"
     },
     "user_tz": -60
    },
    "id": "3a862dff",
    "outputId": "8817494b-34d4-4c5c-e495-2602d945aa1f"
   },
   "outputs": [
    {
     "name": "stdout",
     "output_type": "stream",
     "text": [
      "<class 'dict'>\n",
      "{'x': 7.0, 'y': 53.0, 'z': 2.0}\n"
     ]
    }
   ],
   "source": [
    "mydictionary = {\"x\" : 7.0, \"y\" : 53.0,\"z\" : 2.0}\n",
    "\n",
    "print(type(mydictionary))\n",
    "print(mydictionary)"
   ]
  },
  {
   "cell_type": "markdown",
   "metadata": {
    "cell_id": "00014-6e3426b3-8ff4-4232-b0a9-514347812346",
    "deepnote_cell_type": "markdown",
    "id": "-QHA2vfn6yWB"
   },
   "source": [
    "Access a value using it's key."
   ]
  },
  {
   "cell_type": "code",
   "execution_count": 7,
   "metadata": {
    "cell_id": "00015-25042c5b-c1f7-4fad-a453-e6b740d4587a",
    "colab": {
     "base_uri": "https://localhost:8080/"
    },
    "deepnote_cell_type": "code",
    "executionInfo": {
     "elapsed": 7,
     "status": "ok",
     "timestamp": 1624432543764,
     "user": {
      "displayName": "Sean Courtney",
      "photoUrl": "",
      "userId": "17219612104113445790"
     },
     "user_tz": -60
    },
    "id": "7afc809b",
    "outputId": "95f426e0-7004-47c2-b88a-992cb0a72fbf"
   },
   "outputs": [
    {
     "name": "stdout",
     "output_type": "stream",
     "text": [
      "1st entry has value = 7.0\n"
     ]
    }
   ],
   "source": [
    "print(\"1st entry has value =\", mydictionary[\"x\"]) "
   ]
  },
  {
   "cell_type": "markdown",
   "metadata": {
    "cell_id": "00016-8277d4a6-5489-4b0a-b8c2-c56cf575f693",
    "deepnote_cell_type": "markdown",
    "id": "7ovVZPa-wrMe"
   },
   "source": [
    "## Operations with Data Structures\n",
    "\n",
    "### Properties\n",
    "We can calculate the length (or number of elements in) these data structures using the `len()` function."
   ]
  },
  {
   "cell_type": "code",
   "execution_count": 8,
   "metadata": {
    "cell_id": "00017-669be7f6-637b-4d04-9179-8d5f956d8a43",
    "colab": {
     "base_uri": "https://localhost:8080/"
    },
    "deepnote_cell_type": "code",
    "executionInfo": {
     "elapsed": 5,
     "status": "ok",
     "timestamp": 1624432544732,
     "user": {
      "displayName": "Sean Courtney",
      "photoUrl": "",
      "userId": "17219612104113445790"
     },
     "user_tz": -60
    },
    "id": "e4ac9736",
    "outputId": "b75870f3-501d-4cca-f4e5-0e27794e6425"
   },
   "outputs": [
    {
     "name": "stdout",
     "output_type": "stream",
     "text": [
      "5\n",
      "4\n",
      "6\n",
      "3\n"
     ]
    }
   ],
   "source": [
    "print(len(mylist))\n",
    "print(len(mytuple))\n",
    "print(len(myset))\n",
    "print(len(mydictionary))"
   ]
  },
  {
   "cell_type": "markdown",
   "metadata": {
    "cell_id": "00018-e9a95852-3dc8-40cc-9ff2-98cdb888dc7f",
    "deepnote_cell_type": "markdown",
    "id": "62-jn7UB6hPI"
   },
   "source": [
    "We can find the maximum or minimum value of a list, tuple, or set of only real numerical values.\n",
    "\n"
   ]
  },
  {
   "cell_type": "code",
   "execution_count": 9,
   "metadata": {
    "cell_id": "00019-982a5287-a8fc-4925-94da-b8827c12636b",
    "colab": {
     "base_uri": "https://localhost:8080/"
    },
    "deepnote_cell_type": "code",
    "executionInfo": {
     "elapsed": 306,
     "status": "ok",
     "timestamp": 1624432555015,
     "user": {
      "displayName": "Sean Courtney",
      "photoUrl": "",
      "userId": "17219612104113445790"
     },
     "user_tz": -60
    },
    "id": "e3d8cab3",
    "outputId": "0bcecac5-fac6-496e-c23a-03b9f0575fa9"
   },
   "outputs": [
    {
     "name": "stdout",
     "output_type": "stream",
     "text": [
      "6.6\n",
      "-3\n"
     ]
    }
   ],
   "source": [
    "print(max(mytuple))\n",
    "print(min(mytuple))"
   ]
  },
  {
   "cell_type": "markdown",
   "metadata": {
    "cell_id": "00020-2a94b638-e70d-44ba-94a5-3e48d453880f",
    "deepnote_cell_type": "markdown",
    "id": "kHZvg0t96kgO"
   },
   "source": [
    "We can check if an element is present in the structure, obtaining a boolean data type. For this we use `in` in the following way."
   ]
  },
  {
   "cell_type": "code",
   "execution_count": 10,
   "metadata": {
    "cell_id": "00021-deebaf2e-762b-47bc-a7c1-653815163007",
    "colab": {
     "base_uri": "https://localhost:8080/"
    },
    "deepnote_cell_type": "code",
    "executionInfo": {
     "elapsed": 484,
     "status": "ok",
     "timestamp": 1624439344476,
     "user": {
      "displayName": "Sean Courtney",
      "photoUrl": "",
      "userId": "17219612104113445790"
     },
     "user_tz": -60
    },
    "id": "sYAj5CxlmiTP",
    "outputId": "fa4dc8b7-c0ba-4623-9f3c-3827fbebbb30"
   },
   "outputs": [
    {
     "name": "stdout",
     "output_type": "stream",
     "text": [
      "True\n",
      "False\n"
     ]
    }
   ],
   "source": [
    "print(6.6 in mytuple)\n",
    "print(5 in mydictionary)"
   ]
  },
  {
   "cell_type": "markdown",
   "metadata": {
    "cell_id": "00022-186278d1-1e1f-4a51-8ccd-5fbe7d22b9b1",
    "deepnote_cell_type": "markdown",
    "id": "wTY-7iCykYLk"
   },
   "source": [
    "### Changing, Adding, and Removing Elements\n",
    "Next we will talk about changing, adding and removing items from lists, sets, and dictionaries. We cannot do this to tuples as they cannot be changed once made.\n",
    "\n",
    "Changing the values of lists and dictionaries can be done in such a way as you might expect."
   ]
  },
  {
   "cell_type": "code",
   "execution_count": 11,
   "metadata": {
    "cell_id": "00023-fd087ee5-2521-4be0-8217-435dd83fdb48",
    "colab": {
     "base_uri": "https://localhost:8080/"
    },
    "deepnote_cell_type": "code",
    "executionInfo": {
     "elapsed": 513,
     "status": "ok",
     "timestamp": 1624432811019,
     "user": {
      "displayName": "Sean Courtney",
      "photoUrl": "",
      "userId": "17219612104113445790"
     },
     "user_tz": -60
    },
    "id": "sXk81ivcKS4y",
    "outputId": "e85a6478-ab0a-4963-b83c-b1afc1b4ac23"
   },
   "outputs": [
    {
     "name": "stdout",
     "output_type": "stream",
     "text": [
      "[1, -2.0, 'Three', (4+0j), None]\n",
      "[1, -2.0, 'Three', (4+0j), 5.0]\n"
     ]
    }
   ],
   "source": [
    "print(mylist)\n",
    "mylist[4] = 5.0\n",
    "print(mylist)"
   ]
  },
  {
   "cell_type": "code",
   "execution_count": 12,
   "metadata": {
    "cell_id": "00024-d29c8826-81f4-44c8-81e8-f11d8635dd0b",
    "colab": {
     "base_uri": "https://localhost:8080/"
    },
    "deepnote_cell_type": "code",
    "executionInfo": {
     "elapsed": 6,
     "status": "ok",
     "timestamp": 1624432812548,
     "user": {
      "displayName": "Sean Courtney",
      "photoUrl": "",
      "userId": "17219612104113445790"
     },
     "user_tz": -60
    },
    "id": "naA4MQq7KtAl",
    "outputId": "5916fa34-9c35-4205-d61c-5be67738b6e0"
   },
   "outputs": [
    {
     "name": "stdout",
     "output_type": "stream",
     "text": [
      "{'x': 7.0, 'y': 53.0, 'z': 2.0}\n",
      "{'x': 7.0, 'y': 53.0, 'z': 3.0}\n",
      "{'x': 7.0, 'y': 53.0, 'z': 2.0}\n"
     ]
    }
   ],
   "source": [
    "print(mydictionary)\n",
    "mydictionary['z'] = 3.0\n",
    "print(mydictionary)\n",
    "mydictionary['z'] = 2.0\n",
    "print(mydictionary)"
   ]
  },
  {
   "cell_type": "markdown",
   "metadata": {
    "cell_id": "00025-79d88964-e646-4445-b54d-590f96d627dc",
    "deepnote_cell_type": "markdown",
    "id": "rHDmir8NKXWl"
   },
   "source": [
    "To add to and remove from lists we use the `.append(<element>)` and `.remove(<element>)` attributes of the list class. We will discuss this structure in more detail in the object oriented programing portion of the course, however for now we can simply follow the syntax below."
   ]
  },
  {
   "cell_type": "code",
   "execution_count": null,
   "metadata": {
    "cell_id": "00026-eccbf73e-23ac-4d87-bd95-757df67a500e",
    "colab": {
     "base_uri": "https://localhost:8080/"
    },
    "deepnote_cell_type": "code",
    "executionInfo": {
     "elapsed": 355,
     "status": "ok",
     "timestamp": 1624432876438,
     "user": {
      "displayName": "Sean Courtney",
      "photoUrl": "",
      "userId": "17219612104113445790"
     },
     "user_tz": -60
    },
    "id": "ii3XLVrnkmVg",
    "outputId": "3e7e8f64-da99-49bf-98b4-d5288772eedc"
   },
   "outputs": [
    {
     "name": "stdout",
     "output_type": "stream",
     "text": [
      "[1, -2.0, 'Three', (4+0j), 5.0]\n",
      "[1, -2.0, 'Three', (4+0j), 5.0, 6.0]\n",
      "[1, -2.0, 'Three', (4+0j), 5.0]\n"
     ]
    }
   ],
   "source": [
    "print(mylist)\n",
    "mylist.append(6.0)\n",
    "print(mylist)\n",
    "mylist.remove(6.0)\n",
    "print(mylist)"
   ]
  },
  {
   "cell_type": "markdown",
   "metadata": {
    "cell_id": "00027-48284fab-7f8b-4cc2-b862-f11a7c12a71f",
    "deepnote_cell_type": "markdown",
    "id": "llsNt5sYOu_q"
   },
   "source": [
    "Append will added to the end of the list but we can put our new item anywhere in our list using `.insert(<index>,<elemment>)`. To delete an element `del()` can be used ; note that this is not an attribute of the list and can also be used on dictionaries."
   ]
  },
  {
   "cell_type": "code",
   "execution_count": null,
   "metadata": {
    "cell_id": "00028-fad9747c-1212-414d-ab82-6d0251f8584b",
    "colab": {
     "base_uri": "https://localhost:8080/"
    },
    "deepnote_cell_type": "code",
    "executionInfo": {
     "elapsed": 284,
     "status": "ok",
     "timestamp": 1624439559142,
     "user": {
      "displayName": "Sean Courtney",
      "photoUrl": "",
      "userId": "17219612104113445790"
     },
     "user_tz": -60
    },
    "id": "84a19da6",
    "outputId": "938f91eb-8a7c-4f22-9d2a-f7f007e06e3d"
   },
   "outputs": [
    {
     "name": "stdout",
     "output_type": "stream",
     "text": [
      "[1, -2.0, 2.5, 'Three', (4+0j), 5.0]\n",
      "[1, -2.0, 'Three', (4+0j), 5.0]\n"
     ]
    }
   ],
   "source": [
    "mylist.insert(2,2.5)\n",
    "print(mylist)\n",
    "del(mylist[2])\n",
    "print(mylist)"
   ]
  },
  {
   "cell_type": "markdown",
   "metadata": {
    "cell_id": "00029-80ca0437-a856-4d1f-b832-0414131dd5f7",
    "deepnote_cell_type": "markdown",
    "id": "Dmbb5xg67lDp"
   },
   "source": [
    "For sets the structure is very similar with `.add()` and `.remove()`."
   ]
  },
  {
   "cell_type": "code",
   "execution_count": null,
   "metadata": {
    "cell_id": "00030-2ef1406b-7d55-491f-bc07-46f4f082fce6",
    "colab": {
     "base_uri": "https://localhost:8080/"
    },
    "deepnote_cell_type": "code",
    "executionInfo": {
     "elapsed": 38,
     "status": "ok",
     "timestamp": 1623835712534,
     "user": {
      "displayName": "Sean Courtney",
      "photoUrl": "",
      "userId": "17219612104113445790"
     },
     "user_tz": -60
    },
    "id": "1rXO-el6ByFb",
    "outputId": "d473f643-2608-4822-8bea-bdc71db276f0"
   },
   "outputs": [
    {
     "name": "stdout",
     "output_type": "stream",
     "text": [
      "{2.0, 4, 4.1, (5+2j), 3.4e-06, 'copy'}\n",
      "{2.0, 4, 4.1, 6, (5+2j), 3.4e-06, 'copy'}\n",
      "{2.0, 4, 4.1, (5+2j), 3.4e-06, 'copy'}\n"
     ]
    }
   ],
   "source": [
    "print(myset)\n",
    "myset.add(6)\n",
    "print(myset)\n",
    "myset.remove(6)\n",
    "print(myset)"
   ]
  },
  {
   "cell_type": "markdown",
   "metadata": {
    "cell_id": "00031-a3774dd5-45d1-40c8-bc05-4ff640cbc05f",
    "deepnote_cell_type": "markdown",
    "id": "r8Tuh1XZLcV-"
   },
   "source": [
    "For dictionaries we can simply make a new key and use `pop()` to remove. One can also use `del()` to delete as noted above."
   ]
  },
  {
   "cell_type": "code",
   "execution_count": null,
   "metadata": {
    "cell_id": "00032-d87e98ab-3213-4e08-aa40-31fcbf95902e",
    "colab": {
     "base_uri": "https://localhost:8080/"
    },
    "deepnote_cell_type": "code",
    "executionInfo": {
     "elapsed": 36,
     "status": "ok",
     "timestamp": 1623835712535,
     "user": {
      "displayName": "Sean Courtney",
      "photoUrl": "",
      "userId": "17219612104113445790"
     },
     "user_tz": -60
    },
    "id": "bV0bZHKPLn3m",
    "outputId": "f9662770-b316-482e-bddb-d2963ad2f077"
   },
   "outputs": [
    {
     "name": "stdout",
     "output_type": "stream",
     "text": [
      "{'x': 7.0, 'y': 53.0, 'z': 2.0}\n",
      "{'x': 7.0, 'y': 53.0, 'z': 2.0, 'w': 9.0}\n",
      "{'x': 7.0, 'y': 53.0, 'z': 2.0}\n"
     ]
    }
   ],
   "source": [
    "print(mydictionary)\n",
    "mydictionary['w'] = 9.0\n",
    "print(mydictionary)\n",
    "mydictionary.pop('w')\n",
    "print(mydictionary)"
   ]
  },
  {
   "cell_type": "markdown",
   "metadata": {
    "cell_id": "00033-95caba9f-8c38-404c-8cfe-f51c194e0011",
    "deepnote_cell_type": "markdown",
    "id": "Kd00RDt8U271"
   },
   "source": [
    "### Slicing and Reorganising\n",
    "We can slice (or obtain section of) a list or tuple using the following syntax."
   ]
  },
  {
   "cell_type": "code",
   "execution_count": null,
   "metadata": {
    "cell_id": "00034-79f4d53e-a4ef-44bc-afe2-38ce061ab4c5",
    "colab": {
     "base_uri": "https://localhost:8080/"
    },
    "deepnote_cell_type": "code",
    "executionInfo": {
     "elapsed": 33,
     "status": "ok",
     "timestamp": 1623835712535,
     "user": {
      "displayName": "Sean Courtney",
      "photoUrl": "",
      "userId": "17219612104113445790"
     },
     "user_tz": -60
    },
    "id": "38dd11bc",
    "outputId": "fc493a24-0805-4558-cf39-a0e73cad1f58"
   },
   "outputs": [
    {
     "name": "stdout",
     "output_type": "stream",
     "text": [
      "mylist = [1, 2.0, 'Three', (4+0j), 5.0]\n",
      "sublist = [1, 2.0, 'Three'] \n",
      "\n",
      "mytuple = (4.1, 6.626e-34, 3, 6.6)\n",
      "subtuple = (3, 6.6)\n"
     ]
    }
   ],
   "source": [
    "sublist = mylist[0:3] # first three elements\n",
    "print('mylist =', mylist)\n",
    "print('sublist =', sublist, '\\n') # \\n makes a new line\n",
    "\n",
    "subtuple = mytuple[2:4] # last two elements\n",
    "print('mytuple =', mytuple)\n",
    "print('subtuple =', subtuple)"
   ]
  },
  {
   "cell_type": "markdown",
   "metadata": {
    "cell_id": "00035-dfd01ae9-ae2f-4352-9b4e-017e513182ed",
    "deepnote_cell_type": "markdown",
    "id": "cgFbBOmy5RgR"
   },
   "source": [
    "Or we slice incrementaly."
   ]
  },
  {
   "cell_type": "code",
   "execution_count": null,
   "metadata": {
    "cell_id": "00036-d2a5e794-d5ee-41c9-8754-81c027a23f4f",
    "colab": {
     "base_uri": "https://localhost:8080/"
    },
    "deepnote_cell_type": "code",
    "executionInfo": {
     "elapsed": 31,
     "status": "ok",
     "timestamp": 1623835712536,
     "user": {
      "displayName": "Sean Courtney",
      "photoUrl": "",
      "userId": "17219612104113445790"
     },
     "user_tz": -60
    },
    "id": "89f15195",
    "outputId": "ff2e4e97-8122-4f1d-edc4-93b52fdb4b22"
   },
   "outputs": [
    {
     "name": "stdout",
     "output_type": "stream",
     "text": [
      "[1, 'Three', 5.0]\n",
      "[2.0, (4+0j)]\n",
      "[1, 'Three', 5.0]\n"
     ]
    }
   ],
   "source": [
    "#This operation extracts the 0th element and takes two steps to extract the third and then fifth element.\n",
    "print(mylist[0::2])\n",
    "#Simlary, starting at index 1\n",
    "print(mylist[1::2])\n",
    "#If an index is omitted from the operation, it will be interpreted as 0, for example:\n",
    "print(mylist[::2])"
   ]
  },
  {
   "cell_type": "markdown",
   "metadata": {
    "cell_id": "00037-729b8748-6272-413f-bdcc-4226055e7779",
    "deepnote_cell_type": "markdown",
    "id": "qJtISRza6VY8"
   },
   "source": [
    "For reversing and sorting lists we will need a real numerical list."
   ]
  },
  {
   "cell_type": "code",
   "execution_count": null,
   "metadata": {
    "cell_id": "00038-1d7be6dd-251b-434d-a000-e7f5c607c792",
    "colab": {
     "base_uri": "https://localhost:8080/"
    },
    "deepnote_cell_type": "code",
    "executionInfo": {
     "elapsed": 27,
     "status": "ok",
     "timestamp": 1623835712536,
     "user": {
      "displayName": "Sean Courtney",
      "photoUrl": "",
      "userId": "17219612104113445790"
     },
     "user_tz": -60
    },
    "id": "451d1db7",
    "outputId": "cdb7cc04-2584-4254-cc84-0034e42707cd"
   },
   "outputs": [
    {
     "name": "stdout",
     "output_type": "stream",
     "text": [
      "list = [-20, 68000000000.0, 6.0, 19]\n",
      "reversed list = [19, 6.0, 68000000000.0, -20]\n",
      "sorted list = [-20, 6.0, 19, 68000000000.0]\n"
     ]
    }
   ],
   "source": [
    "numlist = [-20, 6.8e10,6.0,19]\n",
    "print('list =', numlist)\n",
    "numlist.reverse() # reverses order of elements in the list\n",
    "print('reversed list =', numlist)\n",
    "numlist.sort() # places list in asending order\n",
    "print('sorted list =', numlist)"
   ]
  },
  {
   "cell_type": "markdown",
   "metadata": {
    "cell_id": "00039-1789a6cf-38ba-4e8e-ad8c-bc2c56379fc9",
    "deepnote_cell_type": "markdown",
    "id": "YFJa-7me6ZM5"
   },
   "source": [
    "We can also wipe a list clean by using `clear()`."
   ]
  },
  {
   "cell_type": "code",
   "execution_count": null,
   "metadata": {
    "cell_id": "00040-795b5a1f-5a17-4df2-a908-ae017d8465a2",
    "colab": {
     "base_uri": "https://localhost:8080/"
    },
    "deepnote_cell_type": "code",
    "executionInfo": {
     "elapsed": 24,
     "status": "ok",
     "timestamp": 1623835712537,
     "user": {
      "displayName": "Sean Courtney",
      "photoUrl": "",
      "userId": "17219612104113445790"
     },
     "user_tz": -60
    },
    "id": "7fc19b75",
    "outputId": "0ebe1e93-bbbb-4b0c-cabf-452ddd9a553d"
   },
   "outputs": [
    {
     "name": "stdout",
     "output_type": "stream",
     "text": [
      "[]\n"
     ]
    }
   ],
   "source": [
    "numlist.clear()\n",
    "print(numlist)"
   ]
  },
  {
   "cell_type": "markdown",
   "metadata": {
    "cell_id": "00041-ca4d44f0-1e99-48c5-87c0-a9eb6c2fc491",
    "deepnote_cell_type": "markdown",
    "id": "1fra0UYPmT7G"
   },
   "source": [
    "### Combining Structures"
   ]
  },
  {
   "cell_type": "markdown",
   "metadata": {
    "cell_id": "00042-2c068412-feb1-40cc-83b2-5ef7a74f4c38",
    "deepnote_cell_type": "markdown",
    "id": "U_vTp1fV6c43"
   },
   "source": [
    "We can concatenate lists, as shown"
   ]
  },
  {
   "cell_type": "code",
   "execution_count": 5,
   "metadata": {
    "cell_id": "00043-1a76b409-fec3-48f8-8a36-d600c8d3b3a5",
    "colab": {
     "base_uri": "https://localhost:8080/"
    },
    "deepnote_cell_type": "code",
    "executionInfo": {
     "elapsed": 22,
     "status": "ok",
     "timestamp": 1623835712537,
     "user": {
      "displayName": "Sean Courtney",
      "photoUrl": "",
      "userId": "17219612104113445790"
     },
     "user_tz": -60
    },
    "id": "374640ca",
    "outputId": "eca9f4f4-fbc4-4cea-dd86-0af507ebf65c"
   },
   "outputs": [
    {
     "name": "stdout",
     "output_type": "stream",
     "text": [
      "[7.0, 8.0, 9.0, 1.0, 5.0, 9.0, 7.0]\n"
     ]
    }
   ],
   "source": [
    "L = [7.0,8.0,9.0]\n",
    "M = [1.0,5.0,9.0,7.0]\n",
    "\n",
    "concat = L + M\n",
    "print(concat)"
   ]
  },
  {
   "cell_type": "markdown",
   "metadata": {
    "cell_id": "00044-8639f838-2944-4d6b-ab2d-914dff407d1d",
    "deepnote_cell_type": "markdown",
    "id": "6D_HfRA666Rs"
   },
   "source": [
    "Lets define two sets, using these lists, and calulate their union and intersection. "
   ]
  },
  {
   "cell_type": "code",
   "execution_count": 6,
   "metadata": {
    "cell_id": "00045-1b63e06e-0583-4977-80ae-12a7253e010f",
    "colab": {
     "base_uri": "https://localhost:8080/"
    },
    "deepnote_cell_type": "code",
    "executionInfo": {
     "elapsed": 20,
     "status": "ok",
     "timestamp": 1623835712538,
     "user": {
      "displayName": "Sean Courtney",
      "photoUrl": "",
      "userId": "17219612104113445790"
     },
     "user_tz": -60
    },
    "id": "e2775605",
    "outputId": "11b7899b-8bab-4cc5-98b2-7a1f10986612"
   },
   "outputs": [
    {
     "name": "stdout",
     "output_type": "stream",
     "text": [
      "{1.0, 5.0, 7.0, 8.0, 9.0}\n",
      "{9.0, 7.0}\n"
     ]
    }
   ],
   "source": [
    "L = set(L) #recasting list as a set with the same elements\n",
    "M = set(M)\n",
    "\n",
    "un = L.union(M)#Returns a union set of the two sets\n",
    "inter = L.intersection(M)#Returns the intersection of the two sets\n",
    "\n",
    "print(un)\n",
    "print(inter)"
   ]
  },
  {
   "cell_type": "markdown",
   "metadata": {
    "cell_id": "00046-2de29189-6658-46c7-800e-cffd1c44b614",
    "deepnote_cell_type": "markdown",
    "id": "2p21Vmt6rXCJ"
   },
   "source": [
    "Can calculate difference between sets."
   ]
  },
  {
   "cell_type": "code",
   "execution_count": 7,
   "metadata": {
    "cell_id": "00047-199986d2-406d-47a9-bb72-2b24cff5d9b4",
    "colab": {
     "base_uri": "https://localhost:8080/"
    },
    "deepnote_cell_type": "code",
    "executionInfo": {
     "elapsed": 9,
     "status": "ok",
     "timestamp": 1623835712783,
     "user": {
      "displayName": "Sean Courtney",
      "photoUrl": "",
      "userId": "17219612104113445790"
     },
     "user_tz": -60
    },
    "id": "2a7a24e2",
    "outputId": "926d022b-6428-4cb3-9ec0-80d29032f554"
   },
   "outputs": [
    {
     "name": "stdout",
     "output_type": "stream",
     "text": [
      "{8.0}\n",
      "{1.0, 5.0, 8.0}\n"
     ]
    }
   ],
   "source": [
    "print(L.difference(M))#Returns elements in L that are not in the M\n",
    "\n",
    "print(L.symmetric_difference(M))#Returns elements that are only in one of the sets"
   ]
  },
  {
   "cell_type": "markdown",
   "metadata": {
    "cell_id": "00048-d2edb3e6-1aef-4514-b6d1-ad98fe87a80a",
    "deepnote_cell_type": "markdown",
    "id": "GXfljC9vrbIv"
   },
   "source": [
    "Can also do following actions to sets"
   ]
  },
  {
   "cell_type": "code",
   "execution_count": 8,
   "metadata": {
    "cell_id": "00049-4046fd12-3e94-4eec-8592-9c76ea22766c",
    "colab": {
     "base_uri": "https://localhost:8080/"
    },
    "deepnote_cell_type": "code",
    "executionInfo": {
     "elapsed": 7,
     "status": "ok",
     "timestamp": 1623835712784,
     "user": {
      "displayName": "Sean Courtney",
      "photoUrl": "",
      "userId": "17219612104113445790"
     },
     "user_tz": -60
    },
    "id": "9ddb4129",
    "outputId": "9fa0a553-0dc0-4975-95ac-98c3668bf212"
   },
   "outputs": [
    {
     "name": "stdout",
     "output_type": "stream",
     "text": [
      "False\n",
      "False\n",
      "False\n"
     ]
    }
   ],
   "source": [
    "print(L.issubset(M))#Checks if L is a subset of the M\n",
    "\n",
    "print(L.isdisjoint(M))#Checks if L is a disjoint of the M\n",
    "\n",
    "print(L.issuperset(M))#Checks if L is a superset of the M"
   ]
  },
  {
   "cell_type": "markdown",
   "metadata": {
    "cell_id": "00050-4a31b810-2ca6-4a67-bb1a-9e67efb8bbc4",
    "deepnote_cell_type": "markdown",
    "id": "n1fBZ6ZsHNdc"
   },
   "source": [
    "### Copying"
   ]
  },
  {
   "cell_type": "markdown",
   "metadata": {
    "cell_id": "00051-79166381-b7dd-4db1-89e4-083683b21a9f",
    "deepnote_cell_type": "markdown",
    "id": "-AYnFEaBHS6p"
   },
   "source": [
    "Copying these data structures can be tricky and it requires some care to avoid bugs. \n"
   ]
  },
  {
   "cell_type": "code",
   "execution_count": null,
   "metadata": {
    "cell_id": "00052-653646eb-546a-4f3b-a988-0db2369220ca",
    "colab": {
     "base_uri": "https://localhost:8080/"
    },
    "deepnote_cell_type": "code",
    "executionInfo": {
     "elapsed": 196,
     "status": "ok",
     "timestamp": 1623853040066,
     "user": {
      "displayName": "Sean Courtney",
      "photoUrl": "",
      "userId": "17219612104113445790"
     },
     "user_tz": -60
    },
    "id": "ZLPT_YglHRxU",
    "outputId": "7c418f6a-6569-4efb-bedd-45a655eb2cc4"
   },
   "outputs": [
    {
     "name": "stdout",
     "output_type": "stream",
     "text": [
      "[1, 3]\n",
      "[1, 3]\n"
     ]
    }
   ],
   "source": [
    "a = [1,2]\n",
    "b = a\n",
    "\n",
    "a[1] = 3 \n",
    "\n",
    "print(a)\n",
    "print(b)"
   ]
  },
  {
   "cell_type": "markdown",
   "metadata": {
    "cell_id": "00053-c66ca3d7-dcd8-4bfa-8c68-6af984991626",
    "deepnote_cell_type": "markdown",
    "id": "BxtKfgD7LsPJ"
   },
   "source": [
    "This is cleary not the desired result; it seems `a` and `b` are now inextricably linked together by the `=` assignment. This is because when we refer to `a` in our code we are refering to the place where the list `a` is stored in our memory, we have therefore just com. This can be fixed by using `a.copy()` which will return a copy of the list which is what is desired."
   ]
  },
  {
   "cell_type": "code",
   "execution_count": null,
   "metadata": {
    "cell_id": "00054-6c28060e-2ff8-48c3-b4f8-38c6d02718b9",
    "colab": {
     "base_uri": "https://localhost:8080/"
    },
    "deepnote_cell_type": "code",
    "executionInfo": {
     "elapsed": 213,
     "status": "ok",
     "timestamp": 1623853536933,
     "user": {
      "displayName": "Sean Courtney",
      "photoUrl": "",
      "userId": "17219612104113445790"
     },
     "user_tz": -60
    },
    "id": "PN1VXlL7HX7t",
    "outputId": "dff60475-c916-4440-f3dd-af4c0388143c"
   },
   "outputs": [
    {
     "name": "stdout",
     "output_type": "stream",
     "text": [
      "[1, 3]\n",
      "[1, 2]\n"
     ]
    }
   ],
   "source": [
    "a = [1,2]\n",
    "b = a.copy()\n",
    "\n",
    "a[1] = 3 \n",
    "\n",
    "print(a)\n",
    "print(b)"
   ]
  }
 ],
 "metadata": {
  "colab": {
   "collapsed_sections": [],
   "name": "PyQM_1.3_Data_Structures.ipynb",
   "provenance": []
  },
  "deepnote": {},
  "deepnote_execution_queue": [],
  "deepnote_notebook_id": "29a952b8-effe-4095-8179-08a3d035df0c",
  "kernelspec": {
   "display_name": "Python 3 (ipykernel)",
   "language": "python",
   "name": "python3"
  },
  "language_info": {
   "codemirror_mode": {
    "name": "ipython",
    "version": 3
   },
   "file_extension": ".py",
   "mimetype": "text/x-python",
   "name": "python",
   "nbconvert_exporter": "python",
   "pygments_lexer": "ipython3",
   "version": "3.9.6"
  }
 },
 "nbformat": 4,
 "nbformat_minor": 1
}
