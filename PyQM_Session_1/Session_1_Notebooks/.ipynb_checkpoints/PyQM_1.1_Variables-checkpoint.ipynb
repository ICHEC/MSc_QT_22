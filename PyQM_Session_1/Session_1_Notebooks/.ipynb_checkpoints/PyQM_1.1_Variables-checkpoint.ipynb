{
 "cells": [
  {
   "cell_type": "markdown",
   "id": "2a9c1b80",
   "metadata": {
    "cell_id": "00000-011e7192-cfc2-4e3b-9191-aeeddafe8cbe",
    "deepnote_cell_type": "markdown",
    "id": "f27ce925"
   },
   "source": [
    "<center>\n",
    "    \n",
    "# Python For Quantum Mechanics\n",
    "# Week 1: Variables\n",
    "\n",
    "</center>"
   ]
  },
  {
   "cell_type": "code",
   "execution_count": 3,
   "id": "0d533947",
   "metadata": {},
   "outputs": [
    {
     "data": {
      "image/jpeg": "[encoded data removed]",
      "text/html": [
       "\n",
       "        <iframe\n",
       "            width=\"700\"\n",
       "            height=\"400\"\n",
       "            src=\"https://www.youtube.com/embed/dU8NKvAxcnE\"\n",
       "            frameborder=\"0\"\n",
       "            allowfullscreen\n",
       "        ></iframe>\n",
       "        "
      ],
      "text/plain": [
       "<IPython.lib.display.YouTubeVideo at 0x102c887f0>"
      ]
     },
     "execution_count": 3,
     "metadata": {},
     "output_type": "execute_result"
    }
   ],
   "source": [
    "from IPython.display import YouTubeVideo\n",
    "YouTubeVideo('dU8NKvAxcnE',width=700, height=400)"
   ]
  },
  {
   "cell_type": "markdown",
   "id": "08e9c193",
   "metadata": {
    "cell_id": "00001-c138bb24-bd9c-40ac-a79c-bc6f90f223ae",
    "deepnote_cell_type": "markdown",
    "tags": []
   },
   "source": [
    "Now we will move on to working directly in python; namely working with different types of data."
   ]
  },
  {
   "cell_type": "markdown",
   "id": "47df197d",
   "metadata": {
    "cell_id": "00002-c62a8cb3-c745-4866-ac2d-15dc82bd82e4",
    "deepnote_cell_type": "markdown",
    "tags": []
   },
   "source": [
    "## Integer and Float Variables"
   ]
  },
  {
   "cell_type": "markdown",
   "id": "313b6029",
   "metadata": {
    "cell_id": "00001-9d3630a6-64d2-4030-be4d-22abad2f7913",
    "deepnote_cell_type": "markdown",
    "id": "t9WKgt9wuya9"
   },
   "source": [
    "To make a variable in python you can simply give it a value as shown here. Make sure to run the cell!"
   ]
  },
  {
   "cell_type": "code",
   "execution_count": 1,
   "id": "2ae1978f",
   "metadata": {
    "cell_id": "00002-a1590d9f-cd68-4c45-8716-e58b3457f121",
    "colab": {
     "base_uri": "https://localhost:8080/",
     "height": 52
    },
    "deepnote_cell_type": "code",
    "deepnote_to_be_reexecuted": false,
    "executionInfo": {
     "elapsed": 492,
     "status": "ok",
     "timestamp": 1624434928847,
     "user": {
      "displayName": "Sean Courtney",
      "photoUrl": "",
      "userId": "17219612104113445790"
     },
     "user_tz": -60
    },
    "execution_millis": 30,
    "execution_start": 1624631186283,
    "id": "66f1fa5a",
    "outputId": "46e22cdd-50d8-408c-ab18-fe3912336753",
    "source_hash": "f1401227"
   },
   "outputs": [
    {
     "data": {
      "text/plain": [
       "' Also this and the text above are comments! You can use this to make notes to you an others about your code.\\n Anything following the hash symbol or enclosed in tripple qutation marks is not executed.\\n Code can also be \"commented out\" for the purpose of testing.'"
      ]
     },
     "execution_count": 1,
     "metadata": {},
     "output_type": "execute_result"
    }
   ],
   "source": [
    "a = 1 # This is a variable we have called 'a' and given a value of 1.\n",
    "''' Also this and the text above are comments! You can use this to make notes to you an others about your code.\n",
    " Anything following the hash symbol or enclosed in tripple qutation marks is not executed.\n",
    " Code can also be \"commented out\" for the purpose of testing.'''"
   ]
  },
  {
   "cell_type": "markdown",
   "id": "eecbe41b",
   "metadata": {
    "cell_id": "00003-a3834ff9-d614-4c28-8175-e9e234a9c7aa",
    "deepnote_cell_type": "markdown",
    "id": "c4d6e3ee"
   },
   "source": [
    "As seen above we can add comments using `#` or `''' '''`. \n",
    "\n",
    "It should be noted that unlike other languages we do not need to specify the type (or class) of this variable, that will simply be infered from the value it is given. Here `a` is an integer becuase we have set it to one. To display a variable's value we can use the `print()` function."
   ]
  },
  {
   "cell_type": "code",
   "execution_count": 2,
   "id": "49256ab6",
   "metadata": {
    "cell_id": "00004-90f82e29-96f6-4c7d-8ced-9d62b50f1d37",
    "colab": {
     "base_uri": "https://localhost:8080/"
    },
    "deepnote_cell_type": "code",
    "deepnote_to_be_reexecuted": false,
    "executionInfo": {
     "elapsed": 21,
     "status": "ok",
     "timestamp": 1624434928848,
     "user": {
      "displayName": "Sean Courtney",
      "photoUrl": "",
      "userId": "17219612104113445790"
     },
     "user_tz": -60
    },
    "execution_millis": 18,
    "execution_start": 1624631186295,
    "id": "120b2d9b",
    "outputId": "e0fcf6b4-8a1d-494a-c108-8d0db4c1f976",
    "source_hash": "3791362"
   },
   "outputs": [
    {
     "name": "stdout",
     "output_type": "stream",
     "text": [
      "1\n"
     ]
    }
   ],
   "source": [
    "print(a)"
   ]
  },
  {
   "cell_type": "markdown",
   "id": "7eef6ba9",
   "metadata": {
    "cell_id": "00005-543d12e1-9e97-46d1-ad84-4ad8418499a1",
    "deepnote_cell_type": "markdown",
    "id": "59b58928"
   },
   "source": [
    "We can also check what class this varible is using the `type()` function as follows and we find that `a` is indeed an integer (denoted by `int`)."
   ]
  },
  {
   "cell_type": "code",
   "execution_count": 3,
   "id": "6ef8b1f5",
   "metadata": {
    "cell_id": "00006-1afa6890-4ce6-4354-93cd-3a04e60a2334",
    "colab": {
     "base_uri": "https://localhost:8080/"
    },
    "deepnote_cell_type": "code",
    "deepnote_to_be_reexecuted": false,
    "executionInfo": {
     "elapsed": 20,
     "status": "ok",
     "timestamp": 1624434928849,
     "user": {
      "displayName": "Sean Courtney",
      "photoUrl": "",
      "userId": "17219612104113445790"
     },
     "user_tz": -60
    },
    "execution_millis": 8,
    "execution_start": 1624631186305,
    "id": "eaefaa86",
    "outputId": "dcd9a5f1-09ab-4c51-b751-631eea18bf8b",
    "source_hash": "dda847ab"
   },
   "outputs": [
    {
     "name": "stdout",
     "output_type": "stream",
     "text": [
      "<class 'int'>\n"
     ]
    }
   ],
   "source": [
    "print(type(a))"
   ]
  },
  {
   "cell_type": "markdown",
   "id": "ecae9088",
   "metadata": {
    "cell_id": "00007-3d7d93f6-b740-4cce-9c05-babb28028210",
    "deepnote_cell_type": "markdown",
    "id": "16c21944"
   },
   "source": [
    "Another difference between Python and other languages is that equating two variables sets the value of one variable to a copy of the other. Subsequently changing one does not change the other. "
   ]
  },
  {
   "cell_type": "code",
   "execution_count": 4,
   "id": "fb0672db",
   "metadata": {
    "cell_id": "00008-814d9950-b273-4c5a-9a10-ad09a3ed53b7",
    "colab": {
     "base_uri": "https://localhost:8080/"
    },
    "deepnote_cell_type": "code",
    "deepnote_to_be_reexecuted": false,
    "executionInfo": {
     "elapsed": 17,
     "status": "ok",
     "timestamp": 1624434928850,
     "user": {
      "displayName": "Sean Courtney",
      "photoUrl": "",
      "userId": "17219612104113445790"
     },
     "user_tz": -60
    },
    "execution_millis": 29,
    "execution_start": 1624631186326,
    "id": "98842c3a",
    "outputId": "1d14de83-50f9-4450-cb4e-a3de6c8c3487",
    "source_hash": "abe22e8c"
   },
   "outputs": [
    {
     "name": "stdout",
     "output_type": "stream",
     "text": [
      "1.5\n",
      "1\n"
     ]
    }
   ],
   "source": [
    "a = 1\n",
    "b = a\n",
    "a = 1.5\n",
    "\n",
    "print(a)\n",
    "print(b)"
   ]
  },
  {
   "cell_type": "markdown",
   "id": "ab6cb80c",
   "metadata": {
    "cell_id": "00009-83cb1e11-63d9-4833-b77a-3ffe385b4c0c",
    "deepnote_cell_type": "markdown",
    "id": "a7e7dea1"
   },
   "source": [
    "As seen above we can also work with decimals which are called floating point variables (floats). This is a new data type we changed `a` into. "
   ]
  },
  {
   "cell_type": "code",
   "execution_count": 5,
   "id": "3d7de45c",
   "metadata": {
    "cell_id": "00010-aae7a410-1341-4ff7-9eae-4b237c7d115e",
    "colab": {
     "base_uri": "https://localhost:8080/"
    },
    "deepnote_cell_type": "code",
    "deepnote_to_be_reexecuted": false,
    "executionInfo": {
     "elapsed": 14,
     "status": "ok",
     "timestamp": 1624434928851,
     "user": {
      "displayName": "Sean Courtney",
      "photoUrl": "",
      "userId": "17219612104113445790"
     },
     "user_tz": -60
    },
    "execution_millis": 28,
    "execution_start": 1624631186327,
    "id": "9d3d936f",
    "outputId": "18da168d-b416-4c6d-de20-d395fc162fbc",
    "source_hash": "dda847ab"
   },
   "outputs": [
    {
     "name": "stdout",
     "output_type": "stream",
     "text": [
      "<class 'float'>\n"
     ]
    }
   ],
   "source": [
    "print(type(a))"
   ]
  },
  {
   "cell_type": "markdown",
   "id": "fd2267d9",
   "metadata": {
    "cell_id": "00011-ca6b2ef6-6023-4ce2-a9ca-b8fda4d78ca5",
    "deepnote_cell_type": "markdown",
    "id": "a93e9eec"
   },
   "source": [
    "We can also update the value of a variable in terms of it's old value. This may seem very strange as an equation but the `=` sign should be thought of as an assignment rather than an equals sign in the traditional mathematical sense."
   ]
  },
  {
   "cell_type": "code",
   "execution_count": 6,
   "id": "980ff3f6",
   "metadata": {
    "cell_id": "00012-d08e75bd-3220-4964-9938-582e642679f3",
    "colab": {
     "base_uri": "https://localhost:8080/"
    },
    "deepnote_cell_type": "code",
    "deepnote_to_be_reexecuted": false,
    "executionInfo": {
     "elapsed": 11,
     "status": "ok",
     "timestamp": 1624434928851,
     "user": {
      "displayName": "Sean Courtney",
      "photoUrl": "",
      "userId": "17219612104113445790"
     },
     "user_tz": -60
    },
    "execution_millis": 28,
    "execution_start": 1624631186327,
    "id": "4f68aa2d",
    "outputId": "9e60a195-f8c1-42c6-c8fd-577be9411b72",
    "source_hash": "9c51cb2"
   },
   "outputs": [
    {
     "name": "stdout",
     "output_type": "stream",
     "text": [
      "1\n",
      "2\n"
     ]
    }
   ],
   "source": [
    "a = 1\n",
    "print(a)\n",
    "a = a + 1\n",
    "print(a)"
   ]
  },
  {
   "cell_type": "markdown",
   "id": "9ca1fff6",
   "metadata": {
    "cell_id": "00013-d8663648-d76c-4290-9206-fc5d67ce71cd",
    "deepnote_cell_type": "markdown",
    "id": "68285083"
   },
   "source": [
    "It should be noted that this action cannot be performed by a `++` operation (as in C/C++ etc.), but a `+=`, `-=` etc. operations can be done."
   ]
  },
  {
   "cell_type": "code",
   "execution_count": 7,
   "id": "0b3df0c6",
   "metadata": {
    "cell_id": "00014-174c6e30-bdfd-4b99-a4dd-84e3ae21cd40",
    "colab": {
     "base_uri": "https://localhost:8080/"
    },
    "deepnote_cell_type": "code",
    "deepnote_to_be_reexecuted": false,
    "executionInfo": {
     "elapsed": 5,
     "status": "ok",
     "timestamp": 1624434929635,
     "user": {
      "displayName": "Sean Courtney",
      "photoUrl": "",
      "userId": "17219612104113445790"
     },
     "user_tz": -60
    },
    "execution_millis": 27,
    "execution_start": 1624631186329,
    "id": "1fdaeaf6",
    "outputId": "66268789-6598-49d2-f917-98e9f3860a72",
    "source_hash": "d80285a0"
   },
   "outputs": [
    {
     "name": "stdout",
     "output_type": "stream",
     "text": [
      "1.5\n",
      "2.0\n",
      "1.0\n"
     ]
    }
   ],
   "source": [
    "a = 1.5 # a is redefined as a float with value 1.5\n",
    "print(a)\n",
    "a += 0.5 # Here 0.5 is added to a\n",
    "print(a)\n",
    "a -= 1 # Here 1 is taken away from a\n",
    "print(a)"
   ]
  },
  {
   "cell_type": "markdown",
   "id": "90024d5b",
   "metadata": {
    "cell_id": "00015-12a386c2-c45a-43a4-9386-90d907fd9ebe",
    "deepnote_cell_type": "markdown",
    "id": "8744d16d"
   },
   "source": [
    "In the last cell you have have noted that I mixed floats and integers in a single operation and a float was returned. This can also be done for multiplication `*`, division `/`, powers `**`, and absolute value `abs()`. "
   ]
  },
  {
   "cell_type": "code",
   "execution_count": 8,
   "id": "d543c3ca",
   "metadata": {
    "cell_id": "00016-58be6f96-9ce1-4c2c-95ce-7626844cd807",
    "colab": {
     "base_uri": "https://localhost:8080/"
    },
    "deepnote_cell_type": "code",
    "deepnote_to_be_reexecuted": false,
    "executionInfo": {
     "elapsed": 196,
     "status": "ok",
     "timestamp": 1624434935088,
     "user": {
      "displayName": "Sean Courtney",
      "photoUrl": "",
      "userId": "17219612104113445790"
     },
     "user_tz": -60
    },
    "execution_millis": 18,
    "execution_start": 1624631186338,
    "id": "BqobXRg2RSdC",
    "outputId": "2341b782-2c5c-4781-95a8-4d62dc4ebf7b",
    "source_hash": "34330bd3"
   },
   "outputs": [
    {
     "name": "stdout",
     "output_type": "stream",
     "text": [
      "10\n",
      "11.5\n"
     ]
    }
   ],
   "source": [
    "# Multiplication\n",
    "print(2*5) \n",
    "print(2.3*5)"
   ]
  },
  {
   "cell_type": "code",
   "execution_count": 9,
   "id": "d308794b",
   "metadata": {
    "cell_id": "00017-60d86747-6ac1-469a-a389-049fb99b477e",
    "colab": {
     "base_uri": "https://localhost:8080/"
    },
    "deepnote_cell_type": "code",
    "deepnote_to_be_reexecuted": false,
    "executionInfo": {
     "elapsed": 4,
     "status": "ok",
     "timestamp": 1624434935902,
     "user": {
      "displayName": "Sean Courtney",
      "photoUrl": "",
      "userId": "17219612104113445790"
     },
     "user_tz": -60
    },
    "execution_millis": 13,
    "execution_start": 1624631186345,
    "id": "-1wztKd_RWHI",
    "outputId": "59f0f45c-26d7-419b-93df-93835b138650",
    "source_hash": "9454ec9b"
   },
   "outputs": [
    {
     "name": "stdout",
     "output_type": "stream",
     "text": [
      "144.0\n",
      "144\n",
      "144.0\n"
     ]
    }
   ],
   "source": [
    "# Powers\n",
    "print(12.0**2) # returns float\n",
    "print(12**2) # returns integer\n",
    "print(pow(12.0,2)) # alternative to **"
   ]
  },
  {
   "cell_type": "code",
   "execution_count": 10,
   "id": "b1634c9b",
   "metadata": {
    "cell_id": "00018-224f6199-46dc-4941-9ac8-e37f58c63eb8",
    "colab": {
     "base_uri": "https://localhost:8080/"
    },
    "deepnote_cell_type": "code",
    "deepnote_to_be_reexecuted": false,
    "executionInfo": {
     "elapsed": 216,
     "status": "ok",
     "timestamp": 1624434937464,
     "user": {
      "displayName": "Sean Courtney",
      "photoUrl": "",
      "userId": "17219612104113445790"
     },
     "user_tz": -60
    },
    "execution_millis": 12,
    "execution_start": 1624631186361,
    "id": "ABVB0NpsRWjK",
    "outputId": "dfc714d9-5cf5-490b-8a32-ffa69baaf152",
    "source_hash": "227b0302"
   },
   "outputs": [
    {
     "name": "stdout",
     "output_type": "stream",
     "text": [
      "0.4\n",
      "0.2\n",
      "1.4285714285714286\n"
     ]
    }
   ],
   "source": [
    "# Division (Float Division)\n",
    "print(2/5)\n",
    "print(1.0/5)\n",
    "print(3/2.1)"
   ]
  },
  {
   "cell_type": "code",
   "execution_count": 11,
   "id": "a5d14f78",
   "metadata": {
    "cell_id": "00019-25165b90-32ea-4446-bb93-5fcb2ac4e9e8",
    "colab": {
     "base_uri": "https://localhost:8080/"
    },
    "deepnote_cell_type": "code",
    "deepnote_to_be_reexecuted": false,
    "executionInfo": {
     "elapsed": 204,
     "status": "ok",
     "timestamp": 1624434938800,
     "user": {
      "displayName": "Sean Courtney",
      "photoUrl": "",
      "userId": "17219612104113445790"
     },
     "user_tz": -60
    },
    "execution_millis": 19,
    "execution_start": 1624631186388,
    "id": "nVwnx8gUGZeQ",
    "outputId": "d2875a67-9613-448b-88be-24b5db1de92c",
    "source_hash": "6f1d1a1f"
   },
   "outputs": [
    {
     "name": "stdout",
     "output_type": "stream",
     "text": [
      "4\n",
      "4.6\n"
     ]
    }
   ],
   "source": [
    "# Absolute Value\n",
    "print(abs(-4))\n",
    "print(abs(4.6))"
   ]
  },
  {
   "cell_type": "markdown",
   "id": "804a433c",
   "metadata": {
    "cell_id": "00020-22f76135-f33c-4564-8e6a-5d6c487f870c",
    "deepnote_cell_type": "markdown",
    "id": "5ff80440"
   },
   "source": [
    "`/` will always give float division.\n",
    "\n",
    "If the integer version of these operations is required one can simply make both vaules an integer and use `//` for division (this will round down to the nearest integer)."
   ]
  },
  {
   "cell_type": "code",
   "execution_count": 12,
   "id": "0c8e394a",
   "metadata": {
    "cell_id": "00021-a1fc7d0c-95c9-4536-bd63-f74ed1772296",
    "colab": {
     "base_uri": "https://localhost:8080/"
    },
    "deepnote_cell_type": "code",
    "deepnote_to_be_reexecuted": false,
    "executionInfo": {
     "elapsed": 224,
     "status": "ok",
     "timestamp": 1624380645939,
     "user": {
      "displayName": "Sean Courtney",
      "photoUrl": "",
      "userId": "17219612104113445790"
     },
     "user_tz": -60
    },
    "execution_millis": 18,
    "execution_start": 1624631186389,
    "id": "fb5c262d",
    "outputId": "453edfb4-ec8d-4876-9aea-f446e5302b57",
    "source_hash": "2e4ffbd4"
   },
   "outputs": [
    {
     "name": "stdout",
     "output_type": "stream",
     "text": [
      "3.8\n",
      "3\n"
     ]
    }
   ],
   "source": [
    "print(19/5) \n",
    "print(19//5) "
   ]
  },
  {
   "cell_type": "markdown",
   "id": "2068ca24",
   "metadata": {
    "cell_id": "00022-efb4cfdb-4614-422f-89de-75edf0f917a8",
    "deepnote_cell_type": "markdown",
    "id": "f06f54b3"
   },
   "source": [
    "For those who are not familiar with other languages there is a modulo or remainder operation `%`. This is the remainder of a division operation which at first may not seem particulary useful but is actually a crucial operation in many algorithms. For example 3 divides into 20, 6 times with remainder 2 as shown."
   ]
  },
  {
   "cell_type": "code",
   "execution_count": 13,
   "id": "e0c289a7",
   "metadata": {
    "cell_id": "00023-f5ee5c3b-54a4-4591-a073-a594d06661ff",
    "colab": {
     "base_uri": "https://localhost:8080/"
    },
    "deepnote_cell_type": "code",
    "deepnote_to_be_reexecuted": false,
    "executionInfo": {
     "elapsed": 202,
     "status": "ok",
     "timestamp": 1623683010495,
     "user": {
      "displayName": "Sean Courtney",
      "photoUrl": "",
      "userId": "17219612104113445790"
     },
     "user_tz": -60
    },
    "execution_millis": 17,
    "execution_start": 1624631186390,
    "id": "9fcab258",
    "outputId": "5e4e1107-a489-400a-fc2b-9d8af90676f8",
    "source_hash": "ce8a63cf"
   },
   "outputs": [
    {
     "name": "stdout",
     "output_type": "stream",
     "text": [
      "6\n",
      "2\n"
     ]
    }
   ],
   "source": [
    "print(20//3) # Integer division\n",
    "print(20%3) # Remainder or modulo "
   ]
  },
  {
   "cell_type": "markdown",
   "id": "8cbb4623",
   "metadata": {
    "cell_id": "00024-265e3732-97b3-4210-ad7e-6baa9f7b8e67",
    "deepnote_cell_type": "markdown",
    "id": "RWVJF3YzRel8"
   },
   "source": [
    "## Scientific Notation\n",
    "Consider the following cell,"
   ]
  },
  {
   "cell_type": "code",
   "execution_count": 14,
   "id": "76ad207e",
   "metadata": {
    "cell_id": "00025-b156b6a8-cd0a-4394-9519-da7566159ebf",
    "colab": {
     "base_uri": "https://localhost:8080/"
    },
    "deepnote_cell_type": "code",
    "deepnote_to_be_reexecuted": false,
    "executionInfo": {
     "elapsed": 199,
     "status": "ok",
     "timestamp": 1624380808122,
     "user": {
      "displayName": "Sean Courtney",
      "photoUrl": "",
      "userId": "17219612104113445790"
     },
     "user_tz": -60
    },
    "execution_millis": 15,
    "execution_start": 1624631186392,
    "id": "z-xj8IfbSLuO",
    "outputId": "204d6bf3-a68b-4362-d12d-95f7b27122f2",
    "source_hash": "8529ff8f"
   },
   "outputs": [
    {
     "name": "stdout",
     "output_type": "stream",
     "text": [
      "123450000000000000\n",
      "1.2345e+17\n"
     ]
    }
   ],
   "source": [
    "print(123450000000000000) # notice that this is an integer...\n",
    "print(123450000000000000.0) # and this is a float"
   ]
  },
  {
   "cell_type": "markdown",
   "id": "a4cedfbd",
   "metadata": {
    "cell_id": "00026-c3699cf0-0ca5-45c9-9289-9cae9471dc24",
    "deepnote_cell_type": "markdown",
    "id": "6NPf3snNSyx-"
   },
   "source": [
    "At first it may seem like something has gone wrong and what was written was not printed to screen but in fact the float has been converted to scientific notation with `e` standing in for 10ˆ. \n",
    "\n",
    "This can be very useful when dealing with very large or small values. For example,\n",
    "\n",
    "<center>\n",
    "\n",
    "$$h \\approx 6.626 \\times 10^{-34} \\text{m}^2\\text{kg/s}$$\n",
    "\n",
    "$$m_e \\approx 9.109 \\times 10^{-31}\\text{kg}$$\n",
    "\n",
    "$$M_{sun} \\approx 1.989 \\times 10^{30} \\text{kg}$$ \n",
    "\n",
    "</center>"
   ]
  },
  {
   "cell_type": "code",
   "execution_count": 15,
   "id": "5fdc6b7e",
   "metadata": {
    "cell_id": "00027-c1bdf0fe-6c24-4223-9ec0-4524bc075f3d",
    "deepnote_cell_type": "code",
    "deepnote_to_be_reexecuted": false,
    "execution_millis": 0,
    "execution_start": 1624631275676,
    "id": "Xnxhu0BnTFlj",
    "source_hash": "f1ac7ba9"
   },
   "outputs": [],
   "source": [
    "h = 6.626e-34 # Plank's Constant in m^2 kg/s\n",
    "e_mass = 9.109e-31 # electron mass in kg\n",
    "sun_mass = 1.989e+30 # solar mass in kg"
   ]
  },
  {
   "cell_type": "markdown",
   "id": "08caaf4e",
   "metadata": {
    "cell_id": "00028-a8136978-6e52-4352-ab8a-4ee0ec53fc06",
    "deepnote_cell_type": "markdown",
    "id": "0f3ZbYGIW3vI"
   },
   "source": [
    "These are floats as demonstrated below."
   ]
  },
  {
   "cell_type": "code",
   "execution_count": 16,
   "id": "b9cae217",
   "metadata": {
    "cell_id": "00029-ae37afc9-233a-4ee5-9f6c-55a8ad4b0cda",
    "colab": {
     "base_uri": "https://localhost:8080/"
    },
    "deepnote_cell_type": "code",
    "deepnote_to_be_reexecuted": false,
    "executionInfo": {
     "elapsed": 191,
     "status": "ok",
     "timestamp": 1624380781205,
     "user": {
      "displayName": "Sean Courtney",
      "photoUrl": "",
      "userId": "17219612104113445790"
     },
     "user_tz": -60
    },
    "execution_millis": 11,
    "execution_start": 1624631277270,
    "id": "JAv-Ua7QW2iU",
    "outputId": "66ccefe4-7aff-4640-aad9-a836e1b29661",
    "source_hash": "d516ed90"
   },
   "outputs": [
    {
     "name": "stdout",
     "output_type": "stream",
     "text": [
      "<class 'float'>\n"
     ]
    }
   ],
   "source": [
    "print(type(h))"
   ]
  },
  {
   "cell_type": "markdown",
   "id": "219f51ce",
   "metadata": {
    "cell_id": "00032-a05b2760-d8c8-4dd0-9793-0466c8e7ac69",
    "deepnote_cell_type": "markdown",
    "tags": []
   },
   "source": [
    "## Comparison Operators and Boolean Variables"
   ]
  },
  {
   "cell_type": "markdown",
   "id": "aafa5d20",
   "metadata": {
    "cell_id": "00030-a06e3128-b90f-4975-919b-efbf688ac8c7",
    "deepnote_cell_type": "markdown",
    "id": "1930f7f3"
   },
   "source": [
    "It is often important to compare two variables with `>`, `<`, `==` (equal), `!=` (not equal), `>=` (greater than or equal to), and `<=` (less than or equal to. Note that checking if two things are equal we use `==` rather than `=` which is reserved for assignment. But what would such an operation give as a value? Well, the statement is either true or false. This is exactly what is returned, a Boolean `True` or `False`, a new valiable. Let’s see how it works."
   ]
  },
  {
   "cell_type": "code",
   "execution_count": 17,
   "id": "3931db31",
   "metadata": {
    "cell_id": "00031-285f90cd-227b-4c7a-82ea-f36a446f62a3",
    "colab": {
     "base_uri": "https://localhost:8080/"
    },
    "deepnote_cell_type": "code",
    "deepnote_to_be_reexecuted": false,
    "executionInfo": {
     "elapsed": 204,
     "status": "ok",
     "timestamp": 1624435395231,
     "user": {
      "displayName": "Sean Courtney",
      "photoUrl": "",
      "userId": "17219612104113445790"
     },
     "user_tz": -60
    },
    "execution_millis": 13,
    "execution_start": 1624631186426,
    "id": "fa59ece0",
    "outputId": "92d7b2b8-d2b5-4146-ec3b-067a0e6b8324",
    "source_hash": "5ee3cade"
   },
   "outputs": [
    {
     "name": "stdout",
     "output_type": "stream",
     "text": [
      "True\n",
      "True\n",
      "True\n",
      "True\n",
      "False\n",
      "<class 'bool'>\n"
     ]
    }
   ],
   "source": [
    "a = True\n",
    "print(a)\n",
    "print(1 < 2)\n",
    "print(2 == 2)\n",
    "print(7.1 != 7.2) # '!=' refers to not equal\n",
    "print(4 >= 4.3)\n",
    "print(type(4 >= 4.3))"
   ]
  },
  {
   "cell_type": "markdown",
   "id": "e46ec14f",
   "metadata": {
    "cell_id": "00032-c82955b8-3e54-4851-99d8-426fec311c2f",
    "deepnote_cell_type": "markdown",
    "id": "Tv9MjQAU74j4"
   },
   "source": [
    "There exists the following operations that act on two Boolean values:\n",
    "- `and`: if both are `True`, it returns `True`, otherwise it returns `False`.\n",
    "- `or`: if either is `True`, it returns `True`, otherwise it returns `False`.\n",
    "Another useful Boolean operator is `not` which simply reverses the proceeding Boolean. An example of each of these is found below.\n"
   ]
  },
  {
   "cell_type": "code",
   "execution_count": 18,
   "id": "4f26d6de",
   "metadata": {
    "cell_id": "00033-ef5d809a-6ffc-4fce-9382-30cad4f93c3b",
    "colab": {
     "base_uri": "https://localhost:8080/"
    },
    "deepnote_cell_type": "code",
    "deepnote_to_be_reexecuted": false,
    "executionInfo": {
     "elapsed": 219,
     "status": "ok",
     "timestamp": 1624381319238,
     "user": {
      "displayName": "Sean Courtney",
      "photoUrl": "",
      "userId": "17219612104113445790"
     },
     "user_tz": -60
    },
    "execution_millis": 13,
    "execution_start": 1624631186426,
    "id": "UENBAmpk76jg",
    "outputId": "eee22ce7-39f1-4f02-f6d6-e77d8fe660f0",
    "source_hash": "ecf04282"
   },
   "outputs": [
    {
     "name": "stdout",
     "output_type": "stream",
     "text": [
      "False\n",
      "True\n",
      "True\n"
     ]
    }
   ],
   "source": [
    "print((1 > 2) and (3 > 2))\n",
    "print(True or (3 <= 2))\n",
    "print(not (1 == 2))"
   ]
  },
  {
   "cell_type": "markdown",
   "id": "8a55078d",
   "metadata": {
    "cell_id": "00034-a668d103-a54c-47d7-b5f5-712d6bf8fc08",
    "deepnote_cell_type": "markdown",
    "id": "943d0525"
   },
   "source": [
    "## Complex Numbers\n",
    "Python also supports complex numbers with the complex unit denoted by `j` which acts as one one expect. The extraction of the real and imaginary parts is also shown below."
   ]
  },
  {
   "cell_type": "code",
   "execution_count": 19,
   "id": "62a34515",
   "metadata": {
    "cell_id": "00035-9617d49b-dea7-454a-af9e-59368c4bea65",
    "colab": {
     "base_uri": "https://localhost:8080/"
    },
    "deepnote_cell_type": "code",
    "deepnote_to_be_reexecuted": false,
    "executionInfo": {
     "elapsed": 214,
     "status": "ok",
     "timestamp": 1624381425165,
     "user": {
      "displayName": "Sean Courtney",
      "photoUrl": "",
      "userId": "17219612104113445790"
     },
     "user_tz": -60
    },
    "execution_millis": 0,
    "execution_start": 1624631186430,
    "id": "9df9a992",
    "outputId": "695fdc76-bb2e-4ea1-ee35-ffa60efccd95",
    "source_hash": "91cf9afc"
   },
   "outputs": [
    {
     "name": "stdout",
     "output_type": "stream",
     "text": [
      "<class 'complex'>\n",
      "(5-13j)\n",
      "(52-61j)\n",
      "\n",
      "5.0\n",
      "\n",
      "4.0\n",
      "-16.0\n"
     ]
    }
   ],
   "source": [
    "z = 4 + 3j\n",
    "w = 1 - 16j\n",
    "\n",
    "print(type(z))\n",
    "print(z + w)\n",
    "print(z * w)\n",
    "\n",
    "print() # just to seperate out our results\n",
    "\n",
    "print(abs(z)) # the abs() function takes the modulus of the complex number\n",
    "\n",
    "print()\n",
    "\n",
    "print(z.real) # returns the real part of z\n",
    "print(w.imag) # returns the complex part of w"
   ]
  },
  {
   "cell_type": "markdown",
   "id": "9c3ff576",
   "metadata": {
    "cell_id": "00036-3530ec98-f78c-4610-a714-d9ce1869b0ce",
    "deepnote_cell_type": "markdown",
    "id": "2lXLsMXVr1FS"
   },
   "source": [
    "## Strings\n",
    "Another type of variable is a string which is an ordered set of characters. This is done using quotation marks. Words and phrases can therefore be outputted and added together (concatenated) with `+`."
   ]
  },
  {
   "cell_type": "code",
   "execution_count": 20,
   "id": "9ce77556",
   "metadata": {
    "cell_id": "00037-2c423da5-8a9e-41d2-bbcd-99b36400ecd3",
    "colab": {
     "base_uri": "https://localhost:8080/"
    },
    "deepnote_cell_type": "code",
    "deepnote_to_be_reexecuted": false,
    "executionInfo": {
     "elapsed": 18,
     "status": "ok",
     "timestamp": 1624002976967,
     "user": {
      "displayName": "Sean Courtney",
      "photoUrl": "",
      "userId": "17219612104113445790"
     },
     "user_tz": -60
    },
    "execution_millis": 3,
    "execution_start": 1624631186465,
    "id": "sbhM2hIlr1FX",
    "outputId": "c58d7a66-0fb5-4bf3-e319-ae4bd5cac49d",
    "source_hash": "672686c3"
   },
   "outputs": [
    {
     "name": "stdout",
     "output_type": "stream",
     "text": [
      "<class 'str'>\n",
      "how are you?\n",
      "hello, how are you?\n"
     ]
    }
   ],
   "source": [
    "word = 'hello'\n",
    "phrase = 'how are you?'\n",
    "\n",
    "whole = word + ', ' + phrase\n",
    "\n",
    "print(type(word))\n",
    "print(phrase)\n",
    "print(whole)"
   ]
  },
  {
   "cell_type": "markdown",
   "id": "837baa28",
   "metadata": {
    "cell_id": "00038-929644d0-1198-43e9-a3e5-2886f6bca97a",
    "deepnote_cell_type": "markdown",
    "id": "U_msdUNRHnF-"
   },
   "source": [
    "We can also 'multiply' a string by an integer in the following way"
   ]
  },
  {
   "cell_type": "code",
   "execution_count": 35,
   "id": "ffbd2398",
   "metadata": {
    "cell_id": "00039-0fcf2965-b17f-40dc-99c3-b99b5a1b1fc4",
    "colab": {
     "base_uri": "https://localhost:8080/"
    },
    "deepnote_cell_type": "code",
    "deepnote_to_be_reexecuted": false,
    "executionInfo": {
     "elapsed": 198,
     "status": "ok",
     "timestamp": 1624003337051,
     "user": {
      "displayName": "Sean Courtney",
      "photoUrl": "",
      "userId": "17219612104113445790"
     },
     "user_tz": -60
    },
    "execution_millis": 17,
    "execution_start": 1624631186466,
    "id": "ClIpAv_FG_m1",
    "outputId": "a178fc88-3ddb-4eaf-adce-e56bdf3ad220",
    "source_hash": "deb4a07"
   },
   "outputs": [
    {
     "name": "stdout",
     "output_type": "stream",
     "text": [
      "hello hello hello \n"
     ]
    }
   ],
   "source": [
    "print((word + ' ')*3)"
   ]
  },
  {
   "cell_type": "markdown",
   "id": "17fcb1ae",
   "metadata": {
    "cell_id": "00040-1b791813-fae9-4523-8cad-547e798b9377",
    "deepnote_cell_type": "markdown",
    "id": "b1Se95afG_N1"
   },
   "source": [
    "A string can include the new line character or `'\\n'` to have the effect of a return."
   ]
  },
  {
   "cell_type": "code",
   "execution_count": 22,
   "id": "d99030a6",
   "metadata": {
    "cell_id": "00041-9da29567-1240-4641-ab81-ab4eaccdc5fd",
    "colab": {
     "base_uri": "https://localhost:8080/"
    },
    "deepnote_cell_type": "code",
    "deepnote_to_be_reexecuted": false,
    "executionInfo": {
     "elapsed": 325,
     "status": "ok",
     "timestamp": 1624003550693,
     "user": {
      "displayName": "Sean Courtney",
      "photoUrl": "",
      "userId": "17219612104113445790"
     },
     "user_tz": -60
    },
    "execution_millis": 15351879,
    "execution_start": 1624631186466,
    "id": "saYzMOztJd-8",
    "outputId": "dbc4f2c8-b02e-4e99-e26f-f19ab9a4147d",
    "source_hash": "b1e3f283"
   },
   "outputs": [
    {
     "name": "stdout",
     "output_type": "stream",
     "text": [
      "hello,\n",
      "how are you?\n"
     ]
    }
   ],
   "source": [
    "print('hello,\\nhow are you?')"
   ]
  },
  {
   "cell_type": "markdown",
   "id": "73c1bd75",
   "metadata": {
    "cell_id": "00042-525b6cf7-43ee-4b2c-bf31-d277b433d3fb",
    "deepnote_cell_type": "markdown",
    "id": "4xN_h1QNJdC3"
   },
   "source": [
    "It is often useful to output variables intersperced in our text. A useful method to do this is the following,"
   ]
  },
  {
   "cell_type": "code",
   "execution_count": 23,
   "id": "d7cd147e",
   "metadata": {
    "cell_id": "00043-63b886de-3c0a-4d32-b221-d2c002d3c41e",
    "colab": {
     "base_uri": "https://localhost:8080/"
    },
    "deepnote_cell_type": "code",
    "deepnote_to_be_reexecuted": false,
    "executionInfo": {
     "elapsed": 237,
     "status": "ok",
     "timestamp": 1624004531522,
     "user": {
      "displayName": "Sean Courtney",
      "photoUrl": "",
      "userId": "17219612104113445790"
     },
     "user_tz": -60
    },
    "execution_millis": 13,
    "execution_start": 1624631186470,
    "id": "7ZtIwT5MLhEO",
    "outputId": "9d32239f-56a9-4f5a-d7fb-06829bbd6272",
    "source_hash": "f44595b1"
   },
   "outputs": [
    {
     "name": "stdout",
     "output_type": "stream",
     "text": [
      "the state was found to be in the up state with probability 0.82\n"
     ]
    }
   ],
   "source": [
    "state = 'up'\n",
    "prob = .8152\n",
    "\n",
    "text = 'the state was found to be in the %s state with probability %.2f' % (state, prob)\n",
    "\n",
    "print(text)"
   ]
  },
  {
   "cell_type": "markdown",
   "id": "1e2e4298",
   "metadata": {
    "cell_id": "00044-ab3e5d11-8902-4fec-ad0b-957f600a24c2",
    "deepnote_cell_type": "markdown",
    "id": "MonPrdMEMMSV"
   },
   "source": [
    "Here the `%s` and the `%f` stand in for later specified strings and floats respectively. The `.2` preceding the `f` refers to the fact that I want the answer rounded to two decimal places. \n",
    "\n",
    "`%d` can be used for an integer and `%g` for a generic number."
   ]
  },
  {
   "cell_type": "markdown",
   "id": "f2ad2ce5",
   "metadata": {
    "cell_id": "00045-5e22a6bf-0f70-45f2-b4c0-d055773414ec",
    "deepnote_cell_type": "markdown",
    "id": "8iBwfQNFOitN"
   },
   "source": [
    "We can find the length of a string using `len()`,"
   ]
  },
  {
   "cell_type": "code",
   "execution_count": 24,
   "id": "8c2f0347",
   "metadata": {
    "cell_id": "00046-5f1d5bec-30dc-462b-970e-294e509ded21",
    "colab": {
     "base_uri": "https://localhost:8080/"
    },
    "deepnote_cell_type": "code",
    "deepnote_to_be_reexecuted": false,
    "executionInfo": {
     "elapsed": 207,
     "status": "ok",
     "timestamp": 1624009637548,
     "user": {
      "displayName": "Sean Courtney",
      "photoUrl": "",
      "userId": "17219612104113445790"
     },
     "user_tz": -60
    },
    "execution_millis": 2,
    "execution_start": 1624631186494,
    "id": "y53dz9pafK-4",
    "outputId": "0001b960-d848-4680-ca8f-4a26e21eac0d",
    "source_hash": "967641b"
   },
   "outputs": [
    {
     "data": {
      "text/plain": [
       "5"
      ]
     },
     "execution_count": 24,
     "metadata": {},
     "output_type": "execute_result"
    }
   ],
   "source": [
    "word = 'hello'\n",
    "len(word)"
   ]
  },
  {
   "cell_type": "markdown",
   "id": "92249fee",
   "metadata": {
    "cell_id": "00047-a367c79b-ceeb-43f8-925e-3a07b717c90c",
    "deepnote_cell_type": "markdown",
    "id": "ri5VJnn2hKwM"
   },
   "source": [
    "and we can get specific characters by using `[]` and groups of characters using `:`."
   ]
  },
  {
   "cell_type": "code",
   "execution_count": 25,
   "id": "8f983a96",
   "metadata": {
    "cell_id": "00048-a59e024e-35e7-46e4-9678-d6697d5fbb29",
    "colab": {
     "base_uri": "https://localhost:8080/"
    },
    "deepnote_cell_type": "code",
    "deepnote_to_be_reexecuted": false,
    "executionInfo": {
     "elapsed": 188,
     "status": "ok",
     "timestamp": 1624010017143,
     "user": {
      "displayName": "Sean Courtney",
      "photoUrl": "",
      "userId": "17219612104113445790"
     },
     "user_tz": -60
    },
    "execution_millis": 14,
    "execution_start": 1624631186495,
    "id": "RcdJlFSlhWsO",
    "outputId": "cafcc52d-bfaa-4232-bf2e-42e0c6163a38",
    "source_hash": "aa0ed646"
   },
   "outputs": [
    {
     "name": "stdout",
     "output_type": "stream",
     "text": [
      "h\n"
     ]
    }
   ],
   "source": [
    "word = 'hello'\n",
    "\n",
    "letter = word[0] \n",
    "# notice that in python numbering starts at 0, \n",
    "# this notation will be discussed further in the next section on data structures\n",
    "\n",
    "print(letter)"
   ]
  },
  {
   "cell_type": "markdown",
   "id": "ee569d38",
   "metadata": {
    "cell_id": "00049-abc831f2-1152-4ea6-8542-7c1244ddf1de",
    "deepnote_cell_type": "markdown",
    "id": "tFpeo72VnnXP"
   },
   "source": [
    "| `h` | `e` | `l` | `l` | `o` | `,` | ` ` | `t` | `h` | `i` | `s` | ` ` | `i` | `s` | ` ` | `a` | ` ` | `l` | `o` | `n` | `g` | `e` | `r` | ` ` | `s` | `t` | `r` | `i` | `n` | `g` |\n",
    "| :-: | :-: | :-: | :-: | :-: | :-: | :-: | :-: | :-: | :-: | :-: | :-: | :-: | :-: | :-: | :-: | :-: | :-: | :-: | :-: | :-: | :-: | :-: | :-: | :-: | :-: | :-: | :-: | :-: | :-: | \n",
    "0 | 1 | 2 | 3 | 4 | 5 | 6 | 7 | 8 | 9 | 10 | 11 | 12 | 13 | 14 | 15 | 16 | 17 | 18 | 19 | 20 | 21 | 22 | 23 | 24 | 25 | 26 | 27 | 28 | 29 |"
   ]
  },
  {
   "cell_type": "code",
   "execution_count": 26,
   "id": "35653bc8",
   "metadata": {
    "cell_id": "00050-58af12d9-44e7-481e-a6c3-ce82330447df",
    "colab": {
     "base_uri": "https://localhost:8080/"
    },
    "deepnote_cell_type": "code",
    "deepnote_to_be_reexecuted": false,
    "executionInfo": {
     "elapsed": 205,
     "status": "ok",
     "timestamp": 1624020250587,
     "user": {
      "displayName": "Sean Courtney",
      "photoUrl": "",
      "userId": "17219612104113445790"
     },
     "user_tz": -60
    },
    "execution_millis": 14,
    "execution_start": 1624631186495,
    "id": "OzhzbatVjXF6",
    "outputId": "89464dc8-8739-4439-b43e-1f22b01d84d7",
    "source_hash": "efdd06bc"
   },
   "outputs": [
    {
     "name": "stdout",
     "output_type": "stream",
     "text": [
      "this is\n",
      "\n",
      "\n",
      "hello, this is\n",
      "this is a longer string\n",
      "\n",
      "\n",
      "ti s\n",
      "gnirts regnol a si siht ,olleh\n"
     ]
    }
   ],
   "source": [
    "longer_string = 'hello, this is a longer string'\n",
    "\n",
    "print(longer_string[7:14]) \n",
    "# slices off the section between character 7 (including) \n",
    "# and 14 (not including) \n",
    "\n",
    "print('\\n') # just to seperate our outputs a bit\n",
    "\n",
    "print(longer_string[:14]) \n",
    "print(longer_string[7:]) \n",
    "# if the first or second argument is neglected \n",
    "# the default value will be 0 and the end of \n",
    "# the string respectively.\n",
    "\n",
    "print('\\n')\n",
    "\n",
    "print(longer_string[7:14:2]) # skips every second character, so prints 7, 9, 11, and 13\n",
    "\n",
    "print(longer_string[::-1]) # prints backwards "
   ]
  },
  {
   "cell_type": "markdown",
   "id": "72151e4f",
   "metadata": {
    "cell_id": "00051-1c2f0e05-bda5-48ad-82e4-79bdf9755e58",
    "deepnote_cell_type": "markdown",
    "id": "1ZXwkpZ9JMqN"
   },
   "source": [
    "Finally you can put the words into a list, an object we will discuss in the next section. "
   ]
  },
  {
   "cell_type": "code",
   "execution_count": 27,
   "id": "2a32a997",
   "metadata": {
    "cell_id": "00052-062b08d9-23fe-43c3-9bc7-58a62e8154ef",
    "colab": {
     "base_uri": "https://localhost:8080/"
    },
    "deepnote_cell_type": "code",
    "deepnote_to_be_reexecuted": false,
    "executionInfo": {
     "elapsed": 5,
     "status": "ok",
     "timestamp": 1624020251274,
     "user": {
      "displayName": "Sean Courtney",
      "photoUrl": "",
      "userId": "17219612104113445790"
     },
     "user_tz": -60
    },
    "execution_millis": 11,
    "execution_start": 1624631186499,
    "id": "ynE_xWswJfpi",
    "outputId": "dfb4cf0d-a938-4474-a641-83bf3f906e57",
    "source_hash": "58099c1f"
   },
   "outputs": [
    {
     "name": "stdout",
     "output_type": "stream",
     "text": [
      "['hello,', 'this', 'is', 'a', 'longer', 'string']\n"
     ]
    }
   ],
   "source": [
    "print(longer_string.split())"
   ]
  },
  {
   "cell_type": "markdown",
   "id": "ba53d4b1",
   "metadata": {
    "cell_id": "00053-365d60fb-5370-43b9-a795-baf11959599c",
    "deepnote_cell_type": "markdown",
    "id": "5c66cd7a"
   },
   "source": [
    "## Casting\n",
    "We can change between these classes using the `int()`, `float()`, `complex()`, `bool()`, and `str()` functions. This acts as expected with the Boolean casting operator changing everything to `True` except `False`, `0`, `0.0`, the empty string `''`, and `None` which we will discuss next."
   ]
  },
  {
   "cell_type": "code",
   "execution_count": 28,
   "id": "6984af66",
   "metadata": {
    "cell_id": "00054-0f5881ba-ae3f-4d58-a6f3-6dd614e488ff",
    "colab": {
     "base_uri": "https://localhost:8080/"
    },
    "deepnote_cell_type": "code",
    "deepnote_to_be_reexecuted": false,
    "executionInfo": {
     "elapsed": 216,
     "status": "ok",
     "timestamp": 1623684074450,
     "user": {
      "displayName": "Sean Courtney",
      "photoUrl": "",
      "userId": "17219612104113445790"
     },
     "user_tz": -60
    },
    "execution_millis": 21,
    "execution_start": 1624631186533,
    "id": "5aecf865",
    "outputId": "5febdcbd-4804-49eb-ca4d-240971110968",
    "source_hash": "e99d8f87"
   },
   "outputs": [
    {
     "name": "stdout",
     "output_type": "stream",
     "text": [
      "2.1\n",
      "2\n",
      "2.0\n",
      "(2+0j)\n",
      "(2+0j)\n",
      "<class 'str'>\n",
      "True\n"
     ]
    }
   ],
   "source": [
    "a = 2.1\n",
    "print(a)\n",
    "a = int(a)\n",
    "print(a)\n",
    "a = float(a)\n",
    "print(a)\n",
    "a = complex(a)\n",
    "print(a)\n",
    "a = str(a)\n",
    "print(a)\n",
    "print(type(a))\n",
    "a = bool(a)\n",
    "print(a)"
   ]
  },
  {
   "cell_type": "markdown",
   "id": "4ed81e76",
   "metadata": {
    "cell_id": "00055-d2fa9f7c-3a73-4d44-87db-17c744405e1a",
    "deepnote_cell_type": "markdown",
    "id": "40de7d5e"
   },
   "source": [
    "## None Type\n",
    "Finally we have the null variable (denoted by `None`) which you might see used on occasion. \n",
    "\n",
    "It should be noted what None is not;\n",
    "- `None` is not the same as `False`.\n",
    "- `None` is not `0`.\n",
    "- `None` is not an empty string. "
   ]
  },
  {
   "cell_type": "code",
   "execution_count": 29,
   "id": "5adf6e64",
   "metadata": {
    "cell_id": "00056-8c142e6b-3322-43f1-a980-79abea1b152c",
    "colab": {
     "base_uri": "https://localhost:8080/"
    },
    "deepnote_cell_type": "code",
    "deepnote_to_be_reexecuted": false,
    "executionInfo": {
     "elapsed": 198,
     "status": "ok",
     "timestamp": 1624438207970,
     "user": {
      "displayName": "Sean Courtney",
      "photoUrl": "",
      "userId": "17219612104113445790"
     },
     "user_tz": -60
    },
    "execution_millis": 20,
    "execution_start": 1624631186534,
    "id": "35f18ee8",
    "outputId": "34726ffa-2ef8-4e72-9d32-6f879d927bc7",
    "source_hash": "c8023a2a"
   },
   "outputs": [
    {
     "name": "stdout",
     "output_type": "stream",
     "text": [
      "<class 'NoneType'>\n",
      "False\n",
      "False\n",
      "False\n",
      "True\n"
     ]
    }
   ],
   "source": [
    "print(type(None))\n",
    "print(None == False)\n",
    "print(None == 0)\n",
    "print(None == '')\n",
    "print(None == None)"
   ]
  },
  {
   "cell_type": "markdown",
   "id": "42af3466",
   "metadata": {
    "cell_id": "00057-a433a51c-d542-4ed9-83f9-18e17d321f15",
    "deepnote_cell_type": "markdown",
    "tags": []
   },
   "source": [
    "## Operator Precedence\n",
    "\n",
    "In this section we have discussed variables and different operations (like addition and division) that you can do with them. Often when writing code we require multiple operations to be done. We know from maths that the order of operations is important for example\n",
    "$$ 2 \\times 5 + 3 = 13, $$\n",
    "but\n",
    "$$ 2 \\times (5 + 3) = 16. $$\n",
    "Here we know the order the operations are performed in is determined by the BODMAS (alternatively BIMDAS, BIRDMAS, etc.) rule. In Python operations are performed in the following order.\n",
    "\n",
    "<center>\n",
    "\n",
    "| Operator | Description |\n",
    "| :-: | :-: |\n",
    "| `()` | Parentheses |\n",
    "| `**` | Exponentation |\n",
    "| `+x`, `-x` | positive, negative |\n",
    "| `*`, `/`, `%` | multiplication, division, remainder |\n",
    "| `+`, `-` | adition and subtraction |\n",
    "| `<`, `<=`,  `>`,  `>=`, `!=`, `==` | comparison operations |\n",
    "| `not x` | Boolean NOT |\n",
    "| `and` | Boolean AND |\n",
    "| `or` | Boolean OR |\n",
    "\n",
    "</center>\n",
    "\n",
    "This list is incomplete, one can find a complete one [here](https://www.mathcs.emory.edu/~valerie/courses/fall10/155/resources/op_precedence.html). Consider the following examples of these rules in action "
   ]
  },
  {
   "cell_type": "code",
   "execution_count": 30,
   "id": "eb4bde1c",
   "metadata": {
    "cell_id": "00058-95883763-6b93-4d9f-b43b-f1f84c4ff3b1",
    "colab": {
     "base_uri": "https://localhost:8080/"
    },
    "deepnote_cell_type": "code",
    "deepnote_to_be_reexecuted": false,
    "executionInfo": {
     "elapsed": 7,
     "status": "ok",
     "timestamp": 1624378414278,
     "user": {
      "displayName": "Sean Courtney",
      "photoUrl": "",
      "userId": "17219612104113445790"
     },
     "user_tz": -60
    },
    "execution_millis": 20,
    "execution_start": 1624631186534,
    "id": "p5lKs8fXCoeW",
    "outputId": "1dfa9358-3739-4910-fa9c-583330737d09",
    "source_hash": "c74da29b"
   },
   "outputs": [
    {
     "name": "stdout",
     "output_type": "stream",
     "text": [
      "13\n",
      "13\n",
      "16\n"
     ]
    }
   ],
   "source": [
    "print(2 * 5 + 3) \n",
    "print(3 + 5 * 2) \n",
    "print((3 + 5) * 2) "
   ]
  },
  {
   "cell_type": "code",
   "execution_count": 31,
   "id": "edc2fdc9",
   "metadata": {
    "cell_id": "00059-2398a40a-a46d-48b5-bed9-6b2dfc91dc22",
    "colab": {
     "base_uri": "https://localhost:8080/"
    },
    "deepnote_cell_type": "code",
    "deepnote_to_be_reexecuted": false,
    "executionInfo": {
     "elapsed": 688,
     "status": "ok",
     "timestamp": 1624378414963,
     "user": {
      "displayName": "Sean Courtney",
      "photoUrl": "",
      "userId": "17219612104113445790"
     },
     "user_tz": -60
    },
    "execution_millis": 15351904,
    "execution_start": 1624631186543,
    "id": "glvTdQijLyDv",
    "outputId": "575105c2-050f-4833-f04c-978e2992acc5",
    "source_hash": "329b7f52"
   },
   "outputs": [
    {
     "name": "stdout",
     "output_type": "stream",
     "text": [
      "4.0\n",
      "3.0\n",
      "1.6\n"
     ]
    }
   ],
   "source": [
    "print(3 + 5 / 5) \n",
    "print(3 * 5 / 5)\n",
    "print((3 + 5) / 5) "
   ]
  },
  {
   "cell_type": "code",
   "execution_count": 32,
   "id": "f15e0d5b",
   "metadata": {
    "cell_id": "00060-6a0dca44-6cf9-4738-b291-01e13ddd9853",
    "colab": {
     "base_uri": "https://localhost:8080/"
    },
    "deepnote_cell_type": "code",
    "deepnote_to_be_reexecuted": false,
    "executionInfo": {
     "elapsed": 6,
     "status": "ok",
     "timestamp": 1624378414964,
     "user": {
      "displayName": "Sean Courtney",
      "photoUrl": "",
      "userId": "17219612104113445790"
     },
     "user_tz": -60
    },
    "execution_millis": 15351864,
    "execution_start": 1624631186555,
    "id": "Wj6CHfmhM77f",
    "outputId": "aade13fb-1cf7-48ba-ead8-efc0f2345283",
    "source_hash": "ee4b02ec"
   },
   "outputs": [
    {
     "name": "stdout",
     "output_type": "stream",
     "text": [
      "True\n"
     ]
    }
   ],
   "source": [
    "print(False and not 6+9<10 or True)"
   ]
  },
  {
   "cell_type": "markdown",
   "id": "1763d351",
   "metadata": {
    "cell_id": "00061-cde45253-d9c8-41ba-878b-9e251beb4ecd",
    "deepnote_cell_type": "markdown",
    "id": "9OCACp4YOAqX"
   },
   "source": [
    "In this we had \n",
    "```\n",
    "False and not 6+9<10 or True\n",
    "```\n",
    "There are not brackets, exponents, positives/negatives, multiplication, or division so the addition is done first,\n",
    "```\n",
    "False and not 15<10 or True\n",
    "```\n",
    "The comparison operator is done next giving False,\n",
    "```\n",
    "False and not False or True\n",
    "```\n",
    "The Boolean NOT is then applied,\n",
    "```\n",
    "False and True or True\n",
    "```\n",
    "Then the Boolean AND, \n",
    "```\n",
    "False or True\n",
    "```\n",
    "and finally the Boolean OR,\n",
    "```\n",
    "True\n",
    "```"
   ]
  }
 ],
 "metadata": {
  "colab": {
   "collapsed_sections": [],
   "name": "PyQM_1.2_Variables.ipynb",
   "provenance": [
    {
     "file_id": "1i6IvrxDmYzNKTE8wrYWNWrE1V5k4tYVD",
     "timestamp": 1623684515833
    }
   ]
  },
  "deepnote": {},
  "deepnote_execution_queue": [],
  "deepnote_notebook_id": "ae645cb3-4d67-4d32-ae0e-438ff1f76023",
  "kernelspec": {
   "display_name": "Python 3 (ipykernel)",
   "language": "python",
   "name": "python3"
  },
  "language_info": {
   "codemirror_mode": {
    "name": "ipython",
    "version": 3
   },
   "file_extension": ".py",
   "mimetype": "text/x-python",
   "name": "python",
   "nbconvert_exporter": "python",
   "pygments_lexer": "ipython3",
   "version": "3.9.13"
  }
 },
 "nbformat": 4,
 "nbformat_minor": 5
}
