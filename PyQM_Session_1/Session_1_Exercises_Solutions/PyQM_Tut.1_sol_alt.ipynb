{
 "cells": [
  {
   "cell_type": "markdown",
   "metadata": {},
   "source": [
    "<center>\n",
    "\n",
    "# Python For Quantum Mechanics\n",
    "# Week 1: Tutorial\n",
    "\n",
    "</center>"
   ]
  },
  {
   "cell_type": "markdown",
   "metadata": {
    "cell_id": "00000-d6c3a9b5-275b-4e6f-acbb-871b9aeef66d",
    "deepnote_cell_type": "markdown",
    "tags": []
   },
   "source": [
    "## Exercise 1: Matrix Multiplication\n",
    "\n",
    "Operations on matrices are fundamental to this course. One of the operations is multiplication. You might first think that when multiplying matrices, we multiply element by element, this is NOT the case\n",
    "\n",
    "$$ \\begin{bmatrix}\n",
    "3 & 4 \\\\ 5&6\n",
    "\\end{bmatrix} \\times \\begin{bmatrix}\n",
    "2 & 4 \\\\ 3&3\n",
    "\\end{bmatrix} \\neq \\begin{bmatrix}\n",
    "6 & 16 \\\\ 15&18\n",
    "\\end{bmatrix}$$\n",
    "\n",
    "Instead, the correct result is:\n",
    "\n",
    "$$ \\begin{bmatrix}\n",
    "\\color{blue}{3} & \\color{blue}{4} \\\\ \\color{green}{5}&\\color{green}{6}\n",
    "\\end{bmatrix} \\times \\begin{bmatrix}\n",
    "\\color{red}{2} & \\color{purple}{4} \\\\ \\color{red}{3}&\\color{purple}{3}\n",
    "\\end{bmatrix} = \\begin{bmatrix}\n",
    "18 & 24 \\\\ 28&38\n",
    "\\end{bmatrix}$$\n",
    "\n",
    "How did we arrive at this result? The way in which we calculate the result in the first row and first column(18):\n",
    "Multiply, element-wise, the <span style=\"color: blue\">first-row</span> in the first matrix by the <span style=\"color: red\">first-column</span> in the second matrix, and sum.\n",
    "\n",
    "$$ [1,1] = \\color{blue}{3}(\\color{red}{2}) + \\color{blue}{4}(\\color{red}{3}) = 18 $$\n",
    "\n",
    "The other elements are similarly found by multiplying the corresponding row and column element-wise. For example, the result in the second row and first column, 28, is found by multiplying the elements in the <span style=\"color: green\">second-row</span> of the first matrix by those in the <span style=\"color: red\">first-column</span> of the second matrix, and then summing.\n",
    "\n",
    "$$ [2,1] = \\color{green}{5}(\\color{red}{2}) + \\color{green}{6}(\\color{red}{3}) = 28 $$\n",
    "\n",
    "$$ [1,2] = \\color{blue}{3}(\\color{purple}{4}) + \\color{blue}{4}(\\color{purple}{3}) = 24 $$\n",
    "\n",
    "$$ [2,2] = \\color{green}{5}(\\color{purple}{4}) + \\color{green}{6}(\\color{purple}{3}) = 38 $$\n",
    "\n",
    "We can use nested lists to store the elements of a matrix. Here we use pythons calculator functionality to find the resulting matrix:"
   ]
  },
  {
   "cell_type": "code",
   "execution_count": null,
   "metadata": {
    "cell_id": "00001-fbb6e7a9-048d-4c8f-a1cb-df4f2f02de72",
    "deepnote_cell_type": "code",
    "deepnote_to_be_reexecuted": false,
    "execution_millis": 6,
    "execution_start": 1624959000911,
    "source_hash": "897b7f3e",
    "tags": []
   },
   "outputs": [
    {
     "name": "stdout",
     "output_type": "stream",
     "text": [
      "[[18, 24], [28, 38]] \n",
      "\n",
      "[18, 24]\n",
      "[28, 38]\n"
     ]
    }
   ],
   "source": [
    "result = [[0,0],[0,0]] #Initialise the matrix with zeros\n",
    "\n",
    "result[0][0] = 3*2 + 4*3\n",
    "result[1][0] = 5*2 + 6*3\n",
    "result[0][1] = 3*4 + 4*3\n",
    "result[1][1] = 5*4 + 6*3\n",
    "\n",
    "print(result,'\\n')\n",
    "\n",
    "print(result[0])\n",
    "print(result[1])"
   ]
  },
  {
   "cell_type": "markdown",
   "metadata": {
    "cell_id": "00002-1897b0e1-0971-4515-a2cd-89dbdfac4fe4",
    "deepnote_cell_type": "markdown",
    "tags": []
   },
   "source": [
    "Multiply the following matrices, give the result in a nested list:\n",
    "\n",
    "$$ \\begin{bmatrix}\n",
    "10 & 1 \\\\ 20&2\n",
    "\\end{bmatrix} \\times \\begin{bmatrix}\n",
    "15 & 3 \\\\ 60&10\n",
    "\\end{bmatrix} = \\begin{bmatrix}\n",
    "? & ? \\\\ ?&?\n",
    "\\end{bmatrix}$$"
   ]
  },
  {
   "cell_type": "code",
   "execution_count": null,
   "metadata": {
    "cell_id": "00003-ad3f0ac3-640b-4b01-a3f6-526173fcc6c4",
    "deepnote_cell_type": "code",
    "deepnote_to_be_reexecuted": false,
    "execution_millis": 30,
    "execution_start": 1624958391081,
    "source_hash": "99bf2b94",
    "tags": []
   },
   "outputs": [
    {
     "name": "stdout",
     "output_type": "stream",
     "text": [
      "[[210, 40], [420, 80]]\n"
     ]
    }
   ],
   "source": [
    "result = [[0,0],[0,0]]\n",
    "\n",
    "result[0][0] = 10*15 + 1*60\n",
    "result[1][0] = 20*15 + 2*60\n",
    "result[0][1] = 10*3 + 1*10\n",
    "result[1][1] = 20*3 + 2*10\n",
    "\n",
    "print(result)"
   ]
  },
  {
   "cell_type": "markdown",
   "metadata": {
    "cell_id": "00004-efead9d6-1a85-4f85-b32e-ce60eb87b4fb",
    "deepnote_cell_type": "markdown",
    "tags": []
   },
   "source": [
    "An important thing to note about matrix multiplication is that the order in which you multiply the matrices matters. While in conventional multiplication of numbers, $3\\times4 = 4 \\times 3$, this is not necessarily true for matrices\n",
    "\n",
    "$$A \\times B \\neq B \\times A$$\n",
    "\n",
    "Lets multiply the above matrices in reverse order\n",
    "\n",
    "$$ \\begin{bmatrix}\n",
    "15 & 3 \\\\ 60&10\n",
    "\\end{bmatrix} \\times \\begin{bmatrix}\n",
    "10 & 1 \\\\ 20&2\n",
    "\\end{bmatrix}= \\begin{bmatrix}\n",
    "? & ? \\\\ ?&?\n",
    "\\end{bmatrix}$$\n",
    "\n",
    "compare your answer to the previous result, printing a boolean value."
   ]
  },
  {
   "cell_type": "code",
   "execution_count": null,
   "metadata": {
    "cell_id": "00005-33354015-01cf-4513-92a6-01f299222c05",
    "deepnote_cell_type": "code",
    "deepnote_to_be_reexecuted": false,
    "execution_millis": 51,
    "execution_start": 1624957808562,
    "source_hash": "162dbf0e",
    "tags": []
   },
   "outputs": [
    {
     "name": "stdout",
     "output_type": "stream",
     "text": [
      "[[210, 21], [800, 80]]\n",
      "False\n"
     ]
    }
   ],
   "source": [
    "result2 = [[0,0],[0,0]]\n",
    "\n",
    "result2[0][0] = 15*10 + 3*20\n",
    "result2[1][0] = 60*10 + 10*20\n",
    "result2[0][1] = 15*1 + 3*2\n",
    "result2[1][1] = 60*1 + 10*2\n",
    "\n",
    "print(result2)\n",
    "print(result==result2)"
   ]
  },
  {
   "cell_type": "markdown",
   "metadata": {
    "cell_id": "00006-24d9e2fa-a551-4bbf-bb9f-f89b80e58049",
    "deepnote_cell_type": "markdown",
    "tags": []
   },
   "source": [
    "Another important facet of matrix multiplication is the dimensions of each matrix. The number of columns in the first matrix must be the same as the number of rows in the second matrix. So we CAN multiply the following matrices:\n",
    "\n",
    "$$ \\begin{bmatrix}\n",
    "3 & 4 \n",
    "\\end{bmatrix} \\times \\begin{bmatrix}\n",
    "2 & 4 & 7\\\\ 3&3& 4\n",
    "\\end{bmatrix} = \\begin{bmatrix}\n",
    "18 & 24 & 37\n",
    "\\end{bmatrix}$$\n",
    "\n",
    "\n",
    "The resulting matrix has the same number of rows as the first matrix and the same number of columns as the second matrix. \n",
    "\n",
    "We CANNOT multiply these matrices:\n",
    "\n",
    "$$ \\begin{bmatrix}\n",
    "2 & 4 & 7\\\\ 3&3& 4\n",
    "\\end{bmatrix} \\times \\begin{bmatrix}\n",
    "3 & 4 \n",
    "\\end{bmatrix} =\\ \\text{?}$$\n",
    "\n",
    "This can all be summarised in the following expression:\n",
    "$$(\\text{row}_1,\\text{column}_1) \\times (\\text{row}_2,\\text{column}_2) = (\\text{row}_1,\\text{column}_2)$$\n",
    "where\n",
    "$$\\text{column}_1 = \\text{row}_2$$"
   ]
  },
  {
   "cell_type": "markdown",
   "metadata": {
    "cell_id": "00007-76d95b2f-9915-498a-85d4-5be0f6f23cfc",
    "deepnote_cell_type": "markdown",
    "tags": []
   },
   "source": [
    "A common multiplication we will see is that of a $2\\times 2$ matrix by a $2\\times 1$ vector. Note that the number of columns in the first matrix is the same as the number of rows in the second matrix/vector. \n",
    "\n",
    "$$ \\begin{bmatrix}\n",
    "3 & 4 \\\\ 5&6\n",
    "\\end{bmatrix} \\times \\begin{bmatrix}\n",
    "2 \\\\ 3\n",
    "\\end{bmatrix} = \\begin{bmatrix}\n",
    "18 \\\\ 28\n",
    "\\end{bmatrix}$$\n",
    "\n",
    "The result is a vector/matrix with the same number of rows as the first matrix and columns as the second matrix.\n",
    "\n",
    "Multiply the following matrix and vector. Print the answer in a list.\n",
    "\n",
    "$$ \\begin{bmatrix}\n",
    "0 & 1 \\\\ 1&0\n",
    "\\end{bmatrix} \\times \\begin{bmatrix}\n",
    "1 \\\\ 0\n",
    "\\end{bmatrix} = \\begin{bmatrix}\n",
    "? \\\\ ?\n",
    "\\end{bmatrix}$$"
   ]
  },
  {
   "cell_type": "code",
   "execution_count": null,
   "metadata": {
    "cell_id": "00007-2ab655f3-150b-44da-bbc5-9afb0d6e9865",
    "deepnote_cell_type": "code",
    "deepnote_to_be_reexecuted": false,
    "execution_millis": 77,
    "execution_start": 1624957808605,
    "source_hash": "90c42a73",
    "tags": []
   },
   "outputs": [
    {
     "name": "stdout",
     "output_type": "stream",
     "text": [
      "[0, 1]\n"
     ]
    }
   ],
   "source": [
    "result = [0,0]\n",
    "\n",
    "result[0] = 0*1 + 1*0\n",
    "result[1] = 1*1 + 0*0\n",
    "\n",
    "print(result)"
   ]
  },
  {
   "cell_type": "markdown",
   "metadata": {
    "cell_id": "00009-a57d1fe9-d991-44c9-a3f4-c12d34778d85",
    "deepnote_cell_type": "markdown",
    "tags": []
   },
   "source": [
    "## Exercise 2: Matrix Addition/Subtraction\n",
    "\n",
    "Matrix addition is much more straightforward. Elements are added element-wise. So\n",
    "\n",
    "$$ \\begin{bmatrix}\n",
    "1 & 2 \\\\ 3&4\n",
    "\\end{bmatrix} + \\begin{bmatrix}\n",
    "5 & 6 \\\\ 7&8\n",
    "\\end{bmatrix} = \\begin{bmatrix}\n",
    "6 & 8 \\\\ 10&12\n",
    "\\end{bmatrix}$$\n",
    "\n",
    "Add the following matrices, store the result in a nested list.\n",
    "\n",
    "$$ \\begin{bmatrix}\n",
    "10 & 100,000 \\\\ -20&7\n",
    "\\end{bmatrix} + \\begin{bmatrix} 8 & 6 \\\\ 7&8i\n",
    "\\end{bmatrix} = \\begin{bmatrix}\n",
    "? & ? \\\\ ?&?\n",
    "\\end{bmatrix}$$"
   ]
  },
  {
   "cell_type": "code",
   "execution_count": null,
   "metadata": {
    "cell_id": "00010-0dce20b9-e439-48c6-9195-8e539bf6fd5a",
    "deepnote_cell_type": "code",
    "deepnote_to_be_reexecuted": false,
    "execution_millis": 19,
    "execution_start": 1624957808663,
    "source_hash": "444b67da",
    "tags": []
   },
   "outputs": [
    {
     "name": "stdout",
     "output_type": "stream",
     "text": [
      "[[18, 100006], [-13, (7+8j)]]\n"
     ]
    }
   ],
   "source": [
    "result = [[0,0],[0,0]]\n",
    "\n",
    "result[0][0] = 10 + 8\n",
    "result[1][0] = -20 + 7\n",
    "result[0][1] = 100000 + 6\n",
    "result[1][1] = 7 + 8j\n",
    "\n",
    "print(result)"
   ]
  },
  {
   "cell_type": "markdown",
   "metadata": {
    "cell_id": "00011-7bf601bd-6235-4955-95ee-d7ad30484009",
    "deepnote_cell_type": "markdown",
    "tags": []
   },
   "source": [
    "## Exercise 3: Scalar Multiplication Of Matrix\n",
    "\n",
    "We can multiply a scalar(integer, real, complex) by a matrix. We simply multiply all the elements, of the matrix, by the scalar.\n",
    "\n",
    "$$ 4.5 \\times\n",
    " \\begin{bmatrix}\n",
    "5 & 6 \\\\ 7&8\n",
    "\\end{bmatrix} = \\begin{bmatrix}\n",
    "22.5 & 27 \\\\ 31.5&36\n",
    "\\end{bmatrix}$$\n",
    "\n",
    "The order of multiplication doesn't matter. So \n",
    "\n",
    "$$ \n",
    " \\begin{bmatrix}\n",
    "5 & 6 \\\\ 7&8\n",
    "\\end{bmatrix}\\times 4.5 = \\begin{bmatrix}\n",
    "22.5 & 27 \\\\ 31.5&36\n",
    "\\end{bmatrix}$$\n",
    "\n",
    "Multiply the following scalar and matrix, store and print the answer in a nested list\n",
    "\n",
    "$$ 3.14 \\times\n",
    " \\begin{bmatrix}\n",
    "4+10i & -200 \\\\ 7.3 & 10101\n",
    "\\end{bmatrix} = \\begin{bmatrix}\n",
    "? & ? \\\\ ?&?\n",
    "\\end{bmatrix}$$"
   ]
  },
  {
   "cell_type": "code",
   "execution_count": null,
   "metadata": {
    "cell_id": "00012-98c4fcbb-bd69-48ac-b6e5-d3f7019085c5",
    "deepnote_cell_type": "code",
    "deepnote_to_be_reexecuted": false,
    "execution_millis": 6,
    "execution_start": 1624957808691,
    "source_hash": "26233492",
    "tags": []
   },
   "outputs": [
    {
     "name": "stdout",
     "output_type": "stream",
     "text": [
      "[[(12.56+31.400000000000002j), -628.0], [22.922, 31717.140000000003]]\n"
     ]
    }
   ],
   "source": [
    "result = [[0,0],[0,0]]\n",
    "\n",
    "result[0][0] = 3.14*(4+10j)\n",
    "result[1][0] = 3.14*(7.3)\n",
    "result[0][1] = 3.14*(-200)\n",
    "result[1][1] = 3.14*(10101)\n",
    "\n",
    "print(result)"
   ]
  },
  {
   "cell_type": "markdown",
   "metadata": {
    "cell_id": "00013-66aa79c9-95bc-48fc-ab4c-bf009ed9f32f",
    "deepnote_cell_type": "markdown",
    "tags": []
   },
   "source": [
    "## Exercise 4: Matrix Inverse & Determinant\n",
    "\n",
    "We have covered multiplication and addition/subtraction, but what about division? To understand matrix division, we must recall the concept of the multiplicative inverse. We can re-interpret division of numbers as multiplying by an inverse. For example:\n",
    "\n",
    "$$ \\frac{80}{8} = 80 \\times \\frac{1}{8} = 80 \\times 8^{-1} = 10 $$\n",
    "\n",
    "So dividing by a number is the same as multiplying by it's inverse. The same can be said for matrices. And we already know how to multiply matrices.\n",
    "\n",
    "$$\\frac{A}{B} = A \\times B^{-1}$$\n",
    "\n",
    "But how do we find the inverse of a matrix? Well with regular numbers, the inverse of a number when multiplyed by said number gives the value 1.\n",
    "\n",
    "$$8\\times 8^{-1} = 1$$\n",
    "\n",
    "The same is true for matrices, but we get the identity matrix rather than 1. The identity matrix is an $n\\times n$ matrix with $1$s on the diagonal and $0$s everywhere else.  So for two-dimensional matrices:\n",
    "\n",
    "$$A\\times A^{-1}=A^{-1}\\times A =\\mathbb{1} = \\begin{bmatrix}\n",
    "1 & 0 \\\\ 0&1\n",
    "\\end{bmatrix}$$\n",
    "\n",
    "It is still not clear how we actually find the inverse, but we know what it should do. It turns out this is quite a complicated procedure, especially when we look at higher-dimensional matrices. For this reason we will only look at $2\\times 2$ matrices.\n",
    "\n",
    "$$ A =  \\begin{bmatrix}\n",
    "a & b \\\\ c&d\n",
    "\\end{bmatrix} $$\n",
    "\n",
    "$$ A^{-1} =\\frac{1}{ad-bc}  \\begin{bmatrix}\n",
    "d & -b \\\\ -c&a\n",
    "\\end{bmatrix} $$\n",
    "\n",
    "Lets do an example. Take the matrix \n",
    "\n",
    "$$A = \\begin{bmatrix}\n",
    "1 & 2 \\\\ 3&4\n",
    "\\end{bmatrix}$$\n",
    "\n",
    "Then\n",
    "\n",
    "$$A^{-1} =\\frac{1}{1(4)-3(2)} \\begin{bmatrix}\n",
    "4 & -2 \\\\ -3&1\n",
    "\\end{bmatrix} = \\begin{bmatrix}\n",
    "-2 & 1 \\\\ \\frac{3}{2}&-\\frac{1}{2}\n",
    "\\end{bmatrix}$$\n",
    "\n",
    "And multiplying \n",
    "\n",
    "$$ A\\times A^{-1}=\n",
    "\\begin{bmatrix}\n",
    "1 & 2 \\\\ 3&4\n",
    "\\end{bmatrix} \\times \\begin{bmatrix}\n",
    "-2 & 1 \\\\ \\frac{3}{2}&-\\frac{1}{2}\n",
    "\\end{bmatrix} =  \\begin{bmatrix}\n",
    "-2+3 & 1-1 \\\\ -6+6&3-2\n",
    "\\end{bmatrix} = \\begin{bmatrix}\n",
    "1 & 0 \\\\ 0&1\n",
    "\\end{bmatrix} = \\mathbb{1}$$\n",
    "\n",
    "Similarly,\n",
    "\n",
    "$$A^{-1}\\times A=\\mathbb{1}$$\n",
    "\n",
    "The factor $ad-bc$ is called the determinant.\n",
    "\n",
    "$$det(A) = ad - bc $$\n",
    "\n",
    "Notice that if this value is $0$ then we cannot find the inverse, so some matrices are not invertible! For example\n",
    "\n",
    "$$C = \\begin{bmatrix}\n",
    "1 & 1 \\\\ 1&1\n",
    "\\end{bmatrix}$$\n",
    "\n",
    "has determinant\n",
    "\n",
    "$$det(C) = 1\\times 1 - 1\\times 1 = 0$$\n",
    "\n",
    "$$C^{-1}= ?$$\n",
    "\n",
    "Take the matrix\n",
    "\n",
    "$$A = \\begin{bmatrix}\n",
    "3.14 & 42 \\\\ 2.71&11\n",
    "\\end{bmatrix}$$\n",
    "\n",
    "Find and print it's determinant, then find and print it's inverse, storing it in a nested list."
   ]
  },
  {
   "cell_type": "code",
   "execution_count": null,
   "metadata": {
    "cell_id": "00014-7a27389e-ed6d-48c6-988f-05cd08ae2eb4",
    "deepnote_cell_type": "code",
    "deepnote_to_be_reexecuted": false,
    "execution_millis": 13,
    "execution_start": 1624957808692,
    "source_hash": "bc5cd43d",
    "tags": []
   },
   "outputs": [
    {
     "name": "stdout",
     "output_type": "stream",
     "text": [
      "det(A) =  127.51689999999999\n",
      "Ainv =  [[0.3293681072861715, -0.02125208501775059], [-0.012625777445969908, 0.024624187068537584]]\n"
     ]
    }
   ],
   "source": [
    "A = [[3.14,2.71],[1.61,42]]\n",
    "\n",
    "detA = A[0][0]*A[1][1] - A[0][1]*A[1][0]\n",
    "print('det(A) = ',detA)\n",
    "\n",
    "Ainv = [[0,0],[0,0]]\n",
    "\n",
    "Ainv[0][0] = A[1][1]/detA\n",
    "Ainv[1][0] = -A[1][0]/detA\n",
    "Ainv[0][1] = -A[0][1]/detA\n",
    "Ainv[1][1] = A[0][0]/detA\n",
    "\n",
    "print('Ainv = ', Ainv)"
   ]
  },
  {
   "cell_type": "markdown",
   "metadata": {
    "cell_id": "00015-084f7b6e-7dd9-405b-8792-2d1f2b25acbe",
    "deepnote_cell_type": "markdown",
    "tags": []
   },
   "source": [
    "Now multiply the matrices $A\\times A^{-1}$, store the result in a nested list and print it."
   ]
  },
  {
   "cell_type": "code",
   "execution_count": null,
   "metadata": {
    "cell_id": "00016-a1c9d0f3-4e74-49fc-95a7-d64f44672005",
    "deepnote_cell_type": "code",
    "deepnote_to_be_reexecuted": false,
    "execution_millis": 22,
    "execution_start": 1624957808703,
    "source_hash": "fe255d1d",
    "tags": []
   },
   "outputs": [
    {
     "name": "stdout",
     "output_type": "stream",
     "text": [
      "[[1.0000000000000002, 0.0], [0.0, 1.0]]\n"
     ]
    }
   ],
   "source": [
    "result = [[0,0],[0,0]] #Initialise the matrix with zeros\n",
    "\n",
    "result[0][0] = A[0][0]*Ainv[0][0] + A[0][1]*Ainv[1][0]\n",
    "result[1][0] = A[1][0]*Ainv[0][0] + A[1][1]*Ainv[1][0]\n",
    "result[0][1] = A[0][0]*Ainv[0][1] + A[0][1]*Ainv[1][1]\n",
    "result[1][1] = A[1][0]*Ainv[0][1] + A[1][1]*Ainv[1][1]\n",
    "\n",
    "print(result)"
   ]
  }
 ],
 "metadata": {
  "deepnote": {
   "is_reactive": false
  },
  "deepnote_execution_queue": [],
  "deepnote_notebook_id": "eb07da20-6aaf-4886-88b4-49188e0c1ab1",
  "kernelspec": {
   "display_name": "Python 3 (ipykernel)",
   "language": "python",
   "name": "python3"
  },
  "language_info": {
   "codemirror_mode": {
    "name": "ipython",
    "version": 3
   },
   "file_extension": ".py",
   "mimetype": "text/x-python",
   "name": "python",
   "nbconvert_exporter": "python",
   "pygments_lexer": "ipython3",
   "version": "3.9.6"
  }
 },
 "nbformat": 4,
 "nbformat_minor": 2
}
