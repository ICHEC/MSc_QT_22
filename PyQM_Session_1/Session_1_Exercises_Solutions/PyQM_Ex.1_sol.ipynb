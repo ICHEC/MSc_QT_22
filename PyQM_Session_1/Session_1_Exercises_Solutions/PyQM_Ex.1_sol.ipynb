{
 "cells": [
  {
   "cell_type": "markdown",
   "metadata": {
    "cell_id": "00000-f05399c9-7c7f-4749-bf43-76a5f8022deb",
    "deepnote_cell_type": "markdown",
    "tags": []
   },
   "source": [
    "<center>\n",
    "    \n",
    "# Python For Quantum Mechanics\n",
    "# Week 1: Excercises\n",
    "    \n",
    "</center>"
   ]
  },
  {
   "cell_type": "markdown",
   "metadata": {},
   "source": [
    "## Excercise 1: Energy Levels of Hydrogen"
   ]
  },
  {
   "cell_type": "code",
   "execution_count": 1,
   "metadata": {
    "cell_id": "00001-46c834af-99f3-47f5-be8e-a298939f9b64",
    "deepnote_cell_type": "code",
    "deepnote_to_be_reexecuted": false,
    "execution_millis": 5,
    "execution_start": 1624620212973,
    "id": "08ToGxEG2Iab",
    "source_hash": "d1334db6"
   },
   "outputs": [],
   "source": [
    "h = 6.62607015e-34\n",
    "c = 299792458\n",
    "pi = 3.14159265359\n",
    "hbar = h/(2 * pi)\n",
    "e = 1.602176634e-19\n",
    "me = 9.10938370e-31\n",
    "ep0 = 8.85418781e-12"
   ]
  },
  {
   "cell_type": "markdown",
   "metadata": {
    "cell_id": "00008-79583f4d-ffdf-4b07-89c2-4f266e000523",
    "deepnote_cell_type": "markdown",
    "id": "q0VdN_WgMZi3"
   },
   "source": [
    "Use these to calculate the Bohr radius,\n",
    "$$a_0 = \\frac{\\hbar}{m_e c \\alpha} $$"
   ]
  },
  {
   "cell_type": "code",
   "execution_count": null,
   "metadata": {
    "cell_id": "00009-34d361f4-4e33-45e5-8258-9bca5c3fdb3e",
    "colab": {
     "base_uri": "https://localhost:8080/"
    },
    "deepnote_cell_type": "code",
    "deepnote_to_be_reexecuted": false,
    "executionInfo": {
     "elapsed": 41,
     "status": "ok",
     "timestamp": 1623947222801,
     "user": {
      "displayName": "Sean Courtney",
      "photoUrl": "",
      "userId": "17219612104113445790"
     },
     "user_tz": -60
    },
    "execution_millis": 5,
    "execution_start": 1624620213017,
    "id": "OxSOoGnMMZi8",
    "outputId": "99c79b33-65a1-4218-d735-9a8861feeeb6",
    "source_hash": "fb43f0e5"
   },
   "outputs": [
    {
     "name": "stdout",
     "output_type": "stream",
     "text": [
      "5.291772108258438e-11\n"
     ]
    }
   ],
   "source": [
    "a0 = hbar/(me*c*alph)\n",
    "print(a0)"
   ]
  },
  {
   "cell_type": "markdown",
   "metadata": {
    "cell_id": "00010-9c9ed130-edb5-4139-b676-ae5c39cf58d8",
    "deepnote_cell_type": "markdown",
    "id": "FVHZwjAm-ogG"
   },
   "source": [
    "The energy of the $n$-th is given by\n",
    "$$ E_n = - \\frac{e^2}{8 \\pi \\varepsilon_0 a_0 n^2} = \\frac{E_1}{n^2} $$\n",
    "Make a variable for the $n=1$ energy level.\n",
    "<img src=\"images/Energy_Levels.png\" alt=\"two dice\" width=\"500\"/>"
   ]
  },
  {
   "cell_type": "code",
   "execution_count": null,
   "metadata": {
    "cell_id": "00011-175012e8-4132-4eb6-adfe-d9501c093d3a",
    "deepnote_cell_type": "code",
    "deepnote_to_be_reexecuted": false,
    "execution_millis": 13,
    "execution_start": 1624620213018,
    "id": "-MhB23Fs-Z6l",
    "source_hash": "ee42086f"
   },
   "outputs": [],
   "source": [
    "E1 = - e **2/(8*pi*ep0*a0)"
   ]
  },
  {
   "cell_type": "markdown",
   "metadata": {
    "cell_id": "00012-28d964b0-984a-4bcf-804e-c61b061a17b4",
    "deepnote_cell_type": "markdown",
    "id": "nkrjiEcmPDRw"
   },
   "source": [
    "Change to electron volts (eV) by deviding by $e$."
   ]
  },
  {
   "cell_type": "code",
   "execution_count": null,
   "metadata": {
    "cell_id": "00013-5007552a-e68b-438a-92b8-50ec9d157b60",
    "deepnote_cell_type": "code",
    "deepnote_to_be_reexecuted": false,
    "execution_start": 1624620213019,
    "id": "NVg_NsZoPCmU",
    "source_hash": "d7b616a"
   },
   "outputs": [],
   "source": [
    "E1 = E1/e"
   ]
  },
  {
   "cell_type": "markdown",
   "metadata": {
    "cell_id": "00014-5890584c-5bd0-47ab-a06d-d560568f1f0f",
    "deepnote_cell_type": "markdown",
    "id": "C7MFXI8PCQSB"
   },
   "source": [
    "Make a list with this as the only element to store the energy levels."
   ]
  },
  {
   "cell_type": "code",
   "execution_count": null,
   "metadata": {
    "cell_id": "00015-36b44129-3176-429d-bd9e-2a80fceb0c5c",
    "deepnote_cell_type": "code",
    "deepnote_to_be_reexecuted": false,
    "execution_start": 1624620213042,
    "id": "zT7pTXwDCMgZ",
    "source_hash": "e25ca05f"
   },
   "outputs": [],
   "source": [
    "E_levels = [E1]"
   ]
  },
  {
   "cell_type": "markdown",
   "metadata": {
    "cell_id": "00016-0a9c8bc8-0a3d-40aa-832e-c3ca62a114df",
    "deepnote_cell_type": "markdown",
    "id": "glAtccwpDMSx"
   },
   "source": [
    "Append this list with the next 5 values for $n$."
   ]
  },
  {
   "cell_type": "code",
   "execution_count": null,
   "metadata": {
    "cell_id": "00017-d9694660-e39a-40a1-8092-ecda0f887781",
    "deepnote_cell_type": "code",
    "deepnote_to_be_reexecuted": false,
    "execution_start": 1624620213043,
    "id": "Si3MDtIHDBsC",
    "source_hash": "f5692a26"
   },
   "outputs": [],
   "source": [
    "n=2\n",
    "\n",
    "E_levels.append(E1/(n**2))"
   ]
  },
  {
   "cell_type": "code",
   "execution_count": null,
   "metadata": {
    "cell_id": "00018-a7b503e5-41fd-4b3c-862e-6204a4ebadd2",
    "deepnote_cell_type": "code",
    "deepnote_to_be_reexecuted": false,
    "execution_start": 1624620213044,
    "id": "JGDlhQ1RDkxd",
    "source_hash": "5d139f76"
   },
   "outputs": [],
   "source": [
    "n=3\n",
    "\n",
    "E_levels.append(E1/(n**2))"
   ]
  },
  {
   "cell_type": "code",
   "execution_count": null,
   "metadata": {
    "cell_id": "00019-7957fc05-8f89-49e0-a55b-b959b191e945",
    "deepnote_cell_type": "code",
    "deepnote_to_be_reexecuted": false,
    "execution_start": 1624620213044,
    "id": "DZvTSZELDnWK",
    "source_hash": "643c5cb1"
   },
   "outputs": [],
   "source": [
    "n=4\n",
    "\n",
    "E_levels.append(E1/(n**2))"
   ]
  },
  {
   "cell_type": "code",
   "execution_count": null,
   "metadata": {
    "cell_id": "00020-6803e9c5-dc55-4c77-a296-5b143fa12e6f",
    "deepnote_cell_type": "code",
    "deepnote_to_be_reexecuted": false,
    "execution_start": 1624620213048,
    "id": "WcAK0DioDqrz",
    "source_hash": "a5d8b972"
   },
   "outputs": [],
   "source": [
    "n=5\n",
    "\n",
    "E_levels.append(E1/(n**2))"
   ]
  },
  {
   "cell_type": "code",
   "execution_count": null,
   "metadata": {
    "cell_id": "00021-7a539749-8cba-4f33-9c78-3fa80af05d74",
    "deepnote_cell_type": "code",
    "deepnote_to_be_reexecuted": false,
    "execution_start": 1624620213086,
    "id": "sb0QhKgYDr6G",
    "source_hash": "1e64c646"
   },
   "outputs": [],
   "source": [
    "n=6\n",
    "\n",
    "E_levels.append(E1/(n**2))"
   ]
  },
  {
   "cell_type": "code",
   "execution_count": null,
   "metadata": {
    "cell_id": "00022-ff92cb6c-77d5-4f63-947e-b755af00fef4",
    "colab": {
     "base_uri": "https://localhost:8080/"
    },
    "deepnote_cell_type": "code",
    "deepnote_to_be_reexecuted": false,
    "executionInfo": {
     "elapsed": 38,
     "status": "ok",
     "timestamp": 1623947222807,
     "user": {
      "displayName": "Sean Courtney",
      "photoUrl": "",
      "userId": "17219612104113445790"
     },
     "user_tz": -60
    },
    "execution_millis": 26,
    "execution_start": 1624620213086,
    "id": "t_fTcdMoD6ES",
    "outputId": "72afc770-d661-479d-a09b-56a9f1c7ac5c",
    "source_hash": "af1066fb"
   },
   "outputs": [
    {
     "name": "stdout",
     "output_type": "stream",
     "text": [
      "[-13.605693129250625, -3.4014232823126562, -1.5117436810278473, -0.8503558205781641, -0.544227725170025, -0.3779359202569618]\n"
     ]
    }
   ],
   "source": [
    "print(E_levels)"
   ]
  },
  {
   "cell_type": "code",
   "execution_count": null,
   "metadata": {
    "cell_id": "00023-c4d63782-8a6a-43cf-8cc2-85014f4905a5",
    "colab": {
     "base_uri": "https://localhost:8080/"
    },
    "deepnote_cell_type": "code",
    "deepnote_to_be_reexecuted": false,
    "executionInfo": {
     "elapsed": 36,
     "status": "ok",
     "timestamp": 1623947222808,
     "user": {
      "displayName": "Sean Courtney",
      "photoUrl": "",
      "userId": "17219612104113445790"
     },
     "user_tz": -60
    },
    "execution_millis": 25,
    "execution_start": 1624620213087,
    "id": "mguE8ZqxNSfl",
    "outputId": "7829c00f-97f9-438a-91fd-eea5b17c1984",
    "source_hash": "9ab0f7a9"
   },
   "outputs": [
    {
     "data": {
      "text/plain": [
       "-8.492005713054623e+19"
      ]
     },
     "execution_count": 15,
     "metadata": {},
     "output_type": "execute_result"
    }
   ],
   "source": [
    "E_levels[0]/e"
   ]
  },
  {
   "cell_type": "markdown",
   "metadata": {
    "cell_id": "00024-dffeea35-424b-48a7-ac5a-8df589daf6b5",
    "deepnote_cell_type": "markdown",
    "id": "QkqISAMCDwgN"
   },
   "source": [
    "Cast this list into a set to remove any dubplicates you may have created."
   ]
  },
  {
   "cell_type": "code",
   "execution_count": null,
   "metadata": {
    "cell_id": "00025-eac5784a-60d0-4fd4-aff6-e5b77393a286",
    "colab": {
     "base_uri": "https://localhost:8080/"
    },
    "deepnote_cell_type": "code",
    "deepnote_to_be_reexecuted": false,
    "executionInfo": {
     "elapsed": 36,
     "status": "ok",
     "timestamp": 1623947222811,
     "user": {
      "displayName": "Sean Courtney",
      "photoUrl": "",
      "userId": "17219612104113445790"
     },
     "user_tz": -60
    },
    "execution_millis": 24,
    "execution_start": 1624620213088,
    "id": "lPZoPF5JDt2O",
    "outputId": "610b5277-40ae-4ec7-fa41-1e4713d0b428",
    "source_hash": "423b15a9"
   },
   "outputs": [
    {
     "name": "stdout",
     "output_type": "stream",
     "text": [
      "{-0.8503558205781641, -0.544227725170025, -0.3779359202569618, -13.605693129250625, -3.4014232823126562, -1.5117436810278473}\n"
     ]
    }
   ],
   "source": [
    "E_levels = set(E_levels)\n",
    "print(E_levels)"
   ]
  },
  {
   "cell_type": "markdown",
   "metadata": {
    "cell_id": "00026-973403b9-8394-4994-8e91-2bcf2b4705ec",
    "deepnote_cell_type": "markdown",
    "id": "j0xqWTfLEEBX"
   },
   "source": [
    "Now cast back into a list."
   ]
  },
  {
   "cell_type": "code",
   "execution_count": null,
   "metadata": {
    "cell_id": "00027-b6c56094-9036-4f12-8ba8-b2f20d043ec8",
    "colab": {
     "base_uri": "https://localhost:8080/"
    },
    "deepnote_cell_type": "code",
    "deepnote_to_be_reexecuted": false,
    "executionInfo": {
     "elapsed": 35,
     "status": "ok",
     "timestamp": 1623947222812,
     "user": {
      "displayName": "Sean Courtney",
      "photoUrl": "",
      "userId": "17219612104113445790"
     },
     "user_tz": -60
    },
    "execution_millis": 14,
    "execution_start": 1624620213101,
    "id": "_GIYBfoJEDIu",
    "outputId": "bba5f854-f88d-47c3-9aea-fc2c935ae73a",
    "source_hash": "c55582c5"
   },
   "outputs": [
    {
     "name": "stdout",
     "output_type": "stream",
     "text": [
      "[-0.8503558205781641, -0.544227725170025, -0.3779359202569618, -13.605693129250625, -3.4014232823126562, -1.5117436810278473]\n"
     ]
    }
   ],
   "source": [
    "E_levels = list(E_levels)\n",
    "print(E_levels)"
   ]
  },
  {
   "cell_type": "markdown",
   "metadata": {
    "cell_id": "00028-0c4c35e4-4bfa-48c4-b392-9d5b6280fc70",
    "deepnote_cell_type": "markdown",
    "id": "Ei7C6NgxE2tE"
   },
   "source": [
    "Sort the list."
   ]
  },
  {
   "cell_type": "code",
   "execution_count": null,
   "metadata": {
    "cell_id": "00029-3810b44a-78f8-4422-adf1-c5e55751d304",
    "colab": {
     "base_uri": "https://localhost:8080/"
    },
    "deepnote_cell_type": "code",
    "deepnote_to_be_reexecuted": false,
    "executionInfo": {
     "elapsed": 33,
     "status": "ok",
     "timestamp": 1623947222812,
     "user": {
      "displayName": "Sean Courtney",
      "photoUrl": "",
      "userId": "17219612104113445790"
     },
     "user_tz": -60
    },
    "execution_millis": 0,
    "execution_start": 1624620213132,
    "id": "FxhPiXuAEvhJ",
    "outputId": "1a45d882-4d08-48df-c3e8-e4ef94306c29",
    "source_hash": "e70aada4"
   },
   "outputs": [
    {
     "name": "stdout",
     "output_type": "stream",
     "text": [
      "[-13.605693129250625, -3.4014232823126562, -1.5117436810278473, -0.8503558205781641, -0.544227725170025, -0.3779359202569618]\n"
     ]
    }
   ],
   "source": [
    "E_levels.sort()\n",
    "print(E_levels)"
   ]
  },
  {
   "cell_type": "markdown",
   "metadata": {
    "cell_id": "00030-8e51d124-7e9a-4256-938f-c0f5951273f9",
    "deepnote_cell_type": "markdown",
    "id": "og6k7lZfFIk4"
   },
   "source": [
    "This is however in the reverse order to what we want so reverse it."
   ]
  },
  {
   "cell_type": "code",
   "execution_count": null,
   "metadata": {
    "cell_id": "00031-155d490a-85af-440e-96bf-acfa570cb77f",
    "colab": {
     "base_uri": "https://localhost:8080/"
    },
    "deepnote_cell_type": "code",
    "deepnote_to_be_reexecuted": false,
    "executionInfo": {
     "elapsed": 32,
     "status": "ok",
     "timestamp": 1623947222813,
     "user": {
      "displayName": "Sean Courtney",
      "photoUrl": "",
      "userId": "17219612104113445790"
     },
     "user_tz": -60
    },
    "execution_millis": 3,
    "execution_start": 1624620213133,
    "id": "dfMIznH-FEBh",
    "outputId": "18a76d48-fb7b-4af6-c3e8-81efc6e25d58",
    "source_hash": "156a1dbf"
   },
   "outputs": [
    {
     "name": "stdout",
     "output_type": "stream",
     "text": [
      "-0.544227725170025\n"
     ]
    }
   ],
   "source": [
    "E_levels.reverse()\n",
    "print(E_levels[1])"
   ]
  },
  {
   "cell_type": "markdown",
   "metadata": {
    "cell_id": "00032-7e61f9f0-c5f5-4993-8c8b-4c4a84efd49c",
    "deepnote_cell_type": "markdown",
    "id": "5KRimCg-4sku"
   },
   "source": [
    "Now calculate the first two wavelengths (i=3,4 f=2) of photons emitted in the visible Balmer series of transitions.\n",
    "\n",
    "$$ \\lambda = hc/E_\\gamma$$\n",
    "\n",
    "where\n",
    "\n",
    "$$E_\\gamma = E_i - E_f $$\n",
    "\n",
    "the final energy state for the Balmer series is $$ f=2 $$\n",
    "<img src=\"images/Energy_Levels_Transitions.png\" alt=\"two dice\" width=\"500\"/>"
   ]
  },
  {
   "cell_type": "code",
   "execution_count": null,
   "metadata": {
    "cell_id": "00033-ccf10dd2-b355-4716-b322-3ebc068f3292",
    "deepnote_cell_type": "code",
    "deepnote_to_be_reexecuted": false,
    "execution_millis": 21,
    "execution_start": 1624620213134,
    "id": "p2t2eqh94wNv",
    "source_hash": "8facb0bf"
   },
   "outputs": [],
   "source": [
    "E_1 = abs(E_levels[1] - E_levels[2])\n",
    "E_2 = abs(E_levels[1] - E_levels[3])\n",
    "\n",
    "Wav_1 = h*c/(E_1)\n",
    "Wav_2 = h*c/(E_2)"
   ]
  },
  {
   "cell_type": "markdown",
   "metadata": {
    "cell_id": "00034-56d37a8b-09bb-4c47-98f0-94a966504084",
    "deepnote_cell_type": "markdown",
    "id": "lRJ1ZHKzPrWe"
   },
   "source": [
    "We are in eV, to convert back to S.I, divide the wavelengths by e and print."
   ]
  },
  {
   "cell_type": "code",
   "execution_count": null,
   "metadata": {
    "cell_id": "00035-6441b988-620e-48c4-a10d-45e78dbe9e85",
    "colab": {
     "base_uri": "https://localhost:8080/"
    },
    "deepnote_cell_type": "code",
    "deepnote_to_be_reexecuted": false,
    "executionInfo": {
     "elapsed": 30,
     "status": "ok",
     "timestamp": 1623947222813,
     "user": {
      "displayName": "Sean Courtney",
      "photoUrl": "",
      "userId": "17219612104113445790"
     },
     "user_tz": -60
    },
    "execution_millis": 0,
    "execution_start": 1624620213135,
    "id": "mb4_edKrPpn7",
    "outputId": "2235baf6-07fa-423f-974e-5587080ded21",
    "source_hash": "e037e2da"
   },
   "outputs": [
    {
     "name": "stdout",
     "output_type": "stream",
     "text": [
      "4.050075778503795e-06\n",
      "1.281469289292216e-06\n"
     ]
    }
   ],
   "source": [
    "print(Wav_1/(e))\n",
    "print(Wav_2/(e))"
   ]
  },
  {
   "cell_type": "markdown",
   "metadata": {
    "cell_id": "00036-e4111188-eabb-4fdb-a400-d556b14485f4",
    "deepnote_cell_type": "markdown",
    "id": "aOOniBHH40t1"
   },
   "source": [
    "## Exercise 2: Quantum Qubit Gates & Nested Lists\n",
    "\n",
    "It turns out we can contain lists within lists i.e. [4.0,[1,5]]. Using nested lists for each row, represent the following single quibit gates X,Y, and Z and print them.\n",
    "\n",
    "$$ X = \\begin{pmatrix}\n",
    "0 & 1 \\\\ 1&0\n",
    "\\end{pmatrix}, \\ \\ \\ \n",
    "Y = \\begin{pmatrix}\n",
    "0 & -i \\\\ i&0\n",
    "\\end{pmatrix}, \\ \\ \\ \n",
    "Z = \\begin{pmatrix}\n",
    "1 & 0 \\\\ 0&-1\n",
    "\\end{pmatrix}.$$"
   ]
  },
  {
   "cell_type": "code",
   "execution_count": null,
   "metadata": {
    "cell_id": "00037-56c71b71-411a-425c-ba38-ebea146f50b6",
    "colab": {
     "base_uri": "https://localhost:8080/"
    },
    "deepnote_cell_type": "code",
    "deepnote_to_be_reexecuted": false,
    "executionInfo": {
     "elapsed": 30,
     "status": "ok",
     "timestamp": 1623947222814,
     "user": {
      "displayName": "Sean Courtney",
      "photoUrl": "",
      "userId": "17219612104113445790"
     },
     "user_tz": -60
    },
    "execution_millis": 16,
    "execution_start": 1624620213140,
    "id": "DvzgvHh045lx",
    "outputId": "bb77d903-9205-4849-8c12-4708e3369878",
    "source_hash": "4be84179"
   },
   "outputs": [
    {
     "name": "stdout",
     "output_type": "stream",
     "text": [
      "X =  [[0, 1], [1, 0]]\n",
      "Y =  [[0, -1j], [1j, 0]]\n",
      "Z =  [[1, 0], [0, -1]]\n"
     ]
    }
   ],
   "source": [
    "X = [[0,1],[1,0]]\n",
    "Y = [[0,0-1j],[0+1j,0]]\n",
    "Z = [[1,0],[0,-1]]\n",
    "\n",
    "print(\"X = \", X)\n",
    "print(\"Y = \", Y)\n",
    "print(\"Z = \", Z)"
   ]
  },
  {
   "cell_type": "markdown",
   "metadata": {
    "cell_id": "00038-b6e0680a-49ba-488f-8981-f01d68cfb1e5",
    "deepnote_cell_type": "markdown",
    "id": "1op_R33R49Ut"
   },
   "source": [
    "Now, extract and print the element from the first row and second column of the Y gate."
   ]
  },
  {
   "cell_type": "code",
   "execution_count": null,
   "metadata": {
    "cell_id": "00039-fcb22cd8-c5c6-4ba7-ade5-54041af56c33",
    "colab": {
     "base_uri": "https://localhost:8080/"
    },
    "deepnote_cell_type": "code",
    "deepnote_to_be_reexecuted": false,
    "executionInfo": {
     "elapsed": 28,
     "status": "ok",
     "timestamp": 1623947222814,
     "user": {
      "displayName": "Sean Courtney",
      "photoUrl": "",
      "userId": "17219612104113445790"
     },
     "user_tz": -60
    },
    "execution_millis": 53,
    "execution_start": 1624620213148,
    "id": "cVS8pJfG5AKZ",
    "outputId": "2dfa884f-6236-493a-d71a-cebff9413fcd",
    "source_hash": "c5dcfb05"
   },
   "outputs": [
    {
     "name": "stdout",
     "output_type": "stream",
     "text": [
      "-1j\n"
     ]
    }
   ],
   "source": [
    "print(Y[0][1])"
   ]
  },
  {
   "cell_type": "markdown",
   "metadata": {
    "cell_id": "00040-df80b36c-46da-4402-8609-eefb9c2a66f3",
    "deepnote_cell_type": "markdown",
    "id": "p2xOQNXzCV9l"
   },
   "source": [
    "Now attempt to multiply two of the matrices"
   ]
  },
  {
   "cell_type": "code",
   "execution_count": null,
   "metadata": {
    "cell_id": "00041-314bbaa0-08a9-4246-92a1-b4ba63f6bb41",
    "colab": {
     "base_uri": "https://localhost:8080/",
     "height": 181
    },
    "deepnote_cell_type": "code",
    "deepnote_to_be_reexecuted": false,
    "executionInfo": {
     "elapsed": 27,
     "status": "error",
     "timestamp": 1623947222815,
     "user": {
      "displayName": "Sean Courtney",
      "photoUrl": "",
      "userId": "17219612104113445790"
     },
     "user_tz": -60
    },
    "execution_millis": 51,
    "execution_start": 1624620213195,
    "id": "aWXBTkVGCbdP",
    "outputId": "b792d077-e1cf-4872-8292-7d277669a325",
    "source_hash": "ca4dddb0"
   },
   "outputs": [
    {
     "ename": "TypeError",
     "evalue": "can't multiply sequence by non-int of type 'list'",
     "output_type": "error",
     "traceback": [
      "\u001b[0;31m---------------------------------------------------------------------------\u001b[0m",
      "\u001b[0;31mTypeError\u001b[0m                                 Traceback (most recent call last)",
      "\u001b[0;32m<ipython-input-24-4faca14fc687>\u001b[0m in \u001b[0;36m<module>\u001b[0;34m\u001b[0m\n\u001b[0;32m----> 1\u001b[0;31m \u001b[0mResult\u001b[0m \u001b[0;34m=\u001b[0m \u001b[0mX\u001b[0m\u001b[0;34m*\u001b[0m\u001b[0mY\u001b[0m\u001b[0;34m\u001b[0m\u001b[0;34m\u001b[0m\u001b[0m\n\u001b[0m\u001b[1;32m      2\u001b[0m \u001b[0mprint\u001b[0m\u001b[0;34m(\u001b[0m\u001b[0mResult\u001b[0m\u001b[0;34m)\u001b[0m\u001b[0;34m\u001b[0m\u001b[0;34m\u001b[0m\u001b[0m\n",
      "\u001b[0;31mTypeError\u001b[0m: can't multiply sequence by non-int of type 'list'"
     ]
    }
   ],
   "source": [
    "Result = X*Y\n",
    "print(Result)"
   ]
  },
  {
   "cell_type": "markdown",
   "metadata": {
    "cell_id": "00042-381684ab-4034-42dd-830e-0db420d5d39d",
    "deepnote_cell_type": "markdown",
    "id": "LZIBZbAKCkdH"
   },
   "source": [
    "As we can see, lists(on their own atleast) cannot be used in basic matrix operations. We will see how we can handle this matrix multiplication in the coming weeks."
   ]
  }
 ],
 "metadata": {
  "colab": {
   "collapsed_sections": [],
   "name": "PyQM_Ex.1_sol.ipynb",
   "provenance": []
  },
  "deepnote": {},
  "deepnote_execution_queue": [],
  "deepnote_notebook_id": "ea4afaac-11a3-41e4-8e9b-39a77aacc131",
  "kernelspec": {
   "display_name": "Python 3",
   "language": "python",
   "name": "python3"
  },
  "language_info": {
   "codemirror_mode": {
    "name": "ipython",
    "version": 3
   },
   "file_extension": ".py",
   "mimetype": "text/x-python",
   "name": "python",
   "nbconvert_exporter": "python",
   "pygments_lexer": "ipython3",
   "version": "3.8.8"
  }
 },
 "nbformat": 4,
 "nbformat_minor": 1
}
