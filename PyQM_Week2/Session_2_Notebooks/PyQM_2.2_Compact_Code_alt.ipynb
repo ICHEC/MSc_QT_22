{
 "cells": [
  {
   "cell_type": "markdown",
   "id": "0dc00f5d",
   "metadata": {},
   "source": [
    "<center>\n",
    "    \n",
    "# Python For Quantum Mechanics\n",
    "# Week 2: Compact Code\n",
    "\n",
    "</center>"
   ]
  },
  {
   "cell_type": "code",
   "execution_count": 1,
   "id": "e968a50c",
   "metadata": {},
   "outputs": [
    {
     "data": {
      "image/jpeg": "[encoded data removed]",
      "text/html": [
       "\n",
       "        <iframe\n",
       "            width=\"700\"\n",
       "            height=\"400\"\n",
       "            src=\"https://www.youtube.com/embed/JBFc9V6BcNY\"\n",
       "            frameborder=\"0\"\n",
       "            allowfullscreen\n",
       "        ></iframe>\n",
       "        "
      ],
      "text/plain": [
       "<IPython.lib.display.YouTubeVideo at 0x7ffb37fa0490>"
      ]
     },
     "execution_count": 1,
     "metadata": {},
     "output_type": "execute_result"
    }
   ],
   "source": [
    "from IPython.display import YouTubeVideo\n",
    "YouTubeVideo('JBFc9V6BcNY',width=700, height=400)"
   ]
  },
  {
   "cell_type": "markdown",
   "id": "82bc765b",
   "metadata": {
    "cell_id": "00000-8b65ef50-d013-4151-bb96-e76707d14651",
    "deepnote_cell_type": "markdown",
    "id": "c7a2f121"
   },
   "source": [
    "Comprehensions give a useful, compact syntax to create certain data structures from a given iterable object(list, tuple, range, etc...)."
   ]
  },
  {
   "cell_type": "code",
   "execution_count": 1,
   "id": "01bd2a51",
   "metadata": {},
   "outputs": [],
   "source": [
    "from extras import *"
   ]
  },
  {
   "cell_type": "markdown",
   "id": "a4a5c33d",
   "metadata": {
    "cell_id": "00001-ccd6b446-bea6-4da0-b14d-fca01563decd",
    "deepnote_cell_type": "markdown",
    "id": "ZBJJeTFRCgS6"
   },
   "source": [
    "## <center>List Comprehensions</center>\n",
    "\n",
    "List comprehensions generate a new list given some other iterable object. Here is the syntax followed by an example of a list comprehension. \n",
    "\n",
    "```New_list = [x for x in Old_list/Iterable if condition == True]```"
   ]
  },
  {
   "cell_type": "code",
   "execution_count": 2,
   "id": "86d8189f",
   "metadata": {
    "cell_id": "00002-ad87fb68-cff9-42c6-ae43-e5f2a1321266",
    "deepnote_cell_type": "markdown",
    "tags": []
   },
   "outputs": [
    {
     "data": {
      "text/html": [
       "<div style=\"padding:56.25% 0 0 0;position:relative;\"><iframe src=\"https://player.vimeo.com/video/569020631?badge=0&amp;autopause=0&amp;player_id=0&amp;app_id=58479\" frameborder=\"0\" allow=\"autoplay; fullscreen; picture-in-picture\" allowfullscreen style=\"position:absolute;top:0;left:0;width:100%;height:100%;\" title=\"PyQM_2.2_List_Comprehensions_Demo\"></iframe></div><script src=\"https://player.vimeo.com/api/player.js\"></script>"
      ],
      "text/plain": [
       "<IPython.core.display.HTML object>"
      ]
     },
     "execution_count": 2,
     "metadata": {},
     "output_type": "execute_result"
    }
   ],
   "source": [
    "play(\"\"\"<div style=\"padding:56.25% 0 0 0;position:relative;\"><iframe src=\"https://player.vimeo.com/video/569020631?badge=0&amp;autopause=0&amp;player_id=0&amp;app_id=58479\" frameborder=\"0\" allow=\"autoplay; fullscreen; picture-in-picture\" allowfullscreen style=\"position:absolute;top:0;left:0;width:100%;height:100%;\" title=\"PyQM_2.2_List_Comprehensions_Demo\"></iframe></div><script src=\"https://player.vimeo.com/api/player.js\"></script>\"\"\")"
   ]
  },
  {
   "cell_type": "code",
   "execution_count": 3,
   "id": "ac7d0b59",
   "metadata": {
    "cell_id": "00002-11966dd7-9037-4738-847c-b16fa26a4ae8",
    "deepnote_cell_type": "code",
    "id": "b07177f5",
    "outputId": "429f0f28-b89a-4bfb-b981-ccc516337282"
   },
   "outputs": [
    {
     "name": "stdout",
     "output_type": "stream",
     "text": [
      "[0, 1, 2, 3, 4, 5, 6, 7, 8, 9, 10, 11, 12, 13, 14, 15, 16, 17, 18, 19, 20, 21, 22, 23, 24, 25, 26, 27, 28, 29, 30, 31, 32, 33, 34, 35, 36, 37, 38, 39, 40, 41, 42, 43, 44, 45, 46, 47, 48, 49, 50]\n"
     ]
    }
   ],
   "source": [
    "Old_list = list(range(51))\n",
    "print(Old_list)"
   ]
  },
  {
   "cell_type": "code",
   "execution_count": 4,
   "id": "85549fee",
   "metadata": {
    "cell_id": "00003-022e8c7b-2342-4bc4-b91a-20694e3f15ff",
    "deepnote_cell_type": "code",
    "id": "bfc79b5a",
    "outputId": "aec09a0c-8d74-465b-b924-f2cf49d0ec0c"
   },
   "outputs": [
    {
     "name": "stdout",
     "output_type": "stream",
     "text": [
      "[0, 5, 10, 15, 20, 25, 30, 35, 40, 45, 50]\n"
     ]
    }
   ],
   "source": [
    "New_list = [x for x in Old_list if x%5==0]\n",
    "print(New_list)"
   ]
  },
  {
   "cell_type": "markdown",
   "id": "10cbb695",
   "metadata": {
    "cell_id": "00004-e0c47531-70c7-4179-80e1-8a46c727463f",
    "deepnote_cell_type": "markdown",
    "id": "c83a5f63"
   },
   "source": [
    "We can combine the two previous statements into one, to further compactify the notation."
   ]
  },
  {
   "cell_type": "code",
   "execution_count": 5,
   "id": "cab0da33",
   "metadata": {
    "cell_id": "00005-2650b0a0-c26e-48ed-a68d-c2411bf4cbf9",
    "deepnote_cell_type": "code",
    "id": "2bd3b8ad",
    "outputId": "d3dbc556-e352-4185-e0f1-0213379de865"
   },
   "outputs": [
    {
     "name": "stdout",
     "output_type": "stream",
     "text": [
      "[0, 5, 10, 15, 20, 25, 30, 35, 40, 45, 50]\n"
     ]
    }
   ],
   "source": [
    "New_list = [x for x in range(51) if x % 5 == 0]\n",
    "print(New_list)"
   ]
  },
  {
   "cell_type": "markdown",
   "id": "5e47ae88",
   "metadata": {
    "cell_id": "00006-1aeb75a7-37cd-4155-8735-cf404cc47212",
    "deepnote_cell_type": "markdown",
    "id": "Yhtt6Wv4Vecl"
   },
   "source": [
    "We can generate this list in many different ways, using comprehensions. For example, we don't necessarily need to use a conditional statement:"
   ]
  },
  {
   "cell_type": "code",
   "execution_count": 6,
   "id": "979c2a5e",
   "metadata": {
    "cell_id": "00007-30d0a35a-3b1b-4e00-867e-4fb647e96020",
    "colab": {
     "base_uri": "https://localhost:8080/"
    },
    "deepnote_cell_type": "code",
    "executionInfo": {
     "elapsed": 11,
     "status": "ok",
     "timestamp": 1624459507145,
     "user": {
      "displayName": "Conor Dunne",
      "photoUrl": "",
      "userId": "14934053525675490562"
     },
     "user_tz": -60
    },
    "id": "w0nA4vUcDJcT",
    "outputId": "4d695e1d-f7ce-48a7-83c9-eb85208f16a7"
   },
   "outputs": [
    {
     "name": "stdout",
     "output_type": "stream",
     "text": [
      "[0, 5, 10, 15, 20, 25, 30, 35, 40, 45, 50]\n"
     ]
    }
   ],
   "source": [
    "New_list_alt = [5*x for x in range(11)]\n",
    "print(New_list_alt)"
   ]
  },
  {
   "cell_type": "markdown",
   "id": "039115f1",
   "metadata": {},
   "source": [
    "### <center>Example 1</center>\n",
    "\n",
    "Using list comprehensions, create a list that runs from $0\\rightarrow 100$ with the odd integers negative."
   ]
  },
  {
   "cell_type": "code",
   "execution_count": 7,
   "id": "7c88acf9",
   "metadata": {},
   "outputs": [
    {
     "name": "stdout",
     "output_type": "stream",
     "text": [
      "[]\n"
     ]
    }
   ],
   "source": [
    "L = []\n",
    "\n",
    "print(L)"
   ]
  },
  {
   "cell_type": "markdown",
   "id": "79b9d07f",
   "metadata": {},
   "source": [
    "### <center>Example 2</center>\n",
    "\n",
    "Using nested list comprehensions, create a list of the first primes between $0\\rightarrow 100$."
   ]
  },
  {
   "cell_type": "code",
   "execution_count": 8,
   "id": "344a3f66",
   "metadata": {},
   "outputs": [
    {
     "name": "stdout",
     "output_type": "stream",
     "text": [
      "True\n",
      "[]\n"
     ]
    }
   ],
   "source": [
    "print(not []) #Note that \"not []\" gives a boolean True value\n",
    "\n",
    "Z = [x for x in range(0,101) if not [\"Put some code here\"]]\n",
    "print(Z)"
   ]
  },
  {
   "cell_type": "markdown",
   "id": "c662a08a",
   "metadata": {
    "cell_id": "00008-e9a0c141-d942-453f-9912-a7467010496a",
    "deepnote_cell_type": "markdown",
    "id": "5f60da38"
   },
   "source": [
    "## <center>Set Comprehensions</center>\n",
    "\n",
    "Set comprehensions are the same as list comprehensions, except they use curly braces {} instead. \n",
    "\n",
    "First lets use a list comprehension to get the following list:"
   ]
  },
  {
   "cell_type": "code",
   "execution_count": 9,
   "id": "dbad10f3",
   "metadata": {
    "cell_id": "00010-064b382e-935c-47dc-8904-bac548fe97de",
    "deepnote_cell_type": "markdown",
    "tags": []
   },
   "outputs": [
    {
     "data": {
      "text/html": [
       "<div style=\"padding:75% 0 0 0;position:relative;\"><iframe src=\"https://player.vimeo.com/video/569049073?badge=0&amp;autopause=0&amp;player_id=0&amp;app_id=58479\" frameborder=\"0\" allow=\"autoplay; fullscreen; picture-in-picture\" allowfullscreen style=\"position:absolute;top:0;left:0;width:100%;height:100%;\" title=\"2021-06-29 19-56-48.mp4\">"
      ],
      "text/plain": [
       "<IPython.core.display.HTML object>"
      ]
     },
     "execution_count": 9,
     "metadata": {},
     "output_type": "execute_result"
    }
   ],
   "source": [
    "play(\"\"\"<div style=\"padding:75% 0 0 0;position:relative;\"><iframe src=\"https://player.vimeo.com/video/569049073?badge=0&amp;autopause=0&amp;player_id=0&amp;app_id=58479\" frameborder=\"0\" allow=\"autoplay; fullscreen; picture-in-picture\" allowfullscreen style=\"position:absolute;top:0;left:0;width:100%;height:100%;\" title=\"2021-06-29 19-56-48.mp4\">\"\"\")"
   ]
  },
  {
   "cell_type": "code",
   "execution_count": 10,
   "id": "9c27201d",
   "metadata": {
    "cell_id": "00009-d5ba7663-98a1-4c62-9852-9884a6c085ca",
    "colab": {
     "base_uri": "https://localhost:8080/"
    },
    "deepnote_cell_type": "code",
    "executionInfo": {
     "elapsed": 193,
     "status": "ok",
     "timestamp": 1624461141154,
     "user": {
      "displayName": "Conor Dunne",
      "photoUrl": "",
      "userId": "14934053525675490562"
     },
     "user_tz": -60
    },
    "id": "af627ee9",
    "outputId": "fe65a612-7ee5-4fea-e28b-fd2f2e5de3c2"
   },
   "outputs": [
    {
     "name": "stdout",
     "output_type": "stream",
     "text": [
      "[0, 1, 2, 3, 4, 0, 1, 2, 3, 4, 0, 1, 2, 3, 4, 0, 1, 2, 3, 4, 0, 1, 2, 3, 4, 0, 1, 2, 3, 4, 0, 1, 2, 3, 4, 0, 1, 2, 3, 4, 0, 1, 2, 3, 4, 0, 1, 2, 3, 4, 0]\n"
     ]
    }
   ],
   "source": [
    "ModFive = [x%5 for x in range(51)]\n",
    "print(ModFive)"
   ]
  },
  {
   "cell_type": "markdown",
   "id": "69fdeee7",
   "metadata": {
    "cell_id": "00010-b45e58a3-cd19-4498-80a7-016956514ccb",
    "deepnote_cell_type": "markdown",
    "id": "FscvsJozbg0m"
   },
   "source": [
    "We see we get repeating values, and it might be useful to cast this as a set:"
   ]
  },
  {
   "cell_type": "code",
   "execution_count": 11,
   "id": "64e4ce50",
   "metadata": {
    "cell_id": "00011-306f434d-3743-40e7-b325-6e3760d9a63f",
    "colab": {
     "base_uri": "https://localhost:8080/"
    },
    "deepnote_cell_type": "code",
    "executionInfo": {
     "elapsed": 192,
     "status": "ok",
     "timestamp": 1624461203078,
     "user": {
      "displayName": "Conor Dunne",
      "photoUrl": "",
      "userId": "14934053525675490562"
     },
     "user_tz": -60
    },
    "id": "vmzsz8-jbmGX",
    "outputId": "a5902c7d-5597-49d8-eee4-dcc4145499b9"
   },
   "outputs": [
    {
     "name": "stdout",
     "output_type": "stream",
     "text": [
      "{0, 1, 2, 3, 4}\n"
     ]
    }
   ],
   "source": [
    "ModFiveSet = set(ModFive)\n",
    "print(ModFiveSet)"
   ]
  },
  {
   "cell_type": "markdown",
   "id": "530e3ea0",
   "metadata": {
    "cell_id": "00012-a4389a9a-ac92-4eab-a989-25120e6bed9b",
    "deepnote_cell_type": "markdown",
    "id": "HXn-38dJbuMP"
   },
   "source": [
    "Alternatively we could just use a set comprehension from the get go:"
   ]
  },
  {
   "cell_type": "code",
   "execution_count": 13,
   "id": "636f76dd",
   "metadata": {
    "cell_id": "00013-e55c7903-3684-4943-bb5a-71e1f6818720",
    "colab": {
     "base_uri": "https://localhost:8080/"
    },
    "deepnote_cell_type": "code",
    "executionInfo": {
     "elapsed": 292,
     "status": "ok",
     "timestamp": 1624461232228,
     "user": {
      "displayName": "Conor Dunne",
      "photoUrl": "",
      "userId": "14934053525675490562"
     },
     "user_tz": -60
    },
    "id": "NHa7Z7A9bZr1",
    "outputId": "c2c5d31d-7bbb-4a63-a170-f8953b54f73c"
   },
   "outputs": [
    {
     "name": "stdout",
     "output_type": "stream",
     "text": [
      "{0, 1, 2, 3, 4}\n"
     ]
    }
   ],
   "source": [
    "New_set = {x%5 for x in range(51)}\n",
    "print(New_set)"
   ]
  },
  {
   "cell_type": "markdown",
   "id": "16854e74",
   "metadata": {},
   "source": [
    "### <center>Example 3</center>\n",
    "\n",
    "Given the following list of lists, use a set comprehension that only gives the first element in each list, provided the squared sum of the elements in said list is equal to 100. For example,\n",
    "\n",
    "$$[10,0]\\rightarrow 10^2 +0^2 = 100 \\rightarrow \\text{add 10 to the set}$$\n",
    "\n",
    "$$[7,3]\\rightarrow 7^2 +3^2 = 58 \\rightarrow \\text{don't add 7 to the set}$$"
   ]
  },
  {
   "cell_type": "code",
   "execution_count": 14,
   "id": "afda6796",
   "metadata": {},
   "outputs": [
    {
     "name": "stdout",
     "output_type": "stream",
     "text": [
      "{}\n"
     ]
    }
   ],
   "source": [
    "L = [[8,6],[6,8],[30,11],[0,10],[100,0],[10,0],[8,6],[7,3],[5,5*(3**(1/2))]]\n",
    "\n",
    "S = {}\n",
    "\n",
    "print(S)"
   ]
  },
  {
   "cell_type": "markdown",
   "id": "f6140217",
   "metadata": {
    "cell_id": "00014-d65bee11-ae89-433d-b2ec-69b38a7eb882",
    "deepnote_cell_type": "markdown",
    "id": "bd4b616a"
   },
   "source": [
    "## <center>Dictionary Comprehensions</center>\n",
    "\n",
    "They also work similary with dictionaries."
   ]
  },
  {
   "cell_type": "markdown",
   "id": "30e65e0e",
   "metadata": {
    "cell_id": "00015-ab199a8f-22c5-4355-bf0e-fb25f55c7d08",
    "deepnote_cell_type": "markdown",
    "id": "rQOIfU3SXWsi"
   },
   "source": [
    "``` New_dict = {key:value for (key,value) in Old_dict.items() if condition == True}```"
   ]
  },
  {
   "cell_type": "code",
   "execution_count": 15,
   "id": "6d351d20",
   "metadata": {
    "cell_id": "00016-55e52d2a-a7a2-4dcc-8c77-e89d1eaba2bf",
    "deepnote_cell_type": "code",
    "id": "0a2b3a2f",
    "outputId": "244015cc-5e28-4c70-e6c3-f0d74f0515e0"
   },
   "outputs": [
    {
     "name": "stdout",
     "output_type": "stream",
     "text": [
      "{'c': 9, 'f': 36}\n"
     ]
    }
   ],
   "source": [
    "Old_dict = {'a': 1, 'b': 2, 'c': 3, 'd': 4, 'd':5, 'f': 6}\n",
    "\n",
    "New_dict = {key:value**2 for key,value in Old_dict.items() if value%3 == 0}\n",
    "\n",
    "print(New_dict)"
   ]
  },
  {
   "cell_type": "markdown",
   "id": "b2514730",
   "metadata": {},
   "source": [
    "### <center>Example 4</center>\n",
    "Given the following dictionary, create a new dictionary that only contains the key, value pairs in which the squared sum of the elements of value is equal to one. So\n",
    "\n",
    "$$value[0]^2 + value[1]^2 == 1 $$\n",
    "\n",
    "Make sure to round the left handside of the above equation to two decimal places. (i.e. round(1.003,2)=1.00)"
   ]
  },
  {
   "cell_type": "code",
   "execution_count": 17,
   "id": "a537fdd2",
   "metadata": {},
   "outputs": [
    {
     "name": "stdout",
     "output_type": "stream",
     "text": [
      "1.0000000000000002\n",
      "1.0\n",
      "{}\n"
     ]
    }
   ],
   "source": [
    "Quibits = {'Q1':[2**(-1/2),2**(-1/2)],'Q2':[1,0],'Q3':[0,1],'Q4':[1,-1],'Q5':[1,2**(-1/2)]}\n",
    "\n",
    "print((2**(-1/2))**2+(2**(-1/2))**2)\n",
    "print(round((2**(-1/2))**2+(2**(-1/2))**2,2))\n",
    "\n",
    "Normalised_Quibits = {}\n",
    "\n",
    "print(Normalised_Quibits)"
   ]
  },
  {
   "cell_type": "markdown",
   "id": "ea1535d5",
   "metadata": {
    "cell_id": "00017-e76468f8-4cec-4410-9688-3b8137cc4665",
    "deepnote_cell_type": "markdown",
    "id": "0a5c9942"
   },
   "source": [
    "## <center>Generator Comprehensions</center>\n",
    "\n",
    "A generator is simlar to a list except it does't allocate memory for each element in the list, but rather stores instructions to 'generate' the list. $\\bf{range()}$ is an example of a generator. Generators are often more memory efficient compared to lists.\n",
    "\n",
    "These are essentially the same as list comprehensions, we use regular brackets '()' instead of square brackets."
   ]
  },
  {
   "cell_type": "code",
   "execution_count": 18,
   "id": "c884fe3d",
   "metadata": {
    "cell_id": "00018-f6722b8a-1d24-43fe-8a70-39705afaacd8",
    "colab": {
     "base_uri": "https://localhost:8080/"
    },
    "deepnote_cell_type": "code",
    "executionInfo": {
     "elapsed": 203,
     "status": "ok",
     "timestamp": 1624459736956,
     "user": {
      "displayName": "Conor Dunne",
      "photoUrl": "",
      "userId": "14934053525675490562"
     },
     "user_tz": -60
    },
    "id": "03f9c9fa",
    "outputId": "5d174bf4-a84e-4b42-9e82-125fe3ebf8fc"
   },
   "outputs": [
    {
     "name": "stdout",
     "output_type": "stream",
     "text": [
      "<class 'generator'>\n",
      "0\n",
      "5\n",
      "10\n",
      "15\n",
      "20\n",
      "25\n",
      "30\n",
      "35\n",
      "40\n",
      "45\n",
      "50\n"
     ]
    }
   ],
   "source": [
    "New_gen = (x for x in range(51) if x % 5 == 0)\n",
    "\n",
    "print(type(New_gen))\n",
    "for x in New_gen:\n",
    "    print(x)"
   ]
  },
  {
   "cell_type": "markdown",
   "id": "9209f648",
   "metadata": {},
   "source": [
    "### <center>Example 5</center>\n",
    "\n",
    "Using the $range()$ function in a generator comprehension, create a generator of numbers evenly spaced between $0\\rightarrow1$, that includes 0 and 1, where the spacing is given by some number $\\frac{1}{n}$. For example,\n",
    "\n",
    "$$ 0.00,0.25,0.50,0.75,1.00 \\rightarrow \\text{has spacing $\\frac{1}{4}$ so $n=4$}$$\n"
   ]
  },
  {
   "cell_type": "code",
   "execution_count": 19,
   "id": "254281ba",
   "metadata": {},
   "outputs": [],
   "source": [
    "n=20\n",
    "\n",
    "G = ()\n",
    "\n",
    "for i in G:\n",
    "    print(i)"
   ]
  },
  {
   "cell_type": "markdown",
   "id": "826cbf73",
   "metadata": {},
   "source": [
    "### <center>Example 6</center>\n",
    "\n",
    "Using the above generator(example 5), create a generator of lists. Each list should contain two elements, whose squared sum is equal to one. "
   ]
  },
  {
   "cell_type": "code",
   "execution_count": 20,
   "id": "5cd9a391",
   "metadata": {},
   "outputs": [],
   "source": [
    "n=20\n",
    "\n",
    "G = (x/n for x in range(0,n+1))\n",
    "\n",
    "Quibits = ()\n",
    "\n",
    "for i in Quibits:\n",
    "    print(i)"
   ]
  },
  {
   "cell_type": "markdown",
   "id": "e408cc35",
   "metadata": {},
   "source": [
    "## <center>Example Solutions</center>"
   ]
  },
  {
   "cell_type": "markdown",
   "id": "2a3513b5",
   "metadata": {},
   "source": [
    "### <center>Example 1 Solution</center>"
   ]
  },
  {
   "cell_type": "code",
   "execution_count": 21,
   "id": "2f03bb95",
   "metadata": {
    "tags": [
     "hide-input",
     "hide-output"
    ]
   },
   "outputs": [
    {
     "name": "stdout",
     "output_type": "stream",
     "text": [
      "[0, -1, 2, -3, 4, -5, 6, -7, 8, -9, 10, -11, 12, -13, 14, -15, 16, -17, 18, -19, 20, -21, 22, -23, 24, -25, 26, -27, 28, -29, 30, -31, 32, -33, 34, -35, 36, -37, 38, -39, 40, -41, 42, -43, 44, -45, 46, -47, 48, -49, 50, -51, 52, -53, 54, -55, 56, -57, 58, -59, 60, -61, 62, -63, 64, -65, 66, -67, 68, -69, 70, -71, 72, -73, 74, -75, 76, -77, 78, -79, 80, -81, 82, -83, 84, -85, 86, -87, 88, -89, 90, -91, 92, -93, 94, -95, 96, -97, 98, -99, 100]\n"
     ]
    }
   ],
   "source": [
    "L = [x*(-1)**(x%2) for x in range(101)]\n",
    "print(L)"
   ]
  },
  {
   "cell_type": "markdown",
   "id": "f50ae91e",
   "metadata": {},
   "source": [
    "### <center>Example 2 Solution</center>"
   ]
  },
  {
   "cell_type": "code",
   "execution_count": 22,
   "id": "8f91a574",
   "metadata": {},
   "outputs": [
    {
     "name": "stdout",
     "output_type": "stream",
     "text": [
      "[2, 3, 5, 7, 11, 13, 17, 19, 23, 29, 31, 37, 41, 43, 47, 53, 59, 61, 67, 71, 73, 79, 83, 89, 97]\n"
     ]
    }
   ],
   "source": [
    "#Z = [x for x in range(2,101) if not 0 in [0 for i in range(2,x) if x%i==0]] ##This is an easier version\n",
    "\n",
    "Z = [x for x in range(2,100) if not [0 for i in range(2,x) if x%i==0]] ## This is a harder version\n",
    "\n",
    "print(Z)"
   ]
  },
  {
   "cell_type": "markdown",
   "id": "3fc9de0c",
   "metadata": {},
   "source": [
    "### <center>Example 3 Solution</center>"
   ]
  },
  {
   "cell_type": "code",
   "execution_count": 23,
   "id": "a36bbe74",
   "metadata": {},
   "outputs": [
    {
     "name": "stdout",
     "output_type": "stream",
     "text": [
      "{8, 0, 10, 6}\n"
     ]
    }
   ],
   "source": [
    "L = [[8,6],[6,8],[30,11],[0,10],[100,0],[10,0],[8,6],[7,3],[5,5*(3**(1/2))]]\n",
    "\n",
    "S = {x[0] for x in L if(x[0]**2+x[1]**2==100)}\n",
    "\n",
    "print(S)"
   ]
  },
  {
   "cell_type": "markdown",
   "id": "8e88394a",
   "metadata": {},
   "source": [
    "### <center>Example 4 Solution</center>"
   ]
  },
  {
   "cell_type": "code",
   "execution_count": 24,
   "id": "61dbdf09",
   "metadata": {},
   "outputs": [
    {
     "name": "stdout",
     "output_type": "stream",
     "text": [
      "{'Q1': [0.7071067811865476, 0.7071067811865476], 'Q2': [1, 0], 'Q3': [0, 1]}\n"
     ]
    }
   ],
   "source": [
    "Quibits = {'Q1':[2**(-1/2),2**(-1/2)],'Q2':[1,0],'Q3':[0,1],'Q4':[1,-1],'Q5':[1,2**(-1/2)]}\n",
    "\n",
    "Normalised_Quibits = {key:value for key,value in Quibits.items() if (round(value[0]**2 + value[1]**2,5) == 1.0)}\n",
    "\n",
    "print(Normalised_Quibits)"
   ]
  },
  {
   "cell_type": "markdown",
   "id": "42f08d15",
   "metadata": {},
   "source": [
    "### <center>Example 5 Solution</center>"
   ]
  },
  {
   "cell_type": "code",
   "execution_count": 25,
   "id": "a6bf148e",
   "metadata": {},
   "outputs": [
    {
     "name": "stdout",
     "output_type": "stream",
     "text": [
      "0.0\n",
      "0.05\n",
      "0.1\n",
      "0.15\n",
      "0.2\n",
      "0.25\n",
      "0.3\n",
      "0.35\n",
      "0.4\n",
      "0.45\n",
      "0.5\n",
      "0.55\n",
      "0.6\n",
      "0.65\n",
      "0.7\n",
      "0.75\n",
      "0.8\n",
      "0.85\n",
      "0.9\n",
      "0.95\n",
      "1.0\n"
     ]
    }
   ],
   "source": [
    "n=20\n",
    "\n",
    "G = (x/n for x in range(0,n+1))\n",
    "\n",
    "for i in G:\n",
    "    print(i)"
   ]
  },
  {
   "cell_type": "markdown",
   "id": "68cc3f5a",
   "metadata": {},
   "source": [
    "### <center>Example 6 Solution</center>"
   ]
  },
  {
   "cell_type": "code",
   "execution_count": 26,
   "id": "671327a9",
   "metadata": {},
   "outputs": [
    {
     "name": "stdout",
     "output_type": "stream",
     "text": [
      "[0.0, 1.0]\n",
      "[0.05, 0.9975]\n",
      "[0.1, 0.99]\n",
      "[0.15, 0.9775]\n",
      "[0.2, 0.96]\n",
      "[0.25, 0.9375]\n",
      "[0.3, 0.91]\n",
      "[0.35, 0.8775000000000001]\n",
      "[0.4, 0.84]\n",
      "[0.45, 0.7975]\n",
      "[0.5, 0.75]\n",
      "[0.55, 0.6975]\n",
      "[0.6, 0.64]\n",
      "[0.65, 0.5774999999999999]\n",
      "[0.7, 0.51]\n",
      "[0.75, 0.4375]\n",
      "[0.8, 0.3599999999999999]\n",
      "[0.85, 0.2775000000000001]\n",
      "[0.9, 0.18999999999999995]\n",
      "[0.95, 0.09750000000000003]\n",
      "[1.0, 0.0]\n"
     ]
    }
   ],
   "source": [
    "n=20\n",
    "G = (x/n for x in range(0,n+1))\n",
    "\n",
    "Quibits = ([x,1-x**2] for x in G)\n",
    "\n",
    "for i in Quibits:\n",
    "    print(i)"
   ]
  }
 ],
 "metadata": {
  "colab": {
   "collapsed_sections": [],
   "name": "PyQM_2.2_Comprehensions.ipynb",
   "provenance": []
  },
  "deepnote": {},
  "deepnote_execution_queue": [],
  "deepnote_notebook_id": "a1fe68c5-3595-4472-b529-b3b19bdab4b3",
  "kernelspec": {
   "display_name": "Python 3",
   "language": "python",
   "name": "python3"
  },
  "language_info": {
   "codemirror_mode": {
    "name": "ipython",
    "version": 3
   },
   "file_extension": ".py",
   "mimetype": "text/x-python",
   "name": "python",
   "nbconvert_exporter": "python",
   "pygments_lexer": "ipython3",
   "version": "3.8.8"
  }
 },
 "nbformat": 4,
 "nbformat_minor": 5
}
