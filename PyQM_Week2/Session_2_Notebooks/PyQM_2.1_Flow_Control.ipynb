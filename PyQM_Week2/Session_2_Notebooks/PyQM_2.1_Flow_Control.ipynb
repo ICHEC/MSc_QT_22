{
 "cells": [
  {
   "cell_type": "markdown",
   "id": "2c69f23c",
   "metadata": {},
   "source": [
    "<center>\n",
    "    \n",
    "# Python For Quantum Mechanics\n",
    "# Week 2: Flow Control\n",
    "\n",
    "</center>"
   ]
  },
  {
   "cell_type": "code",
   "execution_count": 1,
   "id": "6e180bbe",
   "metadata": {},
   "outputs": [
    {
     "data": {
      "image/jpeg": "[encoded data removed]",
      "text/html": [
       "\n",
       "        <iframe\n",
       "            width=\"700\"\n",
       "            height=\"400\"\n",
       "            src=\"https://www.youtube.com/embed/6IUQ12mOb1A\"\n",
       "            frameborder=\"0\"\n",
       "            allowfullscreen\n",
       "        ></iframe>\n",
       "        "
      ],
      "text/plain": [
       "<IPython.lib.display.YouTubeVideo at 0x7fa30d79e4f0>"
      ]
     },
     "execution_count": 1,
     "metadata": {},
     "output_type": "execute_result"
    }
   ],
   "source": [
    "from IPython.display import YouTubeVideo\n",
    "YouTubeVideo('6IUQ12mOb1A',width=700, height=400)"
   ]
  },
  {
   "cell_type": "markdown",
   "id": "6d9d4bac",
   "metadata": {},
   "source": [
    "## Contents\n",
    "\n",
    "* [If Statments](#IfStatments)\n",
    "* [Try and Except](#TryandExcept)\n",
    "* [While Loops](#WhileLoops)\n",
    "* [Range and Zip](#RangeandZip)\n",
    "* [For Loops](#ForLoops)\n",
    "* [Break, Continue, Pass](#BCP)"
   ]
  },
  {
   "cell_type": "markdown",
   "id": "d627010d",
   "metadata": {},
   "source": [
    "## If Statments \n",
    "<a class=\"anchor\" id=\"IfStatments\"></a>"
   ]
  },
  {
   "cell_type": "markdown",
   "id": "926f091c",
   "metadata": {},
   "source": [
    "We often require the execution certain code under specific conditions. For example there is a simple `if` statement that executes *if* the condition is satisfied.\n",
    "\n",
    "![If condition](images/if.png)"
   ]
  },
  {
   "cell_type": "code",
   "execution_count": 3,
   "id": "a1f6bc60",
   "metadata": {},
   "outputs": [
    {
     "name": "stdout",
     "output_type": "stream",
     "text": [
      "1 is less than 4\n"
     ]
    }
   ],
   "source": [
    "if 1 < 4:\n",
    "    print('1 is less than 4')\n",
    "\n",
    "if 1 > 4:\n",
    "    print('1 is greater than 4')"
   ]
  },
  {
   "cell_type": "markdown",
   "id": "5e923739",
   "metadata": {},
   "source": [
    "Make note also of the indentation as it is not just decoration, it is used by Python to seperate blocks of code.\n",
    "\n",
    "There is a more complicated version where there are different parts of the code that execute under particular conditions. For example if x is true then do y, otherwise (else) do z. This is encapsulated in the `if`, `elif` (else if), and `else` statements. \n",
    "\n",
    "![if,elif else](images/if_elif_else.png)"
   ]
  },
  {
   "cell_type": "code",
   "execution_count": 4,
   "id": "31c2e496",
   "metadata": {},
   "outputs": [
    {
     "name": "stdout",
     "output_type": "stream",
     "text": [
      "-1\n"
     ]
    }
   ],
   "source": [
    "#Feel free to experiment with the boolean value of the following condtions\n",
    "Condition1 = False\n",
    "Condition2 = True\n",
    "a=1\n",
    "b=2\n",
    "\n",
    "\n",
    "#Notice the indented blocks of code, this indicates which code to be executed under the stated conditions\n",
    "\n",
    "if Condition1: #If condition1 is true\n",
    "    a=a+b #do this\n",
    "\n",
    "elif Condition2:#Else if condition2 is true\n",
    "    a=a-b #do this\n",
    "\n",
    "else: #else if both conditions are false\n",
    "    a=a*b #do this\n",
    "\n",
    "print(a)"
   ]
  },
  {
   "cell_type": "markdown",
   "id": "6f62bf70",
   "metadata": {},
   "source": [
    "We can also nest conditional statements"
   ]
  },
  {
   "cell_type": "code",
   "execution_count": 7,
   "id": "c7470bec",
   "metadata": {},
   "outputs": [
    {
     "name": "stdout",
     "output_type": "stream",
     "text": [
      "Condition1 is TRUE, Condition2 is FALSE\n"
     ]
    }
   ],
   "source": [
    "Condition1 = True\n",
    "Condition2 = False\n",
    "\n",
    "if Condition1:\n",
    "    if Condition2:\n",
    "        print(\"Both conditions are TRUE\")\n",
    "    else:\n",
    "        print(\"Condition1 is TRUE, Condition2 is FALSE\")\n",
    "elif Condition2:\n",
    "    print(\"Condition1 is FALSE, Condition2 is TRUE\")\n",
    "else:\n",
    "    print(\"Both conditions are FALSE\")"
   ]
  },
  {
   "cell_type": "markdown",
   "id": "182c95ae",
   "metadata": {},
   "source": [
    "Or the following does the same"
   ]
  },
  {
   "cell_type": "code",
   "execution_count": 16,
   "id": "f15d8a8e",
   "metadata": {},
   "outputs": [
    {
     "name": "stdout",
     "output_type": "stream",
     "text": [
      "Condition1 is FALSE, Condition2 is TRUE\n"
     ]
    }
   ],
   "source": [
    "if Condition1 and Condition2:\n",
    "    print(\"Both conditions are TRUE\")\n",
    "elif Condition1 and not Condition2:\n",
    "    print(\"Condition1 is TRUE, Condition2 is FALSE\")\n",
    "elif Condition2:\n",
    "    print(\"Condition1 is FALSE, Condition2 is TRUE\")\n",
    "else:\n",
    "    print(\"Both conditions are FALSE\")"
   ]
  },
  {
   "cell_type": "markdown",
   "id": "0c1f3127",
   "metadata": {},
   "source": [
    "As does"
   ]
  },
  {
   "cell_type": "code",
   "execution_count": 17,
   "id": "4de65a0a",
   "metadata": {},
   "outputs": [
    {
     "name": "stdout",
     "output_type": "stream",
     "text": [
      "Condition1 is FALSE, Condition2 is TRUE\n"
     ]
    }
   ],
   "source": [
    "if Condition1 and Condition2:\n",
    "    print(\"Both conditions are TRUE\")\n",
    "\n",
    "if Condition1 and not Condition2:\n",
    "    print(\"Condition1 is TRUE, Condition2 is FALSE\")\n",
    "    \n",
    "if not Condition1 and Condition2:\n",
    "    print(\"Condition1 is FALSE, Condition2 is TRUE\")\n",
    "    \n",
    "if not Condition1 and not Condition2:\n",
    "    print(\"Both conditions are FALSE\")"
   ]
  },
  {
   "cell_type": "markdown",
   "id": "e443fbd8",
   "metadata": {},
   "source": [
    "It should be noted that we can ommit either/both `elif` and `else` as well as having as many `elif`s as we want."
   ]
  },
  {
   "cell_type": "markdown",
   "id": "63c02c61",
   "metadata": {},
   "source": [
    "## Try and Except \n",
    "<a class=\"anchor\" id=\"TryandExcept\"></a>"
   ]
  },
  {
   "cell_type": "markdown",
   "id": "26a01869",
   "metadata": {},
   "source": [
    "Testing code is an import way to find out where the problems are. The `try`-`except` "
   ]
  },
  {
   "cell_type": "code",
   "execution_count": 5,
   "id": "c6c34950",
   "metadata": {},
   "outputs": [
    {
     "name": "stdout",
     "output_type": "stream",
     "text": [
      "there is division by 0\n",
      "code is finished\n"
     ]
    }
   ],
   "source": [
    "try: # block of code...\n",
    "    print(hi) # this should be a string, otherwise we are calling a variable name that hasn't be assigned a value so a NameError will be given.\n",
    "    y = (1/0,5,7) # notice the 1/0 is not possible to compute and therefore a ZeroDivisionError error will be given\n",
    "    y[2] = 2 # y is a tupple wich cannot be changed so we will get a TypeError\n",
    "    \n",
    "except NameError: # executes variable's (or other object's) name is invalid\n",
    "    print('there was a name error')\n",
    "\n",
    "except ZeroDivisionError: # executes when a division by 0 is found\n",
    "    print('there is division by 0')\n",
    "    \n",
    "except TypeError: # if we try to do something with a type that doesn't have that functionality\n",
    "    print('there was a type error')\n",
    "\n",
    "except : # executes when a differnt problem found\n",
    "    print('there is a different problem')\n",
    "\n",
    "else: # executes when no problem found\n",
    "    print('no problem found')\n",
    "\n",
    "finally: # executes regardless of problem when block of code is finished\n",
    "    print('code is finished')"
   ]
  },
  {
   "cell_type": "markdown",
   "id": "5a696d2f",
   "metadata": {},
   "source": [
    "## While Loops \n",
    "<a class=\"anchor\" id=\"WhileLoops\"></a>"
   ]
  },
  {
   "cell_type": "markdown",
   "id": "cfdd7703",
   "metadata": {},
   "source": [
    "While loops will continuously execute a block of code so long as the condition upon which they depend is satisfied.\n",
    "\n",
    "![While loop](images/while_loop.png)"
   ]
  },
  {
   "cell_type": "code",
   "execution_count": 19,
   "id": "dc0aaa1c",
   "metadata": {},
   "outputs": [
    {
     "name": "stdout",
     "output_type": "stream",
     "text": [
      "0\n",
      "1\n",
      "1\n",
      "2\n",
      "3\n",
      "5\n",
      "8\n",
      "13\n",
      "21\n",
      "34\n",
      "55\n",
      "89\n"
     ]
    }
   ],
   "source": [
    "x=0\n",
    "y=1\n",
    "\n",
    "while x<100:\n",
    "    print(x)\n",
    "    x,y = y,x+y"
   ]
  },
  {
   "cell_type": "markdown",
   "id": "169e6989",
   "metadata": {},
   "source": [
    "## Range and Zip\n",
    "<a class=\"anchor\" id=\"RangeandZip\"></a>"
   ]
  },
  {
   "cell_type": "markdown",
   "id": "a4f446b2",
   "metadata": {},
   "source": [
    "The range class is very useful for loops as we will see next. Lets explore it, and see how we can use lists to visualise it."
   ]
  },
  {
   "cell_type": "code",
   "execution_count": 7,
   "id": "045f7734",
   "metadata": {},
   "outputs": [
    {
     "name": "stdout",
     "output_type": "stream",
     "text": [
      "<class 'range'>\n",
      "range(0, 10)\n",
      "[0, 1, 2, 3, 4, 5, 6, 7, 8, 9]\n"
     ]
    }
   ],
   "source": [
    "stop = 10\n",
    "x = range(stop)\n",
    "print(type(x))\n",
    "print(x)\n",
    "#Now lets cast to a list and print so we can see what this looks like\n",
    "\n",
    "x = list(x)\n",
    "\n",
    "print(x)"
   ]
  },
  {
   "cell_type": "markdown",
   "id": "204df154",
   "metadata": {},
   "source": [
    "Notice that we get a sequence running from 0-9, not 0-10!! It turns out we can add arguments in the parantheses to obtain a more specific sequence:"
   ]
  },
  {
   "cell_type": "code",
   "execution_count": 8,
   "id": "1c16a841",
   "metadata": {},
   "outputs": [
    {
     "name": "stdout",
     "output_type": "stream",
     "text": [
      "[10, 12, 14, 16, 18, 20, 22, 24, 26, 28, 30, 32, 34, 36, 38]\n"
     ]
    }
   ],
   "source": [
    "start = 10\n",
    "stop = 40\n",
    "step = 2\n",
    "\n",
    "x = range(start, stop, step)\n",
    "\n",
    "#We see range iterates from start to stop in increments of size step\n",
    "print(list(range(start, stop, step)))"
   ]
  },
  {
   "cell_type": "markdown",
   "id": "f06f6489",
   "metadata": {},
   "source": [
    "We see range iterates from `start` to `stop - 1` in increments of size `step`."
   ]
  },
  {
   "cell_type": "markdown",
   "id": "7369c5dd",
   "metadata": {},
   "source": [
    "It is useful to note the default vales of `range()`. If not given `start` is defaulted to `0` and `step` to `1`."
   ]
  },
  {
   "cell_type": "code",
   "execution_count": 9,
   "id": "52871f06",
   "metadata": {},
   "outputs": [
    {
     "name": "stdout",
     "output_type": "stream",
     "text": [
      "[0, 1, 2, 3, 4, 5, 6, 7, 8, 9]\n",
      "[3, 4, 5, 6, 7, 8]\n"
     ]
    }
   ],
   "source": [
    "print(list(range(10))) # if only one argument is given it is taken as \"stop\"\n",
    "\n",
    "print(list(range(3,9))) # if two arguments are given it is taken as \"start\" and \"stop\""
   ]
  },
  {
   "cell_type": "markdown",
   "id": "c23074b1",
   "metadata": {},
   "source": [
    "The `zip()` function takes in two iterable data structures and returns an iterator of two object tupples as shown."
   ]
  },
  {
   "cell_type": "code",
   "execution_count": 10,
   "id": "6f899a65",
   "metadata": {},
   "outputs": [
    {
     "name": "stdout",
     "output_type": "stream",
     "text": [
      "<class 'zip'>\n",
      "((1, 'one'), (2, 'two'), (3, 'three'))\n"
     ]
    }
   ],
   "source": [
    "a = [1,2,3,4] # doesn't matter if these are tuples or lists\n",
    "b = ('one', 'two', 'three')\n",
    "\n",
    "c = zip(a,b)\n",
    "\n",
    "print(type(c))\n",
    "\n",
    "print(tuple(c)) # we can't directly print zip type objects so we cast them into a \n",
    "#tuple (or list) to see their contents"
   ]
  },
  {
   "cell_type": "markdown",
   "id": "a88cc186",
   "metadata": {},
   "source": [
    "Each item is paired with its corresponding item in the structures. The length of this new object is determined by the shortest list as seen. This is a very useful object when we iterate over two objects."
   ]
  },
  {
   "cell_type": "markdown",
   "id": "3c6960fd",
   "metadata": {},
   "source": [
    "## For Loops \n",
    "<a class=\"anchor\" id=\"ForLoops\"></a>"
   ]
  },
  {
   "cell_type": "markdown",
   "id": "54ac3cfa",
   "metadata": {},
   "source": [
    "Loops are useful for iterable processes, which are very common in the programming world. Here we illustrate the use of a `for` loop which is used together with iterable objects like lists.\n",
    "\n",
    "![For loop](images/for_loop.png)"
   ]
  },
  {
   "cell_type": "code",
   "execution_count": 11,
   "id": "a5634c58",
   "metadata": {},
   "outputs": [
    {
     "name": "stdout",
     "output_type": "stream",
     "text": [
      "2\n",
      "4\n",
      "5\n",
      "6\n",
      "7\n",
      "11\n",
      "24\n",
      "6\n"
     ]
    }
   ],
   "source": [
    "L = [2,4,5,6,7,11,24,6]\n",
    "\n",
    "for i in L:\n",
    "    print(i)"
   ]
  },
  {
   "cell_type": "markdown",
   "id": "83f334aa",
   "metadata": {},
   "source": [
    "We saw the range function before, which is very useful when combined with loops"
   ]
  },
  {
   "cell_type": "code",
   "execution_count": 21,
   "id": "85d35d64",
   "metadata": {},
   "outputs": [
    {
     "name": "stdout",
     "output_type": "stream",
     "text": [
      "Fib 1 : 0\n",
      "Fib 2 : 1\n",
      "Fib 3 : 1\n",
      "Fib 4 : 2\n",
      "Fib 5 : 3\n",
      "Fib 6 : 5\n",
      "Fib 7 : 8\n",
      "Fib 8 : 13\n",
      "Fib 9 : 21\n",
      "Fib 10 : 34\n",
      "Fib 11 : 55\n",
      "Fib 12 : 89\n",
      "Fib 13 : 144\n",
      "Fib 14 : 233\n",
      "Fib 15 : 377\n",
      "Fib 16 : 610\n",
      "Fib 17 : 987\n",
      "Fib 18 : 1597\n",
      "Fib 19 : 2584\n"
     ]
    }
   ],
   "source": [
    "#The Fibonacci Sequence:\n",
    "x=0\n",
    "y=1\n",
    "\n",
    "\n",
    "for i in range(1,20):\n",
    "    print('Fib',i,':',x)\n",
    "    x,y = y,x+y"
   ]
  },
  {
   "cell_type": "markdown",
   "id": "1280e3b0",
   "metadata": {},
   "source": [
    "Sometimes we want to use both the placement of an object and the object itself. For this the `enumerate()` function is useful"
   ]
  },
  {
   "cell_type": "code",
   "execution_count": 13,
   "id": "d2788abf",
   "metadata": {},
   "outputs": [
    {
     "name": "stdout",
     "output_type": "stream",
     "text": [
      "0 first\n",
      "1 second\n",
      "2 third\n"
     ]
    }
   ],
   "source": [
    "words = ('first', 'second', 'third')\n",
    "\n",
    "for i, word in enumerate(words): # notice the two \n",
    "    print(i,word)"
   ]
  },
  {
   "cell_type": "markdown",
   "id": "f85475a7",
   "metadata": {},
   "source": [
    "We can also iterate over two objects using `zip()`"
   ]
  },
  {
   "cell_type": "code",
   "execution_count": 14,
   "id": "c47680c1",
   "metadata": {},
   "outputs": [
    {
     "name": "stdout",
     "output_type": "stream",
     "text": [
      "1 one\n",
      "2 two\n",
      "3 three\n"
     ]
    }
   ],
   "source": [
    "a = [1,2,3,4] \n",
    "b = ('one', 'two', 'three')\n",
    "\n",
    "for i,j in zip(a,b):\n",
    "    print(i, j)"
   ]
  },
  {
   "cell_type": "markdown",
   "id": "5ec639fd",
   "metadata": {},
   "source": [
    "or using dictionaries, the keys will be iterated over. The `.items` attribute will allow you to iterate over both the keys and the values in a similar way to `zip()`."
   ]
  },
  {
   "cell_type": "code",
   "execution_count": 22,
   "id": "f62405cc",
   "metadata": {},
   "outputs": [
    {
     "name": "stdout",
     "output_type": "stream",
     "text": [
      "planck -> 6.62607015e-34\n",
      "speed of light -> 299792458\n",
      "pi -> 3.14159265359\n",
      "\n",
      "\n",
      "planck -> 6.62607015e-34\n",
      "speed of light -> 299792458\n",
      "pi -> 3.14159265359\n"
     ]
    }
   ],
   "source": [
    "QM_Constants = {\n",
    "    'planck' : 6.62607015e-34,\n",
    "    'speed of light' : 299792458,\n",
    "    'pi' : 3.14159265359}\n",
    "\n",
    "for i in QM_Constants: # will iterate over keys of the dictionary\n",
    "    print(i,'->',QM_Constants[i])\n",
    "\n",
    "print('\\n')\n",
    "\n",
    "for i,j in QM_Constants.items(): # .items() makes the dictionary an iterator of two object tuples\n",
    "    print(i,'->',j)"
   ]
  },
  {
   "cell_type": "markdown",
   "id": "e17c95f7",
   "metadata": {},
   "source": [
    "## Break, Continue, Pass \n",
    "<a class=\"anchor\" id=\"BCP\"></a>"
   ]
  },
  {
   "cell_type": "markdown",
   "id": "d1f51a39",
   "metadata": {},
   "source": [
    "Using `break` stops a loop. "
   ]
  },
  {
   "cell_type": "code",
   "execution_count": 30,
   "id": "a8255eca",
   "metadata": {},
   "outputs": [
    {
     "name": "stdout",
     "output_type": "stream",
     "text": [
      "0\n",
      "I'm still iterating\n",
      "1\n",
      "I'm still iterating\n",
      "2\n",
      "I'm still iterating\n",
      "3\n",
      "I'm still iterating\n",
      "4\n",
      "I'm still iterating\n",
      "5\n",
      "Uh oh! STOP!\n"
     ]
    }
   ],
   "source": [
    "i = 0\n",
    "\n",
    "while i==i:\n",
    "    print(i)\n",
    "    i=i+1\n",
    "    if i>5:\n",
    "        print(\"Uh oh! STOP!\")\n",
    "        break # Stops a loop\n",
    "    print(\"I'm still iterating\")"
   ]
  },
  {
   "cell_type": "markdown",
   "id": "d455f3cb",
   "metadata": {},
   "source": [
    "Using `continue` skips the rest of the code in that iteration of the loop and imediately moves onto the next."
   ]
  },
  {
   "cell_type": "code",
   "execution_count": 31,
   "id": "7c222700",
   "metadata": {},
   "outputs": [
    {
     "name": "stdout",
     "output_type": "stream",
     "text": [
      "0\n",
      "i is less than 5\n",
      "1\n",
      "i is less than 5\n",
      "2\n",
      "i is less than 5\n",
      "3\n",
      "i is less than 5\n",
      "4\n",
      "i is less than 5\n",
      "5\n",
      "6\n",
      "7\n",
      "8\n",
      "9\n"
     ]
    }
   ],
   "source": [
    "for i in range(10):\n",
    "    print(i)\n",
    "    if i>=5:\n",
    "        continue # Moves us to the next iteration in the loop and ignores any code that follows\n",
    "    print(\"i is less than 5\")"
   ]
  },
  {
   "cell_type": "markdown",
   "id": "2339a1a1",
   "metadata": {},
   "source": [
    "The main function of `pass` is to fulfill a syntactical requirement; that is that something is required in a claus (bit of indented code after a colon (`:`). Often a useful placeholder that still alows for code to function when incomplete."
   ]
  },
  {
   "cell_type": "code",
   "execution_count": 32,
   "id": "03eecc99",
   "metadata": {},
   "outputs": [
    {
     "name": "stdout",
     "output_type": "stream",
     "text": [
      "0\n",
      "1\n",
      "2\n",
      "3\n",
      "4\n",
      "5\n",
      "6\n",
      "7\n",
      "8\n",
      "9\n"
     ]
    }
   ],
   "source": [
    "i=0\n",
    "\n",
    "while i<10:\n",
    "    print(i)\n",
    "    i=i+1\n",
    "    if i>5:\n",
    "        pass # pass just moves on to the following code"
   ]
  }
 ],
 "metadata": {
  "kernelspec": {
   "display_name": "Python 3 (ipykernel)",
   "language": "python",
   "name": "python3"
  },
  "language_info": {
   "codemirror_mode": {
    "name": "ipython",
    "version": 3
   },
   "file_extension": ".py",
   "mimetype": "text/x-python",
   "name": "python",
   "nbconvert_exporter": "python",
   "pygments_lexer": "ipython3",
   "version": "3.9.13"
  }
 },
 "nbformat": 4,
 "nbformat_minor": 5
}
