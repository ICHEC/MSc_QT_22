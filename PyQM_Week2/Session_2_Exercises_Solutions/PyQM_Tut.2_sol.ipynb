{
 "cells": [
  {
   "cell_type": "markdown",
   "metadata": {
    "cell_id": "00000-02bed928-a705-4cae-bf8a-f786a301963f",
    "deepnote_cell_type": "markdown",
    "tags": []
   },
   "source": [
    "<center>\n",
    "\n",
    "# Python For Quantum Mechanics: \n",
    "# Week 2: Tutorial\n",
    "\n",
    "</center>"
   ]
  },
  {
   "cell_type": "markdown",
   "metadata": {
    "cell_id": "00005-6a6f2e0a-4e96-4550-94f6-3ac347021b96",
    "deepnote_cell_type": "markdown",
    "tags": []
   },
   "source": [
    "## Exercise 1: Convert Decimal To Ten Bit Binary String\n",
    "\n",
    "In this exercise we want to convert a decimal number to a binary string with exactly ten character bits. For example,\n",
    "\n",
    " $$ 1_{decimal} = 1_{binary} = 0000000001_{binary}$$ \n",
    "\n",
    " or\n",
    "\n",
    "  $$ 10_{decimal} = 1010_{binary} = 0000001010_{binary}$$\n",
    "\n",
    "Create code that converts a decimal to binary, `bin(decimal)`, removes the proceding `0b`, and adds in the required amount of 0s to make it a ten character string. If the binary has more than ten bits, slice the string so it contains only the last 10 bits. Prompt the user with the `input()` function for a decimal number.\n",
    "\n",
    "*Hint:* `bin(decimal)` *returns a string. Use string manipulation, and a conditional to differentiate between strings with less than or more than ten bits.*"
   ]
  },
  {
   "cell_type": "code",
   "execution_count": 23,
   "metadata": {
    "cell_id": "00002-51f2d229-2af1-4d80-b41c-20032ab7bde1",
    "deepnote_cell_type": "code",
    "deepnote_to_be_reexecuted": false,
    "execution_millis": 0,
    "execution_start": 1624876938766,
    "source_hash": "b70aa729",
    "tags": []
   },
   "outputs": [
    {
     "name": "stdout",
     "output_type": "stream",
     "text": [
      "0b10010010\n"
     ]
    }
   ],
   "source": [
    "print(bin(146))"
   ]
  },
  {
   "cell_type": "code",
   "execution_count": 2,
   "metadata": {
    "cell_id": "00003-4a8133ee-2401-4047-928e-353954bc9b6a",
    "deepnote_cell_type": "code",
    "deepnote_to_be_reexecuted": false,
    "execution_millis": 5242,
    "execution_start": 1624624835893,
    "source_hash": "4ebce97f",
    "tags": []
   },
   "outputs": [
    {
     "name": "stdout",
     "output_type": "stream",
     "text": [
      "Enter a decimal number: 65\n",
      "decimal number =  65\n",
      "Original binary =  0b1000001\n",
      "10 bit binary =  0001000001\n"
     ]
    }
   ],
   "source": [
    "decimal = int(input('Enter an integer in decimal: '))\n",
    "\n",
    "old_binary = bin(decimal)\n",
    "print('Original binary = ',old_binary)\n",
    "old_binary = old_binary[2:]\n",
    "\n",
    "if len(old_binary) <= 10:\n",
    "    zeros = '0'*(10 - len(old_binary))\n",
    "    new_binary = zeros + old_binary\n",
    "else:\n",
    "    new_binary = old_binary[-10:]\n",
    "\n",
    "print('10 bit binary = ',new_binary)"
   ]
  },
  {
   "cell_type": "markdown",
   "metadata": {
    "cell_id": "00004-0f967908-ea56-4c30-b3e7-8211a547ba95",
    "deepnote_cell_type": "markdown",
    "tags": []
   },
   "source": [
    "If we wanted to make the number of bits an arbitrary amount, rather than just 10, rewrite the code in such a way to accomplish this."
   ]
  },
  {
   "cell_type": "code",
   "execution_count": 28,
   "metadata": {
    "cell_id": "00005-e525407c-206f-4ca0-876e-06357963983c",
    "deepnote_cell_type": "code",
    "deepnote_to_be_reexecuted": false,
    "execution_millis": 11452,
    "execution_start": 1624625002859,
    "source_hash": "ffa7d701",
    "tags": []
   },
   "outputs": [
    {
     "name": "stdout",
     "output_type": "stream",
     "text": [
      "Enter an integer in decimal: 67898\n",
      "Enter the number of bits available: 56\n",
      "Original binary =  0b10000100100111010\n",
      "56 bit binary =  00000000000000000000000000000000000000010000100100111010\n"
     ]
    }
   ],
   "source": [
    "decimal = int(input('Enter an integer in decimal: '))\n",
    "bit_number = int(input('Enter the number of bits available: '))\n",
    "\n",
    "old_binary = bin(decimal)\n",
    "print('Original binary = ',old_binary)\n",
    "old_binary = old_binary[2:]\n",
    "\n",
    "\n",
    "if len(old_binary) <=bit_number:\n",
    "    zeros = '0'*(bit_number - len(old_binary))\n",
    "    new_binary = zeros + old_binary\n",
    "else:\n",
    "    new_binary = old_binary[-bit_number:]\n",
    "\n",
    "print('{} bit binary = '.format(bit_number),new_binary)"
   ]
  },
  {
   "cell_type": "markdown",
   "metadata": {
    "cell_id": "00006-1b21ff2a-197f-41be-ad40-069aa19da779",
    "deepnote_cell_type": "markdown",
    "tags": []
   },
   "source": [
    "Given some arbitrary fixed number of bits, what is the largest decimal number you can represent with those bits? "
   ]
  },
  {
   "cell_type": "code",
   "execution_count": 32,
   "metadata": {
    "cell_id": "00007-bad1bbaf-511c-4e77-b962-e33024078e90",
    "deepnote_cell_type": "code",
    "deepnote_to_be_reexecuted": false,
    "execution_millis": 10,
    "execution_start": 1624624103570,
    "source_hash": "f551c0a",
    "tags": []
   },
   "outputs": [
    {
     "name": "stdout",
     "output_type": "stream",
     "text": [
      "Enter the number of bits: 6\n",
      "binary =  111111\n",
      "decimal =  63\n"
     ]
    }
   ],
   "source": [
    "bit_number = int(input('Enter the number of bits: '))\n",
    "binary = bit_number*'1'\n",
    "print('binary = ',binary)\n",
    "\n",
    "largest = int(binary, 2)\n",
    "\n",
    "print('decimal = ',largest)"
   ]
  },
  {
   "cell_type": "markdown",
   "metadata": {},
   "source": [
    "It should also be noted that the `format()` function does this very well. \n",
    "\n",
    "```format(integer, '010b')```\n",
    "\n",
    "This will make a string with binary that will have a lenth of at least 10 and if will pad the excess with 0s (0 is specified to pad as it comes before the 10 in the `'010b'`). Do the same using this."
   ]
  },
  {
   "cell_type": "code",
   "execution_count": 50,
   "metadata": {},
   "outputs": [
    {
     "name": "stdout",
     "output_type": "stream",
     "text": [
      "Enter an integer in decimal: 780987\n",
      "Enter the number of bits available: 10\n",
      "binary = 1010111011\n"
     ]
    }
   ],
   "source": [
    "decimal = int(input('Enter an integer in decimal: '))\n",
    "bit_number = int(input('Enter the number of bits available: '))\n",
    "\n",
    "binary = format(decimal, '0'+str(bit_number)+'b')[-bit_number:]\n",
    "\n",
    "print('binary =', binary)"
   ]
  },
  {
   "cell_type": "markdown",
   "metadata": {
    "cell_id": "00008-be83c5e7-f89f-4e23-acc3-fa520126e77c",
    "deepnote_cell_type": "markdown",
    "tags": []
   },
   "source": [
    "## Exercise 2: For Loops, Sequence Sum\n",
    "\n",
    "Prompt the user to input a positive integer number $n$. Calculate the sum $$1+2+3+...+n $$ using a for loop. Print the answer"
   ]
  },
  {
   "cell_type": "code",
   "execution_count": 58,
   "metadata": {
    "cell_id": "00009-64a66700-294d-4aab-9d14-45fdb6558f7a",
    "deepnote_cell_type": "code",
    "deepnote_to_be_reexecuted": false,
    "execution_millis": 3020,
    "execution_start": 1624625924169,
    "source_hash": "e8fedf75",
    "tags": []
   },
   "outputs": [
    {
     "name": "stdout",
     "output_type": "stream",
     "text": [
      "Enter a positive integer: 67\n",
      "2278\n"
     ]
    }
   ],
   "source": [
    "n = int(input('Enter a positive integer: '))\n",
    "\n",
    "nsum = 0\n",
    "for i in range(n):\n",
    "    nsum += i+1\n",
    "print(nsum)"
   ]
  },
  {
   "cell_type": "markdown",
   "metadata": {},
   "source": [
    "Now do the same using a generator comprehension and a `sum()` function. "
   ]
  },
  {
   "cell_type": "code",
   "execution_count": 1,
   "metadata": {},
   "outputs": [
    {
     "name": "stdout",
     "output_type": "stream",
     "text": [
      "Enter a positive integer: 6578\n",
      "21638331\n"
     ]
    }
   ],
   "source": [
    "n = int(input('Enter a positive integer: '))\n",
    "\n",
    "nsum = sum([i for i in range(1,n+1)])\n",
    "\n",
    "print(nsum)"
   ]
  },
  {
   "cell_type": "markdown",
   "metadata": {},
   "source": [
    "Now try by just summing a `range`."
   ]
  },
  {
   "cell_type": "code",
   "execution_count": 1,
   "metadata": {},
   "outputs": [
    {
     "name": "stdout",
     "output_type": "stream",
     "text": [
      "Enter a positive integer: 5\n",
      "15\n"
     ]
    }
   ],
   "source": [
    "n = int(input('Enter a positive integer: '))\n",
    "\n",
    "nsum = sum(range(1,n+1))\n",
    "\n",
    "print(nsum)"
   ]
  },
  {
   "cell_type": "markdown",
   "metadata": {
    "cell_id": "00010-7e5952bc-a05b-441d-af41-7799925b06c8",
    "deepnote_cell_type": "markdown",
    "tags": []
   },
   "source": [
    "Alternatively, we could use the formula $$1+2+3+...+n = \\frac{n(n+1)}{2}$$. Check to see our for loop returns the value obtained from the formula. Print a Boolean answer."
   ]
  },
  {
   "cell_type": "code",
   "execution_count": 77,
   "metadata": {
    "cell_id": "00011-b8b03db6-14c8-4fa2-9053-16bc5c8dc793",
    "deepnote_cell_type": "code",
    "deepnote_to_be_reexecuted": false,
    "execution_millis": 4634,
    "execution_start": 1624626259471,
    "source_hash": "35d99a26",
    "tags": []
   },
   "outputs": [
    {
     "name": "stdout",
     "output_type": "stream",
     "text": [
      "Enter a positive integer: 678\n",
      "The sum of positive integers up to the number specified is:  230181\n",
      "Is this the same answer as that from the formula, true or false?:  True\n"
     ]
    }
   ],
   "source": [
    "n = int(input('Enter a positive integer: '))\n",
    "formula = n*(n+1)/2\n",
    "\n",
    "nsum = sum(range(1,n+1))\n",
    "\n",
    "print('The sum of positive integers up to the number specified is: ',nsum)\n",
    "print('Is this the same answer as that from the formula, true or false?: ', nsum==formula)"
   ]
  },
  {
   "cell_type": "markdown",
   "metadata": {
    "cell_id": "00012-260a1fd2-b9b3-4bae-bf0d-62171ddc35e0",
    "deepnote_cell_type": "markdown",
    "tags": []
   },
   "source": [
    "## Exercise 3: While Loops, Reverse A Given Number\n",
    "\n",
    "Prompt the user to input a positive integer number. Using a while loop reverse the number. For example: $$ 257864 \\rightarrow 468752 $$ \n",
    "\n",
    "(Hint: 257864 % 10 = 4)"
   ]
  },
  {
   "cell_type": "code",
   "execution_count": 7,
   "metadata": {
    "cell_id": "00013-a718637d-f367-4c5a-b310-a536b758b6e5",
    "deepnote_cell_type": "code",
    "deepnote_to_be_reexecuted": false,
    "execution_millis": 10057,
    "execution_start": 1624883790382,
    "source_hash": "2990324c",
    "tags": []
   },
   "outputs": [
    {
     "name": "stdout",
     "output_type": "stream",
     "text": [
      "Enter a positive integer: 678\n",
      "Integer =  678\n",
      "Reversed Integer =  876\n"
     ]
    }
   ],
   "source": [
    "number = int(input('Enter a positive integer: '))\n",
    "print(\"Integer = \", number)\n",
    "\n",
    "reverse = 0\n",
    "while number > 0:\n",
    "    remainder = number % 10\n",
    "    reverse = reverse*10 + remainder\n",
    "    number = number // 10\n",
    "\n",
    "print(\"Reversed Integer =\", reverse)"
   ]
  },
  {
   "cell_type": "markdown",
   "metadata": {},
   "source": [
    "However loops are not always the best way to do this. Try again using strings."
   ]
  },
  {
   "cell_type": "code",
   "execution_count": 13,
   "metadata": {},
   "outputs": [
    {
     "name": "stdout",
     "output_type": "stream",
     "text": [
      "Enter a positive integer: 5478\n",
      "Integer = 5478\n",
      "Reversed Integer = 8745\n"
     ]
    }
   ],
   "source": [
    "number = input('Enter a positive integer: ')\n",
    "print(\"Integer =\", int(number))\n",
    "\n",
    "reverse = number[::-1]\n",
    "reverse = int(reverse)\n",
    "\n",
    "print(\"Reversed Integer =\", reverse)"
   ]
  },
  {
   "cell_type": "markdown",
   "metadata": {},
   "source": [
    "Or in one line."
   ]
  },
  {
   "cell_type": "code",
   "execution_count": 15,
   "metadata": {},
   "outputs": [
    {
     "name": "stdout",
     "output_type": "stream",
     "text": [
      "Enter a positive integer: 687965\n",
      "Reversed Integer = 569786\n"
     ]
    }
   ],
   "source": [
    "reverse = input('Enter a positive integer: ')[::-1]\n",
    "print(\"Reversed Integer =\", reverse)"
   ]
  },
  {
   "cell_type": "markdown",
   "metadata": {
    "cell_id": "00014-28951a3c-5d31-4939-b230-caba0222b9fd",
    "deepnote_cell_type": "markdown",
    "tags": []
   },
   "source": [
    "## Exercise 4: List Comprehensions\n",
    "\n",
    "Using list comprehensions, create a list of all the even numbers from 0 $\\rightarrow$ 1000 that are not divisible by 4."
   ]
  },
  {
   "cell_type": "code",
   "execution_count": null,
   "metadata": {
    "cell_id": "00015-b0fe9d20-d77a-4ab0-a3ae-6e0453f629b6",
    "deepnote_cell_type": "code",
    "deepnote_to_be_reexecuted": false,
    "execution_millis": 1,
    "execution_start": 1624887079369,
    "source_hash": "a665de46",
    "tags": []
   },
   "outputs": [
    {
     "name": "stdout",
     "output_type": "stream",
     "text": [
      "[2, 6, 10, 14, 18, 22, 26, 30, 34, 38, 42, 46, 50, 54, 58, 62, 66, 70, 74, 78, 82, 86, 90, 94, 98, 102, 106, 110, 114, 118, 122, 126, 130, 134, 138, 142, 146, 150, 154, 158, 162, 166, 170, 174, 178, 182, 186, 190, 194, 198, 202, 206, 210, 214, 218, 222, 226, 230, 234, 238, 242, 246, 250, 254, 258, 262, 266, 270, 274, 278, 282, 286, 290, 294, 298, 302, 306, 310, 314, 318, 322, 326, 330, 334, 338, 342, 346, 350, 354, 358, 362, 366, 370, 374, 378, 382, 386, 390, 394, 398, 402, 406, 410, 414, 418, 422, 426, 430, 434, 438, 442, 446, 450, 454, 458, 462, 466, 470, 474, 478, 482, 486, 490, 494, 498, 502, 506, 510, 514, 518, 522, 526, 530, 534, 538, 542, 546, 550, 554, 558, 562, 566, 570, 574, 578, 582, 586, 590, 594, 598, 602, 606, 610, 614, 618, 622, 626, 630, 634, 638, 642, 646, 650, 654, 658, 662, 666, 670, 674, 678, 682, 686, 690, 694, 698, 702, 706, 710, 714, 718, 722, 726, 730, 734, 738, 742, 746, 750, 754, 758, 762, 766, 770, 774, 778, 782, 786, 790, 794, 798, 802, 806, 810, 814, 818, 822, 826, 830, 834, 838, 842, 846, 850, 854, 858, 862, 866, 870, 874, 878, 882, 886, 890, 894, 898, 902, 906, 910, 914, 918, 922, 926, 930, 934, 938, 942, 946, 950, 954, 958, 962, 966, 970, 974, 978, 982, 986, 990, 994, 998]\n"
     ]
    }
   ],
   "source": [
    "L = [x for x in range(1001) if (x%2==0 and x%4!=0)]\n",
    "print(L)"
   ]
  },
  {
   "cell_type": "markdown",
   "metadata": {
    "cell_id": "00016-adf0bceb-b5d9-41e2-8fd5-9bd47d8f28b2",
    "deepnote_cell_type": "markdown",
    "tags": []
   },
   "source": [
    "A year is a leap year when it is divisible by 4, not divisible by 100 unless it is divisible by 400. Create a list containing leap years from year $1890 \\rightarrow 2050$"
   ]
  },
  {
   "cell_type": "code",
   "execution_count": 62,
   "metadata": {
    "cell_id": "00016-8e7bef0f-7161-4ee9-b9c7-1b82145a6b93",
    "deepnote_cell_type": "code",
    "deepnote_to_be_reexecuted": false,
    "execution_millis": 7,
    "execution_start": 1624889493881,
    "source_hash": "14117288",
    "tags": []
   },
   "outputs": [
    {
     "name": "stdout",
     "output_type": "stream",
     "text": [
      "[1892, 1896, 1904, 1908, 1912, 1916, 1920, 1924, 1928, 1932, 1936, 1940, 1944, 1948, 1952, 1956, 1960, 1964, 1968, 1972, 1976, 1980, 1984, 1988, 1992, 1996, 2000, 2004, 2008, 2012, 2016, 2020, 2024, 2028, 2032, 2036, 2040, 2044, 2048]\n"
     ]
    }
   ],
   "source": [
    "Leap = [x for x in range(1890,2051) if (x%4==0 and x%100!=0) or x%400==0]\n",
    "print(Leap)"
   ]
  },
  {
   "cell_type": "markdown",
   "metadata": {},
   "source": [
    "Make a list of all the primes less than 100 using list comprehensions."
   ]
  },
  {
   "cell_type": "code",
   "execution_count": 24,
   "metadata": {},
   "outputs": [
    {
     "name": "stdout",
     "output_type": "stream",
     "text": [
      "[2, 3, 5, 7, 11, 13, 17, 19, 23, 29, 31, 37, 41, 43, 47, 53, 59, 61, 67, 71, 73, 79, 83, 89, 97]\n"
     ]
    }
   ],
   "source": [
    "l = [x for x in range(2,100) if not [0 for i in range(2,x) if x%i==0]]\n",
    "print(l)"
   ]
  },
  {
   "cell_type": "code",
   "execution_count": 26,
   "metadata": {},
   "outputs": [
    {
     "name": "stdout",
     "output_type": "stream",
     "text": [
      "[2, 3, 5, 7, 11, 13, 17, 19, 23, 29, 31, 37, 41, 43, 47, 53, 59, 61, 67, 71, 73, 79, 83, 89, 97]\n"
     ]
    }
   ],
   "source": [
    "m=100\n",
    "l = list(set(range(2,m))-{x*y for x in range(2,m) for y in range(2,m)})\n",
    "print(l)"
   ]
  },
  {
   "cell_type": "markdown",
   "metadata": {},
   "source": [
    "## Bonus Question\n",
    "\n",
    "What will this code print?"
   ]
  },
  {
   "cell_type": "code",
   "execution_count": null,
   "metadata": {},
   "outputs": [],
   "source": [
    "import numpy.random as rnd\n",
    "\n",
    "n = 1000000\n",
    "print(4*sum(rnd.random(n)**2 + rnd.random(n)**2 < 1)/n)"
   ]
  },
  {
   "cell_type": "markdown",
   "metadata": {
    "cell_id": "00016-6f5209e4-d25b-48a3-99ea-6198f23b1c4d",
    "deepnote_cell_type": "markdown",
    "tags": []
   },
   "source": [
    "## Exercise 5: DNA\n",
    "\n",
    "Read in the file named 'DNA.txt' and count the number of times the base C occurs. Recall a DNA sequence contains bases A,C,G and T."
   ]
  },
  {
   "cell_type": "code",
   "execution_count": 69,
   "metadata": {
    "cell_id": "00021-039bb306-ff53-48ac-b7de-335f29e5b986",
    "deepnote_cell_type": "code",
    "deepnote_to_be_reexecuted": false,
    "execution_millis": 10,
    "execution_start": 1624999994006,
    "source_hash": "6b579f38",
    "tags": []
   },
   "outputs": [
    {
     "name": "stdout",
     "output_type": "stream",
     "text": [
      "Base C occurs 1452 times in this DNA sequence\n"
     ]
    }
   ],
   "source": [
    "with open(\"DNA.txt\",\"r\") as f:\n",
    "    base = 'C'\n",
    "    count = 0\n",
    "\n",
    "    for line in f:\n",
    "        for char in line:\n",
    "            if char==base:\n",
    "                count +=1\n",
    "            \n",
    "print('Base {} occurs {} times in this DNA sequence'.format(base,count))"
   ]
  },
  {
   "cell_type": "markdown",
   "metadata": {
    "cell_id": "00021-9d67073a-4cbb-4d6c-aee3-96e651b2ada2",
    "deepnote_cell_type": "code",
    "deepnote_to_be_reexecuted": false,
    "execution_millis": 14,
    "execution_start": 1625000045297,
    "source_hash": "f563e24d",
    "tags": []
   },
   "source": [
    "Now try using a generator comprehension and `sum()`"
   ]
  },
  {
   "cell_type": "code",
   "execution_count": 2,
   "metadata": {},
   "outputs": [
    {
     "name": "stdout",
     "output_type": "stream",
     "text": [
      "Base C occurs 1452 times in this DNA sequence\n"
     ]
    }
   ],
   "source": [
    "with open(\"DNA.txt\",\"r\") as f:\n",
    "    count = sum(1 for char in f.read() if char=='C')\n",
    "\n",
    "print('Base {} occurs {} times in this DNA sequence'.format('C',count))"
   ]
  },
  {
   "cell_type": "markdown",
   "metadata": {},
   "source": [
    "## Exercise 6: Collatz Conjecture\n",
    "If we take any positive integer and if it's even divide it by two and if it's odd multiply it by three and add one. Do this successivly again and again. Verify that we always get back to 1."
   ]
  },
  {
   "cell_type": "code",
   "execution_count": 2,
   "metadata": {},
   "outputs": [
    {
     "name": "stdout",
     "output_type": "stream",
     "text": [
      "positive integer: 67\n",
      "67\n",
      "202\n",
      "101\n",
      "304\n",
      "152\n",
      "76\n",
      "38\n",
      "19\n",
      "58\n",
      "29\n",
      "88\n",
      "44\n",
      "22\n",
      "11\n",
      "34\n",
      "17\n",
      "52\n",
      "26\n",
      "13\n",
      "40\n",
      "20\n",
      "10\n",
      "5\n",
      "16\n",
      "8\n",
      "4\n",
      "2\n",
      "1\n"
     ]
    }
   ],
   "source": [
    "x = int(input('positive integer: '))\n",
    "\n",
    "while x != 1:\n",
    "    print(x)\n",
    "    if x%2:\n",
    "        x = 3*x+1\n",
    "    else:\n",
    "        x //= 2\n",
    "        \n",
    "print(x)"
   ]
  },
  {
   "cell_type": "markdown",
   "metadata": {},
   "source": [
    "## Exercise 7: Fizz Buzz\n",
    "Print out numbers in order. Every time there is a multiple of 3 print 'Fizz' instead. Every time there is a multiple of 5 print 'Buzz'. Every time there is both print 'Fizz Buzz'."
   ]
  },
  {
   "cell_type": "code",
   "execution_count": 27,
   "metadata": {},
   "outputs": [
    {
     "name": "stdout",
     "output_type": "stream",
     "text": [
      "1\n",
      "2\n",
      "Fizz \n",
      "4\n",
      "Buzz\n",
      "Fizz \n",
      "7\n",
      "8\n",
      "Fizz \n",
      "Buzz\n",
      "11\n",
      "Fizz \n",
      "13\n",
      "14\n",
      "Fizz Buzz\n",
      "16\n",
      "17\n",
      "Fizz \n",
      "19\n"
     ]
    }
   ],
   "source": [
    "for i in range(1,20):\n",
    "    fb = ''\n",
    "    if not i%3:\n",
    "        fb+='Fizz '\n",
    "    if not i%5:\n",
    "        fb+='Buzz'\n",
    "    if not fb:\n",
    "        fb+=str(i)\n",
    "    print(fb)"
   ]
  }
 ],
 "metadata": {
  "deepnote": {
   "is_reactive": false
  },
  "deepnote_execution_queue": [],
  "deepnote_notebook_id": "306c39d2-aca8-4e42-8856-f5e25ad02ff5",
  "kernelspec": {
   "display_name": "Python 3 (ipykernel)",
   "language": "python",
   "name": "python3"
  },
  "language_info": {
   "codemirror_mode": {
    "name": "ipython",
    "version": 3
   },
   "file_extension": ".py",
   "mimetype": "text/x-python",
   "name": "python",
   "nbconvert_exporter": "python",
   "pygments_lexer": "ipython3",
   "version": "3.9.14"
  }
 },
 "nbformat": 4,
 "nbformat_minor": 2
}
