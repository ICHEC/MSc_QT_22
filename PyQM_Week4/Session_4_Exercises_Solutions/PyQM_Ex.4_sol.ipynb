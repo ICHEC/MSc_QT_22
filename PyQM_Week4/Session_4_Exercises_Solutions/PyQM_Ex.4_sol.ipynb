{
 "cells": [
  {
   "cell_type": "markdown",
   "id": "012cc2d4",
   "metadata": {},
   "source": [
    "<center>\n",
    "\n",
    "# Python for Quantum Mechanics: \n",
    "# Week 4 Exercises\n",
    "\n",
    "</center>"
   ]
  },
  {
   "cell_type": "code",
   "execution_count": 1,
   "id": "a00b9203",
   "metadata": {},
   "outputs": [],
   "source": [
    "import numpy as np\n",
    "import numpy.random as rnd"
   ]
  },
  {
   "cell_type": "markdown",
   "id": "b87e1ef0",
   "metadata": {},
   "source": [
    "<center>\n",
    "\n",
    "## Exercise 1: Triggy Problem\n",
    "\n",
    "</center>\n",
    "\n",
    "Create arrays, of $sin(x)$ and $cos(x)$, with 100 elements that ranges between $-\\pi$ and $\\pi$. Round the arrays to three decimal places."
   ]
  },
  {
   "cell_type": "code",
   "execution_count": 36,
   "id": "0f412805",
   "metadata": {},
   "outputs": [
    {
     "name": "stdout",
     "output_type": "stream",
     "text": [
      "arr1 =  [-0.    -0.063 -0.127 -0.189 -0.251 -0.312 -0.372 -0.43  -0.486 -0.541\n",
      " -0.593 -0.643 -0.69  -0.735 -0.776 -0.815 -0.85  -0.881 -0.91  -0.934\n",
      " -0.955 -0.972 -0.985 -0.994 -0.999 -1.    -0.997 -0.99  -0.979 -0.964\n",
      " -0.945 -0.922 -0.896 -0.866 -0.833 -0.796 -0.756 -0.713 -0.667 -0.618\n",
      " -0.567 -0.514 -0.458 -0.401 -0.342 -0.282 -0.22  -0.158 -0.095 -0.032\n",
      "  0.032  0.095  0.158  0.22   0.282  0.342  0.401  0.458  0.514  0.567\n",
      "  0.618  0.667  0.713  0.756  0.796  0.833  0.866  0.896  0.922  0.945\n",
      "  0.964  0.979  0.99   0.997  1.     0.999  0.994  0.985  0.972  0.955\n",
      "  0.934  0.91   0.881  0.85   0.815  0.776  0.735  0.69   0.643  0.593\n",
      "  0.541  0.486  0.43   0.372  0.312  0.251  0.189  0.127  0.063  0.   ]\n"
     ]
    }
   ],
   "source": [
    "step = 100\n",
    "\n",
    "arr1 = np.round(np.sin(np.linspace(-np.pi,np.pi,step)),3)\n",
    "arr2 = np.round(np.cos(np.linspace(-np.pi,np.pi,step)),3)\n",
    "\n",
    "print('arr1 = ',arr1)"
   ]
  },
  {
   "cell_type": "markdown",
   "id": "6c5235e8",
   "metadata": {},
   "source": [
    "Find the mean and variance of the above arrays, round your answer to one decimal place."
   ]
  },
  {
   "cell_type": "code",
   "execution_count": 37,
   "id": "a67ffdf2",
   "metadata": {},
   "outputs": [
    {
     "name": "stdout",
     "output_type": "stream",
     "text": [
      "mean1 =  -0.0\n",
      "var1 =  0.5\n",
      "mean2 =  -0.0\n",
      "var2 =  0.5\n"
     ]
    }
   ],
   "source": [
    "print('mean1 = ',np.round(np.mean(arr1),1))\n",
    "print('var1 = ',np.round(np.var(arr1),1))\n",
    "\n",
    "print('mean2 = ',np.round(np.mean(arr2),1))\n",
    "print('var2 = ',np.round(np.var(arr2),1))"
   ]
  },
  {
   "cell_type": "markdown",
   "id": "70c6a388",
   "metadata": {},
   "source": [
    "Now generate a new array, that is the squared sum of the two arrays found above. Round the array to two decimal places."
   ]
  },
  {
   "cell_type": "code",
   "execution_count": 38,
   "id": "e7288e2a",
   "metadata": {},
   "outputs": [
    {
     "name": "stdout",
     "output_type": "stream",
     "text": [
      "arr =  [1. 1. 1. 1. 1. 1. 1. 1. 1. 1. 1. 1. 1. 1. 1. 1. 1. 1. 1. 1. 1. 1. 1. 1.\n",
      " 1. 1. 1. 1. 1. 1. 1. 1. 1. 1. 1. 1. 1. 1. 1. 1. 1. 1. 1. 1. 1. 1. 1. 1.\n",
      " 1. 1. 1. 1. 1. 1. 1. 1. 1. 1. 1. 1. 1. 1. 1. 1. 1. 1. 1. 1. 1. 1. 1. 1.\n",
      " 1. 1. 1. 1. 1. 1. 1. 1. 1. 1. 1. 1. 1. 1. 1. 1. 1. 1. 1. 1. 1. 1. 1. 1.\n",
      " 1. 1. 1. 1.]\n"
     ]
    }
   ],
   "source": [
    "arr = np.round(arr1**2 + arr2**2,2)\n",
    "print('arr = ',arr)"
   ]
  },
  {
   "cell_type": "markdown",
   "id": "cf00b68e",
   "metadata": {},
   "source": [
    "Now find the sum of the array, print the shape of the array aswell."
   ]
  },
  {
   "cell_type": "code",
   "execution_count": 39,
   "id": "2cc87d29",
   "metadata": {},
   "outputs": [
    {
     "name": "stdout",
     "output_type": "stream",
     "text": [
      "sum =  100.0\n",
      "shape =  (100,)\n"
     ]
    }
   ],
   "source": [
    "print('sum = ',sum(arr))\n",
    "print('shape = ',arr.shape)"
   ]
  },
  {
   "cell_type": "markdown",
   "id": "35865cd8",
   "metadata": {},
   "source": [
    "<center>\n",
    "\n",
    "## Exercise 2: Quantum State Measurements\n",
    "\n",
    "</center>\n",
    "\n",
    "The probability of finding quantum objects in certain states is given by the square of the coefficient to those states, when written in a normailised form. For example:\n",
    "\n",
    "$$ |{\\psi}> = \\frac{1}{\\sqrt{2}}|{0}> + \\frac{1}{\\sqrt{2}}|{1}>$$\n",
    "\n",
    "The probability that the quantum object being in the state $|{0}>$ is $(\\frac{1}{\\sqrt{2}})^2 = 0.5$. Similary the probability of being in the state $|{1}>$ is also $(\\frac{1}{\\sqrt{2}})^2 = 0.5$. Notice that the sum of these probabilities is $0.5+0.5=1$, which, not only makes probabilistic sense(there is a $100\\%$ chance of being in some state), but also tells us the states are correctly normalised. \n",
    "\n",
    "The file \"normalised_quibits.txt\" contains rows of normalised states of quantum-type objects. We can interpret the first column as the coefficients of $|{0}>$ and the second column as $|{1}>$.\n",
    "\n",
    "Read in the file and calculate the probability that the 4th quibit is in state $|{0}>$."
   ]
  },
  {
   "cell_type": "code",
   "execution_count": 57,
   "id": "8b34fdaf",
   "metadata": {},
   "outputs": [
    {
     "name": "stdout",
     "output_type": "stream",
     "text": [
      "0.004393479829360381\n"
     ]
    }
   ],
   "source": [
    "quibits = np.loadtxt(\"normalised_quibits.txt\", delimiter=' ')\n",
    "\n",
    "print(quibits[3,0]**2)"
   ]
  },
  {
   "cell_type": "markdown",
   "id": "f54f3d4d",
   "metadata": {},
   "source": [
    "Now calculate the probability that the entire set of quibits are found in the following states. Also find the probability as a percentage.\n",
    "\n",
    "$$ |{1}> , |{1}>, |{1}>, |{1}>, |{0}>, |{1}>, |{0}>, |{0}>, |{1}>, |{0}>$$"
   ]
  },
  {
   "cell_type": "code",
   "execution_count": 58,
   "id": "81233816",
   "metadata": {},
   "outputs": [
    {
     "name": "stdout",
     "output_type": "stream",
     "text": [
      "entire_state =  [0.73593101 0.99984837 0.9996358  0.99780084 0.99986066 0.99923493\n",
      " 0.99995767 0.54128523 0.99996849 0.6054546 ] \n",
      "\n",
      "probability =  0.057740347227321895\n",
      "percentage probability =  5.774034722732189 %\n"
     ]
    }
   ],
   "source": [
    "q = np.arange(10)\n",
    "s = [1,1,1,1,0,1,0,0,1,0]\n",
    "\n",
    "print('entire_state = ',quibits[q,s], '\\n')\n",
    "\n",
    "print('probability = ', np.prod(quibits[q,s]**2))\n",
    "\n",
    "print('percentage probability = ', np.prod(quibits[q,s]**2)*100,'%')"
   ]
  },
  {
   "cell_type": "markdown",
   "id": "9276f862",
   "metadata": {},
   "source": [
    "<center>\n",
    "\n",
    "## Exercise 3: Multiple Quibit Measurements\n",
    "\n",
    "</center>"
   ]
  },
  {
   "cell_type": "markdown",
   "id": "d0c853a0",
   "metadata": {},
   "source": [
    "Continuining from the last exercise. Given that \n",
    "\n",
    "$$ |{1}> , |{1}>, |{1}>, |{1}>, |{0}>, |{1}>, |{0}>, |{0}>, |{1}>, |{0}>$$\n",
    "\n",
    "is just one possible state these ten quibits can characterise. How many possible states can these ten quantum objects(quibits) characterise?"
   ]
  },
  {
   "cell_type": "code",
   "execution_count": 214,
   "id": "a459b7a0",
   "metadata": {},
   "outputs": [
    {
     "name": "stdout",
     "output_type": "stream",
     "text": [
      "1024\n"
     ]
    }
   ],
   "source": [
    "nq = 10\n",
    "n=2**nq\n",
    "\n",
    "print(n)"
   ]
  },
  {
   "cell_type": "markdown",
   "id": "650d58a6",
   "metadata": {},
   "source": [
    "Create an array/matrix of shape (number_of_possible states,number_of_qubits), where each row is a unique state the quibits can have. \n",
    "\n",
    "(Hint: use binary operations and loops)"
   ]
  },
  {
   "cell_type": "code",
   "execution_count": 225,
   "id": "0e871bad",
   "metadata": {},
   "outputs": [
    {
     "name": "stdout",
     "output_type": "stream",
     "text": [
      "[[0 0 0 0 0 0 0 0 0 0]\n",
      " [0 0 0 0 0 0 0 0 0 1]\n",
      " [0 0 0 0 0 0 0 0 1 0]\n",
      " [0 0 0 0 0 0 0 0 1 1]\n",
      " [0 0 0 0 0 0 0 1 0 0]\n",
      " [0 0 0 0 0 0 0 1 0 1]\n",
      " [0 0 0 0 0 0 0 1 1 0]\n",
      " [0 0 0 0 0 0 0 1 1 1]\n",
      " [0 0 0 0 0 0 1 0 0 0]\n",
      " [0 0 0 0 0 0 1 0 0 1]] \n",
      "\n",
      "[[1 1 1 1 1 1 0 1 1 0]\n",
      " [1 1 1 1 1 1 0 1 1 1]\n",
      " [1 1 1 1 1 1 1 0 0 0]\n",
      " [1 1 1 1 1 1 1 0 0 1]\n",
      " [1 1 1 1 1 1 1 0 1 0]\n",
      " [1 1 1 1 1 1 1 0 1 1]\n",
      " [1 1 1 1 1 1 1 1 0 0]\n",
      " [1 1 1 1 1 1 1 1 0 1]\n",
      " [1 1 1 1 1 1 1 1 1 0]\n",
      " [1 1 1 1 1 1 1 1 1 1]]\n"
     ]
    }
   ],
   "source": [
    "states = np.zeros((n,nq),dtype=int)\n",
    "\n",
    "for i in range(n):\n",
    "    bina = bin(i)[2:]\n",
    "    bina = '0'*(nq-len(bina))+bina\n",
    "    states[i,0:] = np.array(bina,dtype = 'c')\n",
    "\n",
    "print(states[0:10],'\\n')\n",
    "print(states[-10:])"
   ]
  },
  {
   "cell_type": "markdown",
   "id": "fc0ada1e",
   "metadata": {},
   "source": [
    "Now, create a random,normalised set of states for ten quibits, with shape(nq,2),similar to the \"normalised_quibits.txt\" file."
   ]
  },
  {
   "cell_type": "code",
   "execution_count": 227,
   "id": "faadf0bf",
   "metadata": {},
   "outputs": [
    {
     "name": "stdout",
     "output_type": "stream",
     "text": [
      "[[0.4668577  0.88433245]\n",
      " [0.38192358 0.92419391]\n",
      " [0.45272942 0.89164795]\n",
      " [0.5811217  0.81381667]\n",
      " [0.88807202 0.45970434]\n",
      " [0.80184189 0.59753626]\n",
      " [0.68638735 0.72723614]\n",
      " [0.17663078 0.98427718]\n",
      " [0.80133658 0.59821375]\n",
      " [0.19465515 0.98087174]] \n",
      "\n"
     ]
    }
   ],
   "source": [
    "quibits = rnd.random((nq,2))\n",
    "\n",
    "#Normalise\n",
    "quibits[0:,0], quibits[0:,1] = quibits[0:,0]/np.sqrt(quibits[0:,0]**2+quibits[0:,1]**2), quibits[0:,1]/np.sqrt(quibits[0:,0]**2+quibits[0:,1]**2)\n",
    "\n",
    "print(quibits, '\\n')"
   ]
  },
  {
   "cell_type": "markdown",
   "id": "3cb6b458",
   "metadata": {},
   "source": [
    "Using the two arrays created above, create an array that contains the probabilities of each possible global state being measured, given the qubits are in this state."
   ]
  },
  {
   "cell_type": "code",
   "execution_count": 228,
   "id": "5d4ebd59",
   "metadata": {},
   "outputs": [
    {
     "name": "stdout",
     "output_type": "stream",
     "text": [
      "[3.99062113e-07 1.01328860e-05 2.22394143e-07 ... 8.40084904e-03\n",
      " 1.84379812e-04 4.68172639e-03]\n"
     ]
    }
   ],
   "source": [
    "q = np.arange(nq)\n",
    "prob = np.prod(np.array(quibits[q,states]**2),axis=1)\n",
    "print(prob)"
   ]
  },
  {
   "cell_type": "markdown",
   "id": "151ad2a1",
   "metadata": {},
   "source": [
    "Find the sum of this array. Round the answer to two decimal places."
   ]
  },
  {
   "cell_type": "code",
   "execution_count": 230,
   "id": "6a8863f9",
   "metadata": {},
   "outputs": [
    {
     "name": "stdout",
     "output_type": "stream",
     "text": [
      "1.0\n"
     ]
    }
   ],
   "source": [
    "print(np.round(sum(prob),2))"
   ]
  },
  {
   "cell_type": "markdown",
   "id": "6d7a648f",
   "metadata": {},
   "source": [
    "## Exercise 4: Matrix Eigenvectors & Eigenvalues\n",
    "\n",
    "Create a random matrix with shape (3,3)."
   ]
  },
  {
   "cell_type": "code",
   "execution_count": 280,
   "id": "bfc7a62d",
   "metadata": {},
   "outputs": [
    {
     "name": "stdout",
     "output_type": "stream",
     "text": [
      "[[38.53674284 16.19648851 39.56281766]\n",
      " [53.80376283 80.81393217 98.15918545]\n",
      " [97.37831509 49.73487913 75.0459709 ]]\n"
     ]
    }
   ],
   "source": [
    "A = 100*rnd.random((3,3))\n",
    "print(A)"
   ]
  },
  {
   "cell_type": "markdown",
   "id": "d1c5e564",
   "metadata": {},
   "source": [
    "Find the eigenvalues and eigenvectors of this array"
   ]
  },
  {
   "cell_type": "code",
   "execution_count": 281,
   "id": "b3a707fa",
   "metadata": {},
   "outputs": [
    {
     "name": "stdout",
     "output_type": "stream",
     "text": [
      "[178.36  -13.416  29.452] \n",
      "\n",
      "[[ 0.259  0.393  0.322]\n",
      " [ 0.752  0.546 -0.9  ]\n",
      " [ 0.606 -0.74   0.295]]\n"
     ]
    }
   ],
   "source": [
    "eigval, E = np.linalg.eig(A) \n",
    "print(np.round(eigval,3),'\\n')\n",
    "print(np.round(E,3))"
   ]
  },
  {
   "cell_type": "markdown",
   "id": "cd37f9b5",
   "metadata": {},
   "source": [
    "Using the matrix of eigenvectors, diagonalise the original matrix. Round the answer to 3 decimal places."
   ]
  },
  {
   "cell_type": "code",
   "execution_count": 282,
   "id": "6f26a86c",
   "metadata": {},
   "outputs": [
    {
     "name": "stdout",
     "output_type": "stream",
     "text": [
      "[[178.36    0.     -0.   ]\n",
      " [  0.    -13.416   0.   ]\n",
      " [  0.     -0.     29.452]]\n"
     ]
    }
   ],
   "source": [
    "D = np.matmul(np.linalg.inv(E),np.matmul(A,E))\n",
    "\n",
    "print(np.round(D,3))"
   ]
  },
  {
   "cell_type": "markdown",
   "id": "e449f513",
   "metadata": {},
   "source": [
    "The diagonal matrix $D$ was found using the formula\n",
    "\n",
    "$$ D = E^{-1}AE $$\n",
    "\n",
    "Where $A$ is the original matrix, and $E$ is the matrix of eigenvectors. Let's raise both sides of this formula to the power of an integer $n$.\n",
    "\n",
    "$$ D^{n} = (E^{-1}AE)^n $$\n",
    "$$ D^{n} = (E^{-1}AE)(E^{-1}AE)(E^{-1}AE)...(E^{-1}AE) $$\n",
    "\n",
    "Notice that $E^{-1}E=identity$,\n",
    "\n",
    "$$\\implies  D^{n} = E^{-1}A^nE $$\n",
    "\n",
    "And rearranging:\n",
    "\n",
    "$$ ED^{n}E^{-1} = A^n $$\n",
    "\n",
    "Because $D^{n}$ is very easy to calculate, we just raise the diagonal elements to the power of $n$, we have greatly simplified finding the power of a non-diagonal matrix $A$. \n",
    "\n",
    "Use this formula to calculate $A^{30}$"
   ]
  },
  {
   "cell_type": "code",
   "execution_count": 283,
   "id": "8515a76d",
   "metadata": {},
   "outputs": [
    {
     "name": "stdout",
     "output_type": "stream",
     "text": [
      "[[3.28516158e+10 2.30098567e+10 3.44442951e+10]\n",
      " [9.55293612e+10 6.69699151e+10 1.00204262e+11]\n",
      " [7.69637824e+10 5.39212928e+10 8.07047857e+10]]\n"
     ]
    }
   ],
   "source": [
    "power = 5\n",
    "\n",
    "D = D**power\n",
    "\n",
    "Apow = np.matmul(E,np.matmul(D,np.linalg.inv(E)))\n",
    "\n",
    "print(np.round(Apow,3))"
   ]
  },
  {
   "cell_type": "markdown",
   "id": "629cd76d",
   "metadata": {},
   "source": [
    "Alternatively, you could simply convert $A$ to a matrix with $np.matrix()$ and use $**$, do this and compare your results."
   ]
  },
  {
   "cell_type": "code",
   "execution_count": 287,
   "id": "d7fd01d8",
   "metadata": {},
   "outputs": [
    {
     "name": "stdout",
     "output_type": "stream",
     "text": [
      "[[3.28516158e+10 2.30098567e+10 3.44442951e+10]\n",
      " [9.55293612e+10 6.69699151e+10 1.00204262e+11]\n",
      " [7.69637824e+10 5.39212928e+10 8.07047857e+10]] \n",
      "\n",
      "[[ True  True  True]\n",
      " [ True  True  True]\n",
      " [ True  True  True]]\n"
     ]
    }
   ],
   "source": [
    "print(np.round(np.matrix(A)**power,3), '\\n')\n",
    "\n",
    "print(np.round(np.matrix(A)**power,3)==np.round(Apow,3))"
   ]
  }
 ],
 "metadata": {
  "kernelspec": {
   "display_name": "Python 3 (ipykernel)",
   "language": "python",
   "name": "python3"
  },
  "language_info": {
   "codemirror_mode": {
    "name": "ipython",
    "version": 3
   },
   "file_extension": ".py",
   "mimetype": "text/x-python",
   "name": "python",
   "nbconvert_exporter": "python",
   "pygments_lexer": "ipython3",
   "version": "3.9.6"
  }
 },
 "nbformat": 4,
 "nbformat_minor": 5
}
