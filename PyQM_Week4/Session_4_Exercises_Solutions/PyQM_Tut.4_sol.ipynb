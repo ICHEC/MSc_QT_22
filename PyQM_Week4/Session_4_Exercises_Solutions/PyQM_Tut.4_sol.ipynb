{
 "cells": [
  {
   "cell_type": "markdown",
   "id": "7c3df5dd",
   "metadata": {},
   "source": [
    "<center>\n",
    "\n",
    "# Python for Quantum Mechanics: \n",
    "# Week 4 Tutorial\n",
    "\n",
    "</center>"
   ]
  },
  {
   "cell_type": "code",
   "execution_count": 1,
   "id": "23d88e26",
   "metadata": {},
   "outputs": [],
   "source": [
    "import numpy as np"
   ]
  },
  {
   "cell_type": "markdown",
   "id": "beb205c4",
   "metadata": {},
   "source": [
    "<center>\n",
    "\n",
    "## Exercise 1: Multiplying Matrices\n",
    "\n",
    "</center>\n",
    "\n",
    "Create and multiply the following arrays using Numpy.\n",
    "\n",
    "$ \\begin{bmatrix}\n",
    "1 & 0 & 0 & 0 & 0 & 0 \\\\ 0&1 & 0 & 0 & 0 & 0 \\\\\n",
    "0&0 & 0 & 1 & 0 & 0 \\\\ 0&0 & 1 & 0 & 0 & 0 \\\\\n",
    "0&0 & 0 & 0 & 1 & 0 \\\\ 0&0 & 0 & 0 & 0 & 1\n",
    "\\end{bmatrix} \\times \\begin{bmatrix}\n",
    "1 \\\\ 0 \\\\ 1 \\\\ 0 \\\\ 1 \\\\ 0\n",
    "\\end{bmatrix} = \\begin{bmatrix}\n",
    "? \\\\ ? \\\\?\\\\?\\\\?\\\\?\n",
    "\\end{bmatrix}$"
   ]
  },
  {
   "cell_type": "code",
   "execution_count": 124,
   "id": "2e7eef72",
   "metadata": {},
   "outputs": [
    {
     "name": "stdout",
     "output_type": "stream",
     "text": [
      "[[1 0 0 0 0 0]\n",
      " [0 1 0 0 0 0]\n",
      " [0 0 0 1 0 0]\n",
      " [0 0 1 0 0 0]\n",
      " [0 0 0 0 1 0]\n",
      " [0 0 0 0 0 1]]\n",
      "[[1]\n",
      " [0]\n",
      " [0]\n",
      " [1]\n",
      " [1]\n",
      " [0]]\n"
     ]
    }
   ],
   "source": [
    "arr1 = np.eye(6, dtype=int)\n",
    "arr1[2,3], arr1[3,2] = 1 , 1\n",
    "arr1[2,2], arr1[3,3] = 0 , 0\n",
    "\n",
    "arr2 = np.array([[1],[0],[1],[0],[1],[0]], dtype=int)\n",
    "\n",
    "result = np.matmul(arr1,arr2)\n",
    "result = arr1@arr2\n",
    "arr1 = np.matrix(arr1)\n",
    "arr2 = np.matrix(arr2)\n",
    "print(result)"
   ]
  },
  {
   "cell_type": "markdown",
   "id": "071b9940",
   "metadata": {},
   "source": [
    "<center>\n",
    "\n",
    "## Exercise 2: Slicing Arrays\n",
    "\n",
    "</center>\n",
    "\n",
    "Take the arrays from exercise 1 and slice them to then execute the following expression\n",
    "\n",
    "$ \\begin{bmatrix}\n",
    "0 & 1 \\\\ 1&0\n",
    "\\end{bmatrix} \\times \\begin{bmatrix}\n",
    "1 \\\\ 0\n",
    "\\end{bmatrix} = \\begin{bmatrix}\n",
    "? \\\\ ?\n",
    "\\end{bmatrix}$"
   ]
  },
  {
   "cell_type": "code",
   "execution_count": 3,
   "id": "3e23ec76",
   "metadata": {},
   "outputs": [
    {
     "name": "stdout",
     "output_type": "stream",
     "text": [
      "[[0]\n",
      " [1]]\n"
     ]
    }
   ],
   "source": [
    "arr1 = arr1[2:4,2:4]\n",
    "arr2 = arr2[2:4]\n",
    "\n",
    "result = np.matmul(arr1,arr2)\n",
    "print(result)"
   ]
  },
  {
   "cell_type": "markdown",
   "id": "3cc4f4f1",
   "metadata": {},
   "source": [
    "<center>\n",
    "\n",
    "## Exercise 3: Diagonalise\n",
    "\n",
    "</center>\n",
    "\n",
    "Using the eigenvector matrix $E$ of a random $(6,6)$ matrix $A$, diagonalise it with the formula\n",
    "\n",
    "$$ D = E^{-1}AE$$"
   ]
  },
  {
   "cell_type": "code",
   "execution_count": 4,
   "id": "0bd904c6",
   "metadata": {},
   "outputs": [],
   "source": [
    "import numpy.random as rnd"
   ]
  },
  {
   "cell_type": "code",
   "execution_count": 125,
   "id": "d585522c",
   "metadata": {},
   "outputs": [
    {
     "name": "stdout",
     "output_type": "stream",
     "text": [
      "[[ 3.086+0.j    -0.   -0.j    -0.   +0.j    -0.   -0.j    -0.   +0.j\n",
      "  -0.   -0.j   ]\n",
      " [ 0.   +0.j    -0.567-0.j    -0.   +0.j    -0.   -0.j     0.   -0.j\n",
      "   0.   +0.j   ]\n",
      " [ 0.   -0.j     0.   -0.j     0.167+0.652j  0.   +0.j    -0.   -0.j\n",
      "   0.   -0.j   ]\n",
      " [-0.   +0.j     0.   +0.j     0.   -0.j     0.167-0.652j  0.   +0.j\n",
      "  -0.   +0.j   ]\n",
      " [ 0.   -0.j    -0.   +0.j     0.   +0.j     0.   +0.j     0.169+0.345j\n",
      "   0.   -0.j   ]\n",
      " [ 0.   +0.j    -0.   -0.j     0.   -0.j     0.   +0.j     0.   +0.j\n",
      "   0.169-0.345j]]\n"
     ]
    }
   ],
   "source": [
    "A = rnd.random((6,6))\n",
    "\n",
    "eigval, E = np.linalg.eig(A) \n",
    "\n",
    "D = np.linalg.inv(E)@A@E\n",
    "\n",
    "print(np.round(D,3))"
   ]
  },
  {
   "cell_type": "markdown",
   "id": "42c9ebc4",
   "metadata": {},
   "source": [
    "<center>\n",
    "\n",
    "## Exercise 4: Normal Distribution\n",
    "\n",
    "</center>\n",
    "\n",
    "Create an array of size $10,000$ with a normal distribution with mean $100$ and standard deviation of $10$."
   ]
  },
  {
   "cell_type": "code",
   "execution_count": 6,
   "id": "4da4ed5e",
   "metadata": {},
   "outputs": [
    {
     "name": "stdout",
     "output_type": "stream",
     "text": [
      "[ 96.6128931  104.77033039 107.55349219 ...  99.03084318 120.49081838\n",
      " 112.39837483] \n",
      "\n",
      "99.98476310406281\n",
      "10.07591669829654\n",
      "101.52409731101106\n"
     ]
    }
   ],
   "source": [
    "mu, sig, size = 100,10,10000\n",
    "\n",
    "norm_arr = rnd.normal(mu,sig,size)\n",
    "\n",
    "print(norm_arr,'\\n')\n",
    "\n",
    "print(np.mean(norm_arr))\n",
    "print(np.std(norm_arr))\n",
    "print(np.var(norm_arr))"
   ]
  },
  {
   "cell_type": "markdown",
   "id": "51a532a7",
   "metadata": {},
   "source": [
    "Now create a random array, of integers between $0\\rightarrow10,000$, of size $1,000$."
   ]
  },
  {
   "cell_type": "code",
   "execution_count": 133,
   "id": "bdc5a83f",
   "metadata": {},
   "outputs": [
    {
     "name": "stdout",
     "output_type": "stream",
     "text": [
      "[1 3 0 5 7]\n"
     ]
    }
   ],
   "source": [
    "rarr = rnd.randint(0,10000,1000)\n",
    "\n",
    "rarr = 10000*rnd.random(1000)\n",
    "rarr = np.round(rarr,0).astype(int)\n",
    "\n",
    "rarr = rnd.choice(np.arange(10000),1000,replace=False)\n",
    "print(rarr)"
   ]
  },
  {
   "cell_type": "markdown",
   "id": "53f31cdc",
   "metadata": {},
   "source": [
    "Using this random array, pull a random sample from that of the normal distribution."
   ]
  },
  {
   "cell_type": "code",
   "execution_count": 8,
   "id": "98719704",
   "metadata": {},
   "outputs": [],
   "source": [
    "random_sample = norm_arr[rarr]"
   ]
  },
  {
   "cell_type": "markdown",
   "id": "b063e2ad",
   "metadata": {},
   "source": [
    "Analyse this random_sample, find it's mean, std and variance."
   ]
  },
  {
   "cell_type": "code",
   "execution_count": 9,
   "id": "aad560cc",
   "metadata": {},
   "outputs": [
    {
     "name": "stdout",
     "output_type": "stream",
     "text": [
      "99.11402445135091\n",
      "10.218333010183482\n",
      "104.4143295070054\n"
     ]
    }
   ],
   "source": [
    "print(np.mean(random_sample))\n",
    "print(np.std(random_sample))\n",
    "print(np.var(random_sample))"
   ]
  },
  {
   "cell_type": "markdown",
   "id": "0d84b748",
   "metadata": {},
   "source": [
    "<center>\n",
    "\n",
    "## Exercise 5: Linear Regression & Stochastic Gradient Descent\n",
    "\n",
    "</center>\n",
    "\n",
    "Use stochastic gradient descent to minimise the cost function for a linear least-square fit. Return the slope and y-intercept of the resulting line. Fit the following scattered data points (x,y)."
   ]
  },
  {
   "cell_type": "code",
   "execution_count": 10,
   "id": "ed7e4424",
   "metadata": {},
   "outputs": [],
   "source": [
    "import numpy.random as rnd"
   ]
  },
  {
   "cell_type": "code",
   "execution_count": 11,
   "id": "d77305c3",
   "metadata": {},
   "outputs": [],
   "source": [
    "m = 3\n",
    "c = 2\n",
    "\n",
    "x = np.arange(0,11,0.1)\n",
    "y = m*x + c + 0.1*rnd.random(len(x))*((-1)**np.round((rnd.random(len(x)))))"
   ]
  },
  {
   "cell_type": "code",
   "execution_count": 12,
   "id": "9f106b2a",
   "metadata": {
    "scrolled": true
   },
   "outputs": [
    {
     "name": "stdout",
     "output_type": "stream",
     "text": [
      "[ 13  26  27  30  35  40  52  58  63  76 100]\n",
      "[ 1.3  2.6  2.7  3.   3.5  4.   5.2  5.8  6.3  7.6 10. ]\n",
      "[ 5.92708907  9.88255564 10.00279101 10.95192138 12.53012522 13.95204165\n",
      " 17.63569823 19.45711895 20.90965132 24.81416831 32.00596335]\n"
     ]
    }
   ],
   "source": [
    "sample_size = int(len(x)/10)\n",
    "\n",
    "rarr = np.sort(rnd.randint(0,len(x),sample_size))\n",
    "\n",
    "x = x[rarr]\n",
    "y = y[rarr]\n",
    "\n",
    "print(x)\n",
    "print(y)"
   ]
  },
  {
   "cell_type": "code",
   "execution_count": 13,
   "id": "3020c85c",
   "metadata": {},
   "outputs": [],
   "source": [
    "def cost(x,y,m,c):\n",
    "    return 1/(len(x))*sum(i**2 for i in (y-(m*x + c)))\n",
    "\n",
    "def m_gradient(x,y,m,c):\n",
    "    return -2/len(x)*sum(i for i in (x*(y-(m*x + c))))\n",
    "\n",
    "def c_gradient(x,y,m,c):\n",
    "    return -2/len(x)*sum(i for i in (y-(m*x + c)))"
   ]
  },
  {
   "cell_type": "code",
   "execution_count": 19,
   "id": "f11b279d",
   "metadata": {},
   "outputs": [],
   "source": [
    "def gradient_descent(x, y, guess, learning_rate, n):\n",
    "    result = guess\n",
    "    for _ in range(n):\n",
    "        result[0],result[1] = result[0]-learning_rate*m_gradient(x,y,result[0],result[1]), result[1]-learning_rate*c_gradient(x,y,result[0],result[1]) \n",
    "    return result"
   ]
  },
  {
   "cell_type": "code",
   "execution_count": 20,
   "id": "87f7fc51",
   "metadata": {},
   "outputs": [
    {
     "name": "stdout",
     "output_type": "stream",
     "text": [
      "[3.00268037 1.99361316]\n"
     ]
    }
   ],
   "source": [
    "guess = np.array([1.0,1.0])\n",
    "learning_rate = 0.01\n",
    "n = 10000\n",
    "\n",
    "print(gradient_descent(x,y,guess,learning_rate,n))"
   ]
  },
  {
   "cell_type": "markdown",
   "id": "b93eaeb0",
   "metadata": {},
   "source": [
    "<center>\n",
    "\n",
    "## Exercise 6: Random Pi\n",
    "    \n",
    "</center>\n",
    "\n",
    "Using `rnd.random()`, calculate $\\pi$."
   ]
  },
  {
   "cell_type": "code",
   "execution_count": 164,
   "id": "2e314b09",
   "metadata": {},
   "outputs": [
    {
     "name": "stdout",
     "output_type": "stream",
     "text": [
      "3.140908\n"
     ]
    }
   ],
   "source": [
    "n = 1000000\n",
    "print(4*sum(rnd.random(n)**2 + rnd.random(n)**2 < 1)/n)"
   ]
  },
  {
   "cell_type": "markdown",
   "id": "65b1bf7a",
   "metadata": {},
   "source": [
    "<center>\n",
    "\n",
    "## Exercise 7: Random Walk\n",
    "    \n",
    "</center>\n",
    "\n",
    "Write a compact algorithm using numpy array functionality to generate a random walk. Find the root-mean-squared distance against the steps taken."
   ]
  },
  {
   "cell_type": "code",
   "execution_count": 43,
   "id": "222ff8b7",
   "metadata": {},
   "outputs": [],
   "source": [
    "import matplotlib.pyplot as plt"
   ]
  },
  {
   "cell_type": "code",
   "execution_count": 47,
   "id": "cec90957",
   "metadata": {},
   "outputs": [
    {
     "data": {
      "image/png": "[encoded data removed]",
      "text/plain": [
       "<Figure size 432x288 with 1 Axes>"
      ]
     },
     "metadata": {
      "needs_background": "light"
     },
     "output_type": "display_data"
    }
   ],
   "source": [
    "steps = 200\n",
    "walks = 2000\n",
    "\n",
    "y = np.zeros(steps)\n",
    "\n",
    "Square_Sum = np.zeros(steps)\n",
    "\n",
    "for j in range(walks):\n",
    "    for i in range(1,steps):\n",
    "        y[i] = y[i-1] + rnd.choice([-1,1])\n",
    "        Square_Sum[i] += (y[i])**2\n",
    "\n",
    "RMS = np.sqrt(Square_Sum/walks)\n",
    "\n",
    "plt.plot(np.arange(steps), RMS)\n",
    "plt.show()"
   ]
  },
  {
   "cell_type": "code",
   "execution_count": 163,
   "id": "c7c2e652",
   "metadata": {},
   "outputs": [
    {
     "data": {
      "image/png": "[encoded data removed]",
      "text/plain": [
       "<Figure size 432x288 with 1 Axes>"
      ]
     },
     "metadata": {
      "needs_background": "light"
     },
     "output_type": "display_data"
    }
   ],
   "source": [
    "steps = 500\n",
    "walks = 2000\n",
    "\n",
    "\n",
    "\n",
    "y = np.cumsum(np.array([rnd.choice([-1,1],steps) for _ in range(walks)]),axis=1)\n",
    "\n",
    "Square_Sum = np.sqrt(sum(y**2)/walks)\n",
    "\n",
    "plt.plot(np.arange(steps),Square_Sum)\n",
    "plt.show() "
   ]
  },
  {
   "cell_type": "code",
   "execution_count": 58,
   "id": "2dc22809",
   "metadata": {},
   "outputs": [
    {
     "data": {
      "image/png": "[encoded data removed]",
      "text/plain": [
       "<Figure size 432x288 with 1 Axes>"
      ]
     },
     "metadata": {
      "needs_background": "light"
     },
     "output_type": "display_data"
    }
   ],
   "source": [
    "steps = 500\n",
    "walks = 2000\n",
    "\n",
    "\n",
    "y = np.cumsum(np.array(rnd.choice([-1,1],(walks,steps))),axis=1)\n",
    "\n",
    "Square_Sum = np.sqrt(sum(y**2)/walks)\n",
    "\n",
    "plt.plot(np.arange(steps), Square_Sum)\n",
    "plt.show()"
   ]
  },
  {
   "cell_type": "markdown",
   "id": "2305308d",
   "metadata": {},
   "source": [
    "<center>\n",
    "\n",
    "## Exercise 8: Quantum Random Walk\n",
    "    \n",
    "</center>"
   ]
  },
  {
   "cell_type": "code",
   "execution_count": 59,
   "id": "54dd0cef",
   "metadata": {},
   "outputs": [],
   "source": [
    "from scipy.linalg import expm\n",
    "\n",
    "def adj_cycle(n):\n",
    "    A = np.zeros((n,n))\n",
    "    for x in range(n):\n",
    "        A[x, (x+1)%n] = 1\n",
    "        A[(x+1)%n, x] = 1\n",
    "        \n",
    "    return A"
   ]
  },
  {
   "cell_type": "code",
   "execution_count": 63,
   "id": "65d5e51c",
   "metadata": {},
   "outputs": [
    {
     "data": {
      "image/png": "[encoded data removed]",
      "text/plain": [
       "<Figure size 432x288 with 1 Axes>"
      ]
     },
     "metadata": {
      "needs_background": "light"
     },
     "output_type": "display_data"
    }
   ],
   "source": [
    "n = 200\n",
    "t = 40\n",
    "\n",
    "H = adj_cycle(n)\n",
    "U = expm(-1j*H*t)\n",
    "\n",
    "initial = np.zeros((n,1))\n",
    "initial[n//2] = 1\n",
    "\n",
    "initial = np.abs(U@initial)**2\n",
    "\n",
    "plt.plot(initial)\n",
    "plt.show()"
   ]
  }
 ],
 "metadata": {
  "kernelspec": {
   "display_name": "Python 3 (ipykernel)",
   "language": "python",
   "name": "python3"
  },
  "language_info": {
   "codemirror_mode": {
    "name": "ipython",
    "version": 3
   },
   "file_extension": ".py",
   "mimetype": "text/x-python",
   "name": "python",
   "nbconvert_exporter": "python",
   "pygments_lexer": "ipython3",
   "version": "3.9.14"
  }
 },
 "nbformat": 4,
 "nbformat_minor": 5
}
