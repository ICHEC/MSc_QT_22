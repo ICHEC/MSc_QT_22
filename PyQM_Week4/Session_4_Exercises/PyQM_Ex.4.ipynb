{
 "cells": [
  {
   "cell_type": "markdown",
   "id": "012cc2d4",
   "metadata": {},
   "source": [
    "<center>\n",
    "\n",
    "# Python for Quantum Mechanics: \n",
    "# Week 4 Exercises\n",
    "\n",
    "</center>"
   ]
  },
  {
   "cell_type": "code",
   "execution_count": null,
   "id": "a00b9203",
   "metadata": {},
   "outputs": [],
   "source": [
    "import numpy as np\n",
    "import numpy.random as rnd"
   ]
  },
  {
   "cell_type": "markdown",
   "id": "b87e1ef0",
   "metadata": {},
   "source": [
    "<center>\n",
    "\n",
    "## Exercise 1: Triggy Problem\n",
    "\n",
    "</center>\n",
    "\n",
    "Create arrays, of $sin(x)$ and $cos(x)$, with 100 elements that ranges between $-\\pi$ and $\\pi$. Round the arrays to three decimal places."
   ]
  },
  {
   "cell_type": "code",
   "execution_count": null,
   "id": "dcf4e3ce",
   "metadata": {},
   "outputs": [],
   "source": []
  },
  {
   "cell_type": "markdown",
   "id": "6c5235e8",
   "metadata": {},
   "source": [
    "Find the mean and variance of the above arrays, round your answer to one decimal place."
   ]
  },
  {
   "cell_type": "code",
   "execution_count": null,
   "id": "ea1ea9e5",
   "metadata": {},
   "outputs": [],
   "source": []
  },
  {
   "cell_type": "markdown",
   "id": "70c6a388",
   "metadata": {},
   "source": [
    "Now generate a new array, that is the squared sum of the two arrays found above. Round the array to two decimal places."
   ]
  },
  {
   "cell_type": "code",
   "execution_count": null,
   "id": "75f71c25",
   "metadata": {},
   "outputs": [],
   "source": []
  },
  {
   "cell_type": "markdown",
   "id": "cf00b68e",
   "metadata": {},
   "source": [
    "Now find the sum of the array, print the shape of the array aswell."
   ]
  },
  {
   "cell_type": "code",
   "execution_count": null,
   "id": "449fdd0a",
   "metadata": {},
   "outputs": [],
   "source": []
  },
  {
   "cell_type": "markdown",
   "id": "35865cd8",
   "metadata": {},
   "source": [
    "<center>\n",
    "\n",
    "## Exercise 2: Quantum State Measurements\n",
    "\n",
    "</center>\n",
    "\n",
    "The probability of finding quantum objects in certain states is given by the square of the coefficient to those states, when written in a normailised form. For example:\n",
    "\n",
    "$$ |{\\psi}> = \\frac{1}{\\sqrt{2}}|{0}> + \\frac{1}{\\sqrt{2}}|{1}>$$\n",
    "\n",
    "The probability that the quantum object being in the state $|{0}>$ is $(\\frac{1}{\\sqrt{2}})^2 = 0.5$. Similary the probability of being in the state $|{1}>$ is also $(\\frac{1}{\\sqrt{2}})^2 = 0.5$. Notice that the sum of these probabilities is $0.5+0.5=1$, which, not only makes probabilistic sense(there is a $100\\%$ chance of being in some state), but also tells us the states are correctly normalised. \n",
    "\n",
    "The file \"normalised_quibits.txt\" contains rows of normalised states of quantum-type objects. We can interpret the first column as the coefficients of $|{0}>$ and the second column as $|{1}>$.\n",
    "\n",
    "Read in the file and calculate the probability that the 4th quibit is in state $|{0}>$."
   ]
  },
  {
   "cell_type": "code",
   "execution_count": null,
   "id": "8b34fdaf",
   "metadata": {},
   "outputs": [],
   "source": [
    "quibits = np.loadtxt(\"normalised_quibits.txt\", delimiter=' ')\n",
    "\n"
   ]
  },
  {
   "cell_type": "markdown",
   "id": "f54f3d4d",
   "metadata": {},
   "source": [
    "Now calculate the probability that the entire set of quibits are found in the following states. Also find the probability as a percentage.\n",
    "\n",
    "$$ |{1}> , |{1}>, |{1}>, |{1}>, |{0}>, |{1}>, |{0}>, |{0}>, |{1}>, |{0}>$$"
   ]
  },
  {
   "cell_type": "code",
   "execution_count": null,
   "id": "06f30f48",
   "metadata": {},
   "outputs": [],
   "source": []
  },
  {
   "cell_type": "markdown",
   "id": "9276f862",
   "metadata": {},
   "source": [
    "<center>\n",
    "\n",
    "## Exercise 3: Multiple Quibit Measurements\n",
    "\n",
    "</center>"
   ]
  },
  {
   "cell_type": "markdown",
   "id": "d0c853a0",
   "metadata": {},
   "source": [
    "Continuining from the last exercise. Given that \n",
    "\n",
    "$$ |{1}> , |{1}>, |{1}>, |{1}>, |{0}>, |{1}>, |{0}>, |{0}>, |{1}>, |{0}>$$\n",
    "\n",
    "is just one possible state these ten quibits can characterise. How many possible states can these ten quantum objects(quibits) characterise?"
   ]
  },
  {
   "cell_type": "code",
   "execution_count": null,
   "id": "1a48307a",
   "metadata": {},
   "outputs": [],
   "source": []
  },
  {
   "cell_type": "markdown",
   "id": "650d58a6",
   "metadata": {},
   "source": [
    "Create an array/matrix of shape (number_of_possible states,number_of_qubits, where each row is a unique state the quibits can have. \n",
    "\n",
    "(Hint: use binary operations and loops)"
   ]
  },
  {
   "cell_type": "code",
   "execution_count": null,
   "id": "c942c797",
   "metadata": {},
   "outputs": [],
   "source": []
  },
  {
   "cell_type": "markdown",
   "id": "fc0ada1e",
   "metadata": {},
   "source": [
    "Now, create a random,normalised set of states for ten quibits, with shape(number_of_qubits,2),similar to the \"normalised_quibits.txt\" file."
   ]
  },
  {
   "cell_type": "code",
   "execution_count": null,
   "id": "0c272bd8",
   "metadata": {},
   "outputs": [],
   "source": []
  },
  {
   "cell_type": "markdown",
   "id": "3cb6b458",
   "metadata": {},
   "source": [
    "Using the two arrays created above, create an array that contains the probabilities of each possible global state being measured, given the qubits are in this state."
   ]
  },
  {
   "cell_type": "code",
   "execution_count": null,
   "id": "89cf2940",
   "metadata": {},
   "outputs": [],
   "source": []
  },
  {
   "cell_type": "markdown",
   "id": "151ad2a1",
   "metadata": {},
   "source": [
    "Find the sum of this array. Round the answer to two decimal places."
   ]
  },
  {
   "cell_type": "code",
   "execution_count": null,
   "id": "df8139cb",
   "metadata": {},
   "outputs": [],
   "source": []
  },
  {
   "cell_type": "markdown",
   "id": "6d7a648f",
   "metadata": {},
   "source": [
    "## Exercise 4: Matrix Eigenvectors & Eigenvalues\n",
    "\n",
    "Create a random matrix with shape (3,3)."
   ]
  },
  {
   "cell_type": "code",
   "execution_count": null,
   "id": "7c938c8c",
   "metadata": {},
   "outputs": [],
   "source": []
  },
  {
   "cell_type": "markdown",
   "id": "d1c5e564",
   "metadata": {},
   "source": [
    "Find the eigenvalues and eigenvectors of this array"
   ]
  },
  {
   "cell_type": "code",
   "execution_count": null,
   "id": "6d6ee15a",
   "metadata": {},
   "outputs": [],
   "source": []
  },
  {
   "cell_type": "markdown",
   "id": "cd37f9b5",
   "metadata": {},
   "source": [
    "Using the matrix of eigenvectors, diagonalise the original matrix. Round the answer to 3 decimal places."
   ]
  },
  {
   "cell_type": "code",
   "execution_count": null,
   "id": "62f48ac2",
   "metadata": {},
   "outputs": [],
   "source": []
  },
  {
   "cell_type": "markdown",
   "id": "e449f513",
   "metadata": {},
   "source": [
    "The diagonal matrix $D$ was found using the formula\n",
    "\n",
    "$$ D = E^{-1}AE $$\n",
    "\n",
    "Where $A$ is the original matrix, and $E$ is the matrix of eigenvectors. Let's raise both sides of this formula to the power of an integer $n$.\n",
    "\n",
    "$$ D^{n} = (E^{-1}AE)^n $$\n",
    "$$ D^{n} = (E^{-1}AE)(E^{-1}AE)(E^{-1}AE)...(E^{-1}AE) $$\n",
    "\n",
    "Notice that $E^{-1}E=identity$,\n",
    "\n",
    "$$\\implies  D^{n} = E^{-1}A^nE $$\n",
    "\n",
    "And rearranging:\n",
    "\n",
    "$$ ED^{n}E^{-1} = A^n $$\n",
    "\n",
    "Because $D^{n}$ is very easy to calculate, we just raise the diagonal elements to the power of $n$, we have greatly simplified finding the power of a non-diagonal matrix $A$. \n",
    "\n",
    "Use this formula to calculate $A^{30}$"
   ]
  },
  {
   "cell_type": "code",
   "execution_count": null,
   "id": "7ca5c3e5",
   "metadata": {},
   "outputs": [],
   "source": []
  },
  {
   "cell_type": "markdown",
   "id": "629cd76d",
   "metadata": {},
   "source": [
    "Alternatively, you could simply convert $A$ to a matrix with $np.matrix()$ and use $**$, do this and compare your results."
   ]
  },
  {
   "cell_type": "code",
   "execution_count": null,
   "id": "057c57f6",
   "metadata": {},
   "outputs": [],
   "source": []
  }
 ],
 "metadata": {
  "kernelspec": {
   "display_name": "Python 3",
   "language": "python",
   "name": "python3"
  },
  "language_info": {
   "codemirror_mode": {
    "name": "ipython",
    "version": 3
   },
   "file_extension": ".py",
   "mimetype": "text/x-python",
   "name": "python",
   "nbconvert_exporter": "python",
   "pygments_lexer": "ipython3",
   "version": "3.8.8"
  }
 },
 "nbformat": 4,
 "nbformat_minor": 5
}
