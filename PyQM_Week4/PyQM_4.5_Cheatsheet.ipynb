{
 "cells": [
  {
   "cell_type": "markdown",
   "id": "46f47cd9",
   "metadata": {},
   "source": [
    "# <center>Python For Quantum Mechanics</center>\n",
    "\n",
    "# <center>Week 4: Cheatsheet</center>"
   ]
  },
  {
   "cell_type": "markdown",
   "id": "fcc45f01",
   "metadata": {},
   "source": [
    "## [4.1 Packages](PyQM_4.1_Packages.ipynb) \n",
    "\n",
    "- Importing Packages"
   ]
  },
  {
   "cell_type": "markdown",
   "id": "4b50784f",
   "metadata": {},
   "source": [
    "## [4.2 Numpy Intro](PyQM_4.2_Numpy_Intro.ipynb) \n",
    "\n",
    "- Numpy Arrays\n",
    "    - Documentation: \n",
    "    ```\n",
    "    arr = np.array([1,2,3],dtype=float)\n",
    "    ```"
   ]
  },
  {
   "cell_type": "code",
   "execution_count": null,
   "id": "6fd07ba2",
   "metadata": {},
   "outputs": [],
   "source": []
  }
 ],
 "metadata": {
  "kernelspec": {
   "display_name": "Python 3 (ipykernel)",
   "language": "python",
   "name": "python3"
  },
  "language_info": {
   "codemirror_mode": {
    "name": "ipython",
    "version": 3
   },
   "file_extension": ".py",
   "mimetype": "text/x-python",
   "name": "python",
   "nbconvert_exporter": "python",
   "pygments_lexer": "ipython3",
   "version": "3.9.5"
  }
 },
 "nbformat": 4,
 "nbformat_minor": 5
}
