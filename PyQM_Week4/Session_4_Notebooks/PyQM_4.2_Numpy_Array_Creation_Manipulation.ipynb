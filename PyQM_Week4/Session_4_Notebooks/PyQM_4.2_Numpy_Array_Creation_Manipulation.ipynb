{
 "cells": [
  {
   "cell_type": "markdown",
   "metadata": {
    "cell_id": "00000-9d7b809c-0f50-4890-89d1-968ce40458c6",
    "deepnote_cell_type": "markdown",
    "id": "s3XFhs_4UD9P"
   },
   "source": [
    "# Python for Quantum Mechanics: Numpy Array Creation & Manipulation\n"
   ]
  },
  {
   "cell_type": "code",
   "execution_count": 1,
   "metadata": {},
   "outputs": [
    {
     "data": {
      "image/jpeg": "[encoded data removed]",
      "text/html": [
       "\n",
       "        <iframe\n",
       "            width=\"700\"\n",
       "            height=\"400\"\n",
       "            src=\"https://www.youtube.com/embed/JkAW8I7GVnw\"\n",
       "            frameborder=\"0\"\n",
       "            allowfullscreen\n",
       "        ></iframe>\n",
       "        "
      ],
      "text/plain": [
       "<IPython.lib.display.YouTubeVideo at 0x112132a60>"
      ]
     },
     "execution_count": 1,
     "metadata": {},
     "output_type": "execute_result"
    }
   ],
   "source": [
    "from IPython.display import YouTubeVideo\n",
    "YouTubeVideo('JkAW8I7GVnw',width=700, height=400)"
   ]
  },
  {
   "cell_type": "code",
   "execution_count": 2,
   "metadata": {},
   "outputs": [],
   "source": [
    "import numpy as np"
   ]
  },
  {
   "cell_type": "markdown",
   "metadata": {
    "cell_id": "00056-890793d3-a245-4cb1-8b25-0a82c2592e54",
    "deepnote_cell_type": "markdown",
    "id": "XZpP8KNzTPH4"
   },
   "source": [
    "## Methods To Create Numpy Arrays\n",
    "\n",
    "There are various methods we can use to create arrays of different shapes with different data entries.\n",
    "\n",
    "```np.arange(start,stop,step,dtype)```\n",
    "\n",
    "* Gives elements between start and stop, including start, in intervals of size step"
   ]
  },
  {
   "cell_type": "code",
   "execution_count": 3,
   "metadata": {
    "cell_id": "00057-1cee6d48-4f54-4aa9-833e-776568f5e4bf",
    "colab": {
     "base_uri": "https://localhost:8080/"
    },
    "deepnote_cell_type": "code",
    "executionInfo": {
     "elapsed": 318,
     "status": "ok",
     "timestamp": 1624476696736,
     "user": {
      "displayName": "Conor Dunne",
      "photoUrl": "",
      "userId": "14934053525675490562"
     },
     "user_tz": -60
    },
    "id": "XJfxRqn9Txht",
    "outputId": "1b1fd754-79c6-4286-c427-a43feaf4a144"
   },
   "outputs": [
    {
     "name": "stdout",
     "output_type": "stream",
     "text": [
      "[ 5  7  9 11 13 15 17 19]\n"
     ]
    }
   ],
   "source": [
    "arr = np.arange(5,21,2)\n",
    "print(arr)"
   ]
  },
  {
   "cell_type": "markdown",
   "metadata": {
    "cell_id": "00058-7d27cc11-c48b-4134-941f-ca9edbdde91f",
    "deepnote_cell_type": "markdown",
    "id": "Dzi7n8fwT-1_"
   },
   "source": [
    "```np.linspace(start,stop,num,dtype)```\n",
    "\n",
    "*   This gives num amount of evenly spaced elements including, and inbetween, start and stop.\n",
    "\n",
    "\n"
   ]
  },
  {
   "cell_type": "code",
   "execution_count": 4,
   "metadata": {
    "cell_id": "00059-80a4cbe4-79cf-4172-bd0f-f15491c0c62a",
    "colab": {
     "base_uri": "https://localhost:8080/"
    },
    "deepnote_cell_type": "code",
    "executionInfo": {
     "elapsed": 322,
     "status": "ok",
     "timestamp": 1624476186357,
     "user": {
      "displayName": "Conor Dunne",
      "photoUrl": "",
      "userId": "14934053525675490562"
     },
     "user_tz": -60
    },
    "id": "13SBqQ2eUREw",
    "outputId": "ad3aea3f-a595-408b-d5c1-bfad78e40fc2"
   },
   "outputs": [
    {
     "name": "stdout",
     "output_type": "stream",
     "text": [
      "[ 5.  7.  9. 11. 13. 15. 17. 19.]\n"
     ]
    }
   ],
   "source": [
    "arr = np.linspace(5,19,8)\n",
    "print(arr)"
   ]
  },
  {
   "cell_type": "markdown",
   "metadata": {
    "cell_id": "00060-a9e84876-3d0b-435a-81c1-a7fa27108ab3",
    "deepnote_cell_type": "markdown",
    "id": "QwnQUyXnVDQg"
   },
   "source": [
    "```np.zeros((r,c),dtype)```\n",
    "\n",
    "* Gives a matrix of zeros that is of shape (r,c)"
   ]
  },
  {
   "cell_type": "code",
   "execution_count": 12,
   "metadata": {
    "cell_id": "00061-6469990f-8dab-4982-9914-b8b22f577e67",
    "colab": {
     "base_uri": "https://localhost:8080/"
    },
    "deepnote_cell_type": "code",
    "executionInfo": {
     "elapsed": 384,
     "status": "ok",
     "timestamp": 1624476282073,
     "user": {
      "displayName": "Conor Dunne",
      "photoUrl": "",
      "userId": "14934053525675490562"
     },
     "user_tz": -60
    },
    "id": "BX2mNvR4VCLH",
    "outputId": "57c63558-a387-4c3c-ed2a-ade53ecee46a"
   },
   "outputs": [
    {
     "name": "stdout",
     "output_type": "stream",
     "text": [
      "[[0. 0. 0. 0.]\n",
      " [0. 0. 0. 0.]\n",
      " [0. 0. 0. 0.]]\n"
     ]
    }
   ],
   "source": [
    "arr = np.zeros((3,4),float)\n",
    "print(arr)"
   ]
  },
  {
   "cell_type": "markdown",
   "metadata": {
    "cell_id": "00062-ad19fe23-53c1-4034-9275-e2abe35b7398",
    "deepnote_cell_type": "markdown",
    "id": "J0gbd6RSVb6j"
   },
   "source": [
    "```np.ones((r,c),dtype)```\n",
    "\n",
    "* Gives a matrix of ones that is of shape (r,c)"
   ]
  },
  {
   "cell_type": "code",
   "execution_count": 13,
   "metadata": {
    "cell_id": "00063-a8f80333-7ad5-4137-b228-cd0439211324",
    "colab": {
     "base_uri": "https://localhost:8080/"
    },
    "deepnote_cell_type": "code",
    "executionInfo": {
     "elapsed": 414,
     "status": "ok",
     "timestamp": 1624476354682,
     "user": {
      "displayName": "Conor Dunne",
      "photoUrl": "",
      "userId": "14934053525675490562"
     },
     "user_tz": -60
    },
    "id": "imeAXKjXVds_",
    "outputId": "21b23258-ed45-4312-ab8d-64b98622162f"
   },
   "outputs": [
    {
     "name": "stdout",
     "output_type": "stream",
     "text": [
      "[[1. 1. 1. 1.]\n",
      " [1. 1. 1. 1.]\n",
      " [1. 1. 1. 1.]]\n"
     ]
    }
   ],
   "source": [
    "arr = np.ones((3,4),float)\n",
    "print(arr)"
   ]
  },
  {
   "cell_type": "markdown",
   "metadata": {
    "cell_id": "00064-7b430319-6bd6-42c6-b643-9bb342f47377",
    "deepnote_cell_type": "markdown",
    "id": "9rwDAH_Iywk2"
   },
   "source": [
    "```np.diag(v,k=0)```\n",
    "\n",
    "* Gives a matrix of zeros with elements of v(array-like) on the diagonal\n",
    "* k specifies which diagonal\n",
    "* k=0 is the main diagonal, and is set if k is unspecified"
   ]
  },
  {
   "cell_type": "code",
   "execution_count": 8,
   "metadata": {
    "cell_id": "00065-428ea821-2e8a-4321-bfb5-648f515dac46",
    "colab": {
     "base_uri": "https://localhost:8080/"
    },
    "deepnote_cell_type": "code",
    "executionInfo": {
     "elapsed": 392,
     "status": "ok",
     "timestamp": 1624484163505,
     "user": {
      "displayName": "Conor Dunne",
      "photoUrl": "",
      "userId": "14934053525675490562"
     },
     "user_tz": -60
    },
    "id": "VBNWVOYWzF6t",
    "outputId": "b756b2a1-c0ab-4dbc-8e52-ced212c1873a"
   },
   "outputs": [
    {
     "name": "stdout",
     "output_type": "stream",
     "text": [
      "[[1 0 0]\n",
      " [0 2 0]\n",
      " [0 0 3]]\n"
     ]
    }
   ],
   "source": [
    "arr = np.diag([1,2,3],k=0)\n",
    "print(arr)"
   ]
  },
  {
   "cell_type": "code",
   "execution_count": 15,
   "metadata": {
    "cell_id": "00066-01d297be-cee3-43ff-985a-c6f594193cb3",
    "colab": {
     "base_uri": "https://localhost:8080/"
    },
    "deepnote_cell_type": "code",
    "executionInfo": {
     "elapsed": 314,
     "status": "ok",
     "timestamp": 1624484258413,
     "user": {
      "displayName": "Conor Dunne",
      "photoUrl": "",
      "userId": "14934053525675490562"
     },
     "user_tz": -60
    },
    "id": "VVUA19e6zkxd",
    "outputId": "f994cbe7-7300-4091-a92a-b9dc519ba82a"
   },
   "outputs": [
    {
     "name": "stdout",
     "output_type": "stream",
     "text": [
      "[[0 0 0 1 0 0]\n",
      " [0 0 0 0 2 0]\n",
      " [0 0 0 0 0 3]\n",
      " [0 0 0 0 0 0]\n",
      " [0 0 0 0 0 0]\n",
      " [0 0 0 0 0 0]]\n"
     ]
    }
   ],
   "source": [
    "arr = np.diag([1,2,3],k=3)\n",
    "print(arr)"
   ]
  },
  {
   "cell_type": "markdown",
   "metadata": {
    "cell_id": "00067-fbc6d930-5cdc-44aa-8f3c-151c6768e191",
    "deepnote_cell_type": "markdown",
    "id": "VcgLHiWTV9Es"
   },
   "source": [
    "```np.identity(n,dtype)```\n",
    "\n",
    "* Gives an nxn identity matrix"
   ]
  },
  {
   "cell_type": "code",
   "execution_count": 16,
   "metadata": {
    "cell_id": "00068-66474a6d-2ec1-438a-b60f-fe87c1a50271",
    "colab": {
     "base_uri": "https://localhost:8080/"
    },
    "deepnote_cell_type": "code",
    "executionInfo": {
     "elapsed": 281,
     "status": "ok",
     "timestamp": 1624476415423,
     "user": {
      "displayName": "Conor Dunne",
      "photoUrl": "",
      "userId": "14934053525675490562"
     },
     "user_tz": -60
    },
    "id": "IpV2wHidVjqv",
    "outputId": "f597fcd5-0d22-463e-f570-d0ef53833977"
   },
   "outputs": [
    {
     "name": "stdout",
     "output_type": "stream",
     "text": [
      "[[1. 0. 0.]\n",
      " [0. 1. 0.]\n",
      " [0. 0. 1.]]\n"
     ]
    }
   ],
   "source": [
    "arr = np.identity(3,float)\n",
    "print(arr)"
   ]
  },
  {
   "cell_type": "markdown",
   "metadata": {
    "cell_id": "00069-b636f8b8-dad1-40a1-9636-7ced0a0b80bb",
    "deepnote_cell_type": "markdown",
    "id": "LBYhMf0OsqFG"
   },
   "source": [
    "```np.eye(N,M,k,dtype)```\n",
    "\n",
    "* Gives an NxN identity matrix if M is unspecified\n",
    "* Otherwise gives and NxM matrix with ones on a diagonal\n",
    "* k specifies which diagonal"
   ]
  },
  {
   "cell_type": "code",
   "execution_count": 17,
   "metadata": {
    "cell_id": "00070-56b410bc-b6ec-4ed9-ae64-466c2128eccf",
    "colab": {
     "base_uri": "https://localhost:8080/"
    },
    "deepnote_cell_type": "code",
    "executionInfo": {
     "elapsed": 307,
     "status": "ok",
     "timestamp": 1624482680465,
     "user": {
      "displayName": "Conor Dunne",
      "photoUrl": "",
      "userId": "14934053525675490562"
     },
     "user_tz": -60
    },
    "id": "vawjkhxCswpx",
    "outputId": "6b3f08fe-3d06-49c6-98ae-ab8aab05e5b4"
   },
   "outputs": [
    {
     "name": "stdout",
     "output_type": "stream",
     "text": [
      "[[1. 0. 0. 0. 0.]\n",
      " [0. 1. 0. 0. 0.]\n",
      " [0. 0. 1. 0. 0.]\n",
      " [0. 0. 0. 1. 0.]]\n"
     ]
    }
   ],
   "source": [
    "arr = np.eye(4,5,k=0)\n",
    "print(arr)"
   ]
  },
  {
   "cell_type": "code",
   "execution_count": 18,
   "metadata": {
    "cell_id": "00071-73c5e0de-0ce5-4968-a0a2-cac622e78bc7",
    "colab": {
     "base_uri": "https://localhost:8080/"
    },
    "deepnote_cell_type": "code",
    "executionInfo": {
     "elapsed": 310,
     "status": "ok",
     "timestamp": 1624483950175,
     "user": {
      "displayName": "Conor Dunne",
      "photoUrl": "",
      "userId": "14934053525675490562"
     },
     "user_tz": -60
    },
    "id": "tc9c3hwJtlzO",
    "outputId": "04ccc742-5e7d-4383-8d05-10178a47b8b1"
   },
   "outputs": [
    {
     "name": "stdout",
     "output_type": "stream",
     "text": [
      "[[0 1 0 0 0]\n",
      " [0 0 1 0 0]\n",
      " [0 0 0 1 0]\n",
      " [0 0 0 0 1]]\n"
     ]
    }
   ],
   "source": [
    "arr = np.eye(4,5,k=1, dtype=int)\n",
    "print(arr)"
   ]
  },
  {
   "cell_type": "markdown",
   "metadata": {
    "cell_id": "00072-43d7ea2c-9eee-4072-95d0-c7a7db07837d",
    "deepnote_cell_type": "markdown",
    "id": "7At_eD5EtsZp"
   },
   "source": [
    "```x,y = np.mgrid(array-like,array-like)```"
   ]
  },
  {
   "cell_type": "code",
   "execution_count": 19,
   "metadata": {
    "cell_id": "00073-81109d94-eddc-4cc8-be47-32bbf27510f6",
    "colab": {
     "base_uri": "https://localhost:8080/"
    },
    "deepnote_cell_type": "code",
    "executionInfo": {
     "elapsed": 508,
     "status": "ok",
     "timestamp": 1624483206934,
     "user": {
      "displayName": "Conor Dunne",
      "photoUrl": "",
      "userId": "14934053525675490562"
     },
     "user_tz": -60
    },
    "id": "gTV_HT0Ut52f",
    "outputId": "1e33160a-ad05-4dc0-9d71-ac43d87228d9"
   },
   "outputs": [
    {
     "name": "stdout",
     "output_type": "stream",
     "text": [
      "[[0 0 0 0 0 0]\n",
      " [1 1 1 1 1 1]\n",
      " [2 2 2 2 2 2]\n",
      " [3 3 3 3 3 3]] \n",
      "\n",
      "[[0 1 2 3 4 5]\n",
      " [0 1 2 3 4 5]\n",
      " [0 1 2 3 4 5]\n",
      " [0 1 2 3 4 5]]\n"
     ]
    }
   ],
   "source": [
    "x,y = np.mgrid[0:4,0:6]\n",
    "\n",
    "print(x,'\\n')\n",
    "print(y)"
   ]
  },
  {
   "cell_type": "markdown",
   "metadata": {
    "cell_id": "00074-181e12ff-e565-4fc2-97ac-473abf6725aa",
    "deepnote_cell_type": "markdown",
    "id": "ElToqTKXvzuY"
   },
   "source": [
    "We can also create arrays filled with random numbers, in [0,1), using $np.random.rand(shape)$. \n",
    "\n",
    "```np.random.rand(rows,columns)```"
   ]
  },
  {
   "cell_type": "code",
   "execution_count": 20,
   "metadata": {
    "cell_id": "00075-fe9eb4e4-e2bc-46f7-9ccd-ec26fdf08e98",
    "colab": {
     "base_uri": "https://localhost:8080/"
    },
    "deepnote_cell_type": "code",
    "executionInfo": {
     "elapsed": 272,
     "status": "ok",
     "timestamp": 1624483601585,
     "user": {
      "displayName": "Conor Dunne",
      "photoUrl": "",
      "userId": "14934053525675490562"
     },
     "user_tz": -60
    },
    "id": "8gVhWMPWwEFJ",
    "outputId": "8ab1b5a8-bb2f-4a3b-ef80-1ef24f0b8f5f"
   },
   "outputs": [
    {
     "name": "stdout",
     "output_type": "stream",
     "text": [
      "[[0.01226435 0.0121199  0.39862442 0.79289703]\n",
      " [0.56265272 0.93667694 0.36661936 0.58589607]\n",
      " [0.88904539 0.15467177 0.31138766 0.10460038]]\n"
     ]
    }
   ],
   "source": [
    "arr = np.random.rand(3,4)\n",
    "print(arr)"
   ]
  },
  {
   "cell_type": "markdown",
   "metadata": {
    "cell_id": "00076-bebde421-6ac4-4db3-890f-b2cca6107777",
    "deepnote_cell_type": "markdown",
    "id": "ZOUjom3nxJPs"
   },
   "source": [
    "If we multiply it by an integer(or float) $n$, we'll obtain a random distribution over the interval [0,n)."
   ]
  },
  {
   "cell_type": "code",
   "execution_count": 21,
   "metadata": {
    "cell_id": "00077-9f4b6b8d-dc9c-49e5-9979-52ca0d5a55d9",
    "colab": {
     "base_uri": "https://localhost:8080/"
    },
    "deepnote_cell_type": "code",
    "executionInfo": {
     "elapsed": 269,
     "status": "ok",
     "timestamp": 1624483904356,
     "user": {
      "displayName": "Conor Dunne",
      "photoUrl": "",
      "userId": "14934053525675490562"
     },
     "user_tz": -60
    },
    "id": "c0133cMdxLku",
    "outputId": "0bb6b618-aa90-4225-b782-85192b945487",
    "scrolled": true
   },
   "outputs": [
    {
     "name": "stdout",
     "output_type": "stream",
     "text": [
      "[[81.32653699 31.43907354  0.12819166  4.48825627]\n",
      " [47.61284495 35.15831899 23.26904471 53.48428605]\n",
      " [97.14948767 22.73783691 37.612785    5.35412492]] \n",
      "\n"
     ]
    }
   ],
   "source": [
    "arr = 100*np.random.rand(3,4)\n",
    "print(arr, '\\n')"
   ]
  },
  {
   "cell_type": "markdown",
   "metadata": {
    "cell_id": "00078-257326b5-1ef7-4ab5-97ba-7dd3e9ce14fd",
    "deepnote_cell_type": "markdown",
    "id": "LE5JsV8Ixorm"
   },
   "source": [
    "To obtain a random array of integers we can then round the array, then cast the elements as integers, as follows"
   ]
  },
  {
   "cell_type": "code",
   "execution_count": 22,
   "metadata": {
    "cell_id": "00079-513295e0-f56b-4f5b-82ea-d3d4a6f0076b",
    "colab": {
     "base_uri": "https://localhost:8080/"
    },
    "deepnote_cell_type": "code",
    "executionInfo": {
     "elapsed": 278,
     "status": "ok",
     "timestamp": 1624483905955,
     "user": {
      "displayName": "Conor Dunne",
      "photoUrl": "",
      "userId": "14934053525675490562"
     },
     "user_tz": -60
    },
    "id": "Tv-yOgXmx2Cm",
    "outputId": "9553986e-36de-4e6b-812e-9d09c7a612ee"
   },
   "outputs": [
    {
     "name": "stdout",
     "output_type": "stream",
     "text": [
      "[[81 31  0  4]\n",
      " [48 35 23 53]\n",
      " [97 23 38  5]]\n"
     ]
    }
   ],
   "source": [
    "arr = np.round(arr).astype(int)\n",
    "print(arr)"
   ]
  },
  {
   "cell_type": "markdown",
   "metadata": {
    "cell_id": "00080-7eb81328-2028-4d1c-9c8c-b98307b9871e",
    "deepnote_cell_type": "markdown",
    "id": "gADiZUpA0wY-"
   },
   "source": [
    "## Non-Numerical Data Types\n",
    "\n",
    "Numpy also supports non-numerical data:"
   ]
  },
  {
   "cell_type": "code",
   "execution_count": 23,
   "metadata": {
    "cell_id": "00081-0b589f39-a919-4f02-a5cd-b7a9782cca05",
    "colab": {
     "base_uri": "https://localhost:8080/"
    },
    "deepnote_cell_type": "code",
    "executionInfo": {
     "elapsed": 285,
     "status": "ok",
     "timestamp": 1624484656416,
     "user": {
      "displayName": "Conor Dunne",
      "photoUrl": "",
      "userId": "14934053525675490562"
     },
     "user_tz": -60
    },
    "id": "ojLBAuo509TL",
    "outputId": "6ab5af0c-f0fc-43ce-a016-5c6cec81d1d8"
   },
   "outputs": [
    {
     "name": "stdout",
     "output_type": "stream",
     "text": [
      "['a' 'bcd']\n",
      "<U3\n"
     ]
    }
   ],
   "source": [
    "arr = np.array(['a','bcd'])\n",
    "print(arr)\n",
    "print(arr.dtype)"
   ]
  },
  {
   "cell_type": "markdown",
   "metadata": {
    "cell_id": "00082-4e6f9a15-735e-4ba9-a092-f4fa934c659e",
    "deepnote_cell_type": "markdown",
    "id": "II8b0Sqg1T1U"
   },
   "source": [
    "We see above that the data type is the minimum data type required to store the largest element in the array. In the above case, a string with three elements, 'bcd'. This is again demonstrated below:"
   ]
  },
  {
   "cell_type": "code",
   "execution_count": 24,
   "metadata": {
    "cell_id": "00083-f6a4b7f2-8642-4672-9083-839538963a99",
    "colab": {
     "base_uri": "https://localhost:8080/"
    },
    "deepnote_cell_type": "code",
    "executionInfo": {
     "elapsed": 379,
     "status": "ok",
     "timestamp": 1624484682983,
     "user": {
      "displayName": "Conor Dunne",
      "photoUrl": "",
      "userId": "14934053525675490562"
     },
     "user_tz": -60
    },
    "id": "TdeJ2Gwk1OsC",
    "outputId": "56348c4e-30d8-4c6b-fcc0-09d238d8f212"
   },
   "outputs": [
    {
     "name": "stdout",
     "output_type": "stream",
     "text": [
      "['a' 'bcd' 'efghijk']\n",
      "<U7\n"
     ]
    }
   ],
   "source": [
    "arr = np.array(['a','bcd','efghijk'])\n",
    "print(arr)\n",
    "print(arr.dtype)"
   ]
  },
  {
   "cell_type": "markdown",
   "metadata": {
    "cell_id": "00084-1d4a7b2c-ee9f-4c52-bb77-5ac21394250b",
    "deepnote_cell_type": "markdown",
    "id": "22SZM05x1vLt"
   },
   "source": [
    "Instead of strings we can also cast the data as characters"
   ]
  },
  {
   "cell_type": "code",
   "execution_count": 10,
   "metadata": {
    "cell_id": "00085-f6b2e4d7-b24e-4427-a725-6f715c91e1c4",
    "colab": {
     "base_uri": "https://localhost:8080/"
    },
    "deepnote_cell_type": "code",
    "executionInfo": {
     "elapsed": 323,
     "status": "ok",
     "timestamp": 1624484851898,
     "user": {
      "displayName": "Conor Dunne",
      "photoUrl": "",
      "userId": "14934053525675490562"
     },
     "user_tz": -60
    },
    "id": "3600TWX31zy-",
    "outputId": "28640356-87ce-4695-e694-69808f14eb57"
   },
   "outputs": [
    {
     "name": "stdout",
     "output_type": "stream",
     "text": [
      "[[b'e' b'f' b'g' b'h' b'i' b'j' b'k']]\n"
     ]
    }
   ],
   "source": [
    "arr = np.array(['efghijk'], dtype='c')\n",
    "print(arr)"
   ]
  },
  {
   "cell_type": "markdown",
   "metadata": {
    "cell_id": "00086-ae8f1236-4960-4284-bb4c-2258dda0bdb3",
    "deepnote_cell_type": "markdown",
    "id": "di-LVV1X2L-l"
   },
   "source": [
    "Similarly you might also want to add multiple strings, which can be done as follows."
   ]
  },
  {
   "cell_type": "code",
   "execution_count": 11,
   "metadata": {
    "cell_id": "00087-1672a5c7-5e3e-49ef-86f3-6384c069907d",
    "colab": {
     "base_uri": "https://localhost:8080/"
    },
    "deepnote_cell_type": "code",
    "executionInfo": {
     "elapsed": 357,
     "status": "ok",
     "timestamp": 1624485003647,
     "user": {
      "displayName": "Conor Dunne",
      "photoUrl": "",
      "userId": "14934053525675490562"
     },
     "user_tz": -60
    },
    "id": "eYZdApPd1-fB",
    "outputId": "31f9c1c2-ed8a-4d64-c618-32eb6a135e5b"
   },
   "outputs": [
    {
     "name": "stdout",
     "output_type": "stream",
     "text": [
      "[b'a' b'b' b'c' b'd' b'e' b'f' b'g' b'h' b'i' b'j' b'k']\n"
     ]
    }
   ],
   "source": [
    "stringy = 'a' + 'bcd' + 'efghijk'\n",
    "arr = np.array(stringy, dtype='c')\n",
    "print(arr)"
   ]
  },
  {
   "cell_type": "markdown",
   "metadata": {
    "cell_id": "00088-4a599893-de13-4617-bba2-09d2f489d0c7",
    "deepnote_cell_type": "markdown",
    "id": "ZUWnF1fF3X9U"
   },
   "source": [
    "## Indexing Numpy Arrays\n",
    "\n",
    "We can find elements in Numpy arrays in the following way"
   ]
  },
  {
   "cell_type": "code",
   "execution_count": 27,
   "metadata": {
    "cell_id": "00089-66bb4aa9-5dce-4c38-8d05-ac57c85d23df",
    "colab": {
     "base_uri": "https://localhost:8080/"
    },
    "deepnote_cell_type": "code",
    "executionInfo": {
     "elapsed": 310,
     "status": "ok",
     "timestamp": 1624485571773,
     "user": {
      "displayName": "Conor Dunne",
      "photoUrl": "",
      "userId": "14934053525675490562"
     },
     "user_tz": -60
    },
    "id": "6t09namm3p07",
    "outputId": "e7d04d7d-929e-44ab-f9b7-62317c52fae6"
   },
   "outputs": [
    {
     "name": "stdout",
     "output_type": "stream",
     "text": [
      "[1 2]\n",
      "1\n"
     ]
    }
   ],
   "source": [
    "arr = np.array([1,2])\n",
    "print(arr)\n",
    "print(arr[0])"
   ]
  },
  {
   "cell_type": "markdown",
   "metadata": {
    "cell_id": "00090-7390b784-8dc1-4f55-8bc7-45bab0578b48",
    "deepnote_cell_type": "markdown",
    "id": "7ipcRUaV6m8T"
   },
   "source": [
    "This is similar to lists. However, things change when we add dimensions!!"
   ]
  },
  {
   "cell_type": "code",
   "execution_count": 28,
   "metadata": {
    "cell_id": "00091-bc231ffb-8465-46b4-9448-7c27644b9085",
    "deepnote_cell_type": "code",
    "id": "AU38Ciiy39hn"
   },
   "outputs": [],
   "source": [
    "L = [[1,2],[3,4]]\n",
    "arr = np.array(L)"
   ]
  },
  {
   "cell_type": "markdown",
   "metadata": {
    "cell_id": "00092-584ee4f3-49a6-4962-976f-01b7f9ef260b",
    "deepnote_cell_type": "markdown",
    "id": "Z0MWjNiq6-Dg"
   },
   "source": [
    "To access data in the LIST!"
   ]
  },
  {
   "cell_type": "code",
   "execution_count": 29,
   "metadata": {
    "cell_id": "00093-e0b99031-87c9-4f2c-995a-f4f2571f8836",
    "colab": {
     "base_uri": "https://localhost:8080/"
    },
    "deepnote_cell_type": "code",
    "executionInfo": {
     "elapsed": 19,
     "status": "ok",
     "timestamp": 1624486207599,
     "user": {
      "displayName": "Conor Dunne",
      "photoUrl": "",
      "userId": "14934053525675490562"
     },
     "user_tz": -60
    },
    "id": "xRmAWXoq7BNH",
    "outputId": "1c364063-e19f-48fe-9197-6724801175c5"
   },
   "outputs": [
    {
     "name": "stdout",
     "output_type": "stream",
     "text": [
      "4\n"
     ]
    }
   ],
   "source": [
    "print(L[1][1])"
   ]
  },
  {
   "cell_type": "markdown",
   "metadata": {
    "cell_id": "00094-72575f9c-c386-44bb-8387-2f439ef3c045",
    "deepnote_cell_type": "markdown",
    "id": "apyZ6pCg7H_N"
   },
   "source": [
    "In the array, it is different and found as follows"
   ]
  },
  {
   "cell_type": "code",
   "execution_count": 30,
   "metadata": {
    "cell_id": "00095-e9da7e31-46ba-4fc1-ae15-863172bebb80",
    "colab": {
     "base_uri": "https://localhost:8080/"
    },
    "deepnote_cell_type": "code",
    "executionInfo": {
     "elapsed": 519,
     "status": "ok",
     "timestamp": 1624486241778,
     "user": {
      "displayName": "Conor Dunne",
      "photoUrl": "",
      "userId": "14934053525675490562"
     },
     "user_tz": -60
    },
    "id": "fdqdkchs6552",
    "outputId": "11e0d00c-901f-4e7e-c992-984f404b961e"
   },
   "outputs": [
    {
     "name": "stdout",
     "output_type": "stream",
     "text": [
      "[[1 2]\n",
      " [3 4]] \n",
      "\n",
      "1\n",
      "2\n",
      "3\n",
      "4\n"
     ]
    }
   ],
   "source": [
    "print(arr,'\\n')\n",
    "\n",
    "print(arr[0,0])\n",
    "print(arr[0,1])\n",
    "print(arr[1,0])\n",
    "print(arr[1,1])"
   ]
  },
  {
   "cell_type": "markdown",
   "metadata": {
    "cell_id": "00096-42d068cc-31ff-4a76-98ba-92c15076ae6a",
    "deepnote_cell_type": "markdown",
    "id": "bC4uuHAj2vgn"
   },
   "source": [
    "## Slicing Numpy Arrays\n",
    "\n",
    "```arr[lower:upper:step]```\n",
    "\n",
    "Slicing is a dynamical way to extract certain parts of an array. Lets create a list and slice it up"
   ]
  },
  {
   "cell_type": "code",
   "execution_count": 31,
   "metadata": {
    "cell_id": "00097-5c9e3289-6ad0-431d-ac0e-36530626af6f",
    "colab": {
     "base_uri": "https://localhost:8080/"
    },
    "deepnote_cell_type": "code",
    "executionInfo": {
     "elapsed": 199,
     "status": "ok",
     "timestamp": 1624523467807,
     "user": {
      "displayName": "Conor Dunne",
      "photoUrl": "",
      "userId": "14934053525675490562"
     },
     "user_tz": -60
    },
    "id": "DoxTPe-Z9NdK",
    "outputId": "bc4b5fc5-60e0-4833-af84-d3a3d5a7d812"
   },
   "outputs": [
    {
     "name": "stdout",
     "output_type": "stream",
     "text": [
      "[  0   1   4   9  16  25  36  49  64  81 100 121 144 169 196 225 256 289\n",
      " 324 361 400]\n"
     ]
    }
   ],
   "source": [
    "arr = np.array([x**2 for x in range(21)]) #No reason why list comprehensions can't be used\n",
    "print(arr)"
   ]
  },
  {
   "cell_type": "markdown",
   "metadata": {
    "cell_id": "00098-76380fad-4c8f-4c4f-b10d-8aa0618a9657",
    "deepnote_cell_type": "markdown",
    "id": "cpNvNMY5JQqb"
   },
   "source": [
    "The first thing to notice is that slicing gives views of the array but doesn't actually remove parts of it from memory."
   ]
  },
  {
   "cell_type": "code",
   "execution_count": 32,
   "metadata": {
    "cell_id": "00099-32031003-5f13-40ba-8fcd-3564abca4087",
    "colab": {
     "base_uri": "https://localhost:8080/"
    },
    "deepnote_cell_type": "code",
    "executionInfo": {
     "elapsed": 7,
     "status": "ok",
     "timestamp": 1624523469394,
     "user": {
      "displayName": "Conor Dunne",
      "photoUrl": "",
      "userId": "14934053525675490562"
     },
     "user_tz": -60
    },
    "id": "2DJGcp2R94uT",
    "outputId": "4f1ac2f6-bb4b-4bc9-e7db-188cc53cee55"
   },
   "outputs": [
    {
     "name": "stdout",
     "output_type": "stream",
     "text": [
      "[ 25  64 121 196]\n",
      "[  0   1   4   9  16  25  36  49  64  81 100 121 144 169 196 225 256 289\n",
      " 324 361 400]\n"
     ]
    }
   ],
   "source": [
    "slic = arr[5:15:3]\n",
    "\n",
    "print(slic)\n",
    "print(arr)"
   ]
  },
  {
   "cell_type": "markdown",
   "metadata": {
    "cell_id": "00100-0f34c6f0-1996-457d-be5e-2fa9e703f3ac",
    "deepnote_cell_type": "markdown",
    "id": "v_W1GZij-0Ac"
   },
   "source": [
    "If we leave out lower, it is automatically set to the first element. If we also leave out step, it is set to 1."
   ]
  },
  {
   "cell_type": "code",
   "execution_count": 33,
   "metadata": {
    "cell_id": "00101-3a03d6f5-0486-40c3-9d76-9fb8c9fa3ef8",
    "colab": {
     "base_uri": "https://localhost:8080/"
    },
    "deepnote_cell_type": "code",
    "executionInfo": {
     "elapsed": 216,
     "status": "ok",
     "timestamp": 1624521953010,
     "user": {
      "displayName": "Conor Dunne",
      "photoUrl": "",
      "userId": "14934053525675490562"
     },
     "user_tz": -60
    },
    "id": "4KrNGufR-USB",
    "outputId": "d5826542-ede4-48b3-e53a-3812ebc24a92"
   },
   "outputs": [
    {
     "name": "stdout",
     "output_type": "stream",
     "text": [
      "[ 0  1  4  9 16]\n"
     ]
    }
   ],
   "source": [
    "print(arr[:5])"
   ]
  },
  {
   "cell_type": "markdown",
   "metadata": {
    "cell_id": "00102-cfb49354-af7b-47fb-a3ab-c875fc788247",
    "deepnote_cell_type": "markdown",
    "id": "c4almHIj_7Lf"
   },
   "source": [
    "If we leave out upper, it is set to the last element"
   ]
  },
  {
   "cell_type": "code",
   "execution_count": 34,
   "metadata": {
    "cell_id": "00103-7deec511-5b27-4b45-b258-8958e6ae75f9",
    "colab": {
     "base_uri": "https://localhost:8080/"
    },
    "deepnote_cell_type": "code",
    "executionInfo": {
     "elapsed": 198,
     "status": "ok",
     "timestamp": 1624521955778,
     "user": {
      "displayName": "Conor Dunne",
      "photoUrl": "",
      "userId": "14934053525675490562"
     },
     "user_tz": -60
    },
    "id": "Ben1_wVKDSFj",
    "outputId": "d768d247-3eb0-4361-b3ce-1476f83cb27e"
   },
   "outputs": [
    {
     "name": "stdout",
     "output_type": "stream",
     "text": [
      "[ 25  36  49  64  81 100 121 144 169 196 225 256 289 324 361 400]\n"
     ]
    }
   ],
   "source": [
    "print(arr[5:])"
   ]
  },
  {
   "cell_type": "code",
   "execution_count": 35,
   "metadata": {
    "cell_id": "00104-e4319caf-cd08-4e5f-987a-60d29082b298",
    "colab": {
     "base_uri": "https://localhost:8080/"
    },
    "deepnote_cell_type": "code",
    "executionInfo": {
     "elapsed": 265,
     "status": "ok",
     "timestamp": 1624487111600,
     "user": {
      "displayName": "Conor Dunne",
      "photoUrl": "",
      "userId": "14934053525675490562"
     },
     "user_tz": -60
    },
    "id": "XK06lYk9-aBR",
    "outputId": "80e2f951-127a-490a-e180-777548229565"
   },
   "outputs": [
    {
     "name": "stdout",
     "output_type": "stream",
     "text": [
      "[  0   4  16  36  64 100 144 196 256 324 400]\n"
     ]
    }
   ],
   "source": [
    "print(arr[::2])"
   ]
  },
  {
   "cell_type": "code",
   "execution_count": 36,
   "metadata": {
    "cell_id": "00105-a7d1e8fb-d3ce-4c25-99ce-9e6322a76324",
    "colab": {
     "base_uri": "https://localhost:8080/"
    },
    "deepnote_cell_type": "code",
    "executionInfo": {
     "elapsed": 336,
     "status": "ok",
     "timestamp": 1624487133701,
     "user": {
      "displayName": "Conor Dunne",
      "photoUrl": "",
      "userId": "14934053525675490562"
     },
     "user_tz": -60
    },
    "id": "jgqS9K6x-kUR",
    "outputId": "2f8d7b8c-952c-4aab-e416-321bd6d6d075"
   },
   "outputs": [
    {
     "name": "stdout",
     "output_type": "stream",
     "text": [
      "[ 0  4 16 36 64]\n"
     ]
    }
   ],
   "source": [
    "print(arr[:10:2])"
   ]
  },
  {
   "cell_type": "markdown",
   "metadata": {
    "cell_id": "00106-e41ffe34-1f71-44c6-92ab-17d79ac1c5bc",
    "deepnote_cell_type": "markdown",
    "id": "Z0U42qPBDv6O"
   },
   "source": [
    "Lets try to input negative indexes"
   ]
  },
  {
   "cell_type": "code",
   "execution_count": 37,
   "metadata": {
    "cell_id": "00107-86afd2c1-1bb8-40c6-8783-4bd0dfa137d8",
    "colab": {
     "base_uri": "https://localhost:8080/"
    },
    "deepnote_cell_type": "code",
    "executionInfo": {
     "elapsed": 196,
     "status": "ok",
     "timestamp": 1624522096428,
     "user": {
      "displayName": "Conor Dunne",
      "photoUrl": "",
      "userId": "14934053525675490562"
     },
     "user_tz": -60
    },
    "id": "M0iYPi6fD3M6",
    "outputId": "037ac199-94df-4909-8e6d-1516555fe2a3"
   },
   "outputs": [
    {
     "name": "stdout",
     "output_type": "stream",
     "text": [
      "[324 361 400]\n"
     ]
    }
   ],
   "source": [
    "print(arr[-3:])"
   ]
  },
  {
   "cell_type": "markdown",
   "metadata": {
    "cell_id": "00108-2c925368-c3de-4ea1-8e5a-d6a1cc9c2ebb",
    "deepnote_cell_type": "markdown",
    "id": "oRs-CNEhEdP8"
   },
   "source": [
    "We see that a negative number just means to count indexes from right to left."
   ]
  },
  {
   "cell_type": "code",
   "execution_count": 38,
   "metadata": {
    "cell_id": "00109-7ad5bc77-880e-4e88-9270-0ef4a020f2e0",
    "colab": {
     "base_uri": "https://localhost:8080/"
    },
    "deepnote_cell_type": "code",
    "executionInfo": {
     "elapsed": 201,
     "status": "ok",
     "timestamp": 1624522118394,
     "user": {
      "displayName": "Conor Dunne",
      "photoUrl": "",
      "userId": "14934053525675490562"
     },
     "user_tz": -60
    },
    "id": "pzRDeW-2EAqv",
    "outputId": "bce248c7-47db-430d-fb28-4db55834b081"
   },
   "outputs": [
    {
     "name": "stdout",
     "output_type": "stream",
     "text": [
      "[  0   1   4   9  16  25  36  49  64  81 100 121 144 169 196 225 256 289]\n"
     ]
    }
   ],
   "source": [
    "print(arr[:-3])"
   ]
  },
  {
   "cell_type": "code",
   "execution_count": 39,
   "metadata": {
    "cell_id": "00110-569ad4df-a05f-410b-9ebe-20c5d31b8018",
    "colab": {
     "base_uri": "https://localhost:8080/"
    },
    "deepnote_cell_type": "code",
    "executionInfo": {
     "elapsed": 193,
     "status": "ok",
     "timestamp": 1624522135267,
     "user": {
      "displayName": "Conor Dunne",
      "photoUrl": "",
      "userId": "14934053525675490562"
     },
     "user_tz": -60
    },
    "id": "aE2EbmhZEGas",
    "outputId": "a991db30-bd67-430b-8c92-9c40dbf5fa66"
   },
   "outputs": [
    {
     "name": "stdout",
     "output_type": "stream",
     "text": [
      "[400 361 324 289 256 225 196 169 144 121 100  81  64  49  36  25  16   9\n",
      "   4   1   0]\n"
     ]
    }
   ],
   "source": [
    "print(arr[::-1])"
   ]
  },
  {
   "cell_type": "markdown",
   "metadata": {
    "cell_id": "00111-cc8c1417-7d1f-43f2-99b1-e2fcf2e8bdb2",
    "deepnote_cell_type": "markdown",
    "id": "UspI6haVEKkK"
   },
   "source": [
    "The above example is a nice trick to reverse an array!"
   ]
  },
  {
   "cell_type": "markdown",
   "metadata": {
    "cell_id": "00112-c2c7592c-d2ad-4617-b079-744bcf36d00b",
    "deepnote_cell_type": "markdown",
    "id": "dkPd5gviG5Rz"
   },
   "source": [
    "Lets look at slicing 2-d arrays. It works in the same way:"
   ]
  },
  {
   "cell_type": "code",
   "execution_count": 40,
   "metadata": {
    "cell_id": "00113-1953daf2-b0bb-40ad-a984-ceb97196d810",
    "colab": {
     "base_uri": "https://localhost:8080/"
    },
    "deepnote_cell_type": "code",
    "executionInfo": {
     "elapsed": 196,
     "status": "ok",
     "timestamp": 1624523014616,
     "user": {
      "displayName": "Conor Dunne",
      "photoUrl": "",
      "userId": "14934053525675490562"
     },
     "user_tz": -60
    },
    "id": "byfdQ1uOHBAe",
    "outputId": "93a6d71a-08ea-48bc-cc57-07f8896a8dbb"
   },
   "outputs": [
    {
     "name": "stdout",
     "output_type": "stream",
     "text": [
      "[[77 58 43 42 66]\n",
      " [16 65 19 60  9]\n",
      " [93 90  3  5 85]\n",
      " [14 13 61 12 35]]\n"
     ]
    }
   ],
   "source": [
    "arr = np.random.rand(4,5)\n",
    "arr = np.round(100*arr).astype(int)\n",
    "print(arr)"
   ]
  },
  {
   "cell_type": "code",
   "execution_count": 41,
   "metadata": {
    "cell_id": "00114-0cbae5c4-fd62-450d-908c-e5593723623b",
    "colab": {
     "base_uri": "https://localhost:8080/"
    },
    "deepnote_cell_type": "code",
    "executionInfo": {
     "elapsed": 200,
     "status": "ok",
     "timestamp": 1624523057679,
     "user": {
      "displayName": "Conor Dunne",
      "photoUrl": "",
      "userId": "14934053525675490562"
     },
     "user_tz": -60
    },
    "id": "UAUegYUKHj98",
    "outputId": "d01ec47b-5ada-4148-82f2-b2f967633d1c"
   },
   "outputs": [
    {
     "name": "stdout",
     "output_type": "stream",
     "text": [
      "[[77 58 43]\n",
      " [16 65 19]\n",
      " [93 90  3]]\n"
     ]
    }
   ],
   "source": [
    "print(arr[0:3,0:3])"
   ]
  },
  {
   "cell_type": "code",
   "execution_count": 42,
   "metadata": {
    "cell_id": "00115-5205e35d-053a-468b-829e-2646ccd7334d",
    "colab": {
     "base_uri": "https://localhost:8080/"
    },
    "deepnote_cell_type": "code",
    "executionInfo": {
     "elapsed": 318,
     "status": "ok",
     "timestamp": 1624523098697,
     "user": {
      "displayName": "Conor Dunne",
      "photoUrl": "",
      "userId": "14934053525675490562"
     },
     "user_tz": -60
    },
    "id": "d6M2-q9OHxP2",
    "outputId": "b18102fe-4c0f-4bf5-ed96-cbb2a48c68a5"
   },
   "outputs": [
    {
     "name": "stdout",
     "output_type": "stream",
     "text": [
      "[[65 19 60]\n",
      " [90  3  5]\n",
      " [13 61 12]]\n"
     ]
    }
   ],
   "source": [
    "print(arr[1:4,1:4])"
   ]
  },
  {
   "cell_type": "code",
   "execution_count": 43,
   "metadata": {
    "cell_id": "00116-f062773c-19f9-4c61-bd54-8a3f1cfa1cab",
    "colab": {
     "base_uri": "https://localhost:8080/"
    },
    "deepnote_cell_type": "code",
    "executionInfo": {
     "elapsed": 333,
     "status": "ok",
     "timestamp": 1624523130431,
     "user": {
      "displayName": "Conor Dunne",
      "photoUrl": "",
      "userId": "14934053525675490562"
     },
     "user_tz": -60
    },
    "id": "AvDOQe40H4xi",
    "outputId": "dc875f70-5495-4ad5-d695-085e9ec0d50c"
   },
   "outputs": [
    {
     "name": "stdout",
     "output_type": "stream",
     "text": [
      "[[77 43 66]\n",
      " [93  3 85]]\n"
     ]
    }
   ],
   "source": [
    "print(arr[::2,::2])"
   ]
  },
  {
   "cell_type": "markdown",
   "metadata": {
    "cell_id": "00117-0a535b0f-cfcd-4bd1-8bc8-16c518bf4e84",
    "deepnote_cell_type": "markdown",
    "id": "rF1lFoufMaKd"
   },
   "source": [
    "## Array Manipulation\n",
    "\n",
    "We can change arrays in various ways.\n",
    "\n",
    "\n",
    "Concatenation is accomplished with $np.concatenate(array1,array2)$"
   ]
  },
  {
   "cell_type": "markdown",
   "metadata": {
    "cell_id": "00118-f1dc8808-7f60-4d70-a296-c5380eda2af2",
    "deepnote_cell_type": "markdown",
    "id": "pCNqbckLNbD2"
   },
   "source": [
    "```np.concatenate((a1,a2,...),axis=0,dtype=None)```"
   ]
  },
  {
   "cell_type": "code",
   "execution_count": 44,
   "metadata": {
    "cell_id": "00119-9c7f7ad2-414b-44d6-8e25-c3c5c55f1ddd",
    "colab": {
     "base_uri": "https://localhost:8080/"
    },
    "deepnote_cell_type": "code",
    "executionInfo": {
     "elapsed": 197,
     "status": "ok",
     "timestamp": 1624524804277,
     "user": {
      "displayName": "Conor Dunne",
      "photoUrl": "",
      "userId": "14934053525675490562"
     },
     "user_tz": -60
    },
    "id": "XXd-nI0hMqmV",
    "outputId": "3d8dde08-5b31-45ee-cb48-34bbc2221031"
   },
   "outputs": [
    {
     "name": "stdout",
     "output_type": "stream",
     "text": [
      "[[1 2 3]\n",
      " [4 5 6]] \n",
      "\n",
      "[[ 7  8  9]\n",
      " [10 11 12]] \n",
      "\n",
      "[[ 1  2  3]\n",
      " [ 4  5  6]\n",
      " [ 7  8  9]\n",
      " [10 11 12]]\n"
     ]
    }
   ],
   "source": [
    "arr1 = np.array([[1,2,3],[4,5,6]])\n",
    "arr2 = np.array([[7,8,9],[10,11,12]])\n",
    "\n",
    "print(arr1,'\\n')\n",
    "print(arr2,'\\n')\n",
    "\n",
    "conc = np.concatenate((arr1,arr2))\n",
    "\n",
    "print(conc)"
   ]
  },
  {
   "cell_type": "code",
   "execution_count": 45,
   "metadata": {
    "cell_id": "00120-4d0782c3-f7ad-491d-b8ac-bfde83c6c949",
    "colab": {
     "base_uri": "https://localhost:8080/"
    },
    "deepnote_cell_type": "code",
    "executionInfo": {
     "elapsed": 250,
     "status": "ok",
     "timestamp": 1624524853782,
     "user": {
      "displayName": "Conor Dunne",
      "photoUrl": "",
      "userId": "14934053525675490562"
     },
     "user_tz": -60
    },
    "id": "aiZMYOvfOc6Y",
    "outputId": "60836521-858f-4029-f5f3-9215804f46fc"
   },
   "outputs": [
    {
     "name": "stdout",
     "output_type": "stream",
     "text": [
      "[[ 1  2  3  7  8  9]\n",
      " [ 4  5  6 10 11 12]]\n"
     ]
    }
   ],
   "source": [
    "conc = np.concatenate((arr1,arr2),axis=1)\n",
    "\n",
    "print(conc)"
   ]
  },
  {
   "cell_type": "markdown",
   "metadata": {
    "cell_id": "00121-a64a53e4-eae8-4c12-a67d-c29e4da34ca6",
    "deepnote_cell_type": "markdown",
    "id": "HM6shCbyOnGb"
   },
   "source": [
    "We can concatenate more than one array"
   ]
  },
  {
   "cell_type": "code",
   "execution_count": 46,
   "metadata": {
    "cell_id": "00122-d7051838-7635-4bc5-8aed-55464f9f66b9",
    "colab": {
     "base_uri": "https://localhost:8080/"
    },
    "deepnote_cell_type": "code",
    "executionInfo": {
     "elapsed": 195,
     "status": "ok",
     "timestamp": 1624524944912,
     "user": {
      "displayName": "Conor Dunne",
      "photoUrl": "",
      "userId": "14934053525675490562"
     },
     "user_tz": -60
    },
    "id": "WNq1sExjOqpN",
    "outputId": "dd75dda9-1ef0-4260-c3df-22837ffdefac"
   },
   "outputs": [
    {
     "name": "stdout",
     "output_type": "stream",
     "text": [
      "[[ 1  2  3  7  8  9 13 14 15]\n",
      " [ 4  5  6 10 11 12 16 17 18]]\n"
     ]
    }
   ],
   "source": [
    "arr3 = np.array([[13,14,15],[16,17,18]])\n",
    "\n",
    "conc = np.concatenate((arr1,arr2,arr3),axis=1)\n",
    "\n",
    "print(conc)"
   ]
  },
  {
   "cell_type": "markdown",
   "metadata": {},
   "source": [
    "```arr.reshape(n,m)```\n",
    "\n",
    "We can reshape an array so it has different dimensions."
   ]
  },
  {
   "cell_type": "code",
   "execution_count": 47,
   "metadata": {},
   "outputs": [
    {
     "name": "stdout",
     "output_type": "stream",
     "text": [
      "[[1 2 3]\n",
      " [4 5 6]] \n",
      "\n",
      "[[1 2]\n",
      " [3 4]\n",
      " [5 6]] \n",
      "\n"
     ]
    }
   ],
   "source": [
    "arr = np.array([[1,2,3],[4,5,6]])\n",
    "\n",
    "print(arr,'\\n')\n",
    "\n",
    "arr_reshaped = arr.reshape(3,2)\n",
    "\n",
    "print(arr_reshaped,'\\n')"
   ]
  },
  {
   "cell_type": "markdown",
   "metadata": {},
   "source": [
    "Note that if we modify the new array, the original is also modified, in other words: $arr\\_reshaped$ is just a view of $arr$ and not a distinct array."
   ]
  },
  {
   "cell_type": "code",
   "execution_count": 48,
   "metadata": {},
   "outputs": [
    {
     "name": "stdout",
     "output_type": "stream",
     "text": [
      "[[700 700]\n",
      " [  3   4]\n",
      " [  5   6]] \n",
      "\n",
      "[[700 700   3]\n",
      " [  4   5   6]] \n",
      "\n"
     ]
    }
   ],
   "source": [
    "arr_reshaped[0][0:] = 700\n",
    "\n",
    "print(arr_reshaped,'\\n')\n",
    "\n",
    "print(arr,'\\n')"
   ]
  },
  {
   "cell_type": "markdown",
   "metadata": {},
   "source": [
    "```arr.flatten()```\n",
    "\n",
    "We can convert an array into a one-dimensional vecotr/array using $flatten()$"
   ]
  },
  {
   "cell_type": "code",
   "execution_count": 49,
   "metadata": {},
   "outputs": [
    {
     "name": "stdout",
     "output_type": "stream",
     "text": [
      "[[1 2 3]\n",
      " [4 5 6]] \n",
      "\n",
      "[1 2 3 4 5 6] \n",
      "\n"
     ]
    }
   ],
   "source": [
    "arr = np.array([[1,2,3],[4,5,6]])\n",
    "\n",
    "print(arr,'\\n')\n",
    "\n",
    "arr = arr.flatten()\n",
    "\n",
    "print(arr,'\\n')"
   ]
  },
  {
   "cell_type": "markdown",
   "metadata": {},
   "source": [
    "```arr.ravel()```\n",
    "\n",
    "We can similary use $ravel()$"
   ]
  },
  {
   "cell_type": "code",
   "execution_count": 50,
   "metadata": {},
   "outputs": [
    {
     "name": "stdout",
     "output_type": "stream",
     "text": [
      "[[1 2 3]\n",
      " [4 5 6]] \n",
      "\n",
      "[1 2 3 4 5 6] \n",
      "\n"
     ]
    }
   ],
   "source": [
    "arr = np.array([[1,2,3],[4,5,6]])\n",
    "\n",
    "print(arr,'\\n')\n",
    "\n",
    "arr = arr.ravel()\n",
    "\n",
    "print(arr,'\\n')"
   ]
  },
  {
   "cell_type": "markdown",
   "metadata": {},
   "source": [
    "```np.hsplit(array,n)```\n",
    "\n",
    "We can split arrays into sub-arrays as follows"
   ]
  },
  {
   "cell_type": "code",
   "execution_count": 51,
   "metadata": {},
   "outputs": [
    {
     "name": "stdout",
     "output_type": "stream",
     "text": [
      "[[1 2 3]\n",
      " [4 5 6]] \n",
      "\n",
      "[array([[1],\n",
      "       [4]]), array([[2],\n",
      "       [5]]), array([[3],\n",
      "       [6]])] \n",
      "\n",
      "[[1]\n",
      " [4]] \n",
      "\n"
     ]
    }
   ],
   "source": [
    "arr = np.array([[1,2,3],[4,5,6]])\n",
    "\n",
    "print(arr,'\\n')\n",
    "\n",
    "arr = np.hsplit(arr,3)\n",
    "\n",
    "print(arr,'\\n')\n",
    "\n",
    "print(arr[0],'\\n')"
   ]
  }
 ],
 "metadata": {
  "colab": {
   "collapsed_sections": [],
   "name": "PyQM_4.2_Numpy_Intro.ipynb",
   "provenance": []
  },
  "deepnote": {},
  "deepnote_execution_queue": [],
  "deepnote_notebook_id": "354f2212-baf0-4f9a-a100-96dd9db6edb2",
  "kernelspec": {
   "display_name": "Python 3 (ipykernel)",
   "language": "python",
   "name": "python3"
  },
  "language_info": {
   "codemirror_mode": {
    "name": "ipython",
    "version": 3
   },
   "file_extension": ".py",
   "mimetype": "text/x-python",
   "name": "python",
   "nbconvert_exporter": "python",
   "pygments_lexer": "ipython3",
   "version": "3.9.6"
  }
 },
 "nbformat": 4,
 "nbformat_minor": 1
}
