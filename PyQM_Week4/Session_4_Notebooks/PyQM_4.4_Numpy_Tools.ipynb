{
 "cells": [
  {
   "cell_type": "markdown",
   "id": "57b34f2b",
   "metadata": {},
   "source": [
    "#  Python for Quantum Mechanics: Numpy Tools"
   ]
  },
  {
   "cell_type": "code",
   "execution_count": 1,
   "id": "abf7e590",
   "metadata": {},
   "outputs": [
    {
     "data": {
      "image/jpeg": "[encoded data removed]",
      "text/html": [
       "\n",
       "        <iframe\n",
       "            width=\"700\"\n",
       "            height=\"400\"\n",
       "            src=\"https://www.youtube.com/embed/0ezvWFQhdck\"\n",
       "            frameborder=\"0\"\n",
       "            allowfullscreen\n",
       "        ></iframe>\n",
       "        "
      ],
      "text/plain": [
       "<IPython.lib.display.YouTubeVideo at 0x10d69e2e0>"
      ]
     },
     "execution_count": 1,
     "metadata": {},
     "output_type": "execute_result"
    }
   ],
   "source": [
    "from IPython.display import YouTubeVideo\n",
    "YouTubeVideo('0ezvWFQhdck',width=700, height=400)"
   ]
  },
  {
   "cell_type": "code",
   "execution_count": 65,
   "id": "880bb4fb",
   "metadata": {},
   "outputs": [],
   "source": [
    "import numpy as np"
   ]
  },
  {
   "cell_type": "markdown",
   "id": "fc2e597a",
   "metadata": {},
   "source": [
    "## Random Sampling (np.random)"
   ]
  },
  {
   "cell_type": "code",
   "execution_count": 66,
   "id": "cf1d6a28",
   "metadata": {},
   "outputs": [],
   "source": [
    "import numpy.random as rnd"
   ]
  },
  {
   "cell_type": "markdown",
   "id": "cade1e05",
   "metadata": {},
   "source": [
    "```rnd.random((n,m))```\n",
    "\n",
    "This gives us a uniform random distribution between $0\\rightarrow 1$, of shape $(n,m)$"
   ]
  },
  {
   "cell_type": "code",
   "execution_count": 67,
   "id": "1ae132d7",
   "metadata": {},
   "outputs": [
    {
     "name": "stdout",
     "output_type": "stream",
     "text": [
      "[[0.91773308 0.39642544]\n",
      " [0.2464477  0.82442703]\n",
      " [0.30713893 0.94217487]] \n",
      "\n",
      "[[91.77330755 39.64254414]\n",
      " [24.64476998 82.44270303]\n",
      " [30.71389312 94.21748668]] \n",
      "\n"
     ]
    }
   ],
   "source": [
    "rarr = rnd.random((3,2))\n",
    "\n",
    "print(rarr,'\\n')\n",
    "print(100*rarr,'\\n')"
   ]
  },
  {
   "cell_type": "markdown",
   "id": "ba3f3b07",
   "metadata": {},
   "source": [
    "```rnd.normal(mu,sig,size)```\n",
    "\n",
    "This gives us a normal distribution with mean $mu$ and standard deviation $sig$, of length $size$."
   ]
  },
  {
   "cell_type": "code",
   "execution_count": 68,
   "id": "d2236d9c",
   "metadata": {},
   "outputs": [
    {
     "name": "stdout",
     "output_type": "stream",
     "text": [
      "[100.86123576  93.26741647 129.58883078 101.16224037  99.99830871\n",
      "  82.58708135  99.76226034 111.96403037  99.59665429 100.95697965] \n",
      "\n"
     ]
    }
   ],
   "source": [
    "mu, sig, size = 100,10,10\n",
    "\n",
    "norm_arr = rnd.normal(mu,sig,size)\n",
    "\n",
    "print(norm_arr,'\\n')"
   ]
  },
  {
   "cell_type": "markdown",
   "id": "b3877e22",
   "metadata": {},
   "source": [
    "```rnd.choice(array,size)```\n",
    "\n",
    "This randomly chooses elements from this $array$, with length $size$."
   ]
  },
  {
   "cell_type": "code",
   "execution_count": 93,
   "id": "03582b0c",
   "metadata": {},
   "outputs": [
    {
     "name": "stdout",
     "output_type": "stream",
     "text": [
      "[0 1 2 3 4 5 6 7 8 9] \n",
      "\n",
      "[8 7 8 1 1 3 8 7 7 3 6 7 5 2 3 1 3 7 4 4 7 6 3 6 5 7 5 1 5 3 5 3 4 2 0 4 8\n",
      " 0 4 3 1 3 2 4 2 8 8 9 9 0 9 2 4 2 0 1 7 5 5 6 1 5 6 3 8 7 1 2 9 0 3 4 0 1\n",
      " 3 3 4 8 1 9 4 3 2 4 5 5 0 9 3 1 4 7 2 5 4 6 6 3 4 6]\n"
     ]
    }
   ],
   "source": [
    "arr = np.arange(10)\n",
    "print(arr,'\\n')\n",
    "\n",
    "size = 100\n",
    "\n",
    "choo = rnd.choice(arr,size)\n",
    "print(choo)"
   ]
  },
  {
   "cell_type": "markdown",
   "id": "ae1f3aaf",
   "metadata": {},
   "source": [
    "## Binary Operations\n",
    "\n",
    "Similar to the bitwise operations seen in week one, we can perform binary operations on Numpy arrays."
   ]
  },
  {
   "cell_type": "markdown",
   "id": "b9b428c7",
   "metadata": {},
   "source": [
    "### Bitwise Operations"
   ]
  },
  {
   "cell_type": "code",
   "execution_count": 70,
   "id": "ba213f47",
   "metadata": {},
   "outputs": [],
   "source": [
    "a = np.array([5,6,7,8]) # [0101, 0110, 0111,1000]\n",
    "b = np.array([12,13,14,15]) #[1100, 1101, 1110, 1111]"
   ]
  },
  {
   "cell_type": "markdown",
   "id": "9a823ad9",
   "metadata": {},
   "source": [
    "```np.bitwise_and(array1,array2)```\n",
    "The bitwise-and operation:"
   ]
  },
  {
   "cell_type": "code",
   "execution_count": 71,
   "id": "a6cda15d",
   "metadata": {},
   "outputs": [
    {
     "name": "stdout",
     "output_type": "stream",
     "text": [
      "[4 4 6 8]\n"
     ]
    }
   ],
   "source": [
    "print(np.bitwise_and(a,b)) #[0100, 0100, 0110,1000]"
   ]
  },
  {
   "cell_type": "markdown",
   "id": "d6feb256",
   "metadata": {},
   "source": [
    "```np.bitwise_or(array1,array2)```\n",
    "The bitwise-or operation:"
   ]
  },
  {
   "cell_type": "code",
   "execution_count": 72,
   "id": "45017096",
   "metadata": {},
   "outputs": [
    {
     "name": "stdout",
     "output_type": "stream",
     "text": [
      "[13 15 15 15]\n"
     ]
    }
   ],
   "source": [
    "print(np.bitwise_or(a,b)) #[1101,1111,1111,1111]"
   ]
  },
  {
   "cell_type": "markdown",
   "id": "67e708f1",
   "metadata": {},
   "source": [
    "```np.bitwise_xor(array1,array2)```\n",
    "The bitwise-xor operation:"
   ]
  },
  {
   "cell_type": "code",
   "execution_count": 73,
   "id": "cf434953",
   "metadata": {},
   "outputs": [
    {
     "name": "stdout",
     "output_type": "stream",
     "text": [
      "[ 9 11  9  7]\n"
     ]
    }
   ],
   "source": [
    "print(np.bitwise_xor(a,b)) #[1001,1011,1001,0111]"
   ]
  },
  {
   "cell_type": "markdown",
   "id": "fe868dea",
   "metadata": {},
   "source": [
    "```np.invert(array)```\n",
    "The bitwise-inversion operation:"
   ]
  },
  {
   "cell_type": "code",
   "execution_count": 74,
   "id": "06f09a7a",
   "metadata": {},
   "outputs": [
    {
     "name": "stdout",
     "output_type": "stream",
     "text": [
      "[-6 -7 -8 -9]\n"
     ]
    }
   ],
   "source": [
    "print(np.invert(a)) #[-(0101+0001)=-0110, -0111, -1000, -1001]"
   ]
  },
  {
   "cell_type": "markdown",
   "id": "0680d26b",
   "metadata": {},
   "source": [
    "### Shift Operations"
   ]
  },
  {
   "cell_type": "code",
   "execution_count": 75,
   "id": "5596685c",
   "metadata": {},
   "outputs": [],
   "source": [
    "a = np.array([5,6,7,8]) # [0101, 0110, 0111,1000]"
   ]
  },
  {
   "cell_type": "markdown",
   "id": "c0ab744a",
   "metadata": {},
   "source": [
    "```np.left_shift(array,step)```\n",
    "Shifts the binary representation of the number $step$ to the left."
   ]
  },
  {
   "cell_type": "code",
   "execution_count": 76,
   "id": "14754f92",
   "metadata": {},
   "outputs": [
    {
     "name": "stdout",
     "output_type": "stream",
     "text": [
      "[10 12 14 16]\n",
      "[20 24 28 32]\n"
     ]
    }
   ],
   "source": [
    "print(np.left_shift(a,1)) #[1010 = 10, 1100=12, 1110=14, 10000=16]\n",
    "print(np.left_shift(a,2)) #[10100 = 20, 11000=24, 11100=28, 100000=32]"
   ]
  },
  {
   "cell_type": "markdown",
   "id": "643d1b63",
   "metadata": {},
   "source": [
    "```np.right_shift(array,step)```\n",
    "Shifts the binary representation of the number $step$ to the right."
   ]
  },
  {
   "cell_type": "code",
   "execution_count": 77,
   "id": "f30a69ec",
   "metadata": {},
   "outputs": [
    {
     "name": "stdout",
     "output_type": "stream",
     "text": [
      "[2 3 3 4]\n",
      "[1 1 1 2]\n"
     ]
    }
   ],
   "source": [
    "print(np.right_shift(a,1)) #[0010 = 2, 0011=3, 0011=3, 0100=4]\n",
    "print(np.right_shift(a,2)) #[0001 = 1, 0001=1, 0001=1, 0010=2]"
   ]
  },
  {
   "cell_type": "markdown",
   "id": "07776431",
   "metadata": {},
   "source": [
    "## Polynomials\n",
    "\n",
    "A polynomial is an expression with different variables and coefficients, they are encapsulated in the form\n",
    "\n",
    "$$p(x,n) = c[0]x^n + c[2]x^{n-1} +...+ c[n-1]x ^1 + c[n]x^0 $$\n",
    "\n",
    "where $c[i]$ is the i-th coefficient.\n",
    "\n",
    "In Numpy we can perform many operations with polynomials."
   ]
  },
  {
   "cell_type": "markdown",
   "id": "806dbd05",
   "metadata": {},
   "source": [
    "```np.polyval(c,x) ```\n",
    "\n",
    "We can evaluate a polynomial for $p(x,n)$, given a list of coefficients $c$ and $x$.\n",
    "\n",
    "For example,\n",
    "\n",
    "$$ 1x^2+4x^1 -2x^0 $$\n",
    "or\n",
    "$$ x^2+4x-2$$\n",
    "\n",
    "$$x=2$$\n",
    "\n",
    "$$ \\implies 2^2 + 4\\times 2 -2 = 10$$"
   ]
  },
  {
   "cell_type": "code",
   "execution_count": 86,
   "id": "cfc66933",
   "metadata": {},
   "outputs": [
    {
     "name": "stdout",
     "output_type": "stream",
     "text": [
      "p =  10\n"
     ]
    }
   ],
   "source": [
    "c = [1,4,-2]\n",
    "x = 2\n",
    "\n",
    "print('p = ',np.polyval(c,x))"
   ]
  },
  {
   "cell_type": "markdown",
   "id": "79ec8693",
   "metadata": {},
   "source": [
    "```np.roots(c) ```\n",
    "\n",
    "We can also find the roots of a polynomial, given $c$."
   ]
  },
  {
   "cell_type": "code",
   "execution_count": 92,
   "id": "084d237c",
   "metadata": {},
   "outputs": [
    {
     "name": "stdout",
     "output_type": "stream",
     "text": [
      "x =  [-2. -2.]\n"
     ]
    }
   ],
   "source": [
    "c = [1,4,4]\n",
    "\n",
    "print('x = ',np.roots(c))"
   ]
  },
  {
   "cell_type": "markdown",
   "id": "43a18a4d",
   "metadata": {},
   "source": [
    "```np.polyfit(x,y,n) ```\n",
    "\n",
    "We can also fit data points, (x,y), to some polynomial with a highest power of $x^n$. This serves as a usual approximation for data."
   ]
  },
  {
   "cell_type": "code",
   "execution_count": 102,
   "id": "d68cc213",
   "metadata": {},
   "outputs": [
    {
     "name": "stdout",
     "output_type": "stream",
     "text": [
      "poly =  [-0.16970111  1.8799587   1.97326199] \n",
      "\n",
      "c[0] =  -0.16970111190569737\n",
      "c[1] =  1.8799587039006747\n",
      "c[2] =  1.9732619914236167\n"
     ]
    }
   ],
   "source": [
    "x = 10*rnd.random(10)\n",
    "y = 10*rnd.random(10)\n",
    "\n",
    "poly = np.polyfit(x,y,2) # poly[0]x^2 + poly[1]x^1 + poly[2]x^0 = y \n",
    "print('poly = ',poly, '\\n') \n",
    "\n",
    "print('c[0] = ', poly[0])\n",
    "print('c[1] = ', poly[1])\n",
    "print('c[2] = ', poly[2])"
   ]
  },
  {
   "cell_type": "markdown",
   "id": "2ff214ef",
   "metadata": {},
   "source": [
    "## Data Analysis\n",
    "\n",
    "We can calculate the mean, standard deviation, variation, min, max, sum and product of arrays."
   ]
  },
  {
   "cell_type": "code",
   "execution_count": 158,
   "id": "12660d03",
   "metadata": {},
   "outputs": [
    {
     "name": "stdout",
     "output_type": "stream",
     "text": [
      "[[95.25878707 82.72808741]\n",
      " [35.76745147  0.38491428]\n",
      " [83.18509211 41.83954657]\n",
      " ...\n",
      " [72.36033186  8.52177699]\n",
      " [73.00956157 58.69690757]\n",
      " [88.72411099 56.14476627]]\n"
     ]
    }
   ],
   "source": [
    "data = 100*rnd.random((1000,2))\n",
    "print(data)"
   ]
  },
  {
   "cell_type": "markdown",
   "id": "71639874",
   "metadata": {},
   "source": [
    "```np.mean(array)```\n",
    "\n",
    "This finds the average/mean of some data."
   ]
  },
  {
   "cell_type": "code",
   "execution_count": 202,
   "id": "bda6a8f2",
   "metadata": {},
   "outputs": [
    {
     "name": "stdout",
     "output_type": "stream",
     "text": [
      "20.555555555555557\n"
     ]
    }
   ],
   "source": [
    "print(np.mean(data))"
   ]
  },
  {
   "cell_type": "markdown",
   "id": "6994d879",
   "metadata": {},
   "source": [
    "```np.std(array)```\n",
    "\n",
    "The standard deviation."
   ]
  },
  {
   "cell_type": "code",
   "execution_count": 203,
   "id": "ea0ad31e",
   "metadata": {},
   "outputs": [
    {
     "name": "stdout",
     "output_type": "stream",
     "text": [
      "29.0788625450443\n"
     ]
    }
   ],
   "source": [
    "print(np.std(data))"
   ]
  },
  {
   "cell_type": "markdown",
   "id": "15fcae32",
   "metadata": {},
   "source": [
    "```np.var(array)```\n",
    "\n",
    "The variance."
   ]
  },
  {
   "cell_type": "code",
   "execution_count": 204,
   "id": "18ebdaad",
   "metadata": {},
   "outputs": [
    {
     "name": "stdout",
     "output_type": "stream",
     "text": [
      "845.5802469135803\n"
     ]
    }
   ],
   "source": [
    "print(np.var(data))"
   ]
  },
  {
   "cell_type": "markdown",
   "id": "69b0312a",
   "metadata": {},
   "source": [
    "```np.min(array)```\n",
    "\n",
    "The minimum."
   ]
  },
  {
   "cell_type": "code",
   "execution_count": 205,
   "id": "2bae231e",
   "metadata": {},
   "outputs": [
    {
     "name": "stdout",
     "output_type": "stream",
     "text": [
      "1\n"
     ]
    }
   ],
   "source": [
    "print(data.min())"
   ]
  },
  {
   "cell_type": "markdown",
   "id": "8d475ee8",
   "metadata": {},
   "source": [
    "```np.max(array)```\n",
    "\n",
    "The maximum."
   ]
  },
  {
   "cell_type": "code",
   "execution_count": 206,
   "id": "8b1d0759",
   "metadata": {},
   "outputs": [
    {
     "name": "stdout",
     "output_type": "stream",
     "text": [
      "100\n"
     ]
    }
   ],
   "source": [
    "print(data.max())"
   ]
  },
  {
   "cell_type": "markdown",
   "id": "7c97c8e1",
   "metadata": {},
   "source": [
    "```sum(array)```\n",
    "\n",
    "The sum."
   ]
  },
  {
   "cell_type": "code",
   "execution_count": 207,
   "id": "90016b6b",
   "metadata": {},
   "outputs": [
    {
     "name": "stdout",
     "output_type": "stream",
     "text": [
      "[1 2 3 4 5 6 7 8 9]\n"
     ]
    }
   ],
   "source": [
    "data = np.arange(1,10)\n",
    "print(data)"
   ]
  },
  {
   "cell_type": "code",
   "execution_count": 208,
   "id": "5ce4ef93",
   "metadata": {},
   "outputs": [
    {
     "name": "stdout",
     "output_type": "stream",
     "text": [
      "45\n"
     ]
    }
   ],
   "source": [
    "print(sum(data))"
   ]
  },
  {
   "cell_type": "markdown",
   "id": "bc4d249f",
   "metadata": {},
   "source": [
    "```np.prod(array)```\n",
    "\n",
    "The product."
   ]
  },
  {
   "cell_type": "code",
   "execution_count": 209,
   "id": "95447a75",
   "metadata": {},
   "outputs": [
    {
     "name": "stdout",
     "output_type": "stream",
     "text": [
      "24\n"
     ]
    }
   ],
   "source": [
    "print(np.prod(data[0:4])) #1x2x3x4=24"
   ]
  },
  {
   "cell_type": "markdown",
   "id": "3e8b3dad",
   "metadata": {},
   "source": [
    "```np.cumsum(array)```\n",
    "\n",
    "The cumulative sum."
   ]
  },
  {
   "cell_type": "code",
   "execution_count": 210,
   "id": "c3b7067f",
   "metadata": {},
   "outputs": [
    {
     "name": "stdout",
     "output_type": "stream",
     "text": [
      "[ 1  3  6 10 15 21 28 36 45]\n"
     ]
    }
   ],
   "source": [
    "print(np.cumsum(data))"
   ]
  },
  {
   "cell_type": "markdown",
   "id": "29fd9e20",
   "metadata": {},
   "source": [
    "```np.cumprod(array)```\n",
    "\n",
    "The cumulative product."
   ]
  },
  {
   "cell_type": "code",
   "execution_count": 211,
   "id": "1aeb4abf",
   "metadata": {},
   "outputs": [
    {
     "name": "stdout",
     "output_type": "stream",
     "text": [
      "[     1      2      6     24    120    720   5040  40320 362880]\n"
     ]
    }
   ],
   "source": [
    "print(np.cumprod(data))"
   ]
  },
  {
   "cell_type": "markdown",
   "id": "aa029b99",
   "metadata": {},
   "source": [
    "```np.trace(array)```\n",
    "\n",
    "The trace of the array/matrix.(The sum along the diagonal.)"
   ]
  },
  {
   "cell_type": "code",
   "execution_count": 212,
   "id": "def7fecf",
   "metadata": {},
   "outputs": [
    {
     "name": "stdout",
     "output_type": "stream",
     "text": [
      "[[  1   5  10]\n",
      " [ 13   4  27]\n",
      " [  7  18 100]]\n"
     ]
    }
   ],
   "source": [
    "data1 = [1,5,10]\n",
    "data2 = [13,4,27]\n",
    "data3 = [7,18,100]\n",
    "\n",
    "\n",
    "data = np.array([data1,data2,data3])\n",
    "print(data)"
   ]
  },
  {
   "cell_type": "code",
   "execution_count": 213,
   "id": "7f2c5882",
   "metadata": {},
   "outputs": [
    {
     "name": "stdout",
     "output_type": "stream",
     "text": [
      "105\n"
     ]
    }
   ],
   "source": [
    "print(np.trace(data))"
   ]
  },
  {
   "cell_type": "markdown",
   "id": "c11ab8dc",
   "metadata": {},
   "source": [
    "## I/O\n",
    "\n",
    "We can use $np.loadtxt()$ and $np.savetxt()$ to read in and save files. Recall [2.3 Inputs & Files](../PyQm_Week2/PyQM_2.3_Inputs_Files.ipynb) and the related exercises involving the normalisation of quibits."
   ]
  },
  {
   "cell_type": "code",
   "execution_count": 215,
   "id": "15747183",
   "metadata": {},
   "outputs": [
    {
     "name": "stdout",
     "output_type": "stream",
     "text": [
      "[[2.3000e+01 2.5000e+01]\n",
      " [6.7000e+01 3.8470e+03]\n",
      " [2.3600e+02 8.7420e+03]\n",
      " [5.6000e+01 8.4300e+02]\n",
      " [4.6720e+03 7.8000e+01]\n",
      " [3.6200e+02 9.2490e+03]\n",
      " [4.6730e+03 4.3000e+01]\n",
      " [4.8210e+03 7.4890e+03]\n",
      " [2.3300e+02 2.9348e+04]\n",
      " [3.7200e+02 4.8900e+02]]\n"
     ]
    }
   ],
   "source": [
    "print(np.loadtxt(\"quibits.txt\"))"
   ]
  },
  {
   "cell_type": "code",
   "execution_count": 216,
   "id": "5849bcd8",
   "metadata": {},
   "outputs": [
    {
     "name": "stdout",
     "output_type": "stream",
     "text": [
      "[  23.   67.  236.   56. 4672.  362. 4673. 4821.  233.  372.] \n",
      "\n",
      "[2.5000e+01 3.8470e+03 8.7420e+03 8.4300e+02 7.8000e+01 9.2490e+03\n",
      " 4.3000e+01 7.4890e+03 2.9348e+04 4.8900e+02] \n",
      "\n"
     ]
    }
   ],
   "source": [
    "q_col1 = np.loadtxt(\"quibits.txt\", delimiter = ' ', usecols= 0)\n",
    "q_col2 = np.loadtxt(\"quibits.txt\", delimiter = ' ', usecols= 1)\n",
    "\n",
    "print(q_col1, '\\n')\n",
    "print(q_col2, '\\n')"
   ]
  },
  {
   "cell_type": "code",
   "execution_count": 217,
   "id": "93bd489a",
   "metadata": {},
   "outputs": [
    {
     "name": "stdout",
     "output_type": "stream",
     "text": [
      "[0.67705653 0.01741353 0.02698628 0.06628333 0.99986066 0.03910942\n",
      " 0.99995767 0.54128523 0.00793896 0.6054546 ] \n",
      "\n",
      "[0.73593101 0.99984837 0.9996358  0.99780084 0.01669288 0.99923493\n",
      " 0.00920141 0.84083905 0.99996849 0.79587984] \n",
      "\n",
      "[1. 1. 1. 1. 1. 1. 1. 1. 1. 1.]\n"
     ]
    }
   ],
   "source": [
    "#Normalise\n",
    "q_col1, q_col2 = q_col1/(np.sqrt(q_col1**2+q_col2**2)), q_col2/(np.sqrt(q_col1**2+q_col2**2))\n",
    "\n",
    "print(q_col1, '\\n')\n",
    "print(q_col2, '\\n')\n",
    "\n",
    "print(q_col1**2 + q_col2**2)\n",
    "\n",
    "np.savetxt(\"normalised_quibits.txt\", list(zip(q_col1,q_col2)))"
   ]
  },
  {
   "cell_type": "code",
   "execution_count": 218,
   "id": "cd6b7522",
   "metadata": {},
   "outputs": [
    {
     "name": "stdout",
     "output_type": "stream",
     "text": [
      "[[0.67705653 0.73593101]\n",
      " [0.01741353 0.99984837]\n",
      " [0.02698628 0.9996358 ]\n",
      " [0.06628333 0.99780084]\n",
      " [0.99986066 0.01669288]\n",
      " [0.03910942 0.99923493]\n",
      " [0.99995767 0.00920141]\n",
      " [0.54128523 0.84083905]\n",
      " [0.00793896 0.99996849]\n",
      " [0.6054546  0.79587984]]\n"
     ]
    }
   ],
   "source": [
    "print(np.loadtxt(\"normalised_quibits.txt\", delimiter = ' '))"
   ]
  }
 ],
 "metadata": {
  "kernelspec": {
   "display_name": "Python 3 (ipykernel)",
   "language": "python",
   "name": "python3"
  },
  "language_info": {
   "codemirror_mode": {
    "name": "ipython",
    "version": 3
   },
   "file_extension": ".py",
   "mimetype": "text/x-python",
   "name": "python",
   "nbconvert_exporter": "python",
   "pygments_lexer": "ipython3",
   "version": "3.9.6"
  }
 },
 "nbformat": 4,
 "nbformat_minor": 5
}
