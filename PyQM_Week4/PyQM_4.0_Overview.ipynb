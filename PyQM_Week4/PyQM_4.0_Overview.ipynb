{
 "cells": [
  {
   "cell_type": "markdown",
   "id": "0a31e3f6",
   "metadata": {},
   "source": [
    "# <center>Python For Quantum Mechanics</center>\n",
    "\n",
    "# <center>Week 4: Overview</center>"
   ]
  },
  {
   "cell_type": "markdown",
   "id": "0aad66d5",
   "metadata": {},
   "source": [
    "## [4.1 Numpy Basics](PyQM_4.1_Numpy_Basics.ipynb) \n",
    "\n",
    "- Numpy Arrays\n",
    "- Copying Arrays\n",
    "- Basic Operators\n",
    "- Numpy Constants\n",
    "- Mathematical Functions\n",
    "- 0-Dimensional Arrays\n",
    "- Multi-Dimensional Arrays"
   ]
  },
  {
   "cell_type": "markdown",
   "id": "ee3f0dae",
   "metadata": {},
   "source": [
    "## [4.2 Numpy Array Creation & Manipulation](PyQM_4.2_Numpy_Array_Creation_Manipulation.ipynb) \n",
    "\n",
    "- Methods To Create Numpy Arrays\n",
    "- Non-Numerical Data Types\n",
    "- Indexing Numpy Arrays\n",
    "- Slicing Numpy Arrays\n",
    "- Array Manipulation"
   ]
  },
  {
   "cell_type": "markdown",
   "id": "67cda282",
   "metadata": {},
   "source": [
    "## [4.3 Numpy Linear Algebra ](PyQM_4.3_Numpy_Linear_Algebra.ipynb) \n",
    "\n",
    "- Scalar Array Operations\n",
    "- Element-Wise Operations\n",
    "- Matrix Algera\n",
    "- Matrix Transformations\n"
   ]
  },
  {
   "cell_type": "markdown",
   "id": "00ffdf83",
   "metadata": {},
   "source": [
    "## [4.4 Numpy Tools ](PyQM_4.4_Numpy_Tools.ipynb) \n",
    "\n",
    "- Random Sampling\n",
    "- Binary Operations\n",
    "- Polynomials\n",
    "- Data Analysis\n",
    "- I/O"
   ]
  },
  {
   "cell_type": "markdown",
   "id": "93172df0",
   "metadata": {},
   "source": [
    "## [4.5 Cheatsheet ](PyQM_4.5_Cheatsheet.ipynb) "
   ]
  },
  {
   "cell_type": "markdown",
   "id": "599e9dc4",
   "metadata": {},
   "source": [
    "## [Tutorial](PyQM_Tut.4_sol.ipynb) "
   ]
  },
  {
   "cell_type": "markdown",
   "id": "506f6782",
   "metadata": {},
   "source": [
    "## [Exercises ](PyQM_Ex.4_sol.ipynb) "
   ]
  }
 ],
 "metadata": {
  "kernelspec": {
   "display_name": "Python 3 (ipykernel)",
   "language": "python",
   "name": "python3"
  },
  "language_info": {
   "codemirror_mode": {
    "name": "ipython",
    "version": 3
   },
   "file_extension": ".py",
   "mimetype": "text/x-python",
   "name": "python",
   "nbconvert_exporter": "python",
   "pygments_lexer": "ipython3",
   "version": "3.9.6"
  }
 },
 "nbformat": 4,
 "nbformat_minor": 5
}
