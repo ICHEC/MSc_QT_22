{
 "cells": [
  {
   "cell_type": "markdown",
   "id": "bc8fd83d",
   "metadata": {},
   "source": [
    "# <center>Python For Quantum Mechanics</center>\n",
    "\n",
    "# <center>Week 6: Cheatsheet</center>"
   ]
  },
  {
   "cell_type": "markdown",
   "id": "76b19321",
   "metadata": {},
   "source": [
    "## [6.1 Scipy Basics](PyQM_6.1_Scipy_Basics.ipynb) \n",
    "\n",
    "- "
   ]
  },
  {
   "cell_type": "markdown",
   "id": "0dfe6a94",
   "metadata": {},
   "source": [
    "## [Tutorial](PyQM_Tut.6_sol.ipynb) "
   ]
  },
  {
   "cell_type": "markdown",
   "id": "1c950f49",
   "metadata": {},
   "source": [
    "## [Exercises ](PyQM_Ex.6_sol.ipynb) "
   ]
  },
  {
   "cell_type": "code",
   "execution_count": null,
   "id": "1c955db1",
   "metadata": {},
   "outputs": [],
   "source": []
  }
 ],
 "metadata": {
  "kernelspec": {
   "display_name": "Python 3",
   "language": "python",
   "name": "python3"
  },
  "language_info": {
   "codemirror_mode": {
    "name": "ipython",
    "version": 3
   },
   "file_extension": ".py",
   "mimetype": "text/x-python",
   "name": "python",
   "nbconvert_exporter": "python",
   "pygments_lexer": "ipython3",
   "version": "3.8.8"
  }
 },
 "nbformat": 4,
 "nbformat_minor": 5
}
