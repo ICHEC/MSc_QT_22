{
 "cells": [
  {
   "cell_type": "markdown",
   "id": "b30fbde7",
   "metadata": {},
   "source": [
    "<center>\n",
    "\n",
    "# Python For Quantum Mechanics\n",
    "# Week 6: Overview\n",
    "\n",
    "</center>"
   ]
  },
  {
   "cell_type": "markdown",
   "id": "21ce6bb1",
   "metadata": {},
   "source": [
    "## [6.1 Scipy Linear Algebra](Week6_Notebooks/PyQM_6.1_Scipy_Linear_Algebra.ipynb) \n",
    "\n",
    "- Linear Systems\n",
    "- Matrix Functions\n",
    "- Spectral Decomposition\n",
    "- Special Matrices\n",
    "\n",
    "- Sparse Matrix\n",
    "- Matrix Exponential\n",
    "\n",
    "- Unitary Matrix\n",
    "- Tensor Product\n",
    "\n",
    "- Linalg Least Square Fit\n",
    "\n",
    "- Single Value Decomposition\n",
    "- Schur Decomposition"
   ]
  },
  {
   "cell_type": "markdown",
   "id": "dbfeddb1",
   "metadata": {},
   "source": [
    "## [6.2 Scipy Optimization](Week6_Notebooks/PyQM_6.2_Scipy_Optimization.ipynb) \n",
    "\n",
    "- Function Minimum\n",
    "- Global Optimization\n",
    "- Function Roots\n",
    "- Optimize Least Square Fit\n",
    "- Curve Fit"
   ]
  },
  {
   "cell_type": "markdown",
   "id": "cfa7f8dd",
   "metadata": {},
   "source": [
    "## [6.3 Scipy Fourier Transform](Week6_Notebooks/PyQM_6.3_Scipy_Fourier_Transform.ipynb) \n",
    "\n",
    "- The Fourier Transform\n",
    "- Wave Packet\n",
    "- The Uncertainty Principle\n",
    "- Quantum Fourier Transform\n",
    "- The Bloch Sphere"
   ]
  },
  {
   "cell_type": "markdown",
   "id": "97146fc7",
   "metadata": {},
   "source": [
    "## [6.4 Scipy ODEs & PDEs](Week6_Notebooks/PyQM_6.4_Scipy_ODE_PDE.ipynb) \n",
    "\n",
    "- Integration\n",
    "- ODE\n",
    "- Finite Difference Method\n",
    "- PDE"
   ]
  },
  {
   "cell_type": "markdown",
   "id": "d55025e6",
   "metadata": {},
   "source": [
    "## [6.6 Cheatsheet ](PyQM_6.6_Cheatsheet.ipynb) "
   ]
  },
  {
   "cell_type": "markdown",
   "id": "95eb02de",
   "metadata": {},
   "source": [
    "## [Tutorial](PyQM_Tut.6_sol.ipynb) "
   ]
  },
  {
   "cell_type": "markdown",
   "id": "2e0303d3",
   "metadata": {},
   "source": [
    "## [Exercises ](PyQM_Ex.6_sol.ipynb) "
   ]
  }
 ],
 "metadata": {
  "kernelspec": {
   "display_name": "Python 3 (ipykernel)",
   "language": "python",
   "name": "python3"
  },
  "language_info": {
   "codemirror_mode": {
    "name": "ipython",
    "version": 3
   },
   "file_extension": ".py",
   "mimetype": "text/x-python",
   "name": "python",
   "nbconvert_exporter": "python",
   "pygments_lexer": "ipython3",
   "version": "3.9.6"
  }
 },
 "nbformat": 4,
 "nbformat_minor": 5
}
