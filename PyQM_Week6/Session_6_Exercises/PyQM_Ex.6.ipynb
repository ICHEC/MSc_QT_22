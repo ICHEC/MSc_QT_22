{
 "cells": [
  {
   "cell_type": "markdown",
   "id": "bc8fd83d",
   "metadata": {},
   "source": [
    "<center>\n",
    "    \n",
    "# Python For Quantum Mechanics\n",
    "# Week 6: Exercises\n",
    "\n",
    "</center>"
   ]
  },
  {
   "cell_type": "code",
   "execution_count": null,
   "id": "6b0dc10f",
   "metadata": {},
   "outputs": [],
   "source": [
    "import scipy\n",
    "import scipy.linalg as linalg\n",
    "import scipy.optimize as opt\n",
    "from scipy.fft import fft, fftfreq, fftshift\n",
    "\n",
    "import numpy as np\n",
    "import numpy.random as rnd\n",
    "\n",
    "import matplotlib.pyplot as plt"
   ]
  },
  {
   "cell_type": "markdown",
   "id": "68980d95",
   "metadata": {},
   "source": [
    "## Exercise 1: Higher-Dimensional Hadamard Gate\n",
    "Suppose we have a column vector that describes the state of two qubits\n",
    "$$\\begin{bmatrix}|q_1> \\\\|q_2> \\end{bmatrix} = \\begin{bmatrix}1 \\\\0 \\\\0 \\\\1 \\end{bmatrix}$$\n",
    "Construct a four-dimensional matrix, that when multiplied by this vector, applies a hadamard gate to each qubit."
   ]
  },
  {
   "cell_type": "code",
   "execution_count": null,
   "id": "d836e9d3",
   "metadata": {},
   "outputs": [],
   "source": []
  },
  {
   "cell_type": "markdown",
   "id": "0965b430",
   "metadata": {},
   "source": [
    "## Exercise 2: Multi-Qubit States\n",
    "\n",
    "We can represent two qubits as one collective state, rather than two seperate states as above\n",
    "$$|q_1> = x_0|0> + x_1|1>$$\n",
    "$$|q_2> = y_0|0> + y_1|1>$$\n",
    "\n",
    "$$|q_1q_2> = a_{00}|00> + a_{01}|01> + a_{10}|10> + a_{11}|11>$$\n",
    "\n",
    "where\n",
    "\n",
    "$$|q_1q_2> = |q_1>\\otimes|q_2> = \\begin{bmatrix} x_0\\\\x_1 \\end{bmatrix} \\otimes \\begin{bmatrix} y_0\\\\y_1 \\end{bmatrix} = \\begin{bmatrix} x_0\\times \\begin{bmatrix} y_0\\\\y_1 \\end{bmatrix}\\\\x_1 \\times \\begin{bmatrix} y_0\\\\y_1 \\end{bmatrix}\\end{bmatrix} = \\begin{bmatrix} x_0\\times y_0\\\\x_0\\times y_1\\\\x_1\\times y_0\\\\x_1\\times y_1 \\end{bmatrix}= \\begin{bmatrix} a_{00}\\\\a_{01}\\\\a_{10}\\\\a_{11} \\end{bmatrix}$$\n",
    "\n",
    "Quantum gates are then applied, via tensor products, to the multi-qubit state. For example, applying a Hadamard to each individual state turns to a tensor product of Hadamard gates when applied to the multi-qubit state:\n",
    "\n",
    "$$(H|q_1>)\\otimes(H|q_1>) = (H\\otimes H)\\times(|q_1>\\otimes|q_2>) = (H\\otimes H)\\times |q_1q_2> $$\n",
    "\n",
    "Given the following qubit states, construct their corresponding multi-qubit state\n",
    "\n",
    "$$|q_1> = 0|0> + 1|1>$$\n",
    "$$|q_2> = \\frac{1}{\\sqrt{2}}|0> + \\frac{1}{\\sqrt{2}}|1>$$"
   ]
  },
  {
   "cell_type": "code",
   "execution_count": null,
   "id": "5b0daabe",
   "metadata": {},
   "outputs": [],
   "source": []
  },
  {
   "cell_type": "markdown",
   "id": "eab3babe",
   "metadata": {},
   "source": [
    "Construct a four-dimensional Hadamard gate for this multi-qubit state, multiply and find the result."
   ]
  },
  {
   "cell_type": "code",
   "execution_count": null,
   "id": "6da780db",
   "metadata": {},
   "outputs": [],
   "source": []
  },
  {
   "cell_type": "markdown",
   "id": "c9786f3f",
   "metadata": {},
   "source": [
    "## Exercise 3: Spectral Decomposition\n",
    "\n",
    "Spectrally decompose the above four dimensional Hadamard gate $H\\otimes H$, finding it's eigenvectors and eigenvalues."
   ]
  },
  {
   "cell_type": "code",
   "execution_count": null,
   "id": "60d9e69d",
   "metadata": {},
   "outputs": [],
   "source": []
  },
  {
   "cell_type": "markdown",
   "id": "b517b392",
   "metadata": {},
   "source": [
    "Sanity check:\n",
    "\n",
    "The state \n",
    "\n",
    "$$|E_2> = Eigenvector[:,1] = \\frac{1}{2}|00> - \\frac{1}{2}|01> - \\frac{1}{2}|10> -\\frac{1}{2}|11> $$\n",
    "\n",
    "is an eigenvector of $H\\otimes H$, calculate\n",
    "\n",
    "$$(H\\otimes H)\\times |E_2> = \\lambda_2 |E_2>$$"
   ]
  },
  {
   "cell_type": "code",
   "execution_count": null,
   "id": "7e54a6a2",
   "metadata": {},
   "outputs": [],
   "source": []
  },
  {
   "cell_type": "markdown",
   "id": "998fd402",
   "metadata": {},
   "source": [
    "## <center>Exercise 4: Paremetrising Qubits</center>\n",
    "\n",
    "We know that qubit states can be written in the form \n",
    "\n",
    "$$|\\psi> = cos(\\frac{\\theta}{2})|0> + e^{i\\phi}sin(\\frac{\\theta}{2})|1> $$\n",
    "\n",
    "Given random, normalised values for the amplitudes of a qubit state, calculate the corresponding values of $\\phi$ and $\\theta$, using Scipy's `optimize.differential_evolution` function"
   ]
  },
  {
   "cell_type": "code",
   "execution_count": null,
   "id": "8c4f9349",
   "metadata": {},
   "outputs": [],
   "source": [
    "#psi = rnd.random((2))\n",
    "psi = rnd.random((2)) + 1j*rnd.random((1))\n",
    "psi[0] = psi[0].real + 0*1j\n",
    "\n",
    "#Normalise\n",
    "psi[0], psi[1] = psi[0]/np.sqrt(abs(psi[0])**2 + abs(psi[1])**2), psi[1]/np.sqrt(abs(psi[0])**2 + abs(psi[1])**2)\n",
    "\n",
    "print('psi = ','{}|0> + {}|1> \\n'.format(psi[0],psi[1]))"
   ]
  },
  {
   "cell_type": "code",
   "execution_count": null,
   "id": "b9e2bf8e",
   "metadata": {},
   "outputs": [],
   "source": []
  },
  {
   "cell_type": "markdown",
   "id": "a028cc25",
   "metadata": {},
   "source": [
    "Using the blochplot function from section 6.3, plot the resulting qubit state."
   ]
  },
  {
   "cell_type": "code",
   "execution_count": null,
   "id": "6aa5aeea",
   "metadata": {},
   "outputs": [],
   "source": [
    "from blochplotter import *\n",
    "blochplot(Insert Theta Here,Insert Phi Here)"
   ]
  },
  {
   "cell_type": "markdown",
   "id": "f4b799ea",
   "metadata": {},
   "source": [
    "Perform a quantum fourier transform on the above qubit state, blochplot the resulting state"
   ]
  },
  {
   "cell_type": "code",
   "execution_count": null,
   "id": "835fc0a9",
   "metadata": {},
   "outputs": [],
   "source": []
  },
  {
   "cell_type": "markdown",
   "id": "d7c79ea2",
   "metadata": {},
   "source": [
    "Perform another quantum fourier transform of the resulting state. What do you notice?"
   ]
  },
  {
   "cell_type": "code",
   "execution_count": null,
   "id": "13dda8a1",
   "metadata": {},
   "outputs": [],
   "source": []
  },
  {
   "cell_type": "markdown",
   "id": "2a00a64a",
   "metadata": {},
   "source": [
    "This is a consequence of the fact that\n",
    "\n",
    "$$HH = \\mathbb{1} $$"
   ]
  }
 ],
 "metadata": {
  "kernelspec": {
   "display_name": "Python 3 (ipykernel)",
   "language": "python",
   "name": "python3"
  },
  "language_info": {
   "codemirror_mode": {
    "name": "ipython",
    "version": 3
   },
   "file_extension": ".py",
   "mimetype": "text/x-python",
   "name": "python",
   "nbconvert_exporter": "python",
   "pygments_lexer": "ipython3",
   "version": "3.9.6"
  }
 },
 "nbformat": 4,
 "nbformat_minor": 5
}
