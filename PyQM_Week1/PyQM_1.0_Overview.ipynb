{
 "cells": [
  {
   "cell_type": "markdown",
   "metadata": {
    "cell_id": "00001-724a1d3c-76b1-4daf-8d01-3d692febf397",
    "deepnote_cell_type": "markdown",
    "tags": []
   },
   "source": [
    "<center>\n",
    "    \n",
    "# Python For Quantum Mechanics  \n",
    "# Week 1: Overview\n",
    "\n",
    "</center>"
   ]
  },
  {
   "cell_type": "markdown",
   "metadata": {},
   "source": [
    "## [1.1 Variables](Week1_Notebooks/PyQM_1.1_Variables.ipynb) \n",
    "- Integer and Float Variables\n",
    "- Scientific Notation\n",
    "- Comparison Operators and Boolean Variables\n",
    "- Complex Numbers\n",
    "- Strings\n",
    "- Casting\n",
    "- None Type\n",
    "- Operator Precedence"
   ]
  },
  {
   "cell_type": "markdown",
   "metadata": {},
   "source": [
    "## [1.2 Data Structures](Week1_Notebooks/PyQM_1.2_Data_Structures.ipynb) \n",
    "- Lists\n",
    "- Tuples\n",
    "- Sets\n",
    "- Dictionaries\n",
    "- Operations with Data Structures\n",
    "    - Properties\n",
    "    - Changing, Adding, and Removing Elements\n",
    "    - Slicing and Reorganising\n",
    "    - Combining Structures\n",
    "    - Copying"
   ]
  },
  {
   "cell_type": "markdown",
   "metadata": {},
   "source": [
    "## [1.3 Binary Operations](Week1_Notebooks/PyQM_1.3_Binary_Operations.ipynb) \n",
    "- Overview Of Binary\n",
    "- Bitwise Operators\n",
    "- Shift Operators"
   ]
  },
  {
   "cell_type": "markdown",
   "metadata": {},
   "source": [
    "## [1.4 Cheatsheet](Week1_Supplementary_Material/PyQM_1.4_Cheatsheet.ipynb)"
   ]
  },
  {
   "cell_type": "markdown",
   "metadata": {},
   "source": [
    "## [Tutorial 1](Week1_Exercises/PyQM_Tut.1_sol.ipynb) \n",
    "1. Matrix Multiplication\n",
    "2. Matrix Addition/Subtraction\n",
    "3. Scalar Multiplication Of Matrix\n",
    "4. Matrix Inverse & Determinant"
   ]
  },
  {
   "cell_type": "markdown",
   "metadata": {},
   "source": [
    "## [Exercises 1](Week1_Exercises/PyQM_Ex.1_sol.ipynb) \n",
    "1. Python as a Calculator\n",
    "2. Energy Levels of Hydrogen\n",
    "3. Quantum Qubit Gates & Nested Lists\n",
    "4. Periodic Function"
   ]
  }
 ],
 "metadata": {
  "deepnote": {
   "is_reactive": false
  },
  "deepnote_execution_queue": [],
  "deepnote_notebook_id": "c3dd4414-c48b-4e8b-9619-24631465ef99",
  "kernelspec": {
   "display_name": "Python 3 (ipykernel)",
   "language": "python",
   "name": "python3"
  },
  "language_info": {
   "codemirror_mode": {
    "name": "ipython",
    "version": 3
   },
   "file_extension": ".py",
   "mimetype": "text/x-python",
   "name": "python",
   "nbconvert_exporter": "python",
   "pygments_lexer": "ipython3",
   "version": "3.9.6"
  }
 },
 "nbformat": 4,
 "nbformat_minor": 2
}
