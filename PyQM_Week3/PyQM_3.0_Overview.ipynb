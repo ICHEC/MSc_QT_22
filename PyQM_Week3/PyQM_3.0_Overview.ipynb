{
 "cells": [
  {
   "cell_type": "markdown",
   "metadata": {
    "cell_id": "00000-f396f78a-65b4-4fd5-94d2-c6b10fae0abf",
    "deepnote_cell_type": "code",
    "tags": []
   },
   "source": [
    "<center>\n",
    "    \n",
    "# Python For Quantum Mechanics  \n",
    "# Week 3: Overview\n",
    "\n",
    "</center>"
   ]
  },
  {
   "cell_type": "markdown",
   "metadata": {},
   "source": [
    "## [3.1 Functions](Week3_Notebooks/PyQM_3.1_Function.ipynb) \n",
    "- Functions Returning a Value\n",
    "- Functions Returning Multiple Values\n",
    "- Recursive Functions\n",
    "- Implicit Arguments\n",
    "- Keyword Arguments, *args, and **kwargs\n",
    "- Map, Filter, and Lambda Functions"
   ]
  },
  {
   "cell_type": "markdown",
   "metadata": {},
   "source": [
    "## [3.2 Classes](Week3_Notebooks/PyQM_3.2_Classes.ipynb) \n",
    "- Attributes\n",
    "- Methods\n",
    "- Inheritance\n",
    "- Magic Methods"
   ]
  },
  {
   "cell_type": "markdown",
   "metadata": {},
   "source": [
    "## [Tutorial 3](Week3_Exercises/PyQM_Tut.3_sol.ipynb)"
   ]
  },
  {
   "cell_type": "markdown",
   "metadata": {},
   "source": [
    "## [Excercise 3](Week3_Exercises/PyQM_Ex.3_sol.ipynb)"
   ]
  }
 ],
 "metadata": {
  "deepnote": {
   "is_reactive": false
  },
  "deepnote_execution_queue": [],
  "deepnote_notebook_id": "a8df27d7-ccbf-45b0-b549-be6985c4f91e",
  "kernelspec": {
   "display_name": "Python 3",
   "language": "python",
   "name": "python3"
  },
  "language_info": {
   "codemirror_mode": {
    "name": "ipython",
    "version": 3
   },
   "file_extension": ".py",
   "mimetype": "text/x-python",
   "name": "python",
   "nbconvert_exporter": "python",
   "pygments_lexer": "ipython3",
   "version": "3.8.8"
  }
 },
 "nbformat": 4,
 "nbformat_minor": 2
}
