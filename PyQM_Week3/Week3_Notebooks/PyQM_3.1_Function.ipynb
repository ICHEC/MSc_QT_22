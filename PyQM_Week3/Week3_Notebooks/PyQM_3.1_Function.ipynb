{
 "cells": [
  {
   "cell_type": "markdown",
   "id": "f537fb04",
   "metadata": {},
   "source": [
    "<center>\n",
    "    \n",
    "# Python For Quantum Mechanics  \n",
    "# Week 3: Functions and Lambda Functions\n",
    "\n",
    "</center>"
   ]
  },
  {
   "cell_type": "code",
   "execution_count": 1,
   "id": "3fa1e69a",
   "metadata": {},
   "outputs": [
    {
     "data": {
      "image/jpeg": "[encoded data removed]",
      "text/html": [
       "\n",
       "        <iframe\n",
       "            width=\"700\"\n",
       "            height=\"400\"\n",
       "            src=\"https://www.youtube.com/embed/h-TmiynfpCs\"\n",
       "            frameborder=\"0\"\n",
       "            allowfullscreen\n",
       "        ></iframe>\n",
       "        "
      ],
      "text/plain": [
       "<IPython.lib.display.YouTubeVideo at 0x7fdadc09f490>"
      ]
     },
     "execution_count": 1,
     "metadata": {},
     "output_type": "execute_result"
    }
   ],
   "source": [
    "from IPython.display import YouTubeVideo\n",
    "YouTubeVideo('h-TmiynfpCs',width=700, height=400)"
   ]
  },
  {
   "cell_type": "markdown",
   "id": "6d53eb25",
   "metadata": {
    "cell_id": "00000-360f55f4-f0cb-4579-9ed3-afe9d12a3c56",
    "deepnote_cell_type": "markdown",
    "id": "653f5fc8"
   },
   "source": [
    "Functions are useful to compactify code. Rather than writing 20 lines of code to do a specific task with certain values for the variables used, instead we define a function. The function performs the task taking in arbitrary arguments for the variables used. Here's how we do it:"
   ]
  },
  {
   "cell_type": "markdown",
   "id": "036b412d",
   "metadata": {},
   "source": [
    "## How To Write A Function And Return Values"
   ]
  },
  {
   "cell_type": "markdown",
   "id": "25c80770",
   "metadata": {
    "cell_id": "00001-621e5581-24f2-4519-9c1f-312d1fdb8c42",
    "deepnote_cell_type": "markdown",
    "id": "92c0f451"
   },
   "source": [
    "Notice the use of `def`, the name of the function `modulus`, the parentheses `()` which contain the arguments, and the colon `:`.\n",
    "\n",
    "The string we have inside the function is called a docstring,  and is used to describe what the function does and what arguments it takes in. It is not necessary, but is good practice."
   ]
  },
  {
   "cell_type": "code",
   "execution_count": 2,
   "id": "05bb28cf",
   "metadata": {
    "cell_id": "00002-7308f6fc-48bb-4c0d-86b1-009a5eca9f69",
    "deepnote_cell_type": "code",
    "id": "3a0a4eec"
   },
   "outputs": [],
   "source": [
    "def modulus(x,y):\n",
    "    '''Docstring: This prints the modulus of two numbers \\nhello hi right'''\n",
    "    print((x**2 + y**2)**0.5)"
   ]
  },
  {
   "cell_type": "markdown",
   "id": "15420fb9",
   "metadata": {
    "cell_id": "00003-3554e4eb-852a-4c1b-8a1b-aa526c86669c",
    "deepnote_cell_type": "markdown",
    "id": "c283e9f8"
   },
   "source": [
    "Now we call the function using it's name, followed by inputting the arguments."
   ]
  },
  {
   "cell_type": "code",
   "execution_count": 3,
   "id": "c8e93ac9",
   "metadata": {
    "cell_id": "00004-5be3c010-4459-4286-b20d-7e4c897f80a4",
    "colab": {
     "base_uri": "https://localhost:8080/"
    },
    "deepnote_cell_type": "code",
    "executionInfo": {
     "elapsed": 10,
     "status": "ok",
     "timestamp": 1624522249541,
     "user": {
      "displayName": "Sean Courtney",
      "photoUrl": "",
      "userId": "17219612104113445790"
     },
     "user_tz": -60
    },
    "id": "5c61dd8f",
    "outputId": "830e6cc9-bb1f-4f80-8f20-a485f4e173fa"
   },
   "outputs": [
    {
     "name": "stdout",
     "output_type": "stream",
     "text": [
      "5.0\n",
      "<class 'function'>\n"
     ]
    }
   ],
   "source": [
    "modulus(3,4)\n",
    "print(type(modulus))"
   ]
  },
  {
   "cell_type": "markdown",
   "id": "98addc3b",
   "metadata": {
    "cell_id": "00005-8ef9460d-4879-4faa-8adf-226a2227fb96",
    "deepnote_cell_type": "markdown",
    "id": "4113049f"
   },
   "source": [
    "If a function gives some value we would like to use, rather than just printing a result, we use the `return` statement as follows"
   ]
  },
  {
   "cell_type": "code",
   "execution_count": 4,
   "id": "c0a665d8",
   "metadata": {
    "cell_id": "00006-ae491747-785c-446e-b174-10047a99673c",
    "deepnote_cell_type": "code",
    "id": "c6e8e35a"
   },
   "outputs": [],
   "source": [
    "def modulus(x,y):\n",
    "    '''Docstring: This returns the modulus of two numbers'''\n",
    "    return((x**2 + y**2)**0.5)"
   ]
  },
  {
   "cell_type": "markdown",
   "id": "f7edd224",
   "metadata": {
    "cell_id": "00007-53ae2f16-92a5-4523-855f-7f9db64b6c1a",
    "deepnote_cell_type": "markdown",
    "id": "a2d3d060"
   },
   "source": [
    "We usually assign the returned value to a variable like so"
   ]
  },
  {
   "cell_type": "code",
   "execution_count": 5,
   "id": "e5a9b3ac",
   "metadata": {
    "cell_id": "00008-96ad1328-1b64-443a-949d-024c70db949e",
    "colab": {
     "base_uri": "https://localhost:8080/"
    },
    "deepnote_cell_type": "code",
    "executionInfo": {
     "elapsed": 50,
     "status": "ok",
     "timestamp": 1624522249940,
     "user": {
      "displayName": "Sean Courtney",
      "photoUrl": "",
      "userId": "17219612104113445790"
     },
     "user_tz": -60
    },
    "id": "89259bc7",
    "outputId": "e052f0aa-6b00-4fd1-a758-df8bb6cfc7c5"
   },
   "outputs": [
    {
     "name": "stdout",
     "output_type": "stream",
     "text": [
      "4.242640687119286\n",
      "4.242640687119286\n"
     ]
    }
   ],
   "source": [
    "Mod = modulus(1,1)\n",
    "Mod = Mod*3\n",
    "print(Mod)\n",
    "\n",
    "#Or you can treat the returned value like you would it's corresponding data type\n",
    "print(3*modulus(1,1))#Here the returned value is not assigned to a variable but can still be acted upon by functions"
   ]
  },
  {
   "cell_type": "markdown",
   "id": "2bf1b4c8",
   "metadata": {
    "cell_id": "00009-01f1ecf0-510f-481d-8987-a560a22a6f66",
    "deepnote_cell_type": "markdown",
    "id": "968993db"
   },
   "source": [
    "We can also see the docstring of a function by using the help() function"
   ]
  },
  {
   "cell_type": "code",
   "execution_count": 6,
   "id": "436dc1da",
   "metadata": {
    "cell_id": "00010-bd60c769-77aa-4a7f-824d-e79f4cecf65a",
    "colab": {
     "base_uri": "https://localhost:8080/"
    },
    "deepnote_cell_type": "code",
    "executionInfo": {
     "elapsed": 49,
     "status": "ok",
     "timestamp": 1624522249941,
     "user": {
      "displayName": "Sean Courtney",
      "photoUrl": "",
      "userId": "17219612104113445790"
     },
     "user_tz": -60
    },
    "id": "22e06882",
    "outputId": "eb0cbd36-f4bd-44e6-b16b-d64d7a3c5425"
   },
   "outputs": [
    {
     "name": "stdout",
     "output_type": "stream",
     "text": [
      "Help on function modulus in module __main__:\n",
      "\n",
      "modulus(x, y)\n",
      "    Docstring: This returns the modulus of two numbers\n",
      "\n"
     ]
    }
   ],
   "source": [
    "help(modulus)"
   ]
  },
  {
   "cell_type": "markdown",
   "id": "a969521c",
   "metadata": {
    "cell_id": "00011-32230e07-e3e8-4e6e-a4c0-b0b0eb6f2f37",
    "deepnote_cell_type": "markdown",
    "id": "b1e2c24f"
   },
   "source": [
    "### Returning Multiple Values"
   ]
  },
  {
   "cell_type": "code",
   "execution_count": 7,
   "id": "73a2474e",
   "metadata": {
    "cell_id": "00012-a09dba14-3db5-4f8b-bdf5-274c5d0d9ac4",
    "colab": {
     "base_uri": "https://localhost:8080/"
    },
    "deepnote_cell_type": "code",
    "executionInfo": {
     "elapsed": 47,
     "status": "ok",
     "timestamp": 1624522249942,
     "user": {
      "displayName": "Sean Courtney",
      "photoUrl": "",
      "userId": "17219612104113445790"
     },
     "user_tz": -60
    },
    "id": "c6ccea05",
    "outputId": "1dff15a6-fbe7-4864-adb8-f37127929091"
   },
   "outputs": [
    {
     "name": "stdout",
     "output_type": "stream",
     "text": [
      "(11, 10, 0, 55)\n",
      "<class 'tuple'>\n"
     ]
    }
   ],
   "source": [
    "L = [0,1,2,3,4,5,6,7,8,9,10]\n",
    "\n",
    "def describe_list(List):\n",
    "    '''This function takes in a list and returns values that describe said list'''\n",
    "    len_value = len(List)\n",
    "    max_value = max(List)\n",
    "    min_value = min(List)\n",
    "    sum_value = sum(List)\n",
    "    return len_value, max_value, min_value, sum_value\n",
    "\n",
    "values = describe_list(L)\n",
    "print(values)\n",
    "print(type(values))"
   ]
  },
  {
   "cell_type": "markdown",
   "id": "bac02999",
   "metadata": {
    "cell_id": "00013-3b80a8e9-9530-4601-b618-756242958805",
    "deepnote_cell_type": "markdown",
    "id": "0ac3ae88"
   },
   "source": [
    "As we see, returning multiple values gives us a tuple of those values. Just like we assigned a tuple to multiple variables before, we can do the same when calling this function"
   ]
  },
  {
   "cell_type": "code",
   "execution_count": 8,
   "id": "780b0480",
   "metadata": {
    "cell_id": "00014-d896064f-0787-4032-ae21-36ec7489c8f0",
    "colab": {
     "base_uri": "https://localhost:8080/"
    },
    "deepnote_cell_type": "code",
    "executionInfo": {
     "elapsed": 46,
     "status": "ok",
     "timestamp": 1624522249943,
     "user": {
      "displayName": "Sean Courtney",
      "photoUrl": "",
      "userId": "17219612104113445790"
     },
     "user_tz": -60
    },
    "id": "e5148c59",
    "outputId": "ec3524b3-6a8c-4f74-d410-154cbacfcf31"
   },
   "outputs": [
    {
     "name": "stdout",
     "output_type": "stream",
     "text": [
      "11\n",
      "<class 'int'>\n",
      "55\n",
      "<class 'int'>\n"
     ]
    }
   ],
   "source": [
    "len_L,max_L,min_L,sum_L = describe_list(L)\n",
    "\n",
    "print(len_L)\n",
    "print(type(len_L))\n",
    "\n",
    "print(sum_L)\n",
    "print(type(sum_L))"
   ]
  },
  {
   "cell_type": "markdown",
   "id": "8a69cd18",
   "metadata": {},
   "source": [
    "### No Arguments"
   ]
  },
  {
   "cell_type": "markdown",
   "id": "29fb609c",
   "metadata": {
    "cell_id": "00015-0276a4de-07a3-4e6e-88dc-975367c8a467",
    "deepnote_cell_type": "markdown",
    "id": "ff5c1d42"
   },
   "source": [
    "A function doesn't actually have to take in arguments, for example:"
   ]
  },
  {
   "cell_type": "code",
   "execution_count": 9,
   "id": "6af3328e",
   "metadata": {
    "cell_id": "00016-082ffcd4-776c-4dc0-855b-4cd2c3414e19",
    "deepnote_cell_type": "code",
    "id": "ee7f6fca"
   },
   "outputs": [],
   "source": [
    "def PrintingPress():\n",
    "    print(\"I am a futuristic printing press\")"
   ]
  },
  {
   "cell_type": "markdown",
   "id": "711bd2e0",
   "metadata": {
    "cell_id": "00017-903d0a64-8f69-4642-a5b8-611d404e8f0d",
    "deepnote_cell_type": "markdown",
    "id": "1c007ee3"
   },
   "source": [
    "We call it without inserting arguments"
   ]
  },
  {
   "cell_type": "code",
   "execution_count": 10,
   "id": "21d55407",
   "metadata": {
    "cell_id": "00018-caa446ec-3f3a-4aba-a3e5-b1f1afe683d5",
    "colab": {
     "base_uri": "https://localhost:8080/"
    },
    "deepnote_cell_type": "code",
    "executionInfo": {
     "elapsed": 43,
     "status": "ok",
     "timestamp": 1624522249944,
     "user": {
      "displayName": "Sean Courtney",
      "photoUrl": "",
      "userId": "17219612104113445790"
     },
     "user_tz": -60
    },
    "id": "c1379ad5",
    "outputId": "0b4b5b89-e541-4c08-81af-5fd06be10f62"
   },
   "outputs": [
    {
     "name": "stdout",
     "output_type": "stream",
     "text": [
      "I am a futuristic printing press\n"
     ]
    }
   ],
   "source": [
    "PrintingPress()"
   ]
  },
  {
   "cell_type": "markdown",
   "id": "b88da1a1",
   "metadata": {},
   "source": [
    "### Implicit/Default Arguments"
   ]
  },
  {
   "cell_type": "markdown",
   "id": "815251c2",
   "metadata": {
    "cell_id": "00019-739e0b21-a630-41d1-a624-d0223fea2bcf",
    "deepnote_cell_type": "markdown",
    "id": "8552cc5f"
   },
   "source": [
    "Often times, some arguments carry the same value and on the rare occasion require change. We can take advantage of this using implicit arguments, written as follows"
   ]
  },
  {
   "cell_type": "code",
   "execution_count": 11,
   "id": "08daa90c",
   "metadata": {
    "cell_id": "00020-583bc8ee-0a21-4f1d-ae97-3ccc556a011e",
    "deepnote_cell_type": "code",
    "id": "97223c1c"
   },
   "outputs": [],
   "source": [
    "def modulus3d(x,y,z=0):\n",
    "    '''Docstring: This returns the modulus of three numbers'''\n",
    "    return((x**2 + y**2 + z**2)**0.5)"
   ]
  },
  {
   "cell_type": "markdown",
   "id": "adff3bca",
   "metadata": {
    "cell_id": "00021-939db752-3c67-4eab-ad75-8497b0c7b02f",
    "deepnote_cell_type": "markdown",
    "id": "7d2bec5c"
   },
   "source": [
    "We set the argument to a commonly used value in the parantheses. We can now call this function without specifying the third argument \"z\"."
   ]
  },
  {
   "cell_type": "code",
   "execution_count": 12,
   "id": "b31f1af6",
   "metadata": {
    "cell_id": "00022-e5824c7e-39da-4598-a420-9f7b34b6f5a8",
    "colab": {
     "base_uri": "https://localhost:8080/"
    },
    "deepnote_cell_type": "code",
    "executionInfo": {
     "elapsed": 41,
     "status": "ok",
     "timestamp": 1624522249945,
     "user": {
      "displayName": "Sean Courtney",
      "photoUrl": "",
      "userId": "17219612104113445790"
     },
     "user_tz": -60
    },
    "id": "e3fed6d2",
    "outputId": "de8f7c32-1002-4d0f-d8db-5d50b0fd4a8d"
   },
   "outputs": [
    {
     "name": "stdout",
     "output_type": "stream",
     "text": [
      "1.4142135623730951\n"
     ]
    }
   ],
   "source": [
    "Mod = modulus3d(1,1)\n",
    "print(Mod)"
   ]
  },
  {
   "cell_type": "markdown",
   "id": "05931156",
   "metadata": {
    "cell_id": "00023-d8a5e7d2-05ab-4023-8080-8c54e157da9b",
    "deepnote_cell_type": "markdown",
    "id": "e80352ae"
   },
   "source": [
    "If we want to change the value of this implicit argument, we simply specify it when we call the function."
   ]
  },
  {
   "cell_type": "code",
   "execution_count": 13,
   "id": "fcee41b5",
   "metadata": {
    "cell_id": "00024-cd2202c9-b468-4259-953e-3bce57d4f8e9",
    "colab": {
     "base_uri": "https://localhost:8080/"
    },
    "deepnote_cell_type": "code",
    "executionInfo": {
     "elapsed": 40,
     "status": "ok",
     "timestamp": 1624522249946,
     "user": {
      "displayName": "Sean Courtney",
      "photoUrl": "",
      "userId": "17219612104113445790"
     },
     "user_tz": -60
    },
    "id": "04ad03c4",
    "outputId": "d322e14a-f1a5-4754-ad3f-688ac065a72d"
   },
   "outputs": [
    {
     "name": "stdout",
     "output_type": "stream",
     "text": [
      "1.7320508075688772\n"
     ]
    }
   ],
   "source": [
    "Mod = modulus3d(1,1,1)\n",
    "print(Mod)"
   ]
  },
  {
   "cell_type": "markdown",
   "id": "986395c7",
   "metadata": {
    "cell_id": "00025-5c61a1f2-2bda-4673-8665-659913808c38",
    "deepnote_cell_type": "markdown",
    "id": "de6d626d"
   },
   "source": [
    "When using default arguments, you must be wary of using mutable objects like lists. Lets illustrate this in the following example."
   ]
  },
  {
   "cell_type": "code",
   "execution_count": 14,
   "id": "04eabd29",
   "metadata": {
    "cell_id": "00026-024aec0f-882a-4fe4-bcb1-6d3e7b356865",
    "colab": {
     "base_uri": "https://localhost:8080/"
    },
    "deepnote_cell_type": "code",
    "executionInfo": {
     "elapsed": 39,
     "status": "ok",
     "timestamp": 1624522249947,
     "user": {
      "displayName": "Sean Courtney",
      "photoUrl": "",
      "userId": "17219612104113445790"
     },
     "user_tz": -60
    },
    "id": "92264d22",
    "outputId": "fe9d750c-b45d-4441-ff59-eef83e284f47"
   },
   "outputs": [
    {
     "name": "stdout",
     "output_type": "stream",
     "text": [
      "[6]\n",
      "[6, 3]\n",
      "[6, 3]\n",
      "[4]\n",
      "[6, 3, 7]\n"
     ]
    }
   ],
   "source": [
    "def append_if(x,L=[]):\n",
    "    if  x<10:\n",
    "        L.append(x)\n",
    "    return L\n",
    "\n",
    "print(append_if(6))\n",
    "print(append_if(3))\n",
    "print(append_if(12))\n",
    "print(append_if(4,[]))\n",
    "print(append_if(7))"
   ]
  },
  {
   "cell_type": "markdown",
   "id": "0cd70872",
   "metadata": {
    "cell_id": "00027-9222077a-9a3e-423e-bd41-a5a3e05a78a7",
    "deepnote_cell_type": "markdown",
    "id": "e54414ec"
   },
   "source": [
    "By not specifying the second argument, the same list will appear in future calls of the function except when we actually specify the argument. This can be a problem, in the definition of the function we want the list to be empty by default, but this is ruined for future calling. Let's see how we can fix this"
   ]
  },
  {
   "cell_type": "code",
   "execution_count": 15,
   "id": "892963c7",
   "metadata": {
    "cell_id": "00028-9f033c84-6154-48b8-ab43-7e38e24c9053",
    "colab": {
     "base_uri": "https://localhost:8080/"
    },
    "deepnote_cell_type": "code",
    "executionInfo": {
     "elapsed": 37,
     "status": "ok",
     "timestamp": 1624522249948,
     "user": {
      "displayName": "Sean Courtney",
      "photoUrl": "",
      "userId": "17219612104113445790"
     },
     "user_tz": -60
    },
    "id": "b2d47f36",
    "outputId": "ef459cda-db92-4d98-ddbc-c6f2c44e37e6"
   },
   "outputs": [
    {
     "name": "stdout",
     "output_type": "stream",
     "text": [
      "[6]\n",
      "[3]\n",
      "[]\n",
      "[4]\n",
      "[7]\n"
     ]
    }
   ],
   "source": [
    "def append_if(x,L=None):\n",
    "    if not L:\n",
    "        L = []\n",
    "    if  x<10:\n",
    "        L.append(x)\n",
    "    return L\n",
    "\n",
    "print(append_if(6))\n",
    "print(append_if(3))\n",
    "print(append_if(12))\n",
    "print(append_if(4,[]))\n",
    "print(append_if(7))"
   ]
  },
  {
   "cell_type": "markdown",
   "id": "2ef5a40c",
   "metadata": {
    "cell_id": "00029-0353c3e3-98bf-455a-aed2-30d795071c7e",
    "deepnote_cell_type": "markdown",
    "id": "c6ede96c"
   },
   "source": [
    "### Keyword Arguments\n",
    "\n",
    "It is not necessary to enter the arguments in the correct order when calling a function, so long as we assign them to the correct variable. For example"
   ]
  },
  {
   "cell_type": "code",
   "execution_count": 16,
   "id": "d97d086a",
   "metadata": {
    "cell_id": "00030-e5321f72-35aa-4f7d-a459-5c0a18b0963e",
    "colab": {
     "base_uri": "https://localhost:8080/"
    },
    "deepnote_cell_type": "code",
    "executionInfo": {
     "elapsed": 36,
     "status": "ok",
     "timestamp": 1624522249949,
     "user": {
      "displayName": "Sean Courtney",
      "photoUrl": "",
      "userId": "17219612104113445790"
     },
     "user_tz": -60
    },
    "id": "91755e5b",
    "outputId": "0b776a87-4a00-4763-a554-cf5dfb22c978"
   },
   "outputs": [
    {
     "name": "stdout",
     "output_type": "stream",
     "text": [
      "13.0\n"
     ]
    }
   ],
   "source": [
    "def xyz_expression(x,y,z):\n",
    "    return 2*x**2 - y + z/2.\n",
    "\n",
    "print(xyz_expression(y=1.,z=-8.,x=3.))"
   ]
  },
  {
   "cell_type": "markdown",
   "id": "a325bdd5",
   "metadata": {
    "cell_id": "00031-b66e0936-c6ca-42d9-89c3-aac6e3bb11b1",
    "deepnote_cell_type": "markdown",
    "id": "7f4cfa96"
   },
   "source": [
    "### Unknown Amount Of Arguments, `*args`\n",
    "\n",
    "You may need to define a function in which want to input varying numbers of arguments. To do this, we precede the argumentsw with `*`  For example"
   ]
  },
  {
   "cell_type": "code",
   "execution_count": 17,
   "id": "5371fca4",
   "metadata": {
    "cell_id": "00032-b537a399-4b8d-456d-ab91-32953d802a55",
    "colab": {
     "base_uri": "https://localhost:8080/"
    },
    "deepnote_cell_type": "code",
    "executionInfo": {
     "elapsed": 35,
     "status": "ok",
     "timestamp": 1624522249950,
     "user": {
      "displayName": "Sean Courtney",
      "photoUrl": "",
      "userId": "17219612104113445790"
     },
     "user_tz": -60
    },
    "id": "2b735e59",
    "outputId": "3da1ab94-e90f-46a4-9e92-fc4c55da2f04"
   },
   "outputs": [
    {
     "name": "stdout",
     "output_type": "stream",
     "text": [
      "5\n",
      "4\n",
      "100\n",
      "10\n"
     ]
    }
   ],
   "source": [
    "#Here args represent the individual cost of various items purchased\n",
    "def grocery_change(money=100,*args):\n",
    "    for i in args:\n",
    "        money = money - i\n",
    "    return money\n",
    "\n",
    "print(grocery_change(100,20,40,35))\n",
    "print(grocery_change(100,30,40,3,9,14))\n",
    "print(grocery_change())\n",
    "\n",
    "print(grocery_change(20,10))#Notice here, money is set to 20"
   ]
  },
  {
   "cell_type": "markdown",
   "id": "1b2d5ac1",
   "metadata": {
    "cell_id": "00033-eca774ae-418e-427f-8ab3-4e238263d4e2",
    "deepnote_cell_type": "markdown",
    "id": "6DDS2YwCHZuw"
   },
   "source": [
    "### `**kwargs`\n",
    "\n",
    "This is similar to `*args` except it is used for an unknown amount of keyword arguments or the inputting of a dictionary. Recall, `items()` is a dictionary method used to display a dictionary's key, value pairs."
   ]
  },
  {
   "cell_type": "code",
   "execution_count": 18,
   "id": "8c8af786",
   "metadata": {
    "cell_id": "00034-8816bc0d-e69a-495a-9574-1c506b4303d4",
    "deepnote_cell_type": "code",
    "id": "JuJL8V6qHbHI"
   },
   "outputs": [],
   "source": [
    "def kw_demo(**kwargs):\n",
    "    for key, value in kwargs.items():\n",
    "        print(\"key: {}, value: {}\".format(key,value))"
   ]
  },
  {
   "cell_type": "code",
   "execution_count": 19,
   "id": "7b613b42",
   "metadata": {
    "cell_id": "00035-cc653490-53c9-4bb8-8f79-87a1f47fefbf",
    "colab": {
     "base_uri": "https://localhost:8080/"
    },
    "deepnote_cell_type": "code",
    "executionInfo": {
     "elapsed": 32,
     "status": "ok",
     "timestamp": 1624522249951,
     "user": {
      "displayName": "Sean Courtney",
      "photoUrl": "",
      "userId": "17219612104113445790"
     },
     "user_tz": -60
    },
    "id": "8l47iPP0Hgbd",
    "outputId": "9c9d8457-105a-4e41-fd45-74ede855fc34"
   },
   "outputs": [
    {
     "name": "stdout",
     "output_type": "stream",
     "text": [
      "key: Name, value: Conor\n",
      "key: Age, value: 24\n",
      "key: Occupation, value: Quantum Computational Scientist\n"
     ]
    }
   ],
   "source": [
    "kw_demo(Name=\"Conor\",Age=\"24\",Occupation=\"Quantum Computational Scientist\")"
   ]
  },
  {
   "cell_type": "code",
   "execution_count": 20,
   "id": "f93e2f52",
   "metadata": {
    "cell_id": "00036-961c6244-e88a-454a-813b-0b3f3cd60432",
    "colab": {
     "base_uri": "https://localhost:8080/"
    },
    "deepnote_cell_type": "code",
    "executionInfo": {
     "elapsed": 31,
     "status": "ok",
     "timestamp": 1624522249952,
     "user": {
      "displayName": "Sean Courtney",
      "photoUrl": "",
      "userId": "17219612104113445790"
     },
     "user_tz": -60
    },
    "id": "L6_TdGlrHjqA",
    "outputId": "720ba275-6d0f-49be-db70-7f5b5a94a1b4"
   },
   "outputs": [
    {
     "name": "stdout",
     "output_type": "stream",
     "text": [
      "key: Name, value: Conor\n",
      "key: Age, value: 24\n",
      "key: Occupation, value: Quantum Computational Scientist\n"
     ]
    }
   ],
   "source": [
    "Job_Details = {\"Name\":\"Conor\",\"Age\":24,\"Occupation\":\"Quantum Computational Scientist\"}\n",
    "kw_demo(**Job_Details)#Notice the use of ** for the dictionary"
   ]
  },
  {
   "cell_type": "markdown",
   "id": "7bd4e949",
   "metadata": {
    "cell_id": "00037-e7970560-5c0a-4939-837e-7d939f862e83",
    "deepnote_cell_type": "markdown",
    "id": "e2e99d07"
   },
   "source": [
    "## Global And Local Variables\n",
    "\n",
    "Global variables are defined outside of functions. Local Variables are defined inside functions. We can use gloabl variables both outside and inside a function. However local variable can only be used inside a function. For example"
   ]
  },
  {
   "cell_type": "code",
   "execution_count": 21,
   "id": "bf2e6568",
   "metadata": {
    "cell_id": "00038-76fd43ee-9e18-4d85-af54-b11ad9b43559",
    "colab": {
     "base_uri": "https://localhost:8080/",
     "height": 215
    },
    "deepnote_cell_type": "code",
    "executionInfo": {
     "elapsed": 6,
     "status": "error",
     "timestamp": 1624522255678,
     "user": {
      "displayName": "Sean Courtney",
      "photoUrl": "",
      "userId": "17219612104113445790"
     },
     "user_tz": -60
    },
    "id": "c177236d",
    "outputId": "e9b6dd20-5ef1-4824-9cc6-25f5ff35b7df"
   },
   "outputs": [
    {
     "name": "stdout",
     "output_type": "stream",
     "text": [
      "6\n"
     ]
    },
    {
     "ename": "NameError",
     "evalue": "name 'b' is not defined",
     "output_type": "error",
     "traceback": [
      "\u001b[0;31m---------------------------------------------------------------------------\u001b[0m",
      "\u001b[0;31mNameError\u001b[0m                                 Traceback (most recent call last)",
      "\u001b[0;32m<ipython-input-21-2095d9c71dfe>\u001b[0m in \u001b[0;36m<module>\u001b[0;34m\u001b[0m\n\u001b[1;32m      5\u001b[0m \u001b[0ma\u001b[0m\u001b[0;34m=\u001b[0m\u001b[0;36m10\u001b[0m\u001b[0;34m\u001b[0m\u001b[0;34m\u001b[0m\u001b[0m\n\u001b[1;32m      6\u001b[0m \u001b[0mprint\u001b[0m\u001b[0;34m(\u001b[0m\u001b[0msubtractor\u001b[0m\u001b[0;34m(\u001b[0m\u001b[0ma\u001b[0m\u001b[0;34m)\u001b[0m\u001b[0;34m)\u001b[0m\u001b[0;34m\u001b[0m\u001b[0;34m\u001b[0m\u001b[0m\n\u001b[0;32m----> 7\u001b[0;31m \u001b[0mprint\u001b[0m\u001b[0;34m(\u001b[0m\u001b[0mb\u001b[0m\u001b[0;34m)\u001b[0m\u001b[0;34m\u001b[0m\u001b[0;34m\u001b[0m\u001b[0m\n\u001b[0m",
      "\u001b[0;31mNameError\u001b[0m: name 'b' is not defined"
     ]
    }
   ],
   "source": [
    "def subtractor(a):\n",
    "    b = 4\n",
    "    return a-b\n",
    "\n",
    "a=10\n",
    "print(subtractor(a))\n",
    "print(b)"
   ]
  },
  {
   "cell_type": "markdown",
   "id": "9e664d6f",
   "metadata": {
    "cell_id": "00039-300a91d9-423d-430c-a8ea-daa3efd95ce5",
    "deepnote_cell_type": "markdown",
    "id": "cd178fa0"
   },
   "source": [
    "Here `a` is a global variable and `b` is a local variable. When we attempt to use `b` outside of the function we get en error. However, we can define `b` as global inside the function by making the declaration `global b`, in the following way"
   ]
  },
  {
   "cell_type": "code",
   "execution_count": 22,
   "id": "f98a288d",
   "metadata": {
    "cell_id": "00040-87e11dae-8679-416b-9d89-82386d68e78f",
    "colab": {
     "base_uri": "https://localhost:8080/"
    },
    "deepnote_cell_type": "code",
    "executionInfo": {
     "elapsed": 3,
     "status": "ok",
     "timestamp": 1624522256448,
     "user": {
      "displayName": "Sean Courtney",
      "photoUrl": "",
      "userId": "17219612104113445790"
     },
     "user_tz": -60
    },
    "id": "f8e6a44e",
    "outputId": "cf2eb034-a552-41ff-9bf1-4361692f55db"
   },
   "outputs": [
    {
     "name": "stdout",
     "output_type": "stream",
     "text": [
      "6\n",
      "4\n"
     ]
    }
   ],
   "source": [
    "def subtractor(a):\n",
    "    global b\n",
    "    b = 4\n",
    "    return a-b\n",
    "\n",
    "a=10\n",
    "print(subtractor(a))\n",
    "print(b)"
   ]
  },
  {
   "cell_type": "markdown",
   "id": "a031427f",
   "metadata": {
    "cell_id": "00041-acc7566b-8338-461a-88f2-547577de5c5d",
    "deepnote_cell_type": "markdown",
    "id": "9695589b"
   },
   "source": [
    "## Lambda Functions\n",
    "\n",
    "Lambda functions are compactified, unnamed functions that are very commonly used in cojunction with lists."
   ]
  },
  {
   "cell_type": "code",
   "execution_count": 23,
   "id": "7de0c1a2",
   "metadata": {
    "cell_id": "00042-4cbe25c9-1a6c-4179-9f7b-75de763566f6",
    "deepnote_cell_type": "code",
    "id": "b7c94e95"
   },
   "outputs": [],
   "source": [
    "y = lambda x:x**2 + x +2"
   ]
  },
  {
   "cell_type": "markdown",
   "id": "dc7b4c7b",
   "metadata": {
    "cell_id": "00043-329e564b-f403-44c8-8086-e840b3e05ab8",
    "deepnote_cell_type": "markdown",
    "id": "a1678cc5"
   },
   "source": [
    "We call it as follows"
   ]
  },
  {
   "cell_type": "code",
   "execution_count": 24,
   "id": "9aab017b",
   "metadata": {
    "cell_id": "00044-ada68545-7911-416c-a245-699d9ff1a0fe",
    "colab": {
     "base_uri": "https://localhost:8080/"
    },
    "deepnote_cell_type": "code",
    "executionInfo": {
     "elapsed": 4,
     "status": "ok",
     "timestamp": 1624522257582,
     "user": {
      "displayName": "Sean Courtney",
      "photoUrl": "",
      "userId": "17219612104113445790"
     },
     "user_tz": -60
    },
    "id": "1a8ac9b3",
    "outputId": "92d99427-3258-40ed-8e17-6759df31f76d"
   },
   "outputs": [
    {
     "name": "stdout",
     "output_type": "stream",
     "text": [
      "22\n"
     ]
    }
   ],
   "source": [
    "print(y(4))"
   ]
  },
  {
   "cell_type": "markdown",
   "id": "98c26d3f",
   "metadata": {
    "cell_id": "00045-3e6031cc-354b-48c6-9659-36274d555471",
    "deepnote_cell_type": "markdown",
    "id": "09cc20d9"
   },
   "source": [
    "### The `map()` Function\n",
    "\n",
    "This `map()` function is useful for manipulating lists. It inputs each element in the list into a lambda function. "
   ]
  },
  {
   "cell_type": "code",
   "execution_count": 25,
   "id": "2b083990",
   "metadata": {
    "cell_id": "00046-9697ff14-f38f-4cd9-a0fa-72f7902e0b01",
    "colab": {
     "base_uri": "https://localhost:8080/"
    },
    "deepnote_cell_type": "code",
    "executionInfo": {
     "elapsed": 2,
     "status": "ok",
     "timestamp": 1624522257815,
     "user": {
      "displayName": "Sean Courtney",
      "photoUrl": "",
      "userId": "17219612104113445790"
     },
     "user_tz": -60
    },
    "id": "718a92bb",
    "outputId": "ae5e1956-e1fc-40d8-db65-4df8a7ab4130"
   },
   "outputs": [
    {
     "name": "stdout",
     "output_type": "stream",
     "text": [
      "<class 'map'>\n",
      "[1, 4, 9, 16, 25, 36, 49, 64, 81, 100]\n"
     ]
    }
   ],
   "source": [
    "L = [1,2,3,4,5,6,7,8,9,10]\n",
    "\n",
    "M = map(lambda x:x**2,L)\n",
    "print(type(M))\n",
    "\n",
    "M = list(M) #Cast as a list\n",
    "print(M)"
   ]
  },
  {
   "cell_type": "markdown",
   "id": "77ade0df",
   "metadata": {
    "cell_id": "00047-9b86a9f7-f873-4736-aed1-e11de589687e",
    "deepnote_cell_type": "markdown",
    "id": "ceecaefd"
   },
   "source": [
    "Observe what happens when we use an inequality."
   ]
  },
  {
   "cell_type": "code",
   "execution_count": 26,
   "id": "3a4e8c70",
   "metadata": {
    "cell_id": "00048-0462de79-f99b-41ef-9a97-02ed1516094d",
    "colab": {
     "base_uri": "https://localhost:8080/"
    },
    "deepnote_cell_type": "code",
    "executionInfo": {
     "elapsed": 4,
     "status": "ok",
     "timestamp": 1624522258277,
     "user": {
      "displayName": "Sean Courtney",
      "photoUrl": "",
      "userId": "17219612104113445790"
     },
     "user_tz": -60
    },
    "id": "ece5d914",
    "outputId": "7ba78826-4259-49a4-e88e-e3f5d5be352a"
   },
   "outputs": [
    {
     "name": "stdout",
     "output_type": "stream",
     "text": [
      "[1, 4, 9, 16, 25, 36, 49, 64, 81, 100]\n",
      "<class 'map'>\n",
      "[True, True, True, True, True, True, True, False, False, False]\n"
     ]
    }
   ],
   "source": [
    "print(M)\n",
    "\n",
    "M = map(lambda x:x<=50,M)\n",
    "print(type(M))\n",
    "M = list(M)\n",
    "\n",
    "print(M)"
   ]
  },
  {
   "cell_type": "markdown",
   "id": "a3579035",
   "metadata": {
    "cell_id": "00049-3fed1d8e-c345-4312-a905-d09a03dd1607",
    "deepnote_cell_type": "markdown",
    "id": "8c2ff2a8"
   },
   "source": [
    "We can also also add more arguments, or lists, allowing us to perform various operations on multiple lists."
   ]
  },
  {
   "cell_type": "code",
   "execution_count": 27,
   "id": "56c98d27",
   "metadata": {
    "cell_id": "00050-526e6e6d-f014-43a3-8939-0b74fcb1ba6d",
    "colab": {
     "base_uri": "https://localhost:8080/"
    },
    "deepnote_cell_type": "code",
    "executionInfo": {
     "elapsed": 4,
     "status": "ok",
     "timestamp": 1624522258579,
     "user": {
      "displayName": "Sean Courtney",
      "photoUrl": "",
      "userId": "17219612104113445790"
     },
     "user_tz": -60
    },
    "id": "271e941a",
    "outputId": "14f5be66-7109-4cad-dd73-492a5b079220"
   },
   "outputs": [
    {
     "name": "stdout",
     "output_type": "stream",
     "text": [
      "[1, 2, 3, 4, 5, 6, 7, 8, 9, 10]\n",
      "[True, True, True, True, True, True, True, False, False, False]\n",
      "[1, 2, 3, 4, 5, 6, 7, 0, 0, 0]\n"
     ]
    }
   ],
   "source": [
    "print(L)\n",
    "print(M)\n",
    "\n",
    "S = map(lambda x,y:x*y,L,M)\n",
    "S = list(S)\n",
    "\n",
    "print(S)"
   ]
  },
  {
   "cell_type": "markdown",
   "id": "a1b8364d",
   "metadata": {
    "cell_id": "00051-45ea46aa-41ae-4522-bf87-2a6b65c2a790",
    "deepnote_cell_type": "markdown",
    "id": "ef9496e3"
   },
   "source": [
    "We just multiplied elements of a list together. We can re-interpret lists as matrices and perform fundamental matrix operations using lambda functions. We will later see that the Numpy package greatly simplifies this by giving us a library to manipulate lists/arrays/matrices."
   ]
  },
  {
   "cell_type": "markdown",
   "id": "a68627b9",
   "metadata": {
    "cell_id": "00052-42ce19c6-b682-4c77-94a3-adf462ef9692",
    "deepnote_cell_type": "markdown",
    "id": "36cb1dcf"
   },
   "source": [
    "The `map()` function is not only constrained to using lambda functions. We can also use other built-in functions."
   ]
  },
  {
   "cell_type": "code",
   "execution_count": 28,
   "id": "d4cba6a6",
   "metadata": {
    "cell_id": "00053-bb55d22c-983f-4a5a-97d0-7ead97d93279",
    "colab": {
     "base_uri": "https://localhost:8080/"
    },
    "deepnote_cell_type": "code",
    "executionInfo": {
     "elapsed": 5,
     "status": "ok",
     "timestamp": 1624522259290,
     "user": {
      "displayName": "Sean Courtney",
      "photoUrl": "",
      "userId": "17219612104113445790"
     },
     "user_tz": -60
    },
    "id": "31931450",
    "outputId": "4da80bf0-f52b-4172-d10a-6b886b9c138e"
   },
   "outputs": [
    {
     "name": "stdout",
     "output_type": "stream",
     "text": [
      "[1.0, 2.0, 3.0, 4.0, 5.0, 6.0, 7.0, 0.0, 0.0, 0.0]\n"
     ]
    }
   ],
   "source": [
    "Float_List = map(float,S)\n",
    "Float_List = list(Float_List)\n",
    "\n",
    "print(Float_List)"
   ]
  },
  {
   "cell_type": "markdown",
   "id": "ca3a9dd5",
   "metadata": {
    "cell_id": "00054-152062e7-4077-4c0a-a94b-35296a49cceb",
    "deepnote_cell_type": "markdown",
    "id": "46f6ea18"
   },
   "source": [
    "We have converted each element in our list to a float."
   ]
  },
  {
   "cell_type": "markdown",
   "id": "1813d65d",
   "metadata": {},
   "source": [
    "### The `filter()` Function"
   ]
  },
  {
   "cell_type": "markdown",
   "id": "b4bbf71f",
   "metadata": {
    "cell_id": "00055-24f8cf70-8c91-4307-b894-936f8b261951",
    "deepnote_cell_type": "markdown",
    "id": "e5013bad"
   },
   "source": [
    "The `filter()` function is useful for eliminating particular elements from lists."
   ]
  },
  {
   "cell_type": "code",
   "execution_count": 29,
   "id": "793e67e8",
   "metadata": {
    "cell_id": "00056-246d2122-745b-4bf0-a29c-cc5ca6ea06c8",
    "colab": {
     "base_uri": "https://localhost:8080/"
    },
    "deepnote_cell_type": "code",
    "executionInfo": {
     "elapsed": 4,
     "status": "ok",
     "timestamp": 1624522259977,
     "user": {
      "displayName": "Sean Courtney",
      "photoUrl": "",
      "userId": "17219612104113445790"
     },
     "user_tz": -60
    },
    "id": "92c66515",
    "outputId": "b85bff86-92f7-48c4-f179-e8d05f9a67d4"
   },
   "outputs": [
    {
     "name": "stdout",
     "output_type": "stream",
     "text": [
      "[1, 4, 9, 16, 25, 36, 49, 64, 81, 100]\n",
      "<class 'filter'>\n",
      "[1, 4, 9, 16, 25, 36, 49]\n"
     ]
    }
   ],
   "source": [
    "M = [1, 4, 9, 16, 25, 36, 49, 64, 81, 100]\n",
    "print(M)\n",
    "\n",
    "M = filter(lambda x:x<=50,M)\n",
    "print(type(M))\n",
    "M = list(M)\n",
    "\n",
    "print(M)"
   ]
  },
  {
   "cell_type": "markdown",
   "id": "26491209",
   "metadata": {
    "cell_id": "00057-2a758b68-3fcc-401b-900f-4fdbea93eeb7",
    "deepnote_cell_type": "markdown",
    "id": "32efd1da"
   },
   "source": [
    "This is the same as using inequalities with the `map()` above, except the true values are returned instead."
   ]
  }
 ],
 "metadata": {
  "colab": {
   "collapsed_sections": [],
   "name": "PyQM_3.1_Function.ipynb",
   "provenance": []
  },
  "deepnote": {},
  "deepnote_execution_queue": [],
  "deepnote_notebook_id": "ef932809-f94c-4092-8512-0e7ebb37671d",
  "kernelspec": {
   "display_name": "Python 3",
   "language": "python",
   "name": "python3"
  },
  "language_info": {
   "codemirror_mode": {
    "name": "ipython",
    "version": 3
   },
   "file_extension": ".py",
   "mimetype": "text/x-python",
   "name": "python",
   "nbconvert_exporter": "python",
   "pygments_lexer": "ipython3",
   "version": "3.8.8"
  }
 },
 "nbformat": 4,
 "nbformat_minor": 5
}
