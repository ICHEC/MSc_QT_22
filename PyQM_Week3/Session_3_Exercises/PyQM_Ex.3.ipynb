{
 "cells": [
  {
   "cell_type": "markdown",
   "metadata": {},
   "source": [
    "<center>\n",
    "    \n",
    "# Python For Quantum Mechanics  \n",
    "# Week 3: Exercises\n",
    "\n",
    "</center>"
   ]
  },
  {
   "cell_type": "markdown",
   "metadata": {
    "id": "E2gx7ca20yjW"
   },
   "source": [
    "## Exercise 1: Matrix Class\n",
    "\n",
    "Create a square matrix class. Overload the operators `+`, `-`, and `*` so basic matrix operations can be easily performed. Also make use of `__getitem__()` and `__setitem__()` to extract matrix elements and to assign values to matrix elements. Use `__str__()` to print the matrix. Make sure it works for right and left multiplication. Make a transpose and conjugate transpose method as well as one that checks if the matrix is symmetric and hermitian."
   ]
  },
  {
   "cell_type": "code",
   "execution_count": null,
   "metadata": {},
   "outputs": [],
   "source": [
    "class Matrix:\n",
    "    "
   ]
  },
  {
   "cell_type": "markdown",
   "metadata": {
    "id": "ZGb-Yeddrigu"
   },
   "source": [
    "## Exercise 2: Quibit Gates Again!!!\n",
    "\n",
    "To illustrate the usefulness of the class we just created, define gates X,Z and H then show $$ HXH=Z. $$\n",
    "Also fee free to try any other identity you might think of."
   ]
  },
  {
   "cell_type": "code",
   "execution_count": null,
   "metadata": {
    "executionInfo": {
     "elapsed": 303,
     "status": "aborted",
     "timestamp": 1624542140267,
     "user": {
      "displayName": "Conor Dunne",
      "photoUrl": "",
      "userId": "14934053525675490562"
     },
     "user_tz": -60
    },
    "id": "35P53sESrvqj"
   },
   "outputs": [],
   "source": [
    "X = Matrix([[0,1],[1,0]])\n",
    "Z = Matrix([[1,0],[0,-1]])\n",
    "H = (2**(-0.5)) * Matrix([[1,1],[1,-1]])"
   ]
  },
  {
   "cell_type": "markdown",
   "metadata": {
    "id": "kpiNLNyk6DjP"
   },
   "source": [
    "Now check if these gates are Hermitian. Print the answers."
   ]
  },
  {
   "cell_type": "code",
   "execution_count": null,
   "metadata": {
    "executionInfo": {
     "elapsed": 304,
     "status": "aborted",
     "timestamp": 1624542140268,
     "user": {
      "displayName": "Conor Dunne",
      "photoUrl": "",
      "userId": "14934053525675490562"
     },
     "user_tz": -60
    },
    "id": "8ifGTrv-53Hc"
   },
   "outputs": [],
   "source": [
    "print(X.is_hermitian())\n",
    "print(Z.is_hermitian())\n",
    "print(H.is_hermitian())"
   ]
  }
 ],
 "metadata": {
  "colab": {
   "collapsed_sections": [],
   "name": "PyQM_Ex.3_sol.ipynb",
   "provenance": []
  },
  "kernelspec": {
   "display_name": "Python 3",
   "language": "python",
   "name": "python3"
  },
  "language_info": {
   "codemirror_mode": {
    "name": "ipython",
    "version": 3
   },
   "file_extension": ".py",
   "mimetype": "text/x-python",
   "name": "python",
   "nbconvert_exporter": "python",
   "pygments_lexer": "ipython3",
   "version": "3.8.8"
  }
 },
 "nbformat": 4,
 "nbformat_minor": 1
}
