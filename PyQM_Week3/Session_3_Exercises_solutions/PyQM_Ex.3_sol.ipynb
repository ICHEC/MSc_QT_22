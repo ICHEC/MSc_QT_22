{
 "cells": [
  {
   "cell_type": "markdown",
   "metadata": {},
   "source": [
    "<center>\n",
    "    \n",
    "# Python For Quantum Mechanics  \n",
    "# Week 3: Exercises\n",
    "\n",
    "</center>"
   ]
  },
  {
   "cell_type": "markdown",
   "metadata": {
    "id": "E2gx7ca20yjW"
   },
   "source": [
    "## Exercise 1: Matrix Class\n",
    "\n",
    "Create a square matrix class. Overload the operators `+`, `-`, and `*` so basic matrix operations can be easily performed. Also make use of `__getitem__()` and `__setitem__()` to extract matrix elements and to assign values to matrix elements. Use `__str__()` to print the matrix. Make sure it works for right and left multiplication. Make a transpose and conjugate transpose method as well as one that checks if the matrix is symmetric and hermitian."
   ]
  },
  {
   "cell_type": "code",
   "execution_count": 1,
   "metadata": {
    "executionInfo": {
     "elapsed": 191,
     "status": "ok",
     "timestamp": 1624542449269,
     "user": {
      "displayName": "Conor Dunne",
      "photoUrl": "",
      "userId": "14934053525675490562"
     },
     "user_tz": -60
    },
    "id": "RCCYTya1DPaj"
   },
   "outputs": [],
   "source": [
    "class Matrix:\n",
    "    def __init__(self, data):\n",
    "        \n",
    "        self.size = len(data)\n",
    "        self.data = []\n",
    "\n",
    "        for i in range(self.size):\n",
    "            self.data.append(data[i].copy())\n",
    "\n",
    "    def __getitem__(self, ij):\n",
    "        if isinstance(ij,tuple):\n",
    "            i, j = ij\n",
    "            return self.data[i][j]\n",
    "        return self.data[ij]\n",
    "\n",
    "    def __setitem__(self, ij, val):\n",
    "        if isinstance(ij,tuple):\n",
    "            i,j = ij\n",
    "            self.data[i][j] = val\n",
    "        else:\n",
    "            self.data[i] = val\n",
    "        \n",
    "    def __neg__(self):\n",
    "        return Matrix([[-x for x in self[i]] for i in range(self.size)])\n",
    "\n",
    "    def __add__(self, other):\n",
    "        if isinstance(ij,Matrix):\n",
    "            raise Exception('Can only add matrices with other matrices')\n",
    "            \n",
    "        if self.size != other.size:\n",
    "            raise Exception('Can only add matrices of the same size')\n",
    "        \n",
    "        return Matrix([[x+y for x,y in zip(self[i],other[i])] for i in range(self.size)])\n",
    "\n",
    "    def __sub__(self, other):\n",
    "        if isinstance(ij,tuple):\n",
    "            raise Exception('Can only subtract matrices with other matrices')\n",
    "            \n",
    "        if self.size != other.size:\n",
    "            raise Exception('Can only subtract matrices of the same size')\n",
    "        \n",
    "        return Matrix([[x-y for x,y in zip(self[i],other[i])] for i in range(self.size)])\n",
    "\n",
    "    def __mul__(self, other):\n",
    "        if isinstance(other,Matrix):\n",
    "            if self.size == other.size:\n",
    "                AB = Matrix([[0]*self.size]*self.size)\n",
    "                for i in range(self.size):\n",
    "                    for j in range(self.size):\n",
    "                        for k in range(self.size):\n",
    "                            AB[i][j] += self[i][k] * other[k][j]\n",
    "                return AB\n",
    "            else:\n",
    "                raise Exception('Matrices need to be the same size to multiply them')\n",
    "        else:\n",
    "            return Matrix([[other*x for x in self[i]] for i in range(self.size)])\n",
    "  \n",
    "    def __rmul__(self,other):\n",
    "        if isinstance(other,Matrix):\n",
    "            if self.size == other.size:\n",
    "                AB = Matrix([[0]*self.size]*self.size)\n",
    "                for i in range(self.size):\n",
    "                    for j in range(self.size):\n",
    "                        for k in range(self.size):\n",
    "                            AB[i][j] += other[i][k] * self[k][j]\n",
    "                return AB\n",
    "            else:\n",
    "                raise Exception('Matrices need to be the same size to multiply them')\n",
    "        else:\n",
    "            return Matrix([[other*x for x in self[i]] for i in range(self.size)])\n",
    "\n",
    "    def dag(self):\n",
    "        return Matrix(matrix_hermitian(self.data))\n",
    "\n",
    "    def t(self):\n",
    "        return Matrix(matrix_transpose(self.data))\n",
    "\n",
    "    def is_symmetric(self):\n",
    "        temp = True\n",
    "        for i in range(self.size):\n",
    "            for j in range(i+1, self.size):\n",
    "                temp = temp and self.data[i][j] == self.data[j][i]\n",
    "        return temp\n",
    "    \n",
    "    def is_hermitian(self):\n",
    "        temp = True\n",
    "        for i in range(self.size):\n",
    "            for j in range(i+1, self.size):\n",
    "                temp = temp and self.data[i][j] == self.data[j][i].conjugate()\n",
    "        return temp\n",
    "  \n",
    "    def __str__(self):\n",
    "        return str(self.data)"
   ]
  },
  {
   "cell_type": "markdown",
   "metadata": {
    "id": "ZGb-Yeddrigu"
   },
   "source": [
    "## Exercise 2: Quibit Gates Again!!!\n",
    "\n",
    "To illustrate the usefulness of the class we just created, define gates X,Z and H then show $$ HXH=Z. $$\n",
    "Also fee free to try any other identity you might think of."
   ]
  },
  {
   "cell_type": "code",
   "execution_count": 2,
   "metadata": {
    "executionInfo": {
     "elapsed": 303,
     "status": "aborted",
     "timestamp": 1624542140267,
     "user": {
      "displayName": "Conor Dunne",
      "photoUrl": "",
      "userId": "14934053525675490562"
     },
     "user_tz": -60
    },
    "id": "35P53sESrvqj"
   },
   "outputs": [
    {
     "name": "stdout",
     "output_type": "stream",
     "text": [
      "[[1.0000000000000002, 0.0], [0.0, -1.0000000000000002]]\n"
     ]
    }
   ],
   "source": [
    "X = Matrix([[0,1],[1,0]])\n",
    "Z = Matrix([[1,0],[0,-1]])\n",
    "H = (2**(-0.5)) * Matrix([[1,1],[1,-1]])\n",
    "\n",
    "print(H*X*H)"
   ]
  },
  {
   "cell_type": "markdown",
   "metadata": {
    "id": "kpiNLNyk6DjP"
   },
   "source": [
    "Now check if these gates are Hermitian. Print the answers."
   ]
  },
  {
   "cell_type": "code",
   "execution_count": 3,
   "metadata": {
    "executionInfo": {
     "elapsed": 304,
     "status": "aborted",
     "timestamp": 1624542140268,
     "user": {
      "displayName": "Conor Dunne",
      "photoUrl": "",
      "userId": "14934053525675490562"
     },
     "user_tz": -60
    },
    "id": "8ifGTrv-53Hc"
   },
   "outputs": [
    {
     "name": "stdout",
     "output_type": "stream",
     "text": [
      "True\n",
      "True\n",
      "True\n"
     ]
    }
   ],
   "source": [
    "print(X.is_hermitian())\n",
    "print(Z.is_hermitian())\n",
    "print(H.is_hermitian())"
   ]
  }
 ],
 "metadata": {
  "colab": {
   "collapsed_sections": [],
   "name": "PyQM_Ex.3_sol.ipynb",
   "provenance": []
  },
  "kernelspec": {
   "display_name": "Python 3",
   "language": "python",
   "name": "python3"
  },
  "language_info": {
   "codemirror_mode": {
    "name": "ipython",
    "version": 3
   },
   "file_extension": ".py",
   "mimetype": "text/x-python",
   "name": "python",
   "nbconvert_exporter": "python",
   "pygments_lexer": "ipython3",
   "version": "3.8.8"
  }
 },
 "nbformat": 4,
 "nbformat_minor": 1
}
