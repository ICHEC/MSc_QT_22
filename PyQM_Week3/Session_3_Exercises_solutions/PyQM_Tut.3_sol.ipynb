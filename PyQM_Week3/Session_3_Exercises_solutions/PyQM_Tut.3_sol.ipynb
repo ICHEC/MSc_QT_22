{
 "cells": [
  {
   "cell_type": "markdown",
   "metadata": {
    "cell_id": "00000-0f756675-2c7c-4304-841c-20a7fc22f318",
    "deepnote_cell_type": "code",
    "tags": []
   },
   "source": [
    "<center>\n",
    "    \n",
    "# Python For Quantum Mechanics  \n",
    "# Week 3: Tutorial\n",
    "\n",
    "</center>"
   ]
  },
  {
   "cell_type": "markdown",
   "metadata": {},
   "source": [
    "## Exercise 1: Making a matrix with a function"
   ]
  },
  {
   "cell_type": "markdown",
   "metadata": {},
   "source": [
    "Create a function that returns a square matrix of `0.0+0.0j`s, with a specified size. "
   ]
  },
  {
   "cell_type": "code",
   "execution_count": 3,
   "metadata": {},
   "outputs": [],
   "source": [
    "def filled_matrix(size = 2, fill = 0.0+0.0j):\n",
    "    '''Returns an (size)x(size) matrix with every element filled with fill''' \n",
    "    if(size < 1):\n",
    "        raise Exception('Error: cannot make matrix of size < 1')\n",
    "\n",
    "    return [[fill]*size]*size"
   ]
  },
  {
   "cell_type": "code",
   "execution_count": null,
   "metadata": {},
   "outputs": [],
   "source": [
    "def filled_matrix(size = 2, fill = 0.0+0.0j):\n",
    "    '''Returns an (size)x(size) matrix with every element filled with fill = 0.0+0.0j''' \n",
    "    if(size < 1):\n",
    "        raise Exception('Error: cannot make matrix of size < 1')\n",
    "    \n",
    "    filled = []\n",
    "    \n",
    "    for i in range(size):\n",
    "        filled.append([])\n",
    "        for j in range(size):\n",
    "            filled[i].append(fill)\n",
    "            \n",
    "\n",
    "    return filled"
   ]
  },
  {
   "cell_type": "code",
   "execution_count": null,
   "metadata": {},
   "outputs": [],
   "source": [
    "def filled_matrix(size = 2, fill = 0.0+0.0j):\n",
    "    '''Returns an (size)x(size) matrix with every element filled with fill = 0.0+0.0j''' \n",
    "    if(size < 1):\n",
    "        raise Exception('Error: cannot make matrix of size < 1')\n",
    "    \n",
    "    return [[fill for i in range(size)] for j in range(size)]"
   ]
  },
  {
   "cell_type": "markdown",
   "metadata": {},
   "source": [
    "Using the above function or otherwise, create a function that returns the identity matrix for a specific size."
   ]
  },
  {
   "cell_type": "code",
   "execution_count": null,
   "metadata": {},
   "outputs": [],
   "source": [
    "def identity_matrix(size = 2, t = complex):\n",
    "    '''Returns an (size)x(size) identity matrix''' \n",
    "    return [[t(1) if i==j else t(0) for i in range(size)] for j in range(size)]"
   ]
  },
  {
   "cell_type": "code",
   "execution_count": null,
   "metadata": {},
   "outputs": [],
   "source": [
    "def identity_matrix(size = 2, t = complex):\n",
    "    '''Returns an (size)x(size) idetity matrix''' \n",
    "    identity = filled_matrix(size,t(0))\n",
    "    \n",
    "    for i in range(size):\n",
    "        identity[i][i] += 1\n",
    "\n",
    "    return identity"
   ]
  },
  {
   "cell_type": "markdown",
   "metadata": {},
   "source": [
    "## Exercise 2: Making Matrix Operations"
   ]
  },
  {
   "cell_type": "markdown",
   "metadata": {},
   "source": [
    "Create a function that takes a list as input and finds it's matrix transpose."
   ]
  },
  {
   "cell_type": "code",
   "execution_count": null,
   "metadata": {},
   "outputs": [],
   "source": [
    "def matrix_transpose(A):\n",
    "    '''Returns transpose of a square matrix, A'''\n",
    "\n",
    "    size = len(A)\n",
    "\n",
    "    AT = filled_matrix(size)\n",
    "\n",
    "    for i in range(size):\n",
    "        for j in range(size):\n",
    "            AT[i][j] = A[j][i]\n",
    "\n",
    "    return AT"
   ]
  },
  {
   "cell_type": "code",
   "execution_count": null,
   "metadata": {},
   "outputs": [],
   "source": [
    "def matrix_transpose(A):\n",
    "    '''Returns transpose of a square matrix, A'''\n",
    "\n",
    "    size = len(A)\n",
    "\n",
    "    return [[A[j][i] for j in range(size)] for i in range(size)]"
   ]
  },
  {
   "cell_type": "markdown",
   "metadata": {},
   "source": [
    "Make a similar function that takes a list as input and finds it's matrix hermitian(transpose-conjugate)."
   ]
  },
  {
   "cell_type": "code",
   "execution_count": null,
   "metadata": {},
   "outputs": [],
   "source": [
    "def matrix_hermitian(A):\n",
    "    '''Returns hermitian transpose of a square matrix, A'''\n",
    "\n",
    "    size = len(A)\n",
    "\n",
    "    Adag = filled_matrix(size)\n",
    "\n",
    "    for i in range(size):\n",
    "        for j in range(size):\n",
    "            Adag[i][j] = A[j][i].conjugate()\n",
    "\n",
    "    return Adag\n",
    "\n",
    "print(matrix_hermitian(filled_matrix(2,)))"
   ]
  },
  {
   "cell_type": "code",
   "execution_count": null,
   "metadata": {},
   "outputs": [],
   "source": [
    "def matrix_hermitian(A):\n",
    "    '''Returns hermitian transpose of a square matrix, A'''\n",
    "\n",
    "    size = len(A)\n",
    "\n",
    "    return = [[A[j][i].conjugate() for j in range(size)] for i in range(size)]"
   ]
  },
  {
   "cell_type": "markdown",
   "metadata": {},
   "source": [
    "## Exercise 3: Making binary matrix functions"
   ]
  },
  {
   "cell_type": "markdown",
   "metadata": {},
   "source": [
    "Now, using the above functions, create a function that takes two lists as inputs, and returns a matrix of their sum."
   ]
  },
  {
   "cell_type": "code",
   "execution_count": null,
   "metadata": {},
   "outputs": [],
   "source": [
    "def matrix_sum(A,B):\n",
    "    '''Returns sum of two matrices, A+B'''\n",
    "  \n",
    "    if(len(A) != len(B)):\n",
    "        raise Exception('Error: matrices are different sizes')\n",
    "\n",
    "    size = len(A)\n",
    "\n",
    "    A_plus_B = filled_matrix(size,0)\n",
    "\n",
    "    for i in range(size):\n",
    "        for j in range(size):\n",
    "            A_plus_B[i][j] = A[i][j] + B[i][j]\n",
    "\n",
    "    return A_plus_B"
   ]
  },
  {
   "cell_type": "code",
   "execution_count": null,
   "metadata": {},
   "outputs": [],
   "source": [
    "def matrix_sum(A,B):\n",
    "    '''Returns sum of two matrices, A+B'''\n",
    "  \n",
    "    if(len(A) != len(B)):\n",
    "        raise Exception('Error: matrices are different sizes')\n",
    "\n",
    "    size = len(A)\n",
    "\n",
    "    A_plus_B = A.copy()\n",
    "\n",
    "    for i in range(size):\n",
    "        for j in range(size):\n",
    "            A_plus_B[i][j] += B[i][j]\n",
    "\n",
    "    return A_plus_B"
   ]
  },
  {
   "cell_type": "code",
   "execution_count": null,
   "metadata": {},
   "outputs": [],
   "source": [
    "def matrix_sum(A,B):\n",
    "    '''Returns sum of two matrices, A+B'''\n",
    "  \n",
    "    if(len(A) != len(B)):\n",
    "        raise Exception('Error: matrices are different sizes')\n",
    "\n",
    "    size = len(A)\n",
    "\n",
    "    A_plus_B = [[A[i][j]+B[i][j] for j in range(size)] for i in range(size)]\n",
    "\n",
    "    return A_plus_B"
   ]
  },
  {
   "cell_type": "markdown",
   "metadata": {},
   "source": [
    "Similarly create a function that takes two matrices as inputs, and returns their difference."
   ]
  },
  {
   "cell_type": "code",
   "execution_count": null,
   "metadata": {},
   "outputs": [],
   "source": [
    "def matrix_sum(A,B):\n",
    "    '''Returns difference of two matrices, A-B'''\n",
    "  \n",
    "    if(len(A) != len(B)):\n",
    "        raise Exception('Error: matrices are different sizes')\n",
    "\n",
    "    size = len(A)\n",
    "\n",
    "    A_plus_B = [[A[i][j]-B[i][j] for j in range(size)] for i in range(size)]\n",
    "\n",
    "    return A_plus_B"
   ]
  },
  {
   "cell_type": "markdown",
   "metadata": {},
   "source": [
    "Similarly create a function that takes in a scalar and a list as inputs, and returns their product as a matrix."
   ]
  },
  {
   "cell_type": "code",
   "execution_count": null,
   "metadata": {},
   "outputs": [],
   "source": [
    "def scalar_matrix_product(c,A):\n",
    "    '''Returns product of a scalar and a matrix'''\n",
    "\n",
    "    if type(c) == list:\n",
    "        c,A = A,c\n",
    "    \n",
    "    size = len(A)\n",
    "\n",
    "    cA = filled_matrix(size)\n",
    "\n",
    "    for i in range(size):\n",
    "        for j in range(size):\n",
    "            cA[i][j] = c*A[i][j]\n",
    "\n",
    "    return cA"
   ]
  },
  {
   "cell_type": "code",
   "execution_count": null,
   "metadata": {},
   "outputs": [],
   "source": [
    "def scalar_matrix_product(c,A):\n",
    "    '''Returns product of a scalar and a matrix'''\n",
    "\n",
    "    if type(c) == list:\n",
    "        c,A = A,c\n",
    "    \n",
    "    size = len(A)\n",
    "\n",
    "    cA = [[]]*size\n",
    "\n",
    "    for i in range(size):\n",
    "        cA[i] = list(map(lambda x:x*c,A[i]))\n",
    "\n",
    "    return cA"
   ]
  },
  {
   "cell_type": "code",
   "execution_count": null,
   "metadata": {},
   "outputs": [],
   "source": [
    "def scalar_matrix_product(c,A):\n",
    "    '''Returns product of a scalar and a matrix'''\n",
    "\n",
    "    if type(c) == list:\n",
    "        c,A = A,c\n",
    "    \n",
    "    size = len(A)\n",
    "\n",
    "    cA = [list(map(lambda x:x*c,A[i])) for i in range(size)]\n",
    "\n",
    "    return cA"
   ]
  },
  {
   "cell_type": "code",
   "execution_count": null,
   "metadata": {},
   "outputs": [],
   "source": [
    "def scalar_matrix_product(c,A):\n",
    "    '''Returns product of a scalar and a matrix'''\n",
    "\n",
    "    if type(c) == list:\n",
    "        c,A = A,c\n",
    "    \n",
    "    size = len(A)\n",
    "    \n",
    "    return [list(map(lambda x:x*c,A[i])) for i in range(size)]"
   ]
  },
  {
   "cell_type": "code",
   "execution_count": null,
   "metadata": {},
   "outputs": [],
   "source": [
    "def scalar_matrix_product(c,A):\n",
    "    '''Returns product of a scalar and a matrix'''\n",
    "\n",
    "    if type(c) == list:\n",
    "        c,A = A,c\n",
    "    \n",
    "    size = len(A)\n",
    "\n",
    "    return [[c*A[i][j] for j in range(size)] for i in range(size)]"
   ]
  },
  {
   "cell_type": "markdown",
   "metadata": {},
   "source": [
    "## Excercise 4: Vector Class"
   ]
  },
  {
   "cell_type": "markdown",
   "metadata": {},
   "source": [
    "Make a vector class. Add any attributes or methods that you think would be useful."
   ]
  },
  {
   "cell_type": "code",
   "execution_count": null,
   "metadata": {},
   "outputs": [],
   "source": [
    "class Vector():\n",
    "    def __init__(self,*args):\n",
    "        \n",
    "        if len(args) == 1:\n",
    "            try:\n",
    "                _ = int(args[0])\n",
    "            except:\n",
    "                args = args[0]\n",
    "                \n",
    "        self.data = list(args)\n",
    "        \n",
    "    def __getitem__(self,i):\n",
    "        return self.data[i]\n",
    "    \n",
    "    def __setitem__(self,i,val):\n",
    "        self.data[i] = val\n",
    "        \n",
    "    def __str__(self):\n",
    "        return str(self.data)\n",
    "    \n",
    "    def size(self):\n",
    "        return len(self.data)\n",
    "    \n",
    "    def __neg__(self):\n",
    "        return Vector([-x for x in self.data])\n",
    "    \n",
    "    def __add__(self,other):\n",
    "        if type(self) != type(other):\n",
    "            raise Exception('Error: Can only add vectors with other vectors')\n",
    "            \n",
    "        if self.size() != other.size():\n",
    "            raise Exception('Error: Vectors have diffent lengths')\n",
    "        \n",
    "        return Vector([x+y for x,y in zip(self,other)])\n",
    "    \n",
    "    def __sub__(self,other):\n",
    "        if type(self) != type(other):\n",
    "            raise Exception('Error: Can only add vectors with other vectors')\n",
    "            \n",
    "        if self.size() != other.size():\n",
    "            raise Exception('Error: Vectors have diffent lengths')\n",
    "        \n",
    "        return Vector([x-y for x,y in zip(self,other)])\n",
    "    \n",
    "    def __mul__(self,other):\n",
    "        if (type(other) == Vector):\n",
    "            if (self.size() == other.size()):\n",
    "                return sum(val_1*val_2 for val_1,val_2 in zip(self,other))\n",
    "            else:\n",
    "                raise Exception('Error: Vectors have diffent lengths')\n",
    "    \n",
    "        return Vector([other*val for val in self])\n",
    "    \n",
    "    def __rmul__(self,other):\n",
    "        return self.__mul__(other)\n",
    "    \n",
    "    def norm(self):\n",
    "        return (sum(val**2 for val in self))**.5\n",
    "    \n",
    "    def normalize(self, const = 1.0):\n",
    "        n = self.norm()/const\n",
    "        for i,val in enumerate(self):\n",
    "            self[i] = val/n"
   ]
  }
 ],
 "metadata": {
  "deepnote": {
   "is_reactive": false
  },
  "deepnote_execution_queue": [],
  "deepnote_notebook_id": "a0c60ed7-4912-4cb9-accf-7edd418cdecf",
  "kernelspec": {
   "display_name": "Python 3 (ipykernel)",
   "language": "python",
   "name": "python3"
  },
  "language_info": {
   "codemirror_mode": {
    "name": "ipython",
    "version": 3
   },
   "file_extension": ".py",
   "mimetype": "text/x-python",
   "name": "python",
   "nbconvert_exporter": "python",
   "pygments_lexer": "ipython3",
   "version": "3.9.14"
  }
 },
 "nbformat": 4,
 "nbformat_minor": 2
}
