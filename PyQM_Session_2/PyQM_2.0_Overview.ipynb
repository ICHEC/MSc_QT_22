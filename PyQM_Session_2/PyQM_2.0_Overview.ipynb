{
 "cells": [
  {
   "cell_type": "markdown",
   "metadata": {
    "cell_id": "00001-03624c49-ee43-4d7f-8008-6de8a2bcdd40",
    "deepnote_cell_type": "markdown",
    "tags": []
   },
   "source": [
    "<center>\n",
    "    \n",
    "# Python For Quantum Mechanics\n",
    "# Week 2: Overview\n",
    "\n",
    "</center>"
   ]
  },
  {
   "cell_type": "markdown",
   "metadata": {
    "cell_id": "00001-89beffad-b01a-413c-a386-a598c4a56553",
    "deepnote_cell_type": "markdown",
    "tags": []
   },
   "source": [
    "## [2.1 Flow Control](Week2_Notebooks/PyQM_2.1_Flow_Control.ipynb) \n",
    "\n",
    "- If Statments\n",
    "- Try and Except\n",
    "- While Loops\n",
    "- Range and Zip\n",
    "- For Loops\n",
    "- Break, Continue, Pass"
   ]
  },
  {
   "cell_type": "markdown",
   "metadata": {
    "cell_id": "00002-5f79ab1b-a7c0-4640-8bdb-eb0cb2d041c3",
    "deepnote_cell_type": "markdown",
    "tags": []
   },
   "source": [
    "## [2.2 Compact Code](Week2_Notebooks/PyQM_2.2_Compact_Code.ipynb) \n",
    "\n",
    "- One-Line If and Else\n",
    "- Comprehensions\n",
    "- Generators"
   ]
  },
  {
   "cell_type": "markdown",
   "metadata": {
    "cell_id": "00003-5b99fc1c-1486-4286-b6f7-0a2c282c2c34",
    "deepnote_cell_type": "markdown",
    "tags": []
   },
   "source": [
    "## [2.3 External Data](Week2_Notebooks/PyQM_2.3_External_Data.ipynb) \n",
    "\n",
    "- User Input\n",
    "- Reading from File\n",
    "- Writing to File"
   ]
  },
  {
   "cell_type": "markdown",
   "metadata": {
    "cell_id": "00004-5d7049ac-4262-49f6-944c-d477b4e49658",
    "deepnote_cell_type": "markdown",
    "tags": []
   },
   "source": [
    "## [2.4 Cheatsheet](PyQM_2.4_Cheatsheet.ipynb)"
   ]
  },
  {
   "cell_type": "markdown",
   "metadata": {
    "cell_id": "00005-453e6355-5715-4025-8529-a88ae46df8d7",
    "deepnote_cell_type": "markdown",
    "tags": []
   },
   "source": [
    "## [Tutorial 2](Week2_Exercises/PyQM_Tut.2.ipynb) \n",
    "1. Convert Decimal To Ten Bit Binary String\n",
    "2. For Loops, Sequence Sum\n",
    "3. While Loops, Reverse A Number\n",
    "4. List Comprehensions\n",
    "5. DNA\n",
    "6. Collatz Conjecture\n",
    "7. Fizz Buzz"
   ]
  },
  {
   "cell_type": "markdown",
   "metadata": {
    "cell_id": "00006-19a92260-ea6a-44dd-aae1-0b8729293f00",
    "deepnote_cell_type": "markdown",
    "tags": []
   },
   "source": [
    "## [Exercises 2](Week2_Exercises/PyQM_Ex.2.ipynb) \n",
    "1. Decimal To/From Binary\n",
    "2. Balmer Lines\n",
    "3. Quantum Quibit Gates\n",
    "4. How many days left do you have to live?\n",
    "5. Rotating Vectors In 2-Dimensions\n",
    "6. Quantum Quibit State Normalisation"
   ]
  }
 ],
 "metadata": {
  "deepnote": {
   "is_reactive": false
  },
  "deepnote_execution_queue": [],
  "deepnote_notebook_id": "b368b4f3-f8fd-4c11-b467-b445ac7a47a7",
  "kernelspec": {
   "display_name": "Python 3",
   "language": "python",
   "name": "python3"
  },
  "language_info": {
   "codemirror_mode": {
    "name": "ipython",
    "version": 3
   },
   "file_extension": ".py",
   "mimetype": "text/x-python",
   "name": "python",
   "nbconvert_exporter": "python",
   "pygments_lexer": "ipython3",
   "version": "3.8.8"
  }
 },
 "nbformat": 4,
 "nbformat_minor": 2
}
