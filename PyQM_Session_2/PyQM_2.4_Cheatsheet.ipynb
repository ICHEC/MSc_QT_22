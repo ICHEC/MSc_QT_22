{
 "cells": [
  {
   "cell_type": "markdown",
   "metadata": {
    "cell_id": "00000-da14cf8e-3050-4297-8d5d-42dd7a7e6b55",
    "deepnote_cell_type": "markdown",
    "tags": []
   },
   "source": [
    "<center>\n",
    "    \n",
    "# Python For Quantum Mechanics\n",
    "# Week 2: Cheatsheet\n",
    "\n",
    "</center>"
   ]
  },
  {
   "cell_type": "markdown",
   "metadata": {},
   "source": [
    "## [2.1 Flow Control](Week2_Notebooks/PyQM_2.1_Flow_Control.ipynb) \n",
    "\n",
    "- If Statments\n",
    "    - Documentation: https://docs.python.org/3/tutorial/controlflow.html\n",
    "\n",
    "    ```\n",
    "    if Condition==True:\n",
    "        Execute this block\n",
    "    elif Other_Condition==True:\n",
    "        Execute this block\n",
    "    elif Other_Condition==True:\n",
    "        Execute this block\n",
    "    .\n",
    "    .\n",
    "    .\n",
    "    elif Other_Condition==True:\n",
    "        Execute this block\n",
    "    else:\n",
    "        Execute this block\n",
    "    ```\n",
    "- Try and Except\n",
    "    - Documentation: https://docs.python.org/3/tutorial/errors.html\n",
    "    ```\n",
    "    try:\n",
    "        Block\n",
    "    except:\n",
    "        Block\n",
    "    finally:\n",
    "        Block\n",
    "    ```\n",
    "- While Loops\n",
    "    - Documentation: https://docs.python.org/3/reference/compound_stmts.html#while\n",
    "    ```\n",
    "    While condition==True:\n",
    "        Execute This Block\n",
    "    ```\n",
    "- Range and Zip\n",
    "    - Documentation: https://docs.python.org/3/tutorial/controlflow.html#the-range-function\n",
    "    ```\n",
    "    range(start,stop,step)\n",
    "    ```\n",
    "    - Documentation: https://docs.python.org/3/library/functions.html#zip\n",
    "    ```\n",
    "    zip(a,b)\n",
    "    ```\n",
    "- For Loops\n",
    "    - Documentation: https://docs.python.org/3/tutorial/controlflow.html#for-statements\n",
    "    ```\n",
    "    for i in (iterable object):\n",
    "        Execute This Block\n",
    "    ```\n",
    "    ```\n",
    "    enumerate(a)\n",
    "    ```\n",
    "- Break, Continue, Pass\n",
    "    - Documentation: https://docs.python.org/3/tutorial/controlflow.html#break-and-continue-statements-and-else-clauses-on-loops\n",
    "    ```\n",
    "    break #stops loops action\n",
    "    continue #moves to the next iteration in the loop\n",
    "    pass #moves onto the rest of the code block and following iterations\n",
    "    ```"
   ]
  },
  {
   "cell_type": "markdown",
   "metadata": {
    "cell_id": "00002-bc5d76d6-bbc7-4db9-a736-013537850f51",
    "deepnote_cell_type": "markdown",
    "tags": []
   },
   "source": [
    "## [2.2 Compact Code](Week2_Notebooks/PyQM_2.2_Compact_Code.ipynb) \n",
    "\n",
    "- One-Line If and Else\n",
    "    - Documentation: https://www.codegrepper.com/code-examples/python/python+single+line+for+loop+with+if+else\n",
    "    ```\n",
    "    x = one_thing if condtion else another_thing\n",
    "    ```\n",
    "- Comprehensions\n",
    "    - Documentation: https://docs.python.org/3/tutorial/datastructures.html#list-comprehensions\n",
    "    ```\n",
    "    L = [x for x in (Iterable Object) if condition == True]\n",
    "    ```\n",
    "    - Documentation: https://docs.python.org/3/tutorial/datastructures.html#sets\n",
    "    ```\n",
    "    S = {x for x in (Iterable Object) if condition == True}\n",
    "    ```\n",
    "    - Documentation: https://docs.python.org/3/tutorial/datastructures.html#dictionaries\n",
    "    ```\n",
    "    D = {key:value for key,value in Dict.items() if condition == True}\n",
    "    ```\n",
    "- Generators\n",
    "    - Documentation: https://docs.python.org/3/reference/expressions.html#generator-expressions\n",
    "    ```\n",
    "    G = (x for x in (Iterable Object) if condition == True)\n",
    "    ```"
   ]
  },
  {
   "cell_type": "markdown",
   "metadata": {
    "cell_id": "00003-3876dc89-c9f3-4957-8f32-c02b25421ed8",
    "deepnote_cell_type": "markdown",
    "tags": []
   },
   "source": [
    "## [2.3 External Data](Week2_Notebooks/PyQM_2.3_External_Data.ipynb) \n",
    "\n",
    "- User Input\n",
    "    - Documentation: https://docs.python.org/3/library/functions.html#input\n",
    "    ```\n",
    "    input('Prompt here: ')\n",
    "    ```\n",
    "- Reading from File\n",
    "    - Documentation: https://docs.python.org/3/tutorial/inputoutput.html#reading-and-writing-files\n",
    "    ```\n",
    "    with open(\"file\",'r') as f:\n",
    "    \n",
    "        f.read() #Reads entire file\n",
    "        f.read(10) #Reads 10 characters\n",
    "    \n",
    "        f.readline() #Reads line\n",
    "        f.readline() #Reads next line\n",
    "    ```\n",
    "- Writing to File\n",
    "    - Documentation: https://docs.python.org/3/tutorial/inputoutput.html#reading-and-writing-files\n",
    "    ```\n",
    "    with open(\"file\",'a') as f: # or 'w' \n",
    "        f.write(\"appends('a')/overwrites('w')\")\n",
    "    ```"
   ]
  }
 ],
 "metadata": {
  "deepnote": {
   "is_reactive": false
  },
  "deepnote_execution_queue": [],
  "deepnote_notebook_id": "0fc48fd5-a088-4d4d-a157-714487723349",
  "kernelspec": {
   "display_name": "Python 3",
   "language": "python",
   "name": "python3"
  },
  "language_info": {
   "codemirror_mode": {
    "name": "ipython",
    "version": 3
   },
   "file_extension": ".py",
   "mimetype": "text/x-python",
   "name": "python",
   "nbconvert_exporter": "python",
   "pygments_lexer": "ipython3",
   "version": "3.8.8"
  }
 },
 "nbformat": 4,
 "nbformat_minor": 2
}
