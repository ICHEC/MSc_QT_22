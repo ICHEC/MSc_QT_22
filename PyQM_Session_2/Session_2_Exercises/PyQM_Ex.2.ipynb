{
 "cells": [
  {
   "cell_type": "markdown",
   "id": "2578bceb",
   "metadata": {
    "cell_id": "00000-56d0e291-a975-4ad0-8d15-fb1bf815a2ad",
    "deepnote_cell_type": "markdown",
    "id": "d21f615b"
   },
   "source": [
    "<center>\n",
    "\n",
    "# Python for Quantum Mechanics: \n",
    "# Week 2: Exercises\n",
    "\n",
    "</center>"
   ]
  },
  {
   "cell_type": "markdown",
   "id": "fd9682be",
   "metadata": {
    "cell_id": "00001-147623df-3301-498c-b799-44c075d459d5",
    "deepnote_cell_type": "markdown",
    "id": "NpAZcOPTjIJw"
   },
   "source": [
    "## Exercise 1: Decimal to/from Binary\n",
    "Write a cell that converts a decimal integer to a binary string, using a while loop and not just recasting.\n",
    "\n",
    "<img src=\"images/binary.png\" alt=\"two dice\" width=\"400\"/>"
   ]
  },
  {
   "cell_type": "code",
   "execution_count": null,
   "id": "47c5170e",
   "metadata": {
    "cell_id": "00002-e95b14e9-5d10-4f55-bd7d-56f1261721c5",
    "colab": {
     "base_uri": "https://localhost:8080/"
    },
    "deepnote_cell_type": "code",
    "deepnote_to_be_reexecuted": false,
    "executionInfo": {
     "elapsed": 5,
     "status": "ok",
     "timestamp": 1624455609657,
     "user": {
      "displayName": "Sean Courtney",
      "photoUrl": "",
      "userId": "17219612104113445790"
     },
     "user_tz": -60
    },
    "execution_millis": 40,
    "execution_start": 1624616983705,
    "id": "lLK-5PWPibCr",
    "outputId": "83fe4a6b-f8e6-4a40-b7fd-44a70631dc8d",
    "source_hash": "53a0fd1e"
   },
   "outputs": [],
   "source": [
    "decimal = 745\n",
    "\n",
    "binary = ''\n",
    "\n",
    "\n",
    "\n",
    "\n",
    "print(binary)"
   ]
  },
  {
   "cell_type": "markdown",
   "id": "b7c602dc",
   "metadata": {
    "cell_id": "00003-38593e07-a43b-4555-8f37-fe8b8cceda15",
    "deepnote_cell_type": "markdown",
    "id": "OkjwC3Xm_M_3"
   },
   "source": [
    "Write a cell that converts binary string to a decimal integer, using a for loop and not just recasting. Make sure that you are reading the binary in the right direction... (*Hint: you can loop through the characters in a string but remeber to cast to an* `int` *to do do calculations but make sure that you are reading the binary in the right direction...*)"
   ]
  },
  {
   "cell_type": "code",
   "execution_count": null,
   "id": "bdb81e2a",
   "metadata": {
    "cell_id": "00004-2debcbdc-e385-4c7b-85dd-1049c05d3e01",
    "colab": {
     "base_uri": "https://localhost:8080/"
    },
    "deepnote_cell_type": "code",
    "deepnote_to_be_reexecuted": false,
    "executionInfo": {
     "elapsed": 182,
     "status": "ok",
     "timestamp": 1624455564059,
     "user": {
      "displayName": "Sean Courtney",
      "photoUrl": "",
      "userId": "17219612104113445790"
     },
     "user_tz": -60
    },
    "execution_millis": 20,
    "execution_start": 1624616983756,
    "id": "Q9qkyHpU_eE3",
    "outputId": "70713f20-7f0c-4e9b-9644-7a26704aafd1",
    "source_hash": "fe561d88"
   },
   "outputs": [],
   "source": [
    "binary = '10111001'\n",
    "\n",
    "decimal = 0\n",
    "\n",
    "\n",
    "\n",
    "\n",
    "print(decimal)"
   ]
  },
  {
   "cell_type": "markdown",
   "id": "6c52eb2c",
   "metadata": {
    "cell_id": "00005-6bb73fb0-1124-403d-a2ab-e655ceeda0e5",
    "deepnote_cell_type": "markdown",
    "id": "4yp1sJnVhzpN"
   },
   "source": [
    "## Exercise 2: Balmer Lines\n",
    "\n",
    "As seen in the last excercise the energy levels of a hydrogen atom are the following\n",
    "$$ E_n = - \\frac{e^2}{8 \\pi \\varepsilon_0 a_0 n^2} \\approx \\frac{-13.6\\text{eV}}{n^2} .$$\n",
    "\n",
    "Make an empty list and append the values of the first ten energies using a for-loop."
   ]
  },
  {
   "cell_type": "code",
   "execution_count": null,
   "id": "7f1d99a5",
   "metadata": {
    "cell_id": "00006-53187978-8693-4328-98a1-b1c2b0e959ec",
    "colab": {
     "base_uri": "https://localhost:8080/"
    },
    "deepnote_cell_type": "code",
    "deepnote_to_be_reexecuted": false,
    "executionInfo": {
     "elapsed": 193,
     "status": "ok",
     "timestamp": 1624458600445,
     "user": {
      "displayName": "Sean Courtney",
      "photoUrl": "",
      "userId": "17219612104113445790"
     },
     "user_tz": -60
    },
    "execution_millis": 24,
    "execution_start": 1624616983780,
    "id": "roK3FYmO6lQL",
    "outputId": "09e2f095-04f2-46cd-c238-c1d4b287f0b2",
    "source_hash": "737b58e4"
   },
   "outputs": [],
   "source": [
    "E_levels = []\n",
    "\n",
    "\n",
    "\n",
    "print(E_levels)"
   ]
  },
  {
   "cell_type": "markdown",
   "id": "05c8c1f7",
   "metadata": {
    "cell_id": "00007-fe61282e-d30b-4b61-8774-738fc2276abf",
    "deepnote_cell_type": "markdown",
    "id": "Dh5KWNPsDmqj"
   },
   "source": [
    "Now do this with list comprehension."
   ]
  },
  {
   "cell_type": "code",
   "execution_count": null,
   "id": "78cceec4",
   "metadata": {
    "cell_id": "00008-85118e6b-da3d-4fee-81f4-799657080f07",
    "colab": {
     "base_uri": "https://localhost:8080/"
    },
    "deepnote_cell_type": "code",
    "deepnote_to_be_reexecuted": false,
    "executionInfo": {
     "elapsed": 315,
     "status": "ok",
     "timestamp": 1624458602872,
     "user": {
      "displayName": "Sean Courtney",
      "photoUrl": "",
      "userId": "17219612104113445790"
     },
     "user_tz": -60
    },
    "execution_millis": 0,
    "execution_start": 1624616983844,
    "id": "gNNxlJWzCVCy",
    "outputId": "35c321b2-bf01-4e1c-e7ef-0c8839712758",
    "source_hash": "5e56110f"
   },
   "outputs": [],
   "source": [
    "E_levels = \n",
    "\n",
    "print(E_levels)"
   ]
  },
  {
   "cell_type": "markdown",
   "id": "6d673f60",
   "metadata": {
    "cell_id": "00009-af84f275-3974-45b1-9cd0-94e7883d0b76",
    "deepnote_cell_type": "markdown",
    "id": "A2QZWkz5dmMt"
   },
   "source": [
    "Now make a list of the first eight Balmer lines \n",
    "\n",
    "$$ \\lambda = \\frac{1242}{\\text{Energy of Photon in eV}} nm$$"
   ]
  },
  {
   "cell_type": "code",
   "execution_count": null,
   "id": "a466f7ba",
   "metadata": {
    "cell_id": "00010-8b81eed9-051a-4875-9748-3a2c78ac6eb8",
    "colab": {
     "base_uri": "https://localhost:8080/"
    },
    "deepnote_cell_type": "code",
    "deepnote_to_be_reexecuted": false,
    "executionInfo": {
     "elapsed": 285,
     "status": "ok",
     "timestamp": 1624459498479,
     "user": {
      "displayName": "Sean Courtney",
      "photoUrl": "",
      "userId": "17219612104113445790"
     },
     "user_tz": -60
    },
    "execution_start": 1624616983888,
    "id": "B0TXmqahR9OQ",
    "outputId": "9958d4f9-0efe-477f-a70e-547b1a4bba3c",
    "source_hash": "887718e"
   },
   "outputs": [],
   "source": [
    "Balmer = \n",
    "\n",
    "print(Balmer)"
   ]
  },
  {
   "cell_type": "markdown",
   "id": "acf6872d",
   "metadata": {
    "cell_id": "00011-2635667d-a067-440f-81fe-a1ab49bf4616",
    "deepnote_cell_type": "markdown",
    "id": "aOOniBHH40t1"
   },
   "source": [
    "## Exercise 3: Quantum Qubit Gates\n",
    "It turns out we can contain lists within lists i.e. $[4.0,[1,5]]$. Using nested lists for each row, represent the following single qubit gates X,Y, and Z and print them.\n",
    "\n",
    "$$ X = \\begin{pmatrix}\n",
    "0 & 1 \\\\ 1&0\n",
    "\\end{pmatrix}, \\ \\ \\ \n",
    "Y = \\begin{pmatrix}\n",
    "0 & -i \\\\ i&0\n",
    "\\end{pmatrix}, \\ \\ \\ \n",
    "Z = \\begin{pmatrix}\n",
    "1 & 0 \\\\ 0&-1\n",
    "\\end{pmatrix}$$\n"
   ]
  },
  {
   "cell_type": "code",
   "execution_count": null,
   "id": "c4e70dbc",
   "metadata": {
    "cell_id": "00012-2137300a-a551-4547-8d81-70a97fbd9efd",
    "colab": {
     "base_uri": "https://localhost:8080/"
    },
    "deepnote_cell_type": "code",
    "deepnote_to_be_reexecuted": false,
    "executionInfo": {
     "elapsed": 15,
     "status": "ok",
     "timestamp": 1623937069417,
     "user": {
      "displayName": "Sean Courtney",
      "photoUrl": "",
      "userId": "17219612104113445790"
     },
     "user_tz": -60
    },
    "execution_millis": 6,
    "execution_start": 1624888714484,
    "id": "DvzgvHh045lx",
    "outputId": "6bb0bdc0-b519-4fdc-aea4-711609d4eff4",
    "source_hash": "d1f52fd6"
   },
   "outputs": [],
   "source": [
    "X = \n",
    "Y = \n",
    "Z = \n",
    "\n",
    "print(\"X = \", X)\n",
    "print(\"Y = \", Y)\n",
    "print(\"Z = \", Z)"
   ]
  },
  {
   "cell_type": "markdown",
   "id": "2d72e2f9",
   "metadata": {
    "cell_id": "00013-9b8b2073-dcd6-4501-87fe-4d2e7166c665",
    "deepnote_cell_type": "markdown",
    "id": "J4CspFJObThz"
   },
   "source": [
    "There is also the Hadamard gate.\n",
    "$$ H = \\begin{pmatrix}\n",
    "1/\\sqrt{2} & 1/\\sqrt{2} \\\\ 1/\\sqrt{2} & -1/\\sqrt{2}\n",
    "\\end{pmatrix}$$"
   ]
  },
  {
   "cell_type": "code",
   "execution_count": null,
   "id": "80d4e672",
   "metadata": {
    "cell_id": "00014-6d57e764-b346-4f50-bc0f-c22a9029b109",
    "colab": {
     "base_uri": "https://localhost:8080/"
    },
    "deepnote_cell_type": "code",
    "deepnote_to_be_reexecuted": false,
    "executionInfo": {
     "elapsed": 12,
     "status": "ok",
     "timestamp": 1623937069417,
     "user": {
      "displayName": "Sean Courtney",
      "photoUrl": "",
      "userId": "17219612104113445790"
     },
     "user_tz": -60
    },
    "execution_start": 1624616983931,
    "id": "EFgHWNBXbVNR",
    "outputId": "c479a147-a981-416d-cf94-854416e86295",
    "source_hash": "1fca7208"
   },
   "outputs": [],
   "source": [
    "H = \n",
    "print(H)"
   ]
  },
  {
   "cell_type": "markdown",
   "id": "a4912f9a",
   "metadata": {
    "cell_id": "00015-45011954-9035-4683-8f23-bc65aa44acc6",
    "deepnote_cell_type": "markdown",
    "id": "3-Ods5mQ6N03"
   },
   "source": [
    "It is more useful if every element is a complex type so cast all matrices into complex matrices."
   ]
  },
  {
   "cell_type": "code",
   "execution_count": null,
   "id": "05ce299c",
   "metadata": {
    "cell_id": "00016-4d198b6e-7f8f-4fa7-8238-772a110635c3",
    "colab": {
     "base_uri": "https://localhost:8080/"
    },
    "deepnote_cell_type": "code",
    "deepnote_to_be_reexecuted": false,
    "executionInfo": {
     "elapsed": 10,
     "status": "ok",
     "timestamp": 1623937069418,
     "user": {
      "displayName": "Sean Courtney",
      "photoUrl": "",
      "userId": "17219612104113445790"
     },
     "user_tz": -60
    },
    "execution_start": 1624616983932,
    "id": "RRgzZv0M6NIi",
    "outputId": "9bb54d71-9bd3-49eb-a5ac-18aa25a5d892",
    "source_hash": "d922a3ae"
   },
   "outputs": [],
   "source": [
    "\n",
    "\n",
    "\n",
    "print(\"X = \", X)\n",
    "print(\"Y = \", Y)\n",
    "print(\"Z = \", Z)\n",
    "print(\"H = \", H)"
   ]
  },
  {
   "cell_type": "markdown",
   "id": "77c0814e",
   "metadata": {
    "cell_id": "00017-4db5f922-9ade-4632-9071-d386ab5dcc05",
    "deepnote_cell_type": "markdown",
    "id": "UjTfRuMb0APs"
   },
   "source": [
    "Make a copy of the $Y$ matrix. Start with a $2 \\times 2$ matrix of all $0$s."
   ]
  },
  {
   "cell_type": "code",
   "execution_count": null,
   "id": "53ce0d69",
   "metadata": {
    "cell_id": "00018-b611e0e0-90d6-4e5c-a7dc-aa64822c361e",
    "colab": {
     "base_uri": "https://localhost:8080/"
    },
    "deepnote_cell_type": "code",
    "deepnote_to_be_reexecuted": false,
    "executionInfo": {
     "elapsed": 8,
     "status": "ok",
     "timestamp": 1623937069418,
     "user": {
      "displayName": "Sean Courtney",
      "photoUrl": "",
      "userId": "17219612104113445790"
     },
     "user_tz": -60
    },
    "execution_start": 1624616983957,
    "id": "kUC6ft7Pz_hh",
    "outputId": "8c7d0c86-ee19-4e8b-f41f-a11e67e92bda",
    "source_hash": "77cae2f0"
   },
   "outputs": [],
   "source": [
    "Y_copy = [[0,0],[0,0]]\n",
    "\n"
   ]
  },
  {
   "cell_type": "markdown",
   "id": "0ed67185",
   "metadata": {
    "cell_id": "00019-1e4d52a4-c37a-44f2-b9bc-2e5ca4eb60c6",
    "deepnote_cell_type": "markdown",
    "id": "xki4hT-S1hHX"
   },
   "source": [
    "Create a smiliar cell that makes a transpose of $Y$, $Y^T$."
   ]
  },
  {
   "cell_type": "code",
   "execution_count": null,
   "id": "611740a4",
   "metadata": {
    "cell_id": "00020-4915fbfd-4b22-4538-99ae-558a348dd76b",
    "colab": {
     "base_uri": "https://localhost:8080/"
    },
    "deepnote_cell_type": "code",
    "deepnote_to_be_reexecuted": false,
    "executionInfo": {
     "elapsed": 21,
     "status": "ok",
     "timestamp": 1623937070025,
     "user": {
      "displayName": "Sean Courtney",
      "photoUrl": "",
      "userId": "17219612104113445790"
     },
     "user_tz": -60
    },
    "execution_start": 1624616984025,
    "id": "fjlCVM3A1kli",
    "outputId": "201bc32e-6aec-40f6-b4a6-148a0b120770",
    "source_hash": "760b2ae6"
   },
   "outputs": [],
   "source": [
    "Y_trans = [[0,0],[0,0]]\n",
    "\n"
   ]
  },
  {
   "cell_type": "markdown",
   "id": "6e80408f",
   "metadata": {
    "cell_id": "00021-1361c213-a980-4699-8d90-69eb317a2ae3",
    "deepnote_cell_type": "markdown",
    "id": "gpqAhAEb2j2f"
   },
   "source": [
    "Now take a Hermitian adjoint and check if $Y$ is Hermitian."
   ]
  },
  {
   "cell_type": "code",
   "execution_count": null,
   "id": "dcd9331c",
   "metadata": {
    "cell_id": "00022-79d252ec-35a0-4161-ab64-e7e908995a02",
    "colab": {
     "base_uri": "https://localhost:8080/"
    },
    "deepnote_cell_type": "code",
    "deepnote_to_be_reexecuted": false,
    "executionInfo": {
     "elapsed": 19,
     "status": "ok",
     "timestamp": 1623937070026,
     "user": {
      "displayName": "Sean Courtney",
      "photoUrl": "",
      "userId": "17219612104113445790"
     },
     "user_tz": -60
    },
    "execution_start": 1624616984026,
    "id": "c352p02N12Cr",
    "outputId": "00e85d49-706d-43de-cbf2-c50aef7a10a3",
    "source_hash": "fb0286bb"
   },
   "outputs": [],
   "source": [
    "Y_dag = [[0,0],[0,0]]\n"
   ]
  },
  {
   "cell_type": "markdown",
   "id": "ddff526c",
   "metadata": {
    "cell_id": "00023-360f76d8-78c0-4d4a-b8c8-948a4f8067f0",
    "deepnote_cell_type": "markdown",
    "id": "hkgRL5A5AkuW"
   },
   "source": [
    "Now multiply $X$ and $H$ to get $XH$. \n"
   ]
  },
  {
   "cell_type": "code",
   "execution_count": null,
   "id": "dc224793",
   "metadata": {
    "cell_id": "00024-7cb9a84c-99af-4ce9-9137-f2e600bff86a",
    "colab": {
     "base_uri": "https://localhost:8080/"
    },
    "deepnote_cell_type": "code",
    "deepnote_to_be_reexecuted": false,
    "executionInfo": {
     "elapsed": 18,
     "status": "ok",
     "timestamp": 1623937070027,
     "user": {
      "displayName": "Sean Courtney",
      "photoUrl": "",
      "userId": "17219612104113445790"
     },
     "user_tz": -60
    },
    "execution_start": 1624616984033,
    "id": "Z_SdOUJu4WbV",
    "outputId": "e659c339-9ca9-4a52-ea02-233818978d28",
    "source_hash": "82fd7b73"
   },
   "outputs": [],
   "source": [
    "XH = [[0,0],[0,0]]\n",
    "\n"
   ]
  },
  {
   "cell_type": "markdown",
   "id": "4e8d60e6",
   "metadata": {
    "cell_id": "00025-d29d3114-9d71-4925-9c44-3f57a71fad26",
    "deepnote_cell_type": "markdown",
    "id": "fqF6uIUuCutG"
   },
   "source": [
    "Now multiply $XH$ and $H$ to get $HXH$. "
   ]
  },
  {
   "cell_type": "code",
   "execution_count": null,
   "id": "91a391a1",
   "metadata": {
    "cell_id": "00026-2333b99b-9663-4591-a62f-e0cda8e47ce6",
    "colab": {
     "base_uri": "https://localhost:8080/"
    },
    "deepnote_cell_type": "code",
    "deepnote_to_be_reexecuted": false,
    "executionInfo": {
     "elapsed": 12,
     "status": "ok",
     "timestamp": 1623937070028,
     "user": {
      "displayName": "Sean Courtney",
      "photoUrl": "",
      "userId": "17219612104113445790"
     },
     "user_tz": -60
    },
    "execution_start": 1624616984033,
    "id": "c7orX2ThCdvV",
    "outputId": "ebc5b253-588f-4d95-ff2a-3e432ab26a36",
    "source_hash": "d03daf2d"
   },
   "outputs": [],
   "source": [
    "HXH = [[0,0],[0,0]]\n",
    "\n",
    "print(HXH)"
   ]
  },
  {
   "cell_type": "markdown",
   "id": "b1949299",
   "metadata": {
    "cell_id": "00027-9083c82a-dc41-428a-8a6d-20039d6763e8",
    "deepnote_cell_type": "markdown",
    "id": "WU_23_gCE9VW"
   },
   "source": [
    "We have verified the well known identity $$HXH = Z.$$"
   ]
  },
  {
   "cell_type": "markdown",
   "id": "c69a7836",
   "metadata": {
    "cell_id": "00031-2471cd0f-83ba-4003-8d6e-5ccd6e957118",
    "deepnote_cell_type": "markdown",
    "id": "727758c1"
   },
   "source": [
    "## Exercise 4: How many days left do you have to live?\n",
    "By inputting the current date dd/mm/yyyy and your birthday dd/mm/yyyy. Calculate how many days you have lived.\n",
    "<img src=\"images/stopwatch.jpg\" alt=\"two dice\" width=\"300\"/>"
   ]
  },
  {
   "cell_type": "code",
   "execution_count": null,
   "id": "b4c41e1a",
   "metadata": {
    "cell_id": "00032-2a986a71-a4fe-461e-991a-afbe0464d65c",
    "deepnote_cell_type": "code",
    "deepnote_to_be_reexecuted": true,
    "id": "68096c60",
    "source_hash": "a52372f4"
   },
   "outputs": [],
   "source": [
    "current_date = input(\"Enter the current date dd/mm/yyyy: \" )\n",
    "birth_date = input(\"Enter your birth date dd/mm/yyyy: \")"
   ]
  },
  {
   "cell_type": "markdown",
   "id": "c77fd805",
   "metadata": {
    "cell_id": "00033-d81f2c6e-a6f0-4b75-93d9-7087b2eb6e18",
    "deepnote_cell_type": "markdown",
    "id": "2264220b"
   },
   "source": [
    "Lets extract the current day, month and year aswell as the birth day, month and year from these inputs."
   ]
  },
  {
   "cell_type": "code",
   "execution_count": null,
   "id": "42de6ccc",
   "metadata": {
    "cell_id": "00034-6fa727e9-8397-43b1-9c86-ae1c6ceead69",
    "deepnote_cell_type": "code",
    "deepnote_to_be_reexecuted": true,
    "id": "3bbe056e",
    "source_hash": "cc72ab3b"
   },
   "outputs": [],
   "source": [
    "current_day = \n",
    "current_month = \n",
    "current_year = \n",
    "\n",
    "birth_day = \n",
    "birth_month = \n",
    "birth_year = "
   ]
  },
  {
   "cell_type": "markdown",
   "id": "384785c2",
   "metadata": {
    "cell_id": "00035-80f943c9-417c-435b-923a-89619beda38a",
    "deepnote_cell_type": "markdown",
    "id": "4cc6c62c"
   },
   "source": [
    "When counting the days lived, we need to take into account leap days and days in the months of the year. Lets make two list with the number of days in each month for a regular year, and then a leap year."
   ]
  },
  {
   "cell_type": "code",
   "execution_count": null,
   "id": "0f41f548",
   "metadata": {
    "cell_id": "00036-f086a93f-1a75-411d-b1ea-269e5d66f2d9",
    "deepnote_cell_type": "code",
    "deepnote_to_be_reexecuted": true,
    "id": "a80c0c52",
    "source_hash": "4f29663a"
   },
   "outputs": [],
   "source": [
    "Months = [31,28,31,30,31,30,31,31,30,31,30,31]\n",
    "Leap_Months = [31,29,31,30,31,30,31,31,30,31,30,31]"
   ]
  },
  {
   "cell_type": "markdown",
   "id": "1464017a",
   "metadata": {
    "cell_id": "00037-6ebdd4bf-0d88-48d1-9035-5c4c00ca9a1d",
    "deepnote_cell_type": "markdown",
    "id": "a8535db3"
   },
   "source": [
    "Calculate whether or not your birth year and the current year are leap years. Assign your answers in boolean form to the variables given below."
   ]
  },
  {
   "cell_type": "code",
   "execution_count": null,
   "id": "9ca332c1",
   "metadata": {
    "cell_id": "00038-aee3e9af-e805-4e07-9787-261e740ad5ba",
    "deepnote_cell_type": "code",
    "deepnote_to_be_reexecuted": true,
    "id": "9958bbe5",
    "source_hash": "bf2aaaeb"
   },
   "outputs": [],
   "source": [
    "current_year_leap = True\n",
    "birth_year_leap = True\n",
    "        \n"
   ]
  },
  {
   "cell_type": "markdown",
   "id": "fee47771",
   "metadata": {
    "cell_id": "00039-57274ee0-b140-4733-b4c3-bc36d444866a",
    "deepnote_cell_type": "markdown",
    "id": "c43a8c73"
   },
   "source": [
    "Using the month lists above, calculate how many days you lived in your birth year. Print the answer. This will depend on the boolean value found above."
   ]
  },
  {
   "cell_type": "code",
   "execution_count": null,
   "id": "81ace04d",
   "metadata": {
    "cell_id": "00040-34e29288-5496-46e2-beff-2273d20f26cc",
    "deepnote_cell_type": "code",
    "deepnote_to_be_reexecuted": true,
    "id": "0805f040",
    "source_hash": "804f778e"
   },
   "outputs": [],
   "source": [
    "birth_year_days = 0\n",
    "\n",
    "\n",
    "print(\"birth year days = \",birth_year_days)        "
   ]
  },
  {
   "cell_type": "markdown",
   "id": "51b4bcec",
   "metadata": {
    "cell_id": "00041-673279e1-0def-47fc-bcc3-5ba2bd4267a3",
    "deepnote_cell_type": "markdown",
    "id": "bd20f32c"
   },
   "source": [
    "Using the month lists above, calculate how many days you lived in the current year. Print the answer. This will depend on the boolean value found above."
   ]
  },
  {
   "cell_type": "code",
   "execution_count": null,
   "id": "7013af52",
   "metadata": {
    "cell_id": "00042-d54521a5-f764-4796-916a-f65d94b107a2",
    "deepnote_cell_type": "code",
    "deepnote_to_be_reexecuted": true,
    "id": "1774c5e4",
    "source_hash": "ae74c59c"
   },
   "outputs": [],
   "source": [
    "current_year_days = 0\n",
    "\n",
    "\n",
    "print(\"current year days = \",current_year_days)"
   ]
  },
  {
   "cell_type": "markdown",
   "id": "b16095f9",
   "metadata": {
    "cell_id": "00043-339e7482-40ad-49ce-bf56-a9871e67096d",
    "deepnote_cell_type": "markdown",
    "id": "f4092202"
   },
   "source": [
    "Now, using a loop, calculate the number of days in the years between your birth year and the current year. Print the answer. \n",
    "\n",
    "(There are 366 days in a leap year, and 365 in a regular year.)"
   ]
  },
  {
   "cell_type": "code",
   "execution_count": null,
   "id": "e6911be2",
   "metadata": {
    "cell_id": "00044-e5f13ac5-fb3b-4a1c-8f55-c568a5f808fe",
    "deepnote_cell_type": "code",
    "deepnote_to_be_reexecuted": true,
    "id": "df7d1395",
    "source_hash": "55150ead"
   },
   "outputs": [],
   "source": [
    "days_inbetween = 0\n",
    "\n",
    "        \n",
    "print(\"Days inbetween = \",days_inbetween)"
   ]
  },
  {
   "cell_type": "markdown",
   "id": "edb318e3",
   "metadata": {
    "cell_id": "00045-676e6c0c-5e41-4c9e-a66c-a96fcdf9ea59",
    "deepnote_cell_type": "markdown",
    "id": "7a6a06e1"
   },
   "source": [
    "Now sum up your answers to find the total number of days you have lived. Print the answer."
   ]
  },
  {
   "cell_type": "code",
   "execution_count": null,
   "id": "3610f047",
   "metadata": {
    "cell_id": "00046-675a117d-c416-49e9-9726-131da5a21626",
    "deepnote_cell_type": "code",
    "deepnote_to_be_reexecuted": true,
    "id": "61b4f370",
    "source_hash": "c08eda40"
   },
   "outputs": [],
   "source": [
    "days_lived = birth_year_days + days_inbetween + current_year_days\n",
    "print(\"days lived = \",days_lived)"
   ]
  },
  {
   "cell_type": "markdown",
   "id": "2e7d892d",
   "metadata": {
    "cell_id": "00047-0f445472-a13f-476f-8d43-76a5b4500507",
    "deepnote_cell_type": "markdown",
    "id": "27f58a72"
   },
   "source": [
    "The average person in Ireland lives approximately 82 years. Approximate the number of days you have left to live."
   ]
  },
  {
   "cell_type": "code",
   "execution_count": null,
   "id": "333085eb",
   "metadata": {
    "cell_id": "00048-4ffded4a-37ed-496d-88cd-6effcb3c3892",
    "deepnote_cell_type": "code",
    "deepnote_to_be_reexecuted": true,
    "id": "28bd4acd",
    "source_hash": "1b2fbf4b"
   },
   "outputs": [],
   "source": [
    "days_left = \n",
    "\n",
    "print(\"I have approximately {} days left to live\".format(days_left))"
   ]
  },
  {
   "cell_type": "markdown",
   "id": "2894a8ba",
   "metadata": {
    "cell_id": "00049-817fbe72-3ccd-437e-868a-ea403bafed58",
    "deepnote_cell_type": "markdown",
    "id": "2bea5e40"
   },
   "source": [
    "## Exercise 6: Rotating Vectors In 2-Dimensions\n",
    "\n",
    "We can define a vector in two-dimensions with two values \"x\" and \"y\", where the vector points from the origin to the coordinates $$(x,y)$$ and has magnitude given by $$ \\sqrt{x^2 + y^2} $$\n",
    "\n",
    "The vector is written as a 2x1 matrix, as follows:\n",
    "\n",
    "$$ \\begin{pmatrix}\n",
    "x \\\\\n",
    "y\n",
    "\\end{pmatrix}$$\n",
    "\n",
    "We can rotate the vector around the origin by multiplying it by a matrix, namely a rotational matrix, given by:\n",
    "\n",
    "$$ \\begin{pmatrix}\n",
    "\\cos\\theta & -\\sin\\theta \\\\\n",
    "\\sin\\theta & \\cos\\theta\n",
    "\\end{pmatrix}$$\n",
    "\n",
    "If we want to rotate by an angle $ \\theta = \\pi/2 $ then we obtain the rotation matrix:\n",
    "\n",
    "$$ \\begin{pmatrix}\n",
    "0 & -1 \\\\\n",
    "1& 0\n",
    "\\end{pmatrix}$$\n",
    "\n",
    "Find the resulting vector after rotating the vector, with $x=1$ and $y=1$, by $\\pi/2$. Print the answer."
   ]
  },
  {
   "cell_type": "code",
   "execution_count": null,
   "id": "53d5e651",
   "metadata": {
    "cell_id": "00050-a25fd750-46b8-4740-aa10-728766aa5cf9",
    "deepnote_cell_type": "code",
    "deepnote_to_be_reexecuted": true,
    "id": "c20ba821",
    "source_hash": "a7ebf5ed"
   },
   "outputs": [],
   "source": [
    "Vector = [1,1]\n",
    "Rotation = [[0,-1],[1,0]]\n",
    "Result = [0,0]\n",
    "\n",
    "\n",
    "print(Result)"
   ]
  },
  {
   "cell_type": "markdown",
   "id": "657c4d50",
   "metadata": {
    "cell_id": "00051-04bfdf0d-303a-4f00-9e36-6d16b7e42836",
    "deepnote_cell_type": "markdown",
    "id": "a46a95a1"
   },
   "source": [
    "Calculate the magnitude of the initial vector and the resulting vector. Check if they are equal, print a boolean answer."
   ]
  },
  {
   "cell_type": "code",
   "execution_count": null,
   "id": "269739c9",
   "metadata": {
    "cell_id": "00052-17de47d0-60b7-4774-91d5-39610539525a",
    "deepnote_cell_type": "code",
    "deepnote_to_be_reexecuted": true,
    "id": "d3af174d",
    "source_hash": "fcf13380"
   },
   "outputs": [],
   "source": []
  },
  {
   "cell_type": "markdown",
   "id": "47f27135",
   "metadata": {},
   "source": [
    "## Exercise 7: Quantum Qubit State Normalisation\n",
    "\n",
    "Read in the file \"qubits.txt\", each line represents the state of a different qubit in a two-dimesnional basis, so there are two space-seperated integers. For example,\n",
    "\n",
    "$$236 \\text{ }\\text{ } 3284 $$\n",
    "\n",
    "However, these states are not normalised. What is normalisation? In simple mathematical terms, it means the squared-sum of these integers is equal to one. In the above case, this is not true\n",
    "\n",
    "$$236^2 + 3284^2 = 10840352 $$\n",
    "\n",
    "To normalise, we divide each integer, $a$ and $b$, by \n",
    "$$ \\sqrt{a^2 + b^2} $$\n",
    "\n",
    "So in the above case, we change the space-seperated integers to\n",
    "\n",
    "$$\\frac{236}{\\sqrt{10840352}} \\ \\ \\frac{3284}{\\sqrt{10840352}} = 0.072 \\ \\ 0.997 \\text{  (rounding to three decimal places)} $$\n",
    "\n",
    "Now their squared sum is\n",
    "\n",
    "$$\\frac{236^2}{10840352} + \\frac{3284^2}{10840352} = \\frac{10840352}{10840352} = 1$$\n",
    "\n",
    "and we can say they are normalised. \n",
    "\n",
    "Read in the file, and line by line, normalise each qubit state, write the result to the file \"normalised_qubits.txt\" and print the answers on the screen. Round to five decimal places."
   ]
  },
  {
   "cell_type": "code",
   "execution_count": null,
   "id": "a34d3e5f",
   "metadata": {},
   "outputs": [],
   "source": []
  }
 ],
 "metadata": {
  "colab": {
   "collapsed_sections": [],
   "name": "PyQM_Ex.2_sol.ipynb",
   "provenance": []
  },
  "deepnote": {},
  "deepnote_execution_queue": [],
  "deepnote_notebook_id": "57532349-2352-4cd7-8c1f-b400c27084aa",
  "kernelspec": {
   "display_name": "Python 3",
   "language": "python",
   "name": "python3"
  },
  "language_info": {
   "codemirror_mode": {
    "name": "ipython",
    "version": 3
   },
   "file_extension": ".py",
   "mimetype": "text/x-python",
   "name": "python",
   "nbconvert_exporter": "python",
   "pygments_lexer": "ipython3",
   "version": "3.8.8"
  }
 },
 "nbformat": 4,
 "nbformat_minor": 5
}
