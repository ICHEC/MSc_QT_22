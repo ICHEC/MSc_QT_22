{
 "cells": [
  {
   "cell_type": "markdown",
   "id": "0dc00f5d",
   "metadata": {},
   "source": [
    "<center>\n",
    "    \n",
    "# Python For Quantum Mechanics\n",
    "# Week 2: Compact Code\n",
    "\n",
    "</center>"
   ]
  },
  {
   "cell_type": "code",
   "execution_count": 1,
   "id": "312510fb",
   "metadata": {},
   "outputs": [
    {
     "data": {
      "image/jpeg": "[encoded data removed]",
      "text/html": [
       "\n",
       "        <iframe\n",
       "            width=\"700\"\n",
       "            height=\"400\"\n",
       "            src=\"https://www.youtube.com/embed/JBFc9V6BcNY\"\n",
       "            frameborder=\"0\"\n",
       "            allowfullscreen\n",
       "        ></iframe>\n",
       "        "
      ],
      "text/plain": [
       "<IPython.lib.display.YouTubeVideo at 0x7f943579f460>"
      ]
     },
     "execution_count": 1,
     "metadata": {},
     "output_type": "execute_result"
    }
   ],
   "source": [
    "from IPython.display import YouTubeVideo\n",
    "YouTubeVideo('JBFc9V6BcNY',width=700, height=400)"
   ]
  },
  {
   "cell_type": "markdown",
   "id": "e3a2be33",
   "metadata": {},
   "source": [
    "## Contents\n",
    "\n",
    "* [One-Line If and Else](#One-LineIfandElse)\n",
    "* [Comprehensions](#Comprehensions)\n",
    "* [Generators](#Generators)"
   ]
  },
  {
   "cell_type": "markdown",
   "id": "6064a657",
   "metadata": {},
   "source": [
    "## One-Line If and Else \n",
    "<a class=\"anchor\" id=\"One-LineIfandElse\"></a>"
   ]
  },
  {
   "cell_type": "markdown",
   "id": "97021205",
   "metadata": {},
   "source": [
    "We can actually have an `if`/`else` condition in a single line. Lets say we have two variables `a` and `b`."
   ]
  },
  {
   "cell_type": "code",
   "execution_count": 11,
   "id": "073d051c",
   "metadata": {},
   "outputs": [],
   "source": [
    "a=1\n",
    "b=2"
   ]
  },
  {
   "cell_type": "markdown",
   "id": "6001ab3d",
   "metadata": {},
   "source": [
    "Now if we wanted to find out is `a` less than `b` we would write"
   ]
  },
  {
   "cell_type": "code",
   "execution_count": 17,
   "id": "bac6f49a",
   "metadata": {},
   "outputs": [
    {
     "name": "stdout",
     "output_type": "stream",
     "text": [
      "a is greater than b\n"
     ]
    }
   ],
   "source": [
    "if a < b:\n",
    "    print('a is greater than b')\n",
    "else:\n",
    "    print('a is not greater than b')"
   ]
  },
  {
   "cell_type": "markdown",
   "id": "64d172e9",
   "metadata": {},
   "source": [
    "But we can acually write this as "
   ]
  },
  {
   "cell_type": "code",
   "execution_count": 18,
   "id": "ee43d25c",
   "metadata": {},
   "outputs": [
    {
     "name": "stdout",
     "output_type": "stream",
     "text": [
      "a is greater than b\n"
     ]
    }
   ],
   "source": [
    "print('a is greater than b' if a<b else 'a is not greater than b')"
   ]
  },
  {
   "cell_type": "markdown",
   "id": "3b407854",
   "metadata": {},
   "source": [
    "We can even do this with more complicated conditional structures like"
   ]
  },
  {
   "cell_type": "code",
   "execution_count": 19,
   "id": "da09e2be",
   "metadata": {},
   "outputs": [
    {
     "name": "stdout",
     "output_type": "stream",
     "text": [
      "a is less than b\n"
     ]
    }
   ],
   "source": [
    "if a < b:\n",
    "    c='less than'\n",
    "elif a>b:\n",
    "    c='greater than'\n",
    "else:\n",
    "    c='equal to'\n",
    "    \n",
    "print('a is', c, 'b')"
   ]
  },
  {
   "cell_type": "markdown",
   "id": "6ad2d1e2",
   "metadata": {},
   "source": [
    "This can be done by noting that `elif` is just an `else` and an `if` together."
   ]
  },
  {
   "cell_type": "code",
   "execution_count": 20,
   "id": "b427d2f8",
   "metadata": {},
   "outputs": [
    {
     "name": "stdout",
     "output_type": "stream",
     "text": [
      "a is less than b\n"
     ]
    }
   ],
   "source": [
    "print('a is', 'less than' if a<b else 'greater than' if a>b else 'equal to', 'b')"
   ]
  },
  {
   "cell_type": "markdown",
   "id": "70e661f1",
   "metadata": {},
   "source": [
    "## Comprehensions \n",
    "<a class=\"anchor\" id=\"Comprehensions\"></a>"
   ]
  },
  {
   "cell_type": "markdown",
   "id": "82bc765b",
   "metadata": {
    "cell_id": "00000-8b65ef50-d013-4151-bb96-e76707d14651",
    "deepnote_cell_type": "markdown",
    "id": "c7a2f121"
   },
   "source": [
    "Comprehensions give a useful, compact syntax to create certain data structures from a given iterable object (list, tuple, range, etc...). Let's say we want to create a list that contains the numbers from 0 to 10, inclusively, in order. Since we have loops and a way to append you might think a good solution is the following."
   ]
  },
  {
   "cell_type": "code",
   "execution_count": 26,
   "id": "aafb444d",
   "metadata": {},
   "outputs": [
    {
     "name": "stdout",
     "output_type": "stream",
     "text": [
      "[0, 1, 2, 3, 4, 5, 6, 7, 8, 9, 10]\n"
     ]
    }
   ],
   "source": [
    "l=[]\n",
    "\n",
    "for i in range(11):\n",
    "    l.append(i)\n",
    "    \n",
    "print(l)"
   ]
  },
  {
   "cell_type": "markdown",
   "id": "9d99139f",
   "metadata": {},
   "source": [
    "This is better than not having a loop at all but is still a little clumbsy. We can in fact have a loop inside the assignment of the list. The following makes a list containing the values `j` (which will often depend on `i`) for each value `i` in the interable `it`\n",
    "\n",
    "```l = [j for i in iter]```.\n",
    "\n",
    "For example"
   ]
  },
  {
   "cell_type": "code",
   "execution_count": 27,
   "id": "1cef166c",
   "metadata": {},
   "outputs": [
    {
     "name": "stdout",
     "output_type": "stream",
     "text": [
      "[0, 1, 2, 3, 4, 5, 6, 7, 8, 9, 10]\n"
     ]
    }
   ],
   "source": [
    "l = [i for i in range(11)]\n",
    "\n",
    "print(l)"
   ]
  },
  {
   "cell_type": "markdown",
   "id": "33523f4f",
   "metadata": {},
   "source": [
    "We can also add in an `if` so only even numbers are in the list."
   ]
  },
  {
   "cell_type": "code",
   "execution_count": 28,
   "id": "aaf89b49",
   "metadata": {},
   "outputs": [
    {
     "name": "stdout",
     "output_type": "stream",
     "text": [
      "[0, 2, 4, 6, 8, 10]\n"
     ]
    }
   ],
   "source": [
    "l = [i for i in range(11) if i%2==0]\n",
    "\n",
    "print(l)"
   ]
  },
  {
   "cell_type": "markdown",
   "id": "8f234ad0",
   "metadata": {},
   "source": [
    "Or prehaps more simply"
   ]
  },
  {
   "cell_type": "code",
   "execution_count": 29,
   "id": "ff8c09ca",
   "metadata": {},
   "outputs": [
    {
     "name": "stdout",
     "output_type": "stream",
     "text": [
      "[0, 2, 4, 6, 8, 10]\n"
     ]
    }
   ],
   "source": [
    "l = [i*2 for i in range(6)]\n",
    "\n",
    "print(l)"
   ]
  },
  {
   "cell_type": "markdown",
   "id": "2f156573",
   "metadata": {},
   "source": [
    "We can even add in what we know about `if` and `else`!"
   ]
  },
  {
   "cell_type": "code",
   "execution_count": 30,
   "id": "38275914",
   "metadata": {},
   "outputs": [
    {
     "name": "stdout",
     "output_type": "stream",
     "text": [
      "[0, 'two', 4, 'six', 8, 'ten']\n"
     ]
    }
   ],
   "source": [
    "words = ['zero','one','two','three','four','five','six','seven','eight','nine','ten']\n",
    "\n",
    "l = [i if i%4==0 else words[i] for i in range(11) if i%2==0]\n",
    "\n",
    "print(l)"
   ]
  },
  {
   "cell_type": "markdown",
   "id": "c662a08a",
   "metadata": {
    "cell_id": "00008-e9a0c141-d942-453f-9912-a7467010496a",
    "deepnote_cell_type": "markdown",
    "id": "5f60da38"
   },
   "source": [
    "We can achieve the same thing with sets"
   ]
  },
  {
   "cell_type": "code",
   "execution_count": 31,
   "id": "6a856ebe",
   "metadata": {},
   "outputs": [
    {
     "name": "stdout",
     "output_type": "stream",
     "text": [
      "{0, 1, 2}\n"
     ]
    }
   ],
   "source": [
    "s = {i%3 for i in range(30)}\n",
    "\n",
    "print(s)"
   ]
  },
  {
   "cell_type": "markdown",
   "id": "d455aac6",
   "metadata": {},
   "source": [
    "And even dictionaries"
   ]
  },
  {
   "cell_type": "code",
   "execution_count": 36,
   "id": "970166f1",
   "metadata": {},
   "outputs": [
    {
     "name": "stdout",
     "output_type": "stream",
     "text": [
      "d = {'zero': 0, 'one': 1, 'two': 2, 'three': 3, 'four': 4, 'five': 5, 'six': 6, 'seven': 7, 'eight': 8, 'nine': 9, 'ten': 10}\n",
      "\n",
      "d_even = {'zero': 0, 'two': 2, 'four': 4, 'six': 6, 'eight': 8, 'ten': 10}\n"
     ]
    }
   ],
   "source": [
    "nums = [i for i in range(11)]\n",
    "\n",
    "d = {word:num for word,num in zip(words,nums)}\n",
    "print('d =',d)\n",
    "\n",
    "print()\n",
    "\n",
    "d_even = {word:num for word,num in d.items() if num%2==0}\n",
    "print('d_even =',d_even)"
   ]
  },
  {
   "cell_type": "markdown",
   "id": "5d786c05",
   "metadata": {},
   "source": [
    "## Generators \n",
    "<a class=\"anchor\" id=\"Generators\"></a>"
   ]
  },
  {
   "cell_type": "markdown",
   "id": "5a9bbe07",
   "metadata": {},
   "source": [
    "Instead of an iterable containing all of it's elements generators distinguish themselves by storing the information to generate elements. The function `range()` is in fact a generator. We can make our own generators with a similar sintax to what is used in comprehensions except now with `()`."
   ]
  },
  {
   "cell_type": "code",
   "execution_count": 39,
   "id": "7d6b2dae",
   "metadata": {},
   "outputs": [
    {
     "name": "stdout",
     "output_type": "stream",
     "text": [
      "25\n",
      "49\n",
      "81\n",
      "121\n",
      "169\n",
      "225\n",
      "289\n",
      "361\n",
      "441\n",
      "529\n",
      "625\n",
      "729\n",
      "841\n"
     ]
    }
   ],
   "source": [
    "r=range(5,30,2)\n",
    "\n",
    "gen = (i**2 for i in r)\n",
    "\n",
    "for i in gen:\n",
    "    print(i)"
   ]
  }
 ],
 "metadata": {
  "colab": {
   "collapsed_sections": [],
   "name": "PyQM_2.2_Comprehensions.ipynb",
   "provenance": []
  },
  "deepnote": {},
  "deepnote_execution_queue": [],
  "deepnote_notebook_id": "a1fe68c5-3595-4472-b529-b3b19bdab4b3",
  "kernelspec": {
   "display_name": "Python 3 (ipykernel)",
   "language": "python",
   "name": "python3"
  },
  "language_info": {
   "codemirror_mode": {
    "name": "ipython",
    "version": 3
   },
   "file_extension": ".py",
   "mimetype": "text/x-python",
   "name": "python",
   "nbconvert_exporter": "python",
   "pygments_lexer": "ipython3",
   "version": "3.9.13"
  }
 },
 "nbformat": 4,
 "nbformat_minor": 5
}
