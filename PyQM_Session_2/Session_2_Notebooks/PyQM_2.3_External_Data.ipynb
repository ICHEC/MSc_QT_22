{
 "cells": [
  {
   "cell_type": "markdown",
   "id": "3e300cd1",
   "metadata": {},
   "source": [
    "<center>\n",
    "    \n",
    "# Python For Quantum Mechanics\n",
    "# Week 2: External Data\n",
    "\n",
    "</center>"
   ]
  },
  {
   "cell_type": "code",
   "execution_count": 1,
   "id": "0e768634",
   "metadata": {},
   "outputs": [
    {
     "data": {
      "image/jpeg": "[encoded data removed]",
      "text/html": [
       "\n",
       "        <iframe\n",
       "            width=\"700\"\n",
       "            height=\"400\"\n",
       "            src=\"https://www.youtube.com/embed/Pjl23pFmk_w\"\n",
       "            frameborder=\"0\"\n",
       "            allowfullscreen\n",
       "        ></iframe>\n",
       "        "
      ],
      "text/plain": [
       "<IPython.lib.display.YouTubeVideo at 0x7f88f0f98490>"
      ]
     },
     "execution_count": 1,
     "metadata": {},
     "output_type": "execute_result"
    }
   ],
   "source": [
    "from IPython.display import YouTubeVideo\n",
    "YouTubeVideo('Pjl23pFmk_w',width=700, height=400)"
   ]
  },
  {
   "cell_type": "markdown",
   "id": "369db8a4",
   "metadata": {},
   "source": [
    "## Contents\n",
    "\n",
    "* [User Input](#UserInput)\n",
    "* [Reading from File](#ReadingfromFile)\n",
    "* [Writing to File](#WritingtoFile)"
   ]
  },
  {
   "cell_type": "markdown",
   "id": "4691fb1f",
   "metadata": {},
   "source": [
    "## User Input \n",
    "<a class=\"anchor\" id=\"UserInput\"></a>"
   ]
  },
  {
   "cell_type": "markdown",
   "id": "cf47bf74",
   "metadata": {},
   "source": [
    "The `input()` function can be used to ask for and take in data from the user. Try running the cell below, enter space seperated integers in the field, and then press return."
   ]
  },
  {
   "cell_type": "code",
   "execution_count": 7,
   "id": "9b141edc",
   "metadata": {},
   "outputs": [
    {
     "name": "stdout",
     "output_type": "stream",
     "text": [
      "enter space seperated integers: 5 7 2\n"
     ]
    }
   ],
   "source": [
    "entry = input('enter space seperated integers: ')"
   ]
  },
  {
   "cell_type": "markdown",
   "id": "38b51dbb",
   "metadata": {},
   "source": [
    "The data is now stored as a single string called `entry`. This is not particularly useful for working with this data. We shoud put this data into a list and make each element the integer entered."
   ]
  },
  {
   "cell_type": "code",
   "execution_count": 8,
   "id": "66c67bd9",
   "metadata": {},
   "outputs": [
    {
     "name": "stdout",
     "output_type": "stream",
     "text": [
      "[5, 7, 2]\n"
     ]
    }
   ],
   "source": [
    "l = entry.split()\n",
    "\n",
    "for i in range(len(l)):\n",
    "    l[i] = int(l[i])\n",
    "\n",
    "print(l)"
   ]
  },
  {
   "cell_type": "markdown",
   "id": "7fe2ca67",
   "metadata": {},
   "source": [
    "Remebering what we learened about compactifying our code we can write this all in one line."
   ]
  },
  {
   "cell_type": "code",
   "execution_count": 9,
   "id": "004f410b",
   "metadata": {},
   "outputs": [
    {
     "name": "stdout",
     "output_type": "stream",
     "text": [
      "enter space seperated integers: 5 23 7 453\n",
      "[5, 23, 7, 453]\n"
     ]
    }
   ],
   "source": [
    "l = [int(i) for i in input('enter space seperated integers: ').split()]\n",
    "print(l)"
   ]
  },
  {
   "cell_type": "markdown",
   "id": "b0916c1a",
   "metadata": {},
   "source": [
    "## Reading from File \n",
    "<a class=\"anchor\" id=\"ReadingfromFile\"></a>"
   ]
  },
  {
   "cell_type": "markdown",
   "id": "1275af05",
   "metadata": {},
   "source": [
    "We can open a file for reading and print out its contents with the following syntax."
   ]
  },
  {
   "cell_type": "code",
   "execution_count": 12,
   "id": "6b27af46",
   "metadata": {},
   "outputs": [
    {
     "name": "stdout",
     "output_type": "stream",
     "text": [
      "Hello!\n",
      "You are reading this text file.\n",
      "This file has a number of lines of text.\n",
      "\n",
      "Also some empty lines.\n",
      "\n",
      "\n",
      "\n",
      "Thanks for reading!\n"
     ]
    }
   ],
   "source": [
    "with open('test.txt','r') as f:\n",
    "    print(f.read())"
   ]
  },
  {
   "cell_type": "markdown",
   "id": "1c0aac70",
   "metadata": {},
   "source": [
    "The file `test.txt` is stored in the same directory as this notebook to save specifying a path. The `'r'` argument in the open function specifies that we are opening this file for reading so this file cannont be editted while open in this way. Within the indented clause the file can be refered to as `f`. \n",
    "\n",
    "We can also iterate through the file which will get each line as a string."
   ]
  },
  {
   "cell_type": "code",
   "execution_count": 13,
   "id": "de35c72e",
   "metadata": {},
   "outputs": [
    {
     "name": "stdout",
     "output_type": "stream",
     "text": [
      "Hello!\n",
      "\n",
      "You are reading this text file.\n",
      "\n",
      "This file has a number of lines of text.\n",
      "\n",
      "\n",
      "\n",
      "Also some empty lines.\n",
      "\n",
      "\n",
      "\n",
      "\n",
      "\n",
      "\n",
      "\n",
      "Thanks for reading!\n"
     ]
    }
   ],
   "source": [
    "with open('test.txt','r') as f:\n",
    "    for line in f:\n",
    "        print(line)"
   ]
  },
  {
   "cell_type": "markdown",
   "id": "5372c7ba",
   "metadata": {},
   "source": [
    "These lines can also be iterated through as they are strings so we can go letter by letter."
   ]
  },
  {
   "cell_type": "code",
   "execution_count": 14,
   "id": "139d5f7c",
   "metadata": {},
   "outputs": [
    {
     "name": "stdout",
     "output_type": "stream",
     "text": [
      "H\n",
      "e\n",
      "l\n",
      "l\n",
      "o\n",
      "!\n",
      "\n",
      "\n",
      "Y\n",
      "o\n",
      "u\n",
      " \n",
      "a\n",
      "r\n",
      "e\n",
      " \n",
      "r\n",
      "e\n",
      "a\n",
      "d\n",
      "i\n",
      "n\n",
      "g\n",
      " \n",
      "t\n",
      "h\n",
      "i\n",
      "s\n",
      " \n",
      "t\n",
      "e\n",
      "x\n",
      "t\n",
      " \n",
      "f\n",
      "i\n",
      "l\n",
      "e\n",
      ".\n",
      "\n",
      "\n",
      "T\n",
      "h\n",
      "i\n",
      "s\n",
      " \n",
      "f\n",
      "i\n",
      "l\n",
      "e\n",
      " \n",
      "h\n",
      "a\n",
      "s\n",
      " \n",
      "a\n",
      " \n",
      "n\n",
      "u\n",
      "m\n",
      "b\n",
      "e\n",
      "r\n",
      " \n",
      "o\n",
      "f\n",
      " \n",
      "l\n",
      "i\n",
      "n\n",
      "e\n",
      "s\n",
      " \n",
      "o\n",
      "f\n",
      " \n",
      "t\n",
      "e\n",
      "x\n",
      "t\n",
      ".\n",
      "\n",
      "\n",
      "\n",
      "\n",
      "A\n",
      "l\n",
      "s\n",
      "o\n",
      " \n",
      "s\n",
      "o\n",
      "m\n",
      "e\n",
      " \n",
      "e\n",
      "m\n",
      "p\n",
      "t\n",
      "y\n",
      " \n",
      "l\n",
      "i\n",
      "n\n",
      "e\n",
      "s\n",
      ".\n",
      "\n",
      "\n",
      "\n",
      "\n",
      "\n",
      "\n",
      "\n",
      "\n",
      "T\n",
      "h\n",
      "a\n",
      "n\n",
      "k\n",
      "s\n",
      " \n",
      "f\n",
      "o\n",
      "r\n",
      " \n",
      "r\n",
      "e\n",
      "a\n",
      "d\n",
      "i\n",
      "n\n",
      "g\n",
      "!\n"
     ]
    }
   ],
   "source": [
    "with open('test.txt','r') as f:\n",
    "    for line in f:\n",
    "        for letter in line:\n",
    "            print(letter)"
   ]
  },
  {
   "cell_type": "markdown",
   "id": "76ecb51b",
   "metadata": {},
   "source": [
    "## Writing to File\n",
    "<a class=\"anchor\" id=\"WritingtoFile\"></a>"
   ]
  },
  {
   "cell_type": "markdown",
   "id": "53306da8",
   "metadata": {},
   "source": [
    "Let's say we want to store a list of the first 11 sqaure numbers. First it might be good to make such a list."
   ]
  },
  {
   "cell_type": "code",
   "execution_count": 28,
   "id": "28378e6d",
   "metadata": {},
   "outputs": [
    {
     "name": "stdout",
     "output_type": "stream",
     "text": [
      "[0, 1, 4, 9, 16, 25, 36, 49, 64, 81, 100]\n"
     ]
    }
   ],
   "source": [
    "l = [i**2 for i in range(11)]\n",
    "\n",
    "print(l)"
   ]
  },
  {
   "cell_type": "markdown",
   "id": "67362e18",
   "metadata": {},
   "source": [
    "Now we want to store this data for later. We can actually create and write a new file with the following syntax."
   ]
  },
  {
   "cell_type": "code",
   "execution_count": 29,
   "id": "117f1dcc",
   "metadata": {},
   "outputs": [],
   "source": [
    "with open('new_file.txt','w') as nf:\n",
    "    nf.write(str(l))"
   ]
  },
  {
   "cell_type": "markdown",
   "id": "8c08075b",
   "metadata": {},
   "source": [
    "Now we can check what is in this file."
   ]
  },
  {
   "cell_type": "code",
   "execution_count": 30,
   "id": "325df91a",
   "metadata": {},
   "outputs": [
    {
     "name": "stdout",
     "output_type": "stream",
     "text": [
      "[0, 1, 4, 9, 16, 25, 36, 49, 64, 81, 100]\n"
     ]
    }
   ],
   "source": [
    "with open('new_file.txt','r') as nf:\n",
    "    print(nf.read())"
   ]
  },
  {
   "cell_type": "markdown",
   "id": "3db0a60e",
   "metadata": {},
   "source": [
    "It might be best not to have the square brackets present."
   ]
  },
  {
   "cell_type": "code",
   "execution_count": 31,
   "id": "81e1e1f8",
   "metadata": {},
   "outputs": [
    {
     "name": "stdout",
     "output_type": "stream",
     "text": [
      "0,1,4,9,16,25,36,49,64,81,100,\n"
     ]
    }
   ],
   "source": [
    "with open('new_file.txt','w') as nf:\n",
    "    for j in l:\n",
    "        nf.write(str(j)+',')\n",
    "        \n",
    "with open('new_file.txt','r') as nf:\n",
    "    print(nf.read())"
   ]
  },
  {
   "cell_type": "markdown",
   "id": "754fdbd7",
   "metadata": {},
   "source": [
    "It is important to note here that when we use the `'w'` string when opening a file that already exists we will completely rewrite that file. If we simply want to add to this file we can append using `'a'` and if we only want to create a file we can use `'a'`."
   ]
  }
 ],
 "metadata": {
  "deepnote": {},
  "deepnote_execution_queue": [],
  "deepnote_notebook_id": "d61cddb8-edae-476d-8bb8-dcd365220085",
  "kernelspec": {
   "display_name": "Python 3 (ipykernel)",
   "language": "python",
   "name": "python3"
  },
  "language_info": {
   "codemirror_mode": {
    "name": "ipython",
    "version": 3
   },
   "file_extension": ".py",
   "mimetype": "text/x-python",
   "name": "python",
   "nbconvert_exporter": "python",
   "pygments_lexer": "ipython3",
   "version": "3.9.13"
  }
 },
 "nbformat": 4,
 "nbformat_minor": 5
}
